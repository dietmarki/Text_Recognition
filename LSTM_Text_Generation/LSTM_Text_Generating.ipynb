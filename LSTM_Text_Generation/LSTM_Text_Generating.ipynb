{
 "cells": [
  {
   "cell_type": "code",
   "execution_count": null,
   "id": "df2764d2-54d5-485b-b127-5191dea8cb50",
   "metadata": {},
   "outputs": [],
   "source": [
    "\n",
    "import numpy as np\n",
    "import pandas as pd\n",
    "import matplotlib.pyplot as plt\n",
    "import re\n",
    "import keras\n",
    "import random\n",
    "import sys\n",
    "# Run in case warnings should be ignored\n",
    "import warnings\n",
    "warnings.filterwarnings('ignore')\n",
    "pd.set_option('display.max_colwidth',300)\n"
   ]
  },
  {
   "cell_type": "code",
   "execution_count": 2,
   "id": "bc0ffc0a-41b0-4762-845e-abda976aaefc",
   "metadata": {},
   "outputs": [],
   "source": [
    "\n",
    "df01 = pd.read_csv(\"freecodecamp_casual_chatroom.csv\")\n"
   ]
  },
  {
   "cell_type": "code",
   "execution_count": 3,
   "id": "8c96c329-5a0f-4fb7-82b8-6e1cf5c3b209",
   "metadata": {},
   "outputs": [
    {
     "data": {
      "text/html": [
       "<div>\n",
       "<style scoped>\n",
       "    .dataframe tbody tr th:only-of-type {\n",
       "        vertical-align: middle;\n",
       "    }\n",
       "\n",
       "    .dataframe tbody tr th {\n",
       "        vertical-align: top;\n",
       "    }\n",
       "\n",
       "    .dataframe thead th {\n",
       "        text-align: right;\n",
       "    }\n",
       "</style>\n",
       "<table border=\"1\" class=\"dataframe\">\n",
       "  <thead>\n",
       "    <tr style=\"text-align: right;\">\n",
       "      <th></th>\n",
       "      <th>Unnamed: 0</th>\n",
       "      <th>editedAt</th>\n",
       "      <th>fromUser</th>\n",
       "      <th>fromUser.avatarUrl</th>\n",
       "      <th>fromUser.avatarUrlMedium</th>\n",
       "      <th>fromUser.avatarUrlSmall</th>\n",
       "      <th>fromUser.displayName</th>\n",
       "      <th>fromUser.gv</th>\n",
       "      <th>fromUser.id</th>\n",
       "      <th>fromUser.removed</th>\n",
       "      <th>...</th>\n",
       "      <th>issues</th>\n",
       "      <th>mentions</th>\n",
       "      <th>meta</th>\n",
       "      <th>readBy</th>\n",
       "      <th>sent</th>\n",
       "      <th>status</th>\n",
       "      <th>text</th>\n",
       "      <th>unread</th>\n",
       "      <th>urls</th>\n",
       "      <th>v</th>\n",
       "    </tr>\n",
       "  </thead>\n",
       "  <tbody>\n",
       "    <tr>\n",
       "      <th>0</th>\n",
       "      <td>0</td>\n",
       "      <td>NaN</td>\n",
       "      <td>NaN</td>\n",
       "      <td>NaN</td>\n",
       "      <td>https://avatars2.githubusercontent.com/u/2199663?v=3&amp;s=128</td>\n",
       "      <td>https://avatars2.githubusercontent.com/u/2199663?v=3&amp;s=60</td>\n",
       "      <td>Charles Watson</td>\n",
       "      <td>3.0</td>\n",
       "      <td>546fd99cdb8155e6700d6ec8</td>\n",
       "      <td>NaN</td>\n",
       "      <td>...</td>\n",
       "      <td>[]</td>\n",
       "      <td>[]</td>\n",
       "      <td>[]</td>\n",
       "      <td>22</td>\n",
       "      <td>2014-12-31T23:01:35.647Z</td>\n",
       "      <td>NaN</td>\n",
       "      <td>no legumes either</td>\n",
       "      <td>False</td>\n",
       "      <td>[]</td>\n",
       "      <td>1</td>\n",
       "    </tr>\n",
       "    <tr>\n",
       "      <th>1</th>\n",
       "      <td>1</td>\n",
       "      <td>NaN</td>\n",
       "      <td>NaN</td>\n",
       "      <td>NaN</td>\n",
       "      <td>https://avatars0.githubusercontent.com/u/10361101?v=3&amp;s=128</td>\n",
       "      <td>https://avatars0.githubusercontent.com/u/10361101?v=3&amp;s=60</td>\n",
       "      <td>janetwalters008</td>\n",
       "      <td>NaN</td>\n",
       "      <td>54a47e0cdb8155e6700e486e</td>\n",
       "      <td>NaN</td>\n",
       "      <td>...</td>\n",
       "      <td>[]</td>\n",
       "      <td>[]</td>\n",
       "      <td>[]</td>\n",
       "      <td>21</td>\n",
       "      <td>2014-12-31T23:02:51.600Z</td>\n",
       "      <td>NaN</td>\n",
       "      <td>That bullet proof coffee sounds insane.</td>\n",
       "      <td>False</td>\n",
       "      <td>[]</td>\n",
       "      <td>1</td>\n",
       "    </tr>\n",
       "    <tr>\n",
       "      <th>2</th>\n",
       "      <td>2</td>\n",
       "      <td>NaN</td>\n",
       "      <td>NaN</td>\n",
       "      <td>NaN</td>\n",
       "      <td>https://avatars0.githubusercontent.com/u/10361101?v=3&amp;s=128</td>\n",
       "      <td>https://avatars0.githubusercontent.com/u/10361101?v=3&amp;s=60</td>\n",
       "      <td>janetwalters008</td>\n",
       "      <td>NaN</td>\n",
       "      <td>54a47e0cdb8155e6700e486e</td>\n",
       "      <td>NaN</td>\n",
       "      <td>...</td>\n",
       "      <td>[]</td>\n",
       "      <td>[]</td>\n",
       "      <td>[]</td>\n",
       "      <td>21</td>\n",
       "      <td>2014-12-31T23:03:14.221Z</td>\n",
       "      <td>NaN</td>\n",
       "      <td>That guy has huge eyes.</td>\n",
       "      <td>False</td>\n",
       "      <td>[]</td>\n",
       "      <td>1</td>\n",
       "    </tr>\n",
       "    <tr>\n",
       "      <th>3</th>\n",
       "      <td>3</td>\n",
       "      <td>NaN</td>\n",
       "      <td>NaN</td>\n",
       "      <td>NaN</td>\n",
       "      <td>https://avatars2.githubusercontent.com/u/2199663?v=3&amp;s=128</td>\n",
       "      <td>https://avatars2.githubusercontent.com/u/2199663?v=3&amp;s=60</td>\n",
       "      <td>Charles Watson</td>\n",
       "      <td>3.0</td>\n",
       "      <td>546fd99cdb8155e6700d6ec8</td>\n",
       "      <td>NaN</td>\n",
       "      <td>...</td>\n",
       "      <td>[]</td>\n",
       "      <td>[{'userIds': [], 'userId': '54a47e0cdb8155e6700e486e', 'screenName': 'janetwalters008'}]</td>\n",
       "      <td>[]</td>\n",
       "      <td>22</td>\n",
       "      <td>2014-12-31T23:03:20.182Z</td>\n",
       "      <td>NaN</td>\n",
       "      <td>@janetwalters008 It is. but it works. some people just can't handle the taste :P</td>\n",
       "      <td>False</td>\n",
       "      <td>[]</td>\n",
       "      <td>1</td>\n",
       "    </tr>\n",
       "    <tr>\n",
       "      <th>4</th>\n",
       "      <td>4</td>\n",
       "      <td>NaN</td>\n",
       "      <td>NaN</td>\n",
       "      <td>NaN</td>\n",
       "      <td>https://avatars0.githubusercontent.com/u/4219415?v=3&amp;s=128</td>\n",
       "      <td>https://avatars0.githubusercontent.com/u/4219415?v=3&amp;s=60</td>\n",
       "      <td>Paul Gilliam</td>\n",
       "      <td>3.0</td>\n",
       "      <td>54a44bbbdb8155e6700e47de</td>\n",
       "      <td>NaN</td>\n",
       "      <td>...</td>\n",
       "      <td>[]</td>\n",
       "      <td>[]</td>\n",
       "      <td>[]</td>\n",
       "      <td>22</td>\n",
       "      <td>2014-12-31T23:03:38.388Z</td>\n",
       "      <td>NaN</td>\n",
       "      <td>They guy that came up with the idea is kind of a joke though...</td>\n",
       "      <td>False</td>\n",
       "      <td>[]</td>\n",
       "      <td>1</td>\n",
       "    </tr>\n",
       "  </tbody>\n",
       "</table>\n",
       "<p>5 rows × 26 columns</p>\n",
       "</div>"
      ],
      "text/plain": [
       "   Unnamed: 0 editedAt  fromUser fromUser.avatarUrl  \\\n",
       "0           0      NaN       NaN                NaN   \n",
       "1           1      NaN       NaN                NaN   \n",
       "2           2      NaN       NaN                NaN   \n",
       "3           3      NaN       NaN                NaN   \n",
       "4           4      NaN       NaN                NaN   \n",
       "\n",
       "                                      fromUser.avatarUrlMedium  \\\n",
       "0   https://avatars2.githubusercontent.com/u/2199663?v=3&s=128   \n",
       "1  https://avatars0.githubusercontent.com/u/10361101?v=3&s=128   \n",
       "2  https://avatars0.githubusercontent.com/u/10361101?v=3&s=128   \n",
       "3   https://avatars2.githubusercontent.com/u/2199663?v=3&s=128   \n",
       "4   https://avatars0.githubusercontent.com/u/4219415?v=3&s=128   \n",
       "\n",
       "                                      fromUser.avatarUrlSmall  \\\n",
       "0   https://avatars2.githubusercontent.com/u/2199663?v=3&s=60   \n",
       "1  https://avatars0.githubusercontent.com/u/10361101?v=3&s=60   \n",
       "2  https://avatars0.githubusercontent.com/u/10361101?v=3&s=60   \n",
       "3   https://avatars2.githubusercontent.com/u/2199663?v=3&s=60   \n",
       "4   https://avatars0.githubusercontent.com/u/4219415?v=3&s=60   \n",
       "\n",
       "  fromUser.displayName  fromUser.gv               fromUser.id  \\\n",
       "0       Charles Watson          3.0  546fd99cdb8155e6700d6ec8   \n",
       "1      janetwalters008          NaN  54a47e0cdb8155e6700e486e   \n",
       "2      janetwalters008          NaN  54a47e0cdb8155e6700e486e   \n",
       "3       Charles Watson          3.0  546fd99cdb8155e6700d6ec8   \n",
       "4         Paul Gilliam          3.0  54a44bbbdb8155e6700e47de   \n",
       "\n",
       "  fromUser.removed  ... issues  \\\n",
       "0              NaN  ...     []   \n",
       "1              NaN  ...     []   \n",
       "2              NaN  ...     []   \n",
       "3              NaN  ...     []   \n",
       "4              NaN  ...     []   \n",
       "\n",
       "                                                                                   mentions  \\\n",
       "0                                                                                        []   \n",
       "1                                                                                        []   \n",
       "2                                                                                        []   \n",
       "3  [{'userIds': [], 'userId': '54a47e0cdb8155e6700e486e', 'screenName': 'janetwalters008'}]   \n",
       "4                                                                                        []   \n",
       "\n",
       "  meta  readBy                      sent status  \\\n",
       "0   []      22  2014-12-31T23:01:35.647Z    NaN   \n",
       "1   []      21  2014-12-31T23:02:51.600Z    NaN   \n",
       "2   []      21  2014-12-31T23:03:14.221Z    NaN   \n",
       "3   []      22  2014-12-31T23:03:20.182Z    NaN   \n",
       "4   []      22  2014-12-31T23:03:38.388Z    NaN   \n",
       "\n",
       "                                                                               text  \\\n",
       "0                                                                 no legumes either   \n",
       "1                                           That bullet proof coffee sounds insane.   \n",
       "2                                                           That guy has huge eyes.   \n",
       "3  @janetwalters008 It is. but it works. some people just can't handle the taste :P   \n",
       "4                   They guy that came up with the idea is kind of a joke though...   \n",
       "\n",
       "  unread urls  v  \n",
       "0  False   []  1  \n",
       "1  False   []  1  \n",
       "2  False   []  1  \n",
       "3  False   []  1  \n",
       "4  False   []  1  \n",
       "\n",
       "[5 rows x 26 columns]"
      ]
     },
     "execution_count": 3,
     "metadata": {},
     "output_type": "execute_result"
    }
   ],
   "source": [
    "df01.head()"
   ]
  },
  {
   "cell_type": "code",
   "execution_count": 4,
   "id": "4101e11b-0b09-421a-9143-9ba38431d479",
   "metadata": {},
   "outputs": [
    {
     "data": {
      "text/plain": [
       "fromUser.id\n",
       "55b977f00fc9f982beab7883    416027\n",
       "Name: count, dtype: int64"
      ]
     },
     "execution_count": 4,
     "metadata": {},
     "output_type": "execute_result"
    }
   ],
   "source": [
    "\n",
    "# no text from 'CamperBot' --> 'fromUser.id' for the data set df02\n",
    "df01[df01['fromUser.displayName']=='CamperBot']['fromUser.id'].value_counts()\n"
   ]
  },
  {
   "cell_type": "code",
   "execution_count": 5,
   "id": "2020900b-e094-4d0a-a0b5-5d14521d56c3",
   "metadata": {},
   "outputs": [
    {
     "name": "stdout",
     "output_type": "stream",
     "text": [
      "<class 'pandas.core.frame.DataFrame'>\n",
      "RangeIndex: 5057400 entries, 0 to 5057399\n",
      "Data columns (total 26 columns):\n",
      " #   Column                    Dtype  \n",
      "---  ------                    -----  \n",
      " 0   Unnamed: 0                int64  \n",
      " 1   editedAt                  object \n",
      " 2   fromUser                  float64\n",
      " 3   fromUser.avatarUrl        object \n",
      " 4   fromUser.avatarUrlMedium  object \n",
      " 5   fromUser.avatarUrlSmall   object \n",
      " 6   fromUser.displayName      object \n",
      " 7   fromUser.gv               float64\n",
      " 8   fromUser.id               object \n",
      " 9   fromUser.removed          object \n",
      " 10  fromUser.staff            object \n",
      " 11  fromUser.url              object \n",
      " 12  fromUser.username         object \n",
      " 13  fromUser.v                float64\n",
      " 14  html                      object \n",
      " 15  id                        object \n",
      " 16  issues                    object \n",
      " 17  mentions                  object \n",
      " 18  meta                      object \n",
      " 19  readBy                    int64  \n",
      " 20  sent                      object \n",
      " 21  status                    object \n",
      " 22  text                      object \n",
      " 23  unread                    bool   \n",
      " 24  urls                      object \n",
      " 25  v                         int64  \n",
      "dtypes: bool(1), float64(3), int64(3), object(19)\n",
      "memory usage: 969.4+ MB\n"
     ]
    }
   ],
   "source": [
    "df01.info()"
   ]
  },
  {
   "cell_type": "code",
   "execution_count": 6,
   "id": "6b1333a0-e9cc-4e83-ae2f-055beb7e0f70",
   "metadata": {},
   "outputs": [
    {
     "data": {
      "text/plain": [
       "Index(['Unnamed: 0', 'editedAt', 'fromUser', 'fromUser.avatarUrl',\n",
       "       'fromUser.avatarUrlMedium', 'fromUser.avatarUrlSmall',\n",
       "       'fromUser.displayName', 'fromUser.gv', 'fromUser.id',\n",
       "       'fromUser.removed', 'fromUser.staff', 'fromUser.url',\n",
       "       'fromUser.username', 'fromUser.v', 'html', 'id', 'issues', 'mentions',\n",
       "       'meta', 'readBy', 'sent', 'status', 'text', 'unread', 'urls', 'v'],\n",
       "      dtype='object')"
      ]
     },
     "execution_count": 6,
     "metadata": {},
     "output_type": "execute_result"
    }
   ],
   "source": [
    "df01.columns"
   ]
  },
  {
   "cell_type": "code",
   "execution_count": 7,
   "id": "d32917a0-26c5-4324-9d67-ddf38eae7682",
   "metadata": {},
   "outputs": [],
   "source": [
    "df02 = df01[[\"fromUser.id\",\"text\"]]"
   ]
  },
  {
   "cell_type": "code",
   "execution_count": 8,
   "id": "74d99737-36df-4c7d-9cdd-8efd67050697",
   "metadata": {},
   "outputs": [
    {
     "data": {
      "text/html": [
       "<div>\n",
       "<style scoped>\n",
       "    .dataframe tbody tr th:only-of-type {\n",
       "        vertical-align: middle;\n",
       "    }\n",
       "\n",
       "    .dataframe tbody tr th {\n",
       "        vertical-align: top;\n",
       "    }\n",
       "\n",
       "    .dataframe thead th {\n",
       "        text-align: right;\n",
       "    }\n",
       "</style>\n",
       "<table border=\"1\" class=\"dataframe\">\n",
       "  <thead>\n",
       "    <tr style=\"text-align: right;\">\n",
       "      <th></th>\n",
       "      <th>fromUser.id</th>\n",
       "      <th>text</th>\n",
       "    </tr>\n",
       "  </thead>\n",
       "  <tbody>\n",
       "    <tr>\n",
       "      <th>0</th>\n",
       "      <td>546fd99cdb8155e6700d6ec8</td>\n",
       "      <td>no legumes either</td>\n",
       "    </tr>\n",
       "    <tr>\n",
       "      <th>1</th>\n",
       "      <td>54a47e0cdb8155e6700e486e</td>\n",
       "      <td>That bullet proof coffee sounds insane.</td>\n",
       "    </tr>\n",
       "    <tr>\n",
       "      <th>2</th>\n",
       "      <td>54a47e0cdb8155e6700e486e</td>\n",
       "      <td>That guy has huge eyes.</td>\n",
       "    </tr>\n",
       "    <tr>\n",
       "      <th>3</th>\n",
       "      <td>546fd99cdb8155e6700d6ec8</td>\n",
       "      <td>@janetwalters008 It is. but it works. some people just can't handle the taste :P</td>\n",
       "    </tr>\n",
       "    <tr>\n",
       "      <th>4</th>\n",
       "      <td>54a44bbbdb8155e6700e47de</td>\n",
       "      <td>They guy that came up with the idea is kind of a joke though...</td>\n",
       "    </tr>\n",
       "  </tbody>\n",
       "</table>\n",
       "</div>"
      ],
      "text/plain": [
       "                fromUser.id  \\\n",
       "0  546fd99cdb8155e6700d6ec8   \n",
       "1  54a47e0cdb8155e6700e486e   \n",
       "2  54a47e0cdb8155e6700e486e   \n",
       "3  546fd99cdb8155e6700d6ec8   \n",
       "4  54a44bbbdb8155e6700e47de   \n",
       "\n",
       "                                                                               text  \n",
       "0                                                                 no legumes either  \n",
       "1                                           That bullet proof coffee sounds insane.  \n",
       "2                                                           That guy has huge eyes.  \n",
       "3  @janetwalters008 It is. but it works. some people just can't handle the taste :P  \n",
       "4                   They guy that came up with the idea is kind of a joke though...  "
      ]
     },
     "execution_count": 8,
     "metadata": {},
     "output_type": "execute_result"
    }
   ],
   "source": [
    "df02.head()"
   ]
  },
  {
   "cell_type": "code",
   "execution_count": 9,
   "id": "4041eb47-250b-45be-8c75-0871d12aff54",
   "metadata": {},
   "outputs": [],
   "source": [
    "\n",
    "# 'fromUser.id' of camperbot excluded\n",
    "df03 = df02[df02['fromUser.id'] != '55b977f00fc9f982beab7883']\n"
   ]
  },
  {
   "cell_type": "code",
   "execution_count": 10,
   "id": "c874ffb7-f9ee-4778-abe8-e1a23e165eaa",
   "metadata": {},
   "outputs": [
    {
     "data": {
      "text/html": [
       "<div>\n",
       "<style scoped>\n",
       "    .dataframe tbody tr th:only-of-type {\n",
       "        vertical-align: middle;\n",
       "    }\n",
       "\n",
       "    .dataframe tbody tr th {\n",
       "        vertical-align: top;\n",
       "    }\n",
       "\n",
       "    .dataframe thead th {\n",
       "        text-align: right;\n",
       "    }\n",
       "</style>\n",
       "<table border=\"1\" class=\"dataframe\">\n",
       "  <thead>\n",
       "    <tr style=\"text-align: right;\">\n",
       "      <th></th>\n",
       "      <th>fromUser.id</th>\n",
       "      <th>text</th>\n",
       "    </tr>\n",
       "  </thead>\n",
       "  <tbody>\n",
       "  </tbody>\n",
       "</table>\n",
       "</div>"
      ],
      "text/plain": [
       "Empty DataFrame\n",
       "Columns: [fromUser.id, text]\n",
       "Index: []"
      ]
     },
     "execution_count": 10,
     "metadata": {},
     "output_type": "execute_result"
    }
   ],
   "source": [
    "\n",
    "df03[df03['fromUser.id'] == '55b977f00fc9f982beab7883']\n"
   ]
  },
  {
   "cell_type": "code",
   "execution_count": 11,
   "id": "7a0936f1-82b0-4cf6-bb47-4ab946ba084f",
   "metadata": {},
   "outputs": [
    {
     "data": {
      "text/html": [
       "<div>\n",
       "<style scoped>\n",
       "    .dataframe tbody tr th:only-of-type {\n",
       "        vertical-align: middle;\n",
       "    }\n",
       "\n",
       "    .dataframe tbody tr th {\n",
       "        vertical-align: top;\n",
       "    }\n",
       "\n",
       "    .dataframe thead th {\n",
       "        text-align: right;\n",
       "    }\n",
       "</style>\n",
       "<table border=\"1\" class=\"dataframe\">\n",
       "  <thead>\n",
       "    <tr style=\"text-align: right;\">\n",
       "      <th></th>\n",
       "      <th>fromUser.id</th>\n",
       "      <th>text</th>\n",
       "    </tr>\n",
       "  </thead>\n",
       "  <tbody>\n",
       "    <tr>\n",
       "      <th>0</th>\n",
       "      <td>546fd99cdb8155e6700d6ec8</td>\n",
       "      <td>no legumes either</td>\n",
       "    </tr>\n",
       "    <tr>\n",
       "      <th>1</th>\n",
       "      <td>54a47e0cdb8155e6700e486e</td>\n",
       "      <td>That bullet proof coffee sounds insane.</td>\n",
       "    </tr>\n",
       "    <tr>\n",
       "      <th>2</th>\n",
       "      <td>54a47e0cdb8155e6700e486e</td>\n",
       "      <td>That guy has huge eyes.</td>\n",
       "    </tr>\n",
       "    <tr>\n",
       "      <th>3</th>\n",
       "      <td>546fd99cdb8155e6700d6ec8</td>\n",
       "      <td>@janetwalters008 It is. but it works. some people just can't handle the taste :P</td>\n",
       "    </tr>\n",
       "    <tr>\n",
       "      <th>4</th>\n",
       "      <td>54a44bbbdb8155e6700e47de</td>\n",
       "      <td>They guy that came up with the idea is kind of a joke though...</td>\n",
       "    </tr>\n",
       "  </tbody>\n",
       "</table>\n",
       "</div>"
      ],
      "text/plain": [
       "                fromUser.id  \\\n",
       "0  546fd99cdb8155e6700d6ec8   \n",
       "1  54a47e0cdb8155e6700e486e   \n",
       "2  54a47e0cdb8155e6700e486e   \n",
       "3  546fd99cdb8155e6700d6ec8   \n",
       "4  54a44bbbdb8155e6700e47de   \n",
       "\n",
       "                                                                               text  \n",
       "0                                                                 no legumes either  \n",
       "1                                           That bullet proof coffee sounds insane.  \n",
       "2                                                           That guy has huge eyes.  \n",
       "3  @janetwalters008 It is. but it works. some people just can't handle the taste :P  \n",
       "4                   They guy that came up with the idea is kind of a joke though...  "
      ]
     },
     "execution_count": 11,
     "metadata": {},
     "output_type": "execute_result"
    }
   ],
   "source": [
    "df03.head()"
   ]
  },
  {
   "cell_type": "code",
   "execution_count": 12,
   "id": "c1484e78-decf-43ea-b845-4d86a22557f0",
   "metadata": {},
   "outputs": [
    {
     "data": {
      "text/plain": [
       "(4641373, 2)"
      ]
     },
     "execution_count": 12,
     "metadata": {},
     "output_type": "execute_result"
    }
   ],
   "source": [
    "df03.shape"
   ]
  },
  {
   "cell_type": "code",
   "execution_count": 13,
   "id": "45215e9f-720a-4b64-b623-3969014561cb",
   "metadata": {},
   "outputs": [
    {
     "data": {
      "text/plain": [
       "23206"
      ]
     },
     "execution_count": 13,
     "metadata": {},
     "output_type": "execute_result"
    }
   ],
   "source": [
    "\n",
    "# the first 0.5% of the data\n",
    "rows_end = int(len(df03) * 0.005)\n",
    "rows_end\n"
   ]
  },
  {
   "cell_type": "code",
   "execution_count": 14,
   "id": "03d842ef-0af7-4634-9e55-178f54f5544f",
   "metadata": {},
   "outputs": [],
   "source": [
    "\n",
    "# smaller data set for working with\n",
    "# alternatively you would have to use gpu for better running times\n",
    "df04 = df03.iloc[:rows_end,:]\n"
   ]
  },
  {
   "cell_type": "code",
   "execution_count": 15,
   "id": "1a91023a-9d07-4fb2-a966-58ffaab857b6",
   "metadata": {},
   "outputs": [],
   "source": [
    "\n",
    "# indices 0 to the end and remove the old index\n",
    "df04.reset_index(inplace=True,drop=True)\n"
   ]
  },
  {
   "cell_type": "code",
   "execution_count": 16,
   "id": "1c468f69-47eb-4b63-bce1-f114502b4741",
   "metadata": {},
   "outputs": [
    {
     "name": "stdout",
     "output_type": "stream",
     "text": [
      "<class 'pandas.core.frame.DataFrame'>\n",
      "RangeIndex: 23206 entries, 0 to 23205\n",
      "Data columns (total 2 columns):\n",
      " #   Column       Non-Null Count  Dtype \n",
      "---  ------       --------------  ----- \n",
      " 0   fromUser.id  23200 non-null  object\n",
      " 1   text         23164 non-null  object\n",
      "dtypes: object(2)\n",
      "memory usage: 362.7+ KB\n"
     ]
    }
   ],
   "source": [
    "df04.info()"
   ]
  },
  {
   "cell_type": "code",
   "execution_count": 17,
   "id": "565a720f-104a-4e87-a8c9-9eef87653dd7",
   "metadata": {},
   "outputs": [
    {
     "data": {
      "text/html": [
       "<div>\n",
       "<style scoped>\n",
       "    .dataframe tbody tr th:only-of-type {\n",
       "        vertical-align: middle;\n",
       "    }\n",
       "\n",
       "    .dataframe tbody tr th {\n",
       "        vertical-align: top;\n",
       "    }\n",
       "\n",
       "    .dataframe thead th {\n",
       "        text-align: right;\n",
       "    }\n",
       "</style>\n",
       "<table border=\"1\" class=\"dataframe\">\n",
       "  <thead>\n",
       "    <tr style=\"text-align: right;\">\n",
       "      <th></th>\n",
       "      <th>fromUser.id</th>\n",
       "      <th>text</th>\n",
       "    </tr>\n",
       "  </thead>\n",
       "  <tbody>\n",
       "    <tr>\n",
       "      <th>0</th>\n",
       "      <td>546fd99cdb8155e6700d6ec8</td>\n",
       "      <td>no legumes either</td>\n",
       "    </tr>\n",
       "    <tr>\n",
       "      <th>1</th>\n",
       "      <td>54a47e0cdb8155e6700e486e</td>\n",
       "      <td>That bullet proof coffee sounds insane.</td>\n",
       "    </tr>\n",
       "    <tr>\n",
       "      <th>2</th>\n",
       "      <td>54a47e0cdb8155e6700e486e</td>\n",
       "      <td>That guy has huge eyes.</td>\n",
       "    </tr>\n",
       "    <tr>\n",
       "      <th>3</th>\n",
       "      <td>546fd99cdb8155e6700d6ec8</td>\n",
       "      <td>@janetwalters008 It is. but it works. some people just can't handle the taste :P</td>\n",
       "    </tr>\n",
       "    <tr>\n",
       "      <th>4</th>\n",
       "      <td>54a44bbbdb8155e6700e47de</td>\n",
       "      <td>They guy that came up with the idea is kind of a joke though...</td>\n",
       "    </tr>\n",
       "  </tbody>\n",
       "</table>\n",
       "</div>"
      ],
      "text/plain": [
       "                fromUser.id  \\\n",
       "0  546fd99cdb8155e6700d6ec8   \n",
       "1  54a47e0cdb8155e6700e486e   \n",
       "2  54a47e0cdb8155e6700e486e   \n",
       "3  546fd99cdb8155e6700d6ec8   \n",
       "4  54a44bbbdb8155e6700e47de   \n",
       "\n",
       "                                                                               text  \n",
       "0                                                                 no legumes either  \n",
       "1                                           That bullet proof coffee sounds insane.  \n",
       "2                                                           That guy has huge eyes.  \n",
       "3  @janetwalters008 It is. but it works. some people just can't handle the taste :P  \n",
       "4                   They guy that came up with the idea is kind of a joke though...  "
      ]
     },
     "execution_count": 17,
     "metadata": {},
     "output_type": "execute_result"
    }
   ],
   "source": [
    "df04.head()"
   ]
  },
  {
   "cell_type": "code",
   "execution_count": 18,
   "id": "2fa949f8-390e-4eaa-9692-b5adfd6ecd32",
   "metadata": {},
   "outputs": [
    {
     "name": "stdout",
     "output_type": "stream",
     "text": [
      "<class 'pandas.core.frame.DataFrame'>\n",
      "RangeIndex: 23206 entries, 0 to 23205\n",
      "Data columns (total 2 columns):\n",
      " #   Column       Non-Null Count  Dtype \n",
      "---  ------       --------------  ----- \n",
      " 0   fromUser.id  23200 non-null  object\n",
      " 1   text         23164 non-null  object\n",
      "dtypes: object(2)\n",
      "memory usage: 362.7+ KB\n"
     ]
    }
   ],
   "source": [
    "df04.info()"
   ]
  },
  {
   "cell_type": "code",
   "execution_count": 19,
   "id": "d4552a14-2403-4087-8152-aa22a7bc8bc3",
   "metadata": {},
   "outputs": [
    {
     "data": {
      "text/plain": [
       "fromUser.id\n",
       "546fcc4cdb8155e6700d6e97    1583\n",
       "546fc6a7db8155e6700d6e87    1473\n",
       "54aaf442db8155e6700e622f    1216\n",
       "54a642e0db8155e6700e4da6    1060\n",
       "5471b82adb8155e6700d7478    1022\n",
       "547a9cd2db8155e6700d9676     873\n",
       "546fd99cdb8155e6700d6ec8     779\n",
       "546fda59db8155e6700d6ece     660\n",
       "5498c6a6db8155e6700e2349     641\n",
       "54aedf02db8155e6700e7a76     514\n",
       "54b55173db8155e6700e9cca     508\n",
       "54a60826db8155e6700e4d3e     495\n",
       "Name: count, dtype: int64"
      ]
     },
     "execution_count": 19,
     "metadata": {},
     "output_type": "execute_result"
    }
   ],
   "source": [
    "\n",
    "# most active users\n",
    "df04['fromUser.id'].value_counts().head(12)\n"
   ]
  },
  {
   "cell_type": "code",
   "execution_count": 20,
   "id": "08a70368-5b2f-4010-8634-fc1b6267e1b1",
   "metadata": {},
   "outputs": [
    {
     "data": {
      "image/png": "[encoded data removed]",
      "text/plain": [
       "<Figure size 1000x500 with 1 Axes>"
      ]
     },
     "metadata": {},
     "output_type": "display_data"
    }
   ],
   "source": [
    "\n",
    "# visualization\n",
    "plt.figure(figsize=(10,5))\n",
    "df04['fromUser.id'].value_counts().head(12).plot(kind='bar',color='orange')\n",
    "plt.xlabel(\"User ID\")\n",
    "plt.ylabel(\"Counts of Chats\")\n",
    "plt.show()\n"
   ]
  },
  {
   "cell_type": "code",
   "execution_count": 21,
   "id": "3ac91164-5f56-4f9c-87b8-bfa6b96fbe1f",
   "metadata": {},
   "outputs": [],
   "source": [
    "\n",
    "# to clean the text form words with '@' at the beginning\n",
    "#re.sub(r'(?:@)\\w+\\s','',df04['text'][1])\n"
   ]
  },
  {
   "cell_type": "code",
   "execution_count": 22,
   "id": "387750c5-eb39-40a8-b33c-fb8e132daab4",
   "metadata": {},
   "outputs": [
    {
     "data": {
      "text/plain": [
       "'546fcc4cdb8155e6700d6e97'"
      ]
     },
     "execution_count": 22,
     "metadata": {},
     "output_type": "execute_result"
    }
   ],
   "source": [
    "\n",
    "# 'fromUser.id' of the most chatting user\n",
    "id_max = df04['fromUser.id'].value_counts().index[0]\n",
    "id_max\n"
   ]
  },
  {
   "cell_type": "code",
   "execution_count": 23,
   "id": "58f1142b-98c7-4684-b30e-c0d05fb30307",
   "metadata": {},
   "outputs": [
    {
     "data": {
      "text/html": [
       "<div>\n",
       "<style scoped>\n",
       "    .dataframe tbody tr th:only-of-type {\n",
       "        vertical-align: middle;\n",
       "    }\n",
       "\n",
       "    .dataframe tbody tr th {\n",
       "        vertical-align: top;\n",
       "    }\n",
       "\n",
       "    .dataframe thead th {\n",
       "        text-align: right;\n",
       "    }\n",
       "</style>\n",
       "<table border=\"1\" class=\"dataframe\">\n",
       "  <thead>\n",
       "    <tr style=\"text-align: right;\">\n",
       "      <th></th>\n",
       "      <th>fromUser.id</th>\n",
       "      <th>text</th>\n",
       "    </tr>\n",
       "  </thead>\n",
       "  <tbody>\n",
       "    <tr>\n",
       "      <th>5</th>\n",
       "      <td>546fcc4cdb8155e6700d6e97</td>\n",
       "      <td>that sounds like torture actually :)</td>\n",
       "    </tr>\n",
       "    <tr>\n",
       "      <th>11</th>\n",
       "      <td>546fcc4cdb8155e6700d6e97</td>\n",
       "      <td>I have zero intention of doing the whole diet bit of it, I just want the nommy creamy fatty coffee</td>\n",
       "    </tr>\n",
       "    <tr>\n",
       "      <th>12</th>\n",
       "      <td>546fcc4cdb8155e6700d6e97</td>\n",
       "      <td>and the energy</td>\n",
       "    </tr>\n",
       "    <tr>\n",
       "      <th>16</th>\n",
       "      <td>546fcc4cdb8155e6700d6e97</td>\n",
       "      <td>I would if I didn’t have my son and his family camping in my den</td>\n",
       "    </tr>\n",
       "    <tr>\n",
       "      <th>17</th>\n",
       "      <td>546fcc4cdb8155e6700d6e97</td>\n",
       "      <td>tho we aren’t that close to santa monica</td>\n",
       "    </tr>\n",
       "    <tr>\n",
       "      <th>...</th>\n",
       "      <td>...</td>\n",
       "      <td>...</td>\n",
       "    </tr>\n",
       "    <tr>\n",
       "      <th>22947</th>\n",
       "      <td>546fcc4cdb8155e6700d6e97</td>\n",
       "      <td>@MichaelLockrey is there currently software available that translates spoken language to text for the hearing impaired?</td>\n",
       "    </tr>\n",
       "    <tr>\n",
       "      <th>22955</th>\n",
       "      <td>546fcc4cdb8155e6700d6e97</td>\n",
       "      <td>:thumbsup:</td>\n",
       "    </tr>\n",
       "    <tr>\n",
       "      <th>22965</th>\n",
       "      <td>546fcc4cdb8155e6700d6e97</td>\n",
       "      <td>^ means you are agreeing with the person above you, ^^ means mrowwww</td>\n",
       "    </tr>\n",
       "    <tr>\n",
       "      <th>22966</th>\n",
       "      <td>546fcc4cdb8155e6700d6e97</td>\n",
       "      <td>:P</td>\n",
       "    </tr>\n",
       "    <tr>\n",
       "      <th>22992</th>\n",
       "      <td>546fcc4cdb8155e6700d6e97</td>\n",
       "      <td>pass</td>\n",
       "    </tr>\n",
       "  </tbody>\n",
       "</table>\n",
       "<p>1583 rows × 2 columns</p>\n",
       "</div>"
      ],
      "text/plain": [
       "                    fromUser.id  \\\n",
       "5      546fcc4cdb8155e6700d6e97   \n",
       "11     546fcc4cdb8155e6700d6e97   \n",
       "12     546fcc4cdb8155e6700d6e97   \n",
       "16     546fcc4cdb8155e6700d6e97   \n",
       "17     546fcc4cdb8155e6700d6e97   \n",
       "...                         ...   \n",
       "22947  546fcc4cdb8155e6700d6e97   \n",
       "22955  546fcc4cdb8155e6700d6e97   \n",
       "22965  546fcc4cdb8155e6700d6e97   \n",
       "22966  546fcc4cdb8155e6700d6e97   \n",
       "22992  546fcc4cdb8155e6700d6e97   \n",
       "\n",
       "                                                                                                                          text  \n",
       "5                                                                                         that sounds like torture actually :)  \n",
       "11                          I have zero intention of doing the whole diet bit of it, I just want the nommy creamy fatty coffee  \n",
       "12                                                                                                              and the energy  \n",
       "16                                                            I would if I didn’t have my son and his family camping in my den  \n",
       "17                                                                                    tho we aren’t that close to santa monica  \n",
       "...                                                                                                                        ...  \n",
       "22947  @MichaelLockrey is there currently software available that translates spoken language to text for the hearing impaired?  \n",
       "22955                                                                                                              :thumbsup:   \n",
       "22965                                                     ^ means you are agreeing with the person above you, ^^ means mrowwww  \n",
       "22966                                                                                                                       :P  \n",
       "22992                                                                                                                     pass  \n",
       "\n",
       "[1583 rows x 2 columns]"
      ]
     },
     "execution_count": 23,
     "metadata": {},
     "output_type": "execute_result"
    }
   ],
   "source": [
    "\n",
    "# take a look of the user with the most chats\n",
    "df04[df04['fromUser.id'] == id_max]\n"
   ]
  },
  {
   "cell_type": "code",
   "execution_count": 24,
   "id": "bab56030-a661-4c57-9ec1-1a99871e6d6e",
   "metadata": {},
   "outputs": [
    {
     "data": {
      "text/plain": [
       "5                                                                   that sounds like torture actually :)\n",
       "11    I have zero intention of doing the whole diet bit of it, I just want the nommy creamy fatty coffee\n",
       "12                                                                                        and the energy\n",
       "16                                      I would if I didn’t have my son and his family camping in my den\n",
       "17                                                              tho we aren’t that close to santa monica\n",
       "19                                  hmm, 2 hour drive, but thats because the freeways are a nightmare :)\n",
       "24                              HAH I’m using skitch for bills my kids owe me, pink pointers everywhere!\n",
       "25                                                                             I’m the most annoying mom\n",
       "43                                                                welcome to FreeCodeCamp @AhsanBudhani \n",
       "44                                                            I’m partial to FCC challenges @aferch87 :)\n",
       "Name: text, dtype: object"
      ]
     },
     "execution_count": 24,
     "metadata": {},
     "output_type": "execute_result"
    }
   ],
   "source": [
    "\n",
    "# the first 10 chats\n",
    "df04[df04['fromUser.id']==id_max].text.head(10)\n"
   ]
  },
  {
   "cell_type": "code",
   "execution_count": 25,
   "id": "733594e5-7118-466f-9106-30bbb1d4a3c4",
   "metadata": {},
   "outputs": [
    {
     "data": {
      "text/plain": [
       "5                                                                                           that sounds like torture actually :)\n",
       "11                            I have zero intention of doing the whole diet bit of it, I just want the nommy creamy fatty coffee\n",
       "12                                                                                                                and the energy\n",
       "16                                                              I would if I didn’t have my son and his family camping in my den\n",
       "17                                                                                      tho we aren’t that close to santa monica\n",
       "                                                                  ...                                                           \n",
       "22947    @MichaelLockrey is there currently software available that translates spoken language to text for the hearing impaired?\n",
       "22955                                                                                                                :thumbsup: \n",
       "22965                                                       ^ means you are agreeing with the person above you, ^^ means mrowwww\n",
       "22966                                                                                                                         :P\n",
       "22992                                                                                                                       pass\n",
       "Name: text, Length: 1583, dtype: object"
      ]
     },
     "execution_count": 25,
     "metadata": {},
     "output_type": "execute_result"
    }
   ],
   "source": [
    "\n",
    "df04_text = df04[df04['fromUser.id']==id_max].text\n",
    "df04_text\n"
   ]
  },
  {
   "cell_type": "markdown",
   "id": "b98dca0f-803d-48e2-9f2e-92e293e3f76c",
   "metadata": {},
   "source": [
    "# preparing data for LSTM (Long-Short_Term_Memory) - Network"
   ]
  },
  {
   "cell_type": "code",
   "execution_count": 26,
   "id": "e2965e65-d8f3-4347-ada1-e7d878ae4998",
   "metadata": {},
   "outputs": [
    {
     "data": {
      "text/plain": [
       "'that sounds like torture actually :)I have zero intention of doing the whole diet bit of it, I just want the nommy creamy fatty coffeeand the energyI would if I didn’t have my son and his family camping in my dentho we aren’t that close to santa monicahmm, 2 hour drive, but thats because the freeways are a nightmare :)HAH I’m using skitch for bills my kids owe me, pink pointers everywhere!I’m the most annoying momwelcome to FreeCodeCamp @AhsanBudhani I’m partial to FCC challenges @aferch87 :)I t'"
      ]
     },
     "execution_count": 26,
     "metadata": {},
     "output_type": "execute_result"
    }
   ],
   "source": [
    "\n",
    "# whole text of most chatting person\n",
    "text01 = ''.join(map(str,df04_text))\n",
    "text01[:500]\n"
   ]
  },
  {
   "cell_type": "code",
   "execution_count": 27,
   "id": "bf4a87ba-57d9-42ba-a536-fed7758891d4",
   "metadata": {},
   "outputs": [
    {
     "data": {
      "text/plain": [
       "'that sounds like torture actually :)i have zero intention of doing the whole diet bit of it, i just want the nommy creamy fatty coffeeand the energyi would if i didn’t have my son and his family camping in my dentho we aren’t that close to santa monicahmm, 2 hour drive, but thats because the freeways are a nightmare :)hah i’m using skitch for bills my kids owe me, pink pointers everywhere!i’m the most annoying momwelcome to freecodecamp @ahsanbudhani i’m partial to fcc challenges @aferch87 :)i t'"
      ]
     },
     "execution_count": 27,
     "metadata": {},
     "output_type": "execute_result"
    }
   ],
   "source": [
    "\n",
    "# preparing text before NLP (Natural Language Processing)\n",
    "text02 = text01.lower()\n",
    "text02[:500]\n"
   ]
  },
  {
   "cell_type": "code",
   "execution_count": 28,
   "id": "569f325b-6023-41b0-9d6a-3d4a20e646bf",
   "metadata": {},
   "outputs": [
    {
     "data": {
      "text/plain": [
       "'that sounds like torture actually :)i have zero intention of doing the whole diet bit of it, i just want the nommy creamy fatty coffeeand the energyi would if i didn’t have my son and his family camping in my dentho we aren’t that close to santa monicahmm, 2 hour drive, but thats because the freeways are a nightmare :)hah i’m using skitch for bills my kids owe me, pink pointers everywhere!i’m the most annoying momwelcome to freecodecamp i’m partial to fcc challenges :)i think you’ll get plenty o'"
      ]
     },
     "execution_count": 28,
     "metadata": {},
     "output_type": "execute_result"
    }
   ],
   "source": [
    "\n",
    "# to clean the text form words with '@' at the beginning\n",
    "text03 = re.sub(r'(?:@)\\w+\\s','',text02)\n",
    "text03[:500]\n"
   ]
  },
  {
   "cell_type": "code",
   "execution_count": 29,
   "id": "f2fda876-fb75-4a38-b2ec-ad4e82309cb2",
   "metadata": {},
   "outputs": [
    {
     "data": {
      "text/plain": [
       "'that sounds like torture actually :)i have zero intention of doing the whole diet bit of it, i just want the nommy creamy fatty coffeeand the energyi would if i didn’t have my son and his family camping in my dentho we aren’t that close to santa monicahmm, 2 hour drive, but thats because the freeways are a nightmare :)hah i’m using skitch for bills my kids owe me, pink pointers everywhere!i’m the most annoying momwelcome to freecodecamp i’m partial to fcc challenges :)i think you’ll get plenty of exposure through out the challengeshi there happy new yeari do it all the time :)greetings welcome aboardwelcome back i hope you had a great vacation i don’t do resolutions :) i try to always be and do my besthello janeway \"there are three things to remember about being a starship captain: keep your shirt tucked in, go down with the ship, and never abandon a member of your crew.\"you mean upper east coast?well i didn’t hear it but it is the pepperidge farms guys accentsort of maine newhampshireoh yesno. 43 was changed before she took the helm to “no one has gone before\"archer was my least fav, way to emoand his vulcan was far to emotionalyeah ridiculous left track from what we knowwelcome hello welcome to our communityawesomehappy new year half an hour?oh hour and a half?sorry doing too many things at once lolsome css3d and a lil bit of js http://www.clicktorelease.com/code/css3dclouds/#hello and welcome to our communitydo you log in with github?try copying your code over to codepen, '"
      ]
     },
     "execution_count": 29,
     "metadata": {},
     "output_type": "execute_result"
    }
   ],
   "source": [
    "\n",
    "# removing html-tags:\n",
    "text04 = re.sub(r'<.*?>', '', text03)\n",
    "text04[:1500]\n"
   ]
  },
  {
   "cell_type": "code",
   "execution_count": 30,
   "id": "e7e75687-347d-4a4a-8db7-e75002b132e4",
   "metadata": {},
   "outputs": [
    {
     "data": {
      "text/plain": [
       "'that sounds like torture actually i have zero intention of doing the whole diet bit of it i just want the nommy creamy fatty coffeeand the energyi would if i didnt have my son and his family camping in my dentho we arent that close to santa monicahmm 2 hour drive but thats because the freeways are a nightmare hah im using skitch for bills my kids owe me pink pointers everywhereim the most annoying momwelcome to freecodecamp im partial to fcc challenges i think youll get plenty of exposure through out the challengeshi there happy new yeari do it all the time greetings welcome aboardwelcome back i hope you had a great vacation i dont do resolutions  i try to always be and do my besthello janeway there are three things to remember about being a starship captain keep your shirt tucked in go down with the ship and never abandon a member of your crewyou mean upper east coastwell i didnt hear it but it is the pepperidge farms guys accentsort of maine newhampshireoh yesno 43 was changed before she took the helm to no one has gone beforearcher was my least fav way to emoand his vulcan was far to emotionalyeah ridiculous left track from what we knowwelcome hello welcome to our communityawesomehappy new year half an houroh hour and a halfsorry doing too many things at once lolsome css3d and a lil bit of js httpwwwclicktoreleasecomcodecss3dcloudshello and welcome to our communitydo you log in with githubtry copying your code over to codepen see if it works properly there mine wouldnt wor'"
      ]
     },
     "execution_count": 30,
     "metadata": {},
     "output_type": "execute_result"
    }
   ],
   "source": [
    "\n",
    "# removing special charakters:\n",
    "text05 = re.sub(r'[^a-zA-Z0-9\\s]', '', text04)\n",
    "text05[:1500]\n"
   ]
  },
  {
   "cell_type": "code",
   "execution_count": 31,
   "id": "71c2952f-6316-4a27-96d2-988d9157b5c5",
   "metadata": {},
   "outputs": [
    {
     "data": {
      "text/plain": [
       "70874"
      ]
     },
     "execution_count": 31,
     "metadata": {},
     "output_type": "execute_result"
    }
   ],
   "source": [
    "len(text05)"
   ]
  },
  {
   "cell_type": "code",
   "execution_count": 32,
   "id": "b766317e-d9e9-45f3-bb04-3070210e7f2b",
   "metadata": {},
   "outputs": [
    {
     "data": {
      "text/plain": [
       "str"
      ]
     },
     "execution_count": 32,
     "metadata": {},
     "output_type": "execute_result"
    }
   ],
   "source": [
    "type(text05)"
   ]
  },
  {
   "cell_type": "code",
   "execution_count": 33,
   "id": "0acaa831-33b6-4f83-8644-6b1ae63ef2f7",
   "metadata": {},
   "outputs": [
    {
     "name": "stdout",
     "output_type": "stream",
     "text": [
      "Number of sequences: 23612\n"
     ]
    }
   ],
   "source": [
    "\n",
    "# new form --> arrays of semi-overlapping sequences of uniform length and next characters\n",
    "# length (40 - 60, chats - texts) of extracted character sequences\n",
    "len_seq = 40\n",
    "\n",
    "# create a new sequence every `step` characters (3 in the cause of the spaces)\n",
    "step = 3\n",
    "\n",
    "# a list of the extracted sequences\n",
    "sentences = []\n",
    "\n",
    "# a list of the targets (the follow-up characters)\n",
    "next_chars = []\n",
    "\n",
    "for i in range(0, len(text05) - len_seq, step):\n",
    "    sentences.append(text05[i: i + len_seq])\n",
    "    next_chars.append(text05[i + len_seq])\n",
    "print('Number of sequences:', len(sentences))\n"
   ]
  },
  {
   "cell_type": "code",
   "execution_count": 34,
   "id": "415f3f49-0c41-4490-8e57-671bd750c12a",
   "metadata": {},
   "outputs": [
    {
     "data": {
      "text/plain": [
       "['that sounds like torture actually i have',\n",
       " 't sounds like torture actually i have ze',\n",
       " 'ounds like torture actually i have zero ',\n",
       " 'ds like torture actually i have zero int',\n",
       " 'like torture actually i have zero intent']"
      ]
     },
     "execution_count": 34,
     "metadata": {},
     "output_type": "execute_result"
    }
   ],
   "source": [
    "sentences[:5]"
   ]
  },
  {
   "cell_type": "code",
   "execution_count": 35,
   "id": "2bfa7496-065a-4e91-ae89-2962ce457138",
   "metadata": {},
   "outputs": [
    {
     "data": {
      "text/plain": [
       "[' ', 'r', 'i', 'e', 'i']"
      ]
     },
     "execution_count": 35,
     "metadata": {},
     "output_type": "execute_result"
    }
   ],
   "source": [
    "next_chars[:5]"
   ]
  },
  {
   "cell_type": "code",
   "execution_count": 36,
   "id": "2a9e3a50-417d-42f9-b97e-50ef2a42e0a8",
   "metadata": {},
   "outputs": [
    {
     "data": {
      "text/plain": [
       "23612"
      ]
     },
     "execution_count": 36,
     "metadata": {},
     "output_type": "execute_result"
    }
   ],
   "source": [
    "len(next_chars)"
   ]
  },
  {
   "cell_type": "code",
   "execution_count": 37,
   "id": "80329ffc-8dd8-41d1-b420-fe97c0413132",
   "metadata": {},
   "outputs": [
    {
     "name": "stdout",
     "output_type": "stream",
     "text": [
      "Unique characters: 39\n"
     ]
    }
   ],
   "source": [
    "\n",
    "# List of unique characters in the corpus\n",
    "chars = sorted(list(set(text05)))\n",
    "print('Unique characters:', len(chars))\n"
   ]
  },
  {
   "cell_type": "code",
   "execution_count": 38,
   "id": "d01115c7-4b03-4ff3-9dfc-a88f048e209f",
   "metadata": {},
   "outputs": [
    {
     "data": {
      "text/plain": [
       "['\\t', '\\n', ' ', '0', '1']"
      ]
     },
     "execution_count": 38,
     "metadata": {},
     "output_type": "execute_result"
    }
   ],
   "source": [
    "chars[:5]"
   ]
  },
  {
   "cell_type": "code",
   "execution_count": 39,
   "id": "339df516-66cc-48b1-9da2-bfb2dc3d02b1",
   "metadata": {},
   "outputs": [
    {
     "data": {
      "text/plain": [
       "{'\\t': 0,\n",
       " '\\n': 1,\n",
       " ' ': 2,\n",
       " '0': 3,\n",
       " '1': 4,\n",
       " '2': 5,\n",
       " '3': 6,\n",
       " '4': 7,\n",
       " '5': 8,\n",
       " '6': 9,\n",
       " '7': 10,\n",
       " '8': 11,\n",
       " '9': 12,\n",
       " 'a': 13,\n",
       " 'b': 14,\n",
       " 'c': 15,\n",
       " 'd': 16,\n",
       " 'e': 17,\n",
       " 'f': 18,\n",
       " 'g': 19,\n",
       " 'h': 20,\n",
       " 'i': 21,\n",
       " 'j': 22,\n",
       " 'k': 23,\n",
       " 'l': 24,\n",
       " 'm': 25,\n",
       " 'n': 26,\n",
       " 'o': 27,\n",
       " 'p': 28,\n",
       " 'q': 29,\n",
       " 'r': 30,\n",
       " 's': 31,\n",
       " 't': 32,\n",
       " 'u': 33,\n",
       " 'v': 34,\n",
       " 'w': 35,\n",
       " 'x': 36,\n",
       " 'y': 37,\n",
       " 'z': 38}"
      ]
     },
     "execution_count": 39,
     "metadata": {},
     "output_type": "execute_result"
    }
   ],
   "source": [
    "\n",
    "# Dictionary mapping unique characters to their index in `chars`\n",
    "char_indices = dict((c, i) for i,c in enumerate(chars))\n",
    "char_indices\n"
   ]
  },
  {
   "cell_type": "code",
   "execution_count": 40,
   "id": "6f983d9b-6f8b-4d37-b1f0-323e478b7f55",
   "metadata": {},
   "outputs": [],
   "source": [
    "\n",
    "# data as sparse boolean tensors\n",
    "# --> array-form of x,y for sentences,next_chars with the right shapes\n",
    "x = np.zeros((len(sentences),len_seq,len(chars)),dtype=np.bool_)\n",
    "y = np.zeros((len(sentences),len(chars)),dtype=np.bool_)\n"
   ]
  },
  {
   "cell_type": "code",
   "execution_count": 41,
   "id": "04e13f5c-7cc5-4f45-95e5-029ae32aeabc",
   "metadata": {},
   "outputs": [
    {
     "data": {
      "text/plain": [
       "(23612, 40, 39)"
      ]
     },
     "execution_count": 41,
     "metadata": {},
     "output_type": "execute_result"
    }
   ],
   "source": [
    "x.shape"
   ]
  },
  {
   "cell_type": "code",
   "execution_count": 42,
   "id": "6cd17209-2575-40ec-87ee-89da57ca2003",
   "metadata": {},
   "outputs": [
    {
     "data": {
      "text/plain": [
       "(23612, 39)"
      ]
     },
     "execution_count": 42,
     "metadata": {},
     "output_type": "execute_result"
    }
   ],
   "source": [
    "y.shape"
   ]
  },
  {
   "cell_type": "code",
   "execution_count": 43,
   "id": "8556a95d-b356-4af7-9aae-829453469cdf",
   "metadata": {},
   "outputs": [],
   "source": [
    "\n",
    "# one-hot encode the characters into binary arrays\n",
    "for i,sentence in enumerate(sentences):\n",
    "    for t,char in enumerate(sentence):\n",
    "        x[i,t,char_indices[char]] = 1\n",
    "    y[i,char_indices[next_chars[i]]] = 1\n",
    "    "
   ]
  },
  {
   "cell_type": "code",
   "execution_count": 44,
   "id": "e4b09ecf-4b58-407c-b48f-e3cf5fef70cc",
   "metadata": {},
   "outputs": [
    {
     "data": {
      "text/plain": [
       "array([[[False, False, False, ..., False, False, False],\n",
       "        [False, False, False, ..., False, False, False],\n",
       "        [False, False, False, ..., False, False, False],\n",
       "        ...,\n",
       "        [False, False, False, ..., False, False, False],\n",
       "        [False, False, False, ..., False, False, False],\n",
       "        [False, False, False, ..., False, False, False]],\n",
       "\n",
       "       [[False, False, False, ..., False, False, False],\n",
       "        [False, False,  True, ..., False, False, False],\n",
       "        [False, False, False, ..., False, False, False],\n",
       "        ...,\n",
       "        [False, False,  True, ..., False, False, False],\n",
       "        [False, False, False, ..., False, False,  True],\n",
       "        [False, False, False, ..., False, False, False]]])"
      ]
     },
     "execution_count": 44,
     "metadata": {},
     "output_type": "execute_result"
    }
   ],
   "source": [
    "x[:2]"
   ]
  },
  {
   "cell_type": "code",
   "execution_count": 45,
   "id": "34db4188-04b5-4f85-a71d-2b56a11d0761",
   "metadata": {},
   "outputs": [
    {
     "data": {
      "text/plain": [
       "array([[False, False,  True, False, False, False, False, False, False,\n",
       "        False, False, False, False, False, False, False, False, False,\n",
       "        False, False, False, False, False, False, False, False, False,\n",
       "        False, False, False, False, False, False, False, False, False,\n",
       "        False, False, False],\n",
       "       [False, False, False, False, False, False, False, False, False,\n",
       "        False, False, False, False, False, False, False, False, False,\n",
       "        False, False, False, False, False, False, False, False, False,\n",
       "        False, False, False,  True, False, False, False, False, False,\n",
       "        False, False, False]])"
      ]
     },
     "execution_count": 45,
     "metadata": {},
     "output_type": "execute_result"
    }
   ],
   "source": [
    "y[:2]"
   ]
  },
  {
   "cell_type": "markdown",
   "id": "1a95eca6-270a-4cc0-8513-ecc5b5a413af",
   "metadata": {},
   "source": [
    "# Building the network"
   ]
  },
  {
   "cell_type": "code",
   "execution_count": 46,
   "id": "6edaf1eb-5d0a-4303-9d77-5e200e037deb",
   "metadata": {},
   "outputs": [],
   "source": [
    "from keras import layers"
   ]
  },
  {
   "cell_type": "code",
   "execution_count": null,
   "id": "a901a620-8507-48db-ab94-b22a9af7c6d4",
   "metadata": {},
   "outputs": [],
   "source": [
    "\n",
    "# network = 1 LSTM layer, 1 Dense classifier and softmax (over all charakters)\n",
    "model = keras.models.Sequential()\n",
    "model.add(layers.LSTM(128,input_shape=(len_seq,len(chars))))\n",
    "model.add(layers.Dense(len(chars),activation='softmax'))\n"
   ]
  },
  {
   "cell_type": "code",
   "execution_count": 48,
   "id": "c270d9ca-013c-4eb0-b68a-d52f01cb6f08",
   "metadata": {},
   "outputs": [],
   "source": [
    "\n",
    "# loss for training the model --> categorical_crossentropy (y = one hot encodede and not categorical)\n",
    "opti = keras.optimizers.RMSprop(learning_rate=0.01)\n",
    "model.compile(loss='categorical_crossentropy',optimizer=opti)\n"
   ]
  },
  {
   "cell_type": "code",
   "execution_count": 49,
   "id": "f6ff6786-3866-4fe5-86a2-6b305ad6f89c",
   "metadata": {},
   "outputs": [],
   "source": [
    "\n",
    "# training the model and sampling from that with reweighted distributions\n",
    "# --> sample-function with one temperature\n",
    "def sample(predictions,temp=1.0):\n",
    "    predictions = np.asarray(predictions).astype('float64')\n",
    "    predictions = np.log(predictions) / temp\n",
    "    exp_predictions = np.exp(predictions)\n",
    "    predictions = exp_predictions / np.sum(exp_predictions)\n",
    "    probas = np.random.multinomial(1,predictions,1)\n",
    "    return np.argmax(probas)\n"
   ]
  },
  {
   "cell_type": "code",
   "execution_count": 50,
   "id": "eba687a0-c799-4d7e-ad5b-6ca3f3285603",
   "metadata": {},
   "outputs": [
    {
     "name": "stdout",
     "output_type": "stream",
     "text": [
      "EPOCH 1\n",
      "WARNING:tensorflow:From C:\\Users\\dietm\\AppData\\Roaming\\Python\\Python310\\site-packages\\keras\\src\\utils\\tf_utils.py:492: The name tf.ragged.RaggedTensorValue is deprecated. Please use tf.compat.v1.ragged.RaggedTensorValue instead.\n",
      "\n",
      "185/185 [==============================] - 13s 60ms/step - loss: 2.5802\n",
      "___GENERATING with seed___: \"issue try porting it over to codepen so \"\n",
      "___TEMPERATURE___:  0.2\n",
      "issue try porting it over to codepen so i weang the to to to te we to to ang to ne to me to a a tu to the to we to ne ing the a be to ang to were we to noun the toun we we to a me to me to nound to me be to be te to the the to noun the to we we to noun to we to me we to be to me to i se the to me to noun the to a to mang to to ne to be to\n",
      "___TEMPERATURE___:  0.5\n",
      " noun the to a to mang to to ne to be to the a mang se to i fel in we an an le fon ton te wet so fre to tane fore mecound we bok toming to jeang wore a for ant weang pang a pang the want tureamang as you t in the coun were werung i ti ne thang thang to mame ang to mang the i dou tong to ge hing we be he we were gem an wet i  and int ge we\n",
      "___TEMPERATURE___:  1.0\n",
      "e he we were gem an wet i  and int ge weadeang m ghe weanjfwitlall mave i pante fougtthime na ufurout ton cage jome you sesing te sethening morle fhand fom to fe denon in th cumes wetinging angec wo t\n",
      "on yumes weing mang geond it od cove se tam neamlenwi gongwint teruemteclve the mant cuse go bamncangutt yofel bous to the o reetin ta ip r\n",
      "___TEMPERATURE___:  1.2\n",
      "ngutt yofel bous to the o reetin ta ip repalan you uwefrecmolidery leesd nu ta hot coungetartisgasg haploodeme ing puanrwgorew 7tangdste nd in 6sho sou h gitt in te brltlre  ouy me leveesfel yamngve tona t nigw uh inn  iespanctumedpuhaf i somige whum yon er bame as sind meneecrine ha palenscstn to ki got yyoles lingeghelam bine he gofrtot\n",
      "EPOCH 2\n",
      "185/185 [==============================] - 11s 59ms/step - loss: 2.2829\n",
      "___GENERATING with seed___: \" fccnope im on challenge 37i have other \"\n",
      "___TEMPERATURE___:  0.2\n",
      " fccnope im on challenge 37i have other on and in a dont well the pood the some the and in in a pround you and well the bot in i sound and well and the pore the bout in i the the look in the bood and in i sound in and wo the the bot in a pant in the book in the so and the the pore the look have the pant i sound what i seall the some the l\n",
      "___TEMPERATURE___:  0.5\n",
      "pant i sound what i seall the some the live for ins i shame anding im what ont good chant for and in and in get is and wo the the gatt hern in a lave code and the thaf i dont and so all be come is and weth to good han wo that well gore ol and with on the reat ofr ade she best it the me have on the the comanin my and are thave the and the \n",
      "___TEMPERATURE___:  1.0\n",
      "he comanin my and are thave the and the herent thin staol evmandeng  hoy a be wit sus vintary ckicjernere theve bite goed wo to live chat goind wast amed to i sesesenisking for shaw ssle wo hexp soweld mank se lost hant your andes urzing a fup ba bo yellode codetan i sit come i cemyunre is w\n",
      "ight apee thage ove shapprreny grode belcome  o\n",
      "___TEMPERATURE___:  1.2\n",
      "ee thage ove shapprreny grode belcome  ofat that lament watleint bughfom nevy offer hoard i\ts ok ind piarl allechpfins wecomngtheagianoungy ylyapand d isntointevels pissedyentp kong ith golchinso wurr what it5 the int me lookyeas it imentswow intlifernkhtielones so here ilsy 2ol thefbucidawe anolncs ithyounarvmbversonaddmwncy focl edeab0s\n",
      "EPOCH 3\n",
      "185/185 [==============================] - 13s 68ms/step - loss: 2.0090\n",
      "___GENERATING with seed___: \"as few images as possible on my pageswel\"\n",
      "___TEMPERATURE___:  0.2\n",
      "as few images as possible on my pageswell it to to to the to the to the progecome to to the compent i sas to to to the proget to to the lit i can to the to the list it the list it to the some to lot it the preecome to the pand the tom the tom the lol is to the progecome to to to the to the some to to our community a proget it to the preec\n",
      "___TEMPERATURE___:  0.5\n",
      "o our community a proget it to the preecome to the the live to the tom the long and stup fich on to the tod to to her for me i stit community plat i chan and to i can and to at out to got in to find the to some to the lill the sode at preecome to am hing was of colling it is the lol are and the now to to out that dould the time to the log\n",
      "___TEMPERATURE___:  1.0\n",
      "to to out that dould the time to the log tal se0byouks andtc0 you a aeit and cacked it calld like  a jricfright soy u me tsal commat somowy weepe best the to tout the chased s3at yom rid tod at 2ters roace about liskbone than patting you nethe with gro salteffretiisitcacopruttelinteatle that age sopnarirnd ow no de im cod proged aof a pou\n",
      "___TEMPERATURE___:  1.2\n",
      "narirnd ow no de im cod proged aof a poull jt ap be9regsed itstapsgaweleashewhiss bet heyotele is fonld bkceitwem hixd is yhou son cont nen slointse with the bout locgig pust a conzatye fre dcangwet dagion ilcx ppfcrtisoy ssad focf abto gho shets with thethit rum4y wabt1y buff ofweecde a prand on qothetanty actellicghet weelsat a gzab ycr\n",
      "EPOCH 4\n",
      "185/185 [==============================] - 12s 63ms/step - loss: 1.8489\n",
      "___GENERATING with seed___: \"e its an authentication issue between gi\"\n",
      "___TEMPERATURE___:  0.2\n",
      "e its an authentication issue between git on the commong the commong on that with that i community a projecthit on the projecting that looks that welcome to our community a projecting to are and on the commong the commone that i course with the commong to are that with that with that working that welcome to our community a projecode and w\n",
      "___TEMPERATURE___:  0.5\n",
      "lcome to our community a projecode and working working to our community a mand with a can the commong at on the tom and with a cours and with though a project propertillong to have to are stever linko what i cap on that it look that welcome to our community for me to grat i are the look thes code that you could to our community that on th\n",
      "___TEMPERATURE___:  1.0\n",
      "at you could to our community that on thet now a prak is thce hut the manilyaponhts have to ohers lickut what it your seld to as prougl ank gooding you feed eanto bo whit goop have supleal pay a wat to hep here prowlered in at you for doonerson you cas  o rigst tahtip not als you may i cap to pif ayour aly doons us some we puck it commane\n",
      "___TEMPERATURE___:  1.2\n",
      "our aly doons us some we puck it commanehat grootus tores in more of amffiedlat and oh the imarle all st pildow iblatting odin yougs it nots tisoarsay hexil has maw yourd docebonielan bays sige and asaeno thinkedyi have to pureryice is tain why ally pis is now a coup or kieso groalots of do to alo fille funtsind uf is to gat onfesting my \n",
      "EPOCH 5\n",
      "185/185 [==============================] - 11s 60ms/step - loss: 1.7161\n",
      "___GENERATING with seed___: \" doing and where its goingyeah life pull\"\n",
      "___TEMPERATURE___:  0.2\n",
      " doing and where its goingyeah life pulling its is to are to are for in to are to are to are to are to are to are to are to ark to our community that froen this is to are to are to are to are to are to our community to are to are to we to are to are to are to are to are community to our community its to are to are to our community to our \n",
      "___TEMPERATURE___:  0.5\n",
      "s to are to are to our community to our community in a pretice iten thingh to sele is crase to lock to our community to are to are art going to the code to our community i think make the litter to ame to are to it to and all things to hear community to our community and the commanity in you are sime to port to tor and so from a the are to\n",
      "___TEMPERATURE___:  1.0\n",
      " to port to tor and so from a the are to worud ith par pout done this hey im loing us thing its thingsim worpntre toohm keots i so go to oncthing rom ine to lotalle waath to ill cood not ald or feeh finste fornteling and twaile to cat up onge tood forthry asn  me colpp sime easirg told froengating to tuint it 4ort ifle apring this sem and\n",
      "___TEMPERATURE___:  1.2\n",
      "o tuint it 4ort ifle apring this sem ands indor and attthutpefreecodecomecampppmg2oweram2puttertporttedtermatjpyteagibe over isschathpeycoorrcjbnott2menimah doing soodnsbitcidajsgillpeapim yeah wollime butting bhoppeb si3e hetphe fide toorm okelsh marcuin it get i hever counlly rugry grevent he so dqjent a payle its  istermaked to conling\n",
      "EPOCH 6\n",
      "185/185 [==============================] - 11s 62ms/step - loss: 1.5968\n",
      "___GENERATING with seed___: \"r you a career changemaybe eventually im\"\n",
      "___TEMPERATURE___:  0.2\n",
      "r you a career changemaybe eventually im the realing the right on the realing it the list it the realing on the realy and its the resting the lol i there welcome to our communitydand its the realing the realing on the realing it the resting on the realing the realing it the list it the right at you hear an are the need and the realing on \n",
      "___TEMPERATURE___:  0.5\n",
      "hear an are the need and the realing on my that the lolare you need to the mong it makes it the not realy a the there welcome to our you hell i really hi there welcome to our community it so it you are plocod pooping we are the be tars the get in the not and it a paire to se are the grogting see the it the i can the insted a cantersite it\n",
      "___TEMPERATURE___:  1.0\n",
      " it the i can the insted a cantersite its atwy atffeehing get the notenodes with you there in the bmestiyentilenghey chassimba to kive the ever hey had you get i a geen pithiegee and of black to do unapstersibetienbyes and yes need of us ill nearsed dasits and the ither heve thoneing suffing at chat eally freathen thists what im hey i to \n",
      "___TEMPERATURE___:  1.2\n",
      " eally freathen thists what im hey i to realedits that devfrosce i sayythher clasiofen titienns the bx hey irces haply hings youronghe you gettirtnitc hat ohwass of it armatiryht wwlwherbelle is mory mailangibster emesisi nee you are usficapottimms grou did prounh itonop do strainkep thates on thi lis are the harding of atbo the musn psas\n",
      "EPOCH 7\n",
      "185/185 [==============================] - 11s 60ms/step - loss: 1.4869\n",
      "___GENERATING with seed___: \" our community yeah its pretty awesome o\"\n",
      "___TEMPERATURE___:  0.2\n",
      " our community yeah its pretty awesome of markungeing to are to are to are to are to are to are to pretty to are to are to are to are to are to are to are to pretty work to and that make your code be to be with to look that make that make your thing to pretty well be a be                                                                    \n",
      "___TEMPERATURE___:  0.5\n",
      "                                                                                                                                                                                                                                                                                                                                                    \n",
      "___TEMPERATURE___:  1.0\n",
      "                                                            \n",
      "   m                                                                          g ag                                                     9              neb f co gien  f c no nownice ghad you are away exo ifly we back to know to pased of whacied just coup trytem dayches and to lolg\n",
      "___TEMPERATURE___:  1.2\n",
      "ied just coup trytem dayches and to lolgre toou wit fopenthe wusjue thealiovs just wo a pexted good enoerdry ferly tuhbug to now kethry sal and thay nepred tay transed mf gracs udo the nope for iss helli a ders rather larks windomornatigni log hereher i lind sonar dacowr 8wawerst nite cratry aws we pasdeate is i bust to be and for free li\n",
      "EPOCH 8\n",
      "185/185 [==============================] - 11s 59ms/step - loss: 1.3926\n",
      "___GENERATING with seed___: \" i can englishyou need to take out the l\"\n",
      "___TEMPERATURE___:  0.2\n",
      " i can englishyou need to take out the live the contand yeah im a projers i done i seed and not really we are the contary i and some is a the link to peeple i age in the chatrence i can past a projects to our communitya disne we are the program i to are to our community to find it a lisk it the challenge i and it and not to all things the\n",
      "___TEMPERATURE___:  0.5\n",
      "lenge i and it and not to all things the confund you cont it to see you go tark on the live to be it and not the better im up think you found you are right and she for a ture wo chem on the the going to keep then we could to our communityi readly doee des in the chetserd we are awe have some is a tould say pise i age with the good morning\n",
      "___TEMPERATURE___:  1.0\n",
      "uld say pise i age with the good morning not me dive the non backning tyough in thiskinlon monewrofiles everyenopill lolbeswere a could it a porruct that ive mong pettits fucts other time was the hapl with work link to beted that chackermorni othis pairl artersure grebteunf me dive but very i maken sigarybiggre you definase seemyesary wit\n",
      "___TEMPERATURE___:  1.2\n",
      "sigarybiggre you definase seemyesary with spocuswy lake it you have to deing a profits monitrip ffcts tayk seedred broundy just andps becs of blee sime seedidowrs zind realy nat 4s a two 6il try be a crotfrobl texhive her i learnyne 4ulp hadduci feep tw yfiines croof thmirks doon ok viejs profficed hor have i anfter projo in a nocs and ne\n",
      "EPOCH 9\n",
      "185/185 [==============================] - 11s 61ms/step - loss: 1.2991\n",
      "___GENERATING with seed___: \"rking on that ginormous monitor i didnt \"\n",
      "___TEMPERATURE___:  0.2\n",
      "rking on that ginormous monitor i didnt me insthing i can use think it to keep into and the liv on the list and so is to are to mo to our community to hear about your commanity have a bibler mont welcome to our community to hear about the list and so i dont to look finith to had to here i and so i dont and sign up on the list and so i don\n",
      "___TEMPERATURE___:  0.5\n",
      "ont and sign up on the list and so i dont commanied you found our but ind and sign up the beaking to work lolhoh i cant the know about the programming to some for the commanity a project that marked on the list on it to keep with to look to so it whatoine manyes you have to sigh op the commanity a project me to our nom of the list of the \n",
      "___TEMPERATURE___:  1.0\n",
      "roject me to our nom of the list of the right le to bigltere wan the  cammers greted antanyou cousurnity sight lol and to bafe hour besces profice an imame and b0 makesst apveit freat ally frees everut i dont to to to to to got ovent moreing outlolh how coment git pent amare some kear\n",
      " were i wnote so hollo have herldwhoted will did you t\n",
      "___TEMPERATURE___:  1.2\n",
      "so hollo have herldwhoted will did you tiny a binixll welcome to puse agrbace nore if the togarignis goze fer i veaking in your  finewart our challe getare grave froncode work full out fcc lisure spy agh commnity and weeh i cas a tualingi i de say up a mooter for me link to will lolgor on you get nethe wannirgk woblued thes you fan i seve\n",
      "EPOCH 10\n",
      "185/185 [==============================] - 10s 54ms/step - loss: 1.2274\n",
      "___GENERATING with seed___: \" so i dont see why noti do as well but i\"\n",
      "___TEMPERATURE___:  0.2\n",
      " so i dont see why noti do as well but in the not out the contand the some and all some is all the the programs in the some and the some and the some and in the chats my and insthink you are that many not and the ingo the command the ingo got to see to are the challenge i the progert to learn the int me i some not and and my here in the s\n",
      "___TEMPERATURE___:  0.5\n",
      "t me i some not and and my here in the sign and the freechere when i tho knot and and che good morning make you are the the the persine and some have to our community have not here hat its all the programs well ever the programming the have a project on the good morning lolher on the gotter thats of the chat my app it thisk a chound of an\n",
      "___TEMPERATURE___:  1.0\n",
      " the chat my app it thisk a chound of and link to sigt it names  are tharns anytay beyen bloggommonsimather anyon yeah im a trave good the some roon the  with to sught something torseming for the gla have my what you chereall lets and nave for the lolye on the sime weenot to keep recoil acruck of fcc use you plake it mere things thats goi\n",
      "___TEMPERATURE___:  1.2\n",
      "c use you plake it mere things thats going to get pert think this buald if knewry  for onlarhn weld ill hist any rrach nebhe ar ething to sey grewbere im pureand show a choure ornd knywrown lil  fhee lol ohl two lore for im at anythere just racin on anotheralternome we po0htim have to but you the pwant sece il are so it more the and grema\n",
      "EPOCH 11\n",
      "185/185 [==============================] - 10s 55ms/step - loss: 1.1597\n",
      "___GENERATING with seed___: \"e are three things to remember about bei\"\n",
      "___TEMPERATURE___:  0.2\n",
      "e are three things to remember about being to see the live program now the latter welcome to our communitya things the challenges i think a preciarly here in the things the into mare your code and shot me into now here in the into need to think it so it in the live programs welcome to our communitya things the sing to see that that tool t\n",
      "___TEMPERATURE___:  0.5\n",
      " things the sing to see that that tool to me i think i freed an the think i lease it in a chall not that me instaldys i ast and the know the thin s i ap it good morning inso programmingtesim i can do it found your code about the challenges i learnent need to the lave the challenges in the commanity hawe a precoary on its a compare the man\n",
      "___TEMPERATURE___:  1.0\n",
      "hawe a precoary on its a compare the many fow and firscoop cere one have so so sarifey it domalitho dont droush it you dent like the my free on him nave a lil fat for and thin you feel hou did the lave our hear for thoughtim a pretioedoni im nometives to keep program to oull tairruif you see notwhate our freep and the mashizales here in f\n",
      "___TEMPERATURE___:  1.2\n",
      "e our freep and the mashizales here in for you get blim ivear\n",
      "yeahs working ark yeistraing regbused work bones thats a htretthinelink that laking currentainye inturehepe hoheshall the nan hempor ate thopesits your ruchs prefickly intonnw tup anyofe frob pley it my sutsjsillmen arold imman im stoly i would les goodim bled and show good for\n",
      "EPOCH 12\n",
      "185/185 [==============================] - 11s 61ms/step - loss: 1.1064\n",
      "___GENERATING with seed___: \"at heart so yeah thats bonushi there a l\"\n",
      "___TEMPERATURE___:  0.2\n",
      "at heart so yeah thats bonushi there a lote say challenge it with the live some not what you found your way here what is the right i think it something i not lets morning and incore the chatrempany welcome to our community i the commusity here have the not have be a bot for an the live back good morning markuenot ingo im to go thoom greve\n",
      "___TEMPERATURE___:  0.5\n",
      "ning markuenot ingo im to go thoom grevers but i learn good morning hatedn what im a programming yoursh it pootime welcome to our community i againe up in my ap and ill be wantarterion on the same a problem and so i confuted it for the now have the bottem alained what from wo part and show me do you challent nowed you are from very not do\n",
      "___TEMPERATURE___:  1.0\n",
      " challent nowed you are from very not doingebour contribues as in the broieces my grought on the nex my clone the say want year crasiexaspood sayshe campers on the lolgom is sully you leam acound your brome you are no is always thant from atyencayel got it wonking a without their some when on had a project the realos ive seve making aland\n",
      "___TEMPERATURE___:  1.2\n",
      "project the realos ive seve making alandhing incahifriesvition gragy spedope you with cloli have to cant at portime about ffclisges for what to but severytim wamenus codedamsf yearsthass it ive but yeah i agaged the off come non this stygeing itskicelesselwooh how had tho psticeic in carepoathe i ago2wthate that delbughe t us amp ans im a\n",
      "EPOCH 13\n",
      "185/185 [==============================] - 13s 72ms/step - loss: 1.0653\n",
      "___GENERATING with seed___: \"e so i dont really knowright but arent y\"\n",
      "___TEMPERATURE___:  0.2\n",
      "e so i dont really knowright but arent yeah indent a project things that a coun the insthing yeah im know there here in the not have to menting to the risting and welcome aboard of the checkpiesss supple i freess my ded but i hand the into markuy like the things i should back problemmark here in the not have the sted with the pronet every\n",
      "___TEMPERATURE___:  0.5\n",
      " not have the sted with the pronet everytime soon and welcome to our community the for des from need a makes threar like it suppont welcome aboard on the give us a couldnt great not and the breakfing reade your code and be and the lol here here welcome abort uplatter well i can mean on the right welcome to our community her have good morn\n",
      "___TEMPERATURE___:  1.0\n",
      "come to our community her have good morning and just are you shill i dand jild for oull here were i dontibsignern offer your beal see deas my we had withing to way to chat atives it dont hore welcome abover me to you fut the ont really cours tiredopes and it here i know a fre to working good for asee  and che ind a challenges thrmunges fo\n",
      "___TEMPERATURE___:  1.2\n",
      "e  and che ind a challenges thrmunges for the viegess in your us even good kevicureic is a will give loli thing ith twither did you ive preithded geild hearmonf yeah im super longrry asighagna going me sol of your because shourd yesgiever like in vingull daybsting welcome to our bladming how yexrs a litt saving yearmated me bulg ake and h\n",
      "EPOCH 14\n",
      "185/185 [==============================] - 11s 58ms/step - loss: 1.0252\n",
      "___GENERATING with seed___: \"not at all oooo now i know what to ask f\"\n",
      "___TEMPERATURE___:  0.2\n",
      "not at all oooo now i know what to ask for the communityeat i found your way here in the projectsme it my business your code and more when i any in the bot me for anything lolsomorr codepent i can with check in the not have but i hand but i coull the lave the beger in the some some no mork heme in the live so it dones on the brow have to \n",
      "___TEMPERATURE___:  0.5\n",
      "he live so it dones on the brow have to many sign uplay not markuarmuest dreed doences into thinks i should by i a bowwher working of they canters into the keet it to learn morning ind blak i dont done breecouple that my community to are through its at design uple i see of but i can with and but i dont looking it the projectsme it dones o\n",
      "___TEMPERATURE___:  1.0\n",
      "ont looking it the projectsme it dones on preecampent add more if yourse right on my craty some on innoohizillttershowstolbuch is fhere parsnoo someowh ilad im ginks at but its here in to kidht  heart it i redeit i have bu n wo loum noting work hearsnacoting the tarse breakd dont oohut the baght to log in it lilught loade vary is the prom\n",
      "___TEMPERATURE___:  1.2\n",
      "log in it lilught loade vary is the promers your isso so through lithed to xulcome looking what you is desn free greet really glin you don use intime inta phoithraicould and welcome to our communityi do usec out now i cad  move over lets bl camprbbukgetsfty sbit neck fitilyal it up yourle reand blackug ins makeic here dybsllaszfictello im\n",
      "EPOCH 15\n",
      "185/185 [==============================] - 11s 57ms/step - loss: 0.9974\n",
      "___GENERATING with seed___: \"ill pick it up again in 10 weeksim shoot\"\n",
      "___TEMPERATURE___:  0.2\n",
      "ill pick it up again in 10 weeksim shoot are she dont the remone working the some ster well i dont keep at a lay he sing to see the resome you are was the nextle the belleme that should be lol an and the community here we have for a leake say with a bouth no i dont have to programmi stend in the nive the parsing well i have to pse in the \n",
      "___TEMPERATURE___:  0.5\n",
      "e the parsing well i have to pse in the sime so glad i would be a bood if so many didnt no markup into should be stargly the live projectseding woulder here hemeso greating doons in the nive the  with a bebun horning to helps to yearsway if the int no see in the chatreaim to likely me shay with the see you things im sup other wit is the b\n",
      "___TEMPERATURE___:  1.0\n",
      "see you things im sup other wit is the bht eave im hearly campersaly with at is out i frewhelch that is od wan wesomm to mone makes with musibotar day bobchunger i needed in yoursel do makesthing you can programming give smaking to dons firslo newhing the commat hid getting a masers ate from the vaing al admut than that willong stufly a s\n",
      "___TEMPERATURE___:  1.2\n",
      "ng al admut than that willong stufly a sutht to conjully sles has now have to pay thing it well i get port off attere js nameszarsdry daffor i love ple se ive makni tourgoppedss the hearsuole out the  here enourd ith to med i do im is all backe\n",
      "tetqurearmatswito me batgess eevers illy twi then the miss well i ton varily go leam not i know\n",
      "EPOCH 16\n",
      "185/185 [==============================] - 13s 70ms/step - loss: 0.9684\n",
      "___GENERATING with seed___: \"and question pleasesure whats up you wil\"\n",
      "___TEMPERATURE___:  0.2\n",
      "and question pleasesure whats up you will be an thing its welcome to our community herewelcome to our communitydonim glad you found your way here i well he some right on the not have bann progrommure to hear do you hear about your communitydned you have poogrble i see to are for a look for you counser thing to see that with hear do you he\n",
      "___TEMPERATURE___:  0.5\n",
      "er thing to see that with hear do you hear about your for the into bust page of the int neeed a want see is you see you are a reading of the siffullevelss enow lets so have a projects year docused we are signerslo i see im going to set finish the lattei we had you have persictay want to sext ack partnotiracommun your non morning earlo its\n",
      "___TEMPERATURE___:  1.0\n",
      "tnotiracommun your non morning earlo its right done itsuent changes up chammerspariforals all heretly that so something yesimatwy work lesnop campers but your get the into be and welcome to done in prestyesing letwbster le stad stycp at eat vives we pant we are himaginewasating who good it it some to chat last of becaused yeblink a vell b\n",
      "___TEMPERATURE___:  1.2\n",
      "o chat last of becaused yeblink a vell be want seenly siff cssestws no i sheahd aine s asine i woll herdiegg you can dight to wo poxt we are free fnctsle old twithi dincesedrs ffc iss can codektts offengething that cheffiesed brc9 morning lock dhasigners im a soyt hizruses iffieeletim cs ithown to ve a codecant projectson how here ds supp\n",
      "EPOCH 17\n",
      "185/185 [==============================] - 11s 60ms/step - loss: 0.9415\n",
      "___GENERATING with seed___: \"oloh i love poutinehave you had with duc\"\n",
      "___TEMPERATURE___:  0.2\n",
      "oloh i love poutinehave you had with duckggo grasss wrencole i work to lolah the leve so i dont have to move pasters what i contut its now here i was the mather the make it and she background its and the lay im and the lay hery awe on the manyes into this me fortmorr the beaking that contanie of the i can wont we are problem rubsing out n\n",
      "___TEMPERATURE___:  0.5\n",
      " i can wont we are problem rubsing out nf me for anythery decupe and all tack toograt forum new did to the mat just to alwe go live and hthting noteingo and welcome to our community hercould the beal the bewarith the be and the programming the but i donto between and the intawayout whone ball tacked and me bround that is a means than shou\n",
      "___TEMPERATURE___:  1.0\n",
      " and me bround that is a means than should awelc in went will be with more whojpiceh welcome to our community you seed ut is grany it anythen codepent it think i have good morning welcome to our community happy reisht at its i was up a was up with the worubtur wronfosely me for my name and ill heyesthats aweion i thank of i all backecale \n",
      "___TEMPERATURE___:  1.2\n",
      "thats aweion i thank of i all backecale it workinw  whtte morning likewad workudrtwelts welcome to our community taing ondeque there draviencehhere brokgrameddough thoughtike but i wo light i know achat oners ly nome you can its yourself up to here for trats imane  ingested me and so im hoy ap  rouning tually into aweyone it telchelp does\n",
      "EPOCH 18\n",
      "185/185 [==============================] - 11s 57ms/step - loss: 0.9154\n",
      "___GENERATING with seed___: \"y jr devim actually saving coderbyte til\"\n",
      "___TEMPERATURE___:  0.2\n",
      "y jr devim actually saving coderbyte till i think i can think i save to see to make than should be for the mation on the mongh to are from to programming they get to my but i do love so thit stying they get to my but i do live some right me if the mank your community have to puct of of the sing there should you hear about uple going to ge\n",
      "___TEMPERATURE___:  0.5\n",
      "e should you hear about uple going to get porting chat an problem to love fan a realon a lolh to sancrust ere are codepome your found your have to movewhent work well ever that me i have to would be a bag f and things long to code to make thanks here and the code a delbogry with the programs piffice ground bround oflineo and the lay i hav\n",
      "___TEMPERATURE___:  1.0\n",
      " ground bround oflineo and the lay i have to for your goy gont back twarvepeatthat areing easted sthat man emailat is have by find to monything age for a cooun things markuy ure roush use it dont  anguther on ghat thote soo\tm using it to have to pull our communind if the some and ill hear anticeot nexpllt of to polt all gral my makesthi t\n",
      "___TEMPERATURE___:  1.2\n",
      "expllt of to polt all gral my makesthi there very codeptwill be anfrett mesight on to have how is at icp to nut realing in wonk js jqkest youh from of my bober finioratide thaill but good marngess on here worggeave so good so do lide stying ztoxthe whunjs lid in you pud by emachi image got challengeting nowainly finisvout dive for file it\n",
      "EPOCH 19\n",
      "185/185 [==============================] - 11s 61ms/step - loss: 0.8921\n",
      "___GENERATING with seed___: \" to use it more thoughsublime text2 and \"\n",
      "___TEMPERATURE___:  0.2\n",
      " to use it more thoughsublime text2 and i can with the roling that my twork on the for me done now we use you will hear about the non profitsie that with the program to me for a look for a lo be signt onea lolwors that makess that contany a the getting in the right use it a lisking pocally i man that neved a lote the rokedt of pif easelot\n",
      "___TEMPERATURE___:  0.5\n",
      "t neved a lote the rokedt of pif easelothere working challenges i are the regound a dent and my do wan the sing to go through the right year ing yesit when you we are from well i think iss in to projects they me on we are hearting the becture up campersnow i have to fin the non pronity a well i ageinges graven inno esien image for a look \n",
      "___TEMPERATURE___:  1.0\n",
      "nges graven inno esien image for a look it boins lize that challenge to rear new but the rover but thats wish you can dont he drowly getter out folks im going reening and let me consume ween like thoon it not time useats i have butter weth your ingenope up post ffee in a list over ill so i dont lided to have ubout till bell doue htmlone i\n",
      "___TEMPERATURE___:  1.2\n",
      "d to have ubout till bell doue htmlone if you conn there i think iss rigurnned and rely i free weth love reftine a i would just tage the riffiesly i dont looking to bloathe fers yours things migit so sem thating eyagling ama moand awhiles of because with yeai should bu do provits for lake that the  age from of computay to recause use to b\n",
      "EPOCH 20\n",
      "185/185 [==============================] - 12s 65ms/step - loss: 0.8736\n",
      "___GENERATING with seed___: \"me lots of programming books from my wis\"\n",
      "___TEMPERATURE___:  0.2\n",
      "me lots of programming books from my wish it thinki jquert in the chatream to like its and things to helpi tor and the latted when i say a project that welcome to our community to helpi tor and that say the latter when i really get use it chat checkping welcome to our community to helpi tor and the latted when i sand be and things to show\n",
      "___TEMPERATURE___:  0.5\n",
      "latted when i sand be and things to show you feele going to get there should be sillys knowry just but i dont re so makes to me from we part i appien i actually a more to mongo im going to getter thank your community than a weble year my glad a free every not longer on it thinki should bellade up on pish to the till lark at things couldnt\n",
      "___TEMPERATURE___:  1.0\n",
      " pish to the till lark at things couldnt mive sade my ned ot how dont to note that sabe when i realink that blbed than i ravingeboplats lilk things to propetticter you wish the poltine your butt so got to hopefore or i fant stucks design thermone happy paceiuldicoupcarsucrs is a challe get netly desifly we all okn imagiforem in thinkinch \n",
      "___TEMPERATURE___:  1.2\n",
      "ifly we all okn imagiforem in thinkinch change at about the  markut it my layie thems doing athentwith out deill bers inloli have to the change its upple i reture up congut usuring now thank cssticoulda che indisshey hey hi the siing the doflote\n",
      " my change they issty tankey all bigcfreethut do thosghyesthats evertcodechuprychostanamyels a\n",
      "EPOCH 21\n",
      "185/185 [==============================] - 12s 63ms/step - loss: 0.8621\n",
      "___GENERATING with seed___: \"n this year hoping that will give me the\"\n",
      "___TEMPERATURE___:  0.2\n",
      "n this year hoping that will give me then out the not have to to the to the programming i sas a problem and you are on thein shoolo need to see to fings its right at using looks linuxt to things to see through the programming good morning a pretios a probe it in the program to me to are than a means to me i see out the code banignfrally t\n",
      "___TEMPERATURE___:  0.5\n",
      " to me i see out the code banignfrally to the programming space out then is all the for you are set of phope an anyone on blot the programming good morning a pretiy grave it into things to poc out it working morning and dons to program in net in the not have to fo port welcome to codeck i well everigned othere is the nome a know i have to\n",
      "___TEMPERATURE___:  1.0\n",
      "gned othere is the nome a know i have to prope so bvet atted to puttode i should tearnon out a conjutien im consuilly a cours out dfiles i sand lot i say things that tiall  eme thank i de but i wonld be folhioh hear appena dont personatils you im good peand the things that as you have pood morning its so bulint i well here i real your bes\n",
      "___TEMPERATURE___:  1.2\n",
      "ts so bulint i well here i real your best vinghoughtiness i should lested that kietwever vas that so pledis thus a anter you age int butter when i thinkoi ploce and my linkfreed just pangiat thoughtirty procolssome oo newhar vavenl moknotawestouthhat we havp foving intervews of his to think they partner upfromost attermalledgettersmorchep\n",
      "EPOCH 22\n",
      "185/185 [==============================] - 12s 62ms/step - loss: 0.8376\n",
      "___GENERATING with seed___: \"se links over on the forums look who got\"\n",
      "___TEMPERATURE___:  0.2\n",
      "se links over on the forums look who got in a libue  here in the live some to make it what doing interested in the nextooted marngewes i and myself a lot on it the ned of my lapt so i dont letter my live someting i need a lig ever lige for the monsimasion i need a light new out becomparthing i can do saying the get your community have to \n",
      "___TEMPERATURE___:  0.5\n",
      "o saying the get your community have to go hates here is thes in the programs up on my lapted in my tworelotim less doing its and siny bland to seesing the see interedown live sade the monsimate that marner like the mont your bent reading out the stanshey get porning all tarse that the next on that making i really get to makes me to fid a\n",
      "___TEMPERATURE___:  1.0\n",
      "making i really get to makes me to fid a reaking problem in a lisur htmone no programming a knt weener on blinkins thin sampery rut its fech that stupputspartit outhere is the lided the not even stercare nce pertewewhttpdodhewelcomverclittermarkdowncodetutjpgitwell hey doenctothearmaisfrecoderteriecodecampcrpletem this elpor i can net an \n",
      "___TEMPERATURE___:  1.2\n",
      "odecampcrpletem this elpor i can net an trying to so it on i donen from very challenge its see you its wiliinclipe is makes mishoots mesno i age bnow thing a fee partats we are wit in lag but i dont me not aininel i soop i dinds here welcome to our lem we have the chetedd be gitter magnon and phocebure samhing its butt if i stiall  a like\n",
      "EPOCH 23\n",
      "185/185 [==============================] - 12s 64ms/step - loss: 0.8299\n",
      "___GENERATING with seed___: \" 6 is not thatfor eshas restaurantok loo\"\n",
      "___TEMPERATURE___:  0.2\n",
      " 6 is not thatfor eshas restaurantok looks like the chats here is a sere greet my get in the right on and for mysimeos for the into right i saying lolsoom there is a syone of my but i do love progfemmenting a problem we are from for the into right i think i can wo two go it to are for anyone seen and when i say the reado lay i can wo tre \n",
      "___TEMPERATURE___:  0.5\n",
      "d when i say the reado lay i can wo tre to a community the lave the challenges in the right on and so glad i wouldsnotide that isnt with the codner yeah grever lets to our communitywhank you found your course this to are surphell welcome to our communitywhanks are free for dont keep it working ass to make yes grevty need me i find of this\n",
      "___TEMPERATURE___:  1.0\n",
      "o make yes grevty need me i find of this thany for me fromperver live samy desinns i need you free set for your ats look sight coulld mosite slooding is going ever campersay him goingesaps doash it foing on pocehtill issne it likely mine all happ non that what was the can out als love some not to dest to get to bo it anwarned to somethe b\n",
      "___TEMPERATURE___:  1.2\n",
      "st to get to bo it anwarned to somethe brote program to mi hess work ok in lolas is focused hamping so ill bebure dish shet bf go my bafi if intanco thate i age the best linuxtorn friendly fooh ive beter fresch with the ncche you feeli here in 6t pbccet ats me os me viested for mubl the email sime a prbstair  how fooh it to dont grent vil\n",
      "EPOCH 24\n",
      "185/185 [==============================] - 11s 57ms/step - loss: 0.8250\n",
      "___GENERATING with seed___: \"t is the pepperidge farms guys accentsor\"\n",
      "___TEMPERATURE___:  0.2\n",
      "t is the pepperidge farms guys accentsortwelcome aboard over to other is all yearmaing againg are  working on and ill some sign uple good morning elpiang welcome to our community how did you hear about uple i hear out but i do a keep on the non profitss is a with the reso you are now it make that you are your get to be and reading out tha\n",
      "___TEMPERATURE___:  0.5\n",
      "u are your get to be and reading out that know a commuinelars and dibusts oft ffee emanine a me for a look like that so ill hey are not more than a background email if the challenges good morning i fasity if your cssmmonsi you have to make that shello welcome to our community have thereish in the rifo groppay with the page of my do want t\n",
      "___TEMPERATURE___:  1.0\n",
      "fo groppay with the page of my do want the see weens you hear about fccher porticumlo im good morning noodencepe the nchats so threaffrees makess how that couple bibly twy right a till like thttills elso from that you ongers makewas that can consurllysbostentim kehh outcamparydeafortmylolhourgesta\n",
      "tangeyswetchectonehingqroof mong its thin\n",
      "___TEMPERATURE___:  1.2\n",
      "angeyswetchectonehingqroof mong its thinki geteble hame nots look at what challng winds be anook paorlo if iflize lol over on at intaqioe a ffipen is reforethose fill  buti helloop new gett your sendorm of plovers good nood had moriges quttted i than wak thosine i didnt me i mayenss goathat is folksomedoin my was im saini gouldnt ster tim\n",
      "EPOCH 25\n",
      "185/185 [==============================] - 11s 57ms/step - loss: 0.7891\n",
      "___GENERATING with seed___: \"hands on the android on new release righ\"\n",
      "___TEMPERATURE___:  0.2\n",
      "hands on the android on new release right at its not at anyone out the concantieng i have to per in the bagh to how to a trough the intend on the non profitsoon in the code aboard i hour on good morning make the not hor can with the code and the mank you can realy with them hearthow i think its a just consing in the nind till love program\n",
      "___TEMPERATURE___:  0.5\n",
      "st consing in the nind till love programmi csinner than a meavitel its i really dide of the hingy going to good morning mong its a with to see that many not an amparbot in the nind till love the live programmi conf to proguash of this is thinki con use all hemlover you are aclust of things i sometion thats have to so yearmocuse i dont awa\n",
      "___TEMPERATURE___:  1.0\n",
      "n thats have to so yearmocuse i dont awarwwelcome to of marigual in boatt live scating for me up of my heartut if to would bedomos in with the sive but i do devertaty and attite with the everether i con my localwelcome to of the ingo me well here in you are lolys i hove sonwhing you sard but its ochated how good vainices farrs luch welco \n",
      "___TEMPERATURE___:  1.2\n",
      "ated how good vainices farrs luch welco phome barduznon emsbling ato 4ccochecs me of myshwelcome to our community how mish to pupersget it in pocusee on then anboring geally for me talk to poct of my heading twotbor i can wo know things one psoverthim here ands sround it rol sci risiry welcome imor i dont twitter your by well wishes outha\n",
      "EPOCH 26\n",
      "185/185 [==============================] - 11s 57ms/step - loss: 0.7837\n",
      "___GENERATING with seed___: \"veral people just started today in fact \"\n",
      "___TEMPERATURE___:  0.2\n",
      "veral people just started today in fact of the partite the community here is the non hor yeah the lave it hi there welcome to our community how that as you are new every him had other to a bagg at the lave the community here is a think you could be it with on the live seething in good morning and a lote see you are now have a poct welcome\n",
      "___TEMPERATURE___:  0.5\n",
      "lote see you are now have a poct welcome aboard of everytext leave be it wo did takevers warke the code there docusing on good morning and some as i ap read the one projects though all the say wit or as you are now have to working morning a problem deaing parins if they are thing its welcome to our community i did the commant sign used to\n",
      "___TEMPERATURE___:  1.0\n",
      "community i did the commant sign used to shell herpline going me thats awbich east a twey newhe going the timed a knowaways know wit onsits reade herpeny had ooh my cssedrblinjs i dont grevion i working eresure a dince on the challenges everyticking your campershow a citter reey appice projects though it disain agefor in the emarming a fe\n",
      "___TEMPERATURE___:  1.2\n",
      "gh it disain agefor in the emarming a feepentinatillaisgellome a simaly noteh your on morterswelcome aboard for a yeal hap over the monnaw signt ut where broumm to bull bello hehon is 3y used worlbels an now was the mong you text and if we past in problem a ffunjshtt no so yeah woulding seeary welcome to our ind iti spink all thing inta p\n",
      "EPOCH 27\n",
      "185/185 [==============================] - 10s 56ms/step - loss: 0.7750\n",
      "___GENERATING with seed___: \" missed it thanks in here trying to help\"\n",
      "___TEMPERATURE___:  0.2\n",
      " missed it thanks in here trying to helpin the some and welcome to our communitywhen isnes into the non profitsso im out thennowi dontasting the bagh in the right and so but it into welcome to our communitywhen isntasp so i reaneweenoting and you are achesigned is get i would to codenut like the now an accresicode i welcome to our communi\n",
      "___TEMPERATURE___:  0.5\n",
      " an accresicode i welcome to our communitywhen imageing in my whane i dont reasiencloh we are gretty off for the now working out the community they have to be into it a count welcome to our communitywas a count the right are when i problamming good morning all tarse they changest and docuse makesthing i freed an emaring ath to see to fcc \n",
      "___TEMPERATURE___:  1.0\n",
      "ng i freed an emaring ath to see to fcc have not mesing everytill on angublerso inco good mare deaswell through you fave hello reading out of there welk to be find acare when i rust your nwing in css is the sif your leass bidgubl but i do stufif your js into make the nome to book work whave brotwark doev to ould fort for she to find asder\n",
      "___TEMPERATURE___:  1.2\n",
      " doev to ould fort for she to find asdersure yessting keep it 7be an 3magif the in my fribllw intaspialyei steidca mins for youm over long your js instine need desilwa im ady emarpuck here keep vere my lil\n",
      "br cappen1 thowelolong you for otr blare things csassucure ofcopeivey empledd morif you logg movitttherkicomullayswettolooh your waybe\n",
      "EPOCH 28\n",
      "185/185 [==============================] - 11s 58ms/step - loss: 0.7466\n",
      "___GENERATING with seed___: \"we receive emails daily from non profits\"\n",
      "___TEMPERATURE___:  0.2\n",
      "we receive emails daily from non profitsing welcome to our community than you cough it the live so it a  its really get it and so if you get to see that get i would to chates and support with the chate on the nint a preciase it my painena look to mo brato i dont twitter do looks lil bit it think i cas are whing to keep it always at the gi\n",
      "___TEMPERATURE___:  0.5\n",
      "as are whing to keep it always at the give some is alwe the meanst is a with the project and the latter that they get be and all be are trying to sayict awailick them of photed i can think i sual indowight to lot on the grevec mentraito it easieatimated to stuffy all tache that makni ther i can perectay that thim im campers are blow be an\n",
      "___TEMPERATURE___:  1.0\n",
      "ctay that thim im campers are blow be and reary keduplat it here gial of of this is all be for to jooo naw from a capen the next atimesome a ssome all thosting it the comm then oity notei very live anywit my pss but it and i con gind at what toutellop so rotpeftingy from to me botthing other than the im ruby hting the lalt its realing my \n",
      "___TEMPERATURE___:  1.2\n",
      "e im ruby hting the lalt its realing my you age so noodec phobe the nave me not to use biotre i blan its thy greing mores age for in to go loade the sam chreeded community wotheartay job commank whon the sienxly how give up a befoked on the into be and going to the buw whanes sood accore your lise it just knowl abe have by finishing the b\n",
      "EPOCH 29\n",
      "185/185 [==============================] - 10s 57ms/step - loss: 0.7278\n",
      "___GENERATING with seed___: \"l be taking live sessions with both and \"\n",
      "___TEMPERATURE___:  0.2\n",
      "l be taking live sessions with both and things codesued it disay inlooping you a boghin the code the means for the give better and a lot of your code the nextly company all have to get your nap ack sign on the neved means im going be by a  anound on the right on i allogellogibly from very dev encal im her good morning elsi had ood codeshe\n",
      "___TEMPERATURE___:  0.5\n",
      "im her good morning elsi had ood codesher in line it show i can wo a bag sigary with light me on goon to metwollog i dont really get being wanter this marigned in lyen inge a coupe the one shill to lotte my way we use a break in like the onstryeats everythe and welcome to our community here is about the monsige for the differs whats exper\n",
      "___TEMPERATURE___:  1.0\n",
      " the monsige for the differs whats experedee inthi would to lest are you are toldaythe for shool big bot year good morning to but you to you are plessip\n",
      "yasways guasen im going mben loor and had py codepersees welcome to our communityk pimelcodersome whencadeiande and expreabotted im goend make baswien isnom of code some rut you have lake\n",
      "___TEMPERATURE___:  1.2\n",
      "ien isnom of code some rut you have lakey my cumpersnows im hear is as you get yoursm flefits to where yours are  good bettampsweed that atcrectimeofeeh i smear boxiimn 4pomeing loode pledim se for about them morn now work j poct ase the oneh seecome harpy new daile i like that twolk hey agreno brwaci issuple so keep dont ragher like so a\n",
      "EPOCH 30\n",
      "185/185 [==============================] - 11s 58ms/step - loss: 0.7171\n",
      "___GENERATING with seed___: \"elcome aboard not at all oooo now i know\"\n",
      "___TEMPERATURE___:  0.2\n",
      "elcome aboard not at all oooo now i know the community thank you is to be inthi toote when the not have to pull our lolso bell hemplole welcome to our community how a count and the codd accommunity head dool broke pledicupthe lett now even good to a how to because its and int see the roliod to oull lare it worke bell i list should be sall\n",
      "___TEMPERATURE___:  0.5\n",
      "lare it worke bell i list should be sall relocame to see to go that is make the nive od a couniersed it dasht at the the things thoughts welcome to our community how a head to bull attut with thes work layoh me goody so im to get to pull of be you how didnt a did be and real though sethewelcome to our community how are challeng in the rof\n",
      "___TEMPERATURE___:  1.0\n",
      "ur community how are challeng in the rofocuside right partanated we panss all  me off css intmore awviculai will goot way terribleetor what is it easieything it usventing to oull lare that means file im got at at eyebousies you are net ate the montoh i think hehoce say they watters to is to be it things i ixsticoursed a did whtte when i k\n",
      "___TEMPERATURE___:  1.2\n",
      "ings i ixsticoursed a did whtte when i know ive somethink i freesht for askill on that jscas batt woulding prochactermarked us codecampegitchave page im get for the browget to geve fant awaile that and incore for ass lucsing in my know i responsit\n",
      "h a geil it whening around dailicknow if the im not doencs with you im futtetting there is m\n",
      "EPOCH 31\n",
      "185/185 [==============================] - 11s 57ms/step - loss: 0.7125\n",
      "___GENERATING with seed___: \"e is opening the view your code browser \"\n",
      "___TEMPERATURE___:  0.2\n",
      "e is opening the view your code browser so i dont see the nine its and shoolhey have a painine a pongible i find with the live anyong log to make it into is a witt at the best over good morning all i toroode dove the lest notes a project there welcome aboard off on it things to ketting the commanke the browrarsn like it into this misite t\n",
      "___TEMPERATURE___:  0.5\n",
      "the browrarsn like it into this misite the give to book things to sayight nou with to look like the ompansifff up the insted with the go its not enow about your confuper realon your code all ler with the concatser your community ooh here is a counse it sinn a gebsing it sign up pagefool its time to be in the dont have some inenot was the \n",
      "___TEMPERATURE___:  1.0\n",
      "be in the dont have some inenot was the foing couldnt up ache going to hemping is to dines me commanked a hall bell lize those from to it maniges flinh concathos medig ever finisher gaving im guel its me i 8oll learning agay a do have a pelpers a thate you are ofting to crofite it das finish itlol i rast awelc me to jooh had oc im goingbe\n",
      "___TEMPERATURE___:  1.2\n",
      " rast awelc me to jooh had oc im goingbere welli get for a b\n",
      " bex good therebefound of isnto it kincr ccmpecause a get difity screecapety vigur working on a gaok tinytevers in thosewnow yearsmorr by whing to would use to 1ve achecamperther yourself the  no are not onlt me to it ant butteing your nend shello did the lant yearm exhe listran\n",
      "EPOCH 32\n",
      "185/185 [==============================] - 12s 63ms/step - loss: 0.7024\n",
      "___GENERATING with seed___: \" name brandenmy oldest daughter has a to\"\n",
      "___TEMPERATURE___:  0.2\n",
      " name brandenmy oldest daughter has a to come about the pages me a stying to go through the personewell i than a me from all the get to make i realin i agreen into but i dont awaili think its always all the get it and all leve see im going to sury ruping to sayishing to get to go how to a the get i maye i madebings will i working the chat\n",
      "___TEMPERATURE___:  0.5\n",
      "maye i madebings will i working the chats anguby things to loteod morning therejp campeding thats get i rememeer on with the programs we are i have i keep you are regore i found to rectaredeyinghats so i dont better no mong background oht dev codecamppremeyinghto so you can answrough outs if i think i see you are two one for me i meani th\n",
      "___TEMPERATURE___:  1.0\n",
      " i see you are two one for me i meani there i agesting skeemsloli sodecone hat asnowewelcove about themedowe about the pnoje i there diff talker everwalso get lood yesitidablly counsed the its frolwhats welcome to our community and vers3ed in projecusedic sollow morking and welcome to our co run ol await name signed to would bull here is \n",
      "___TEMPERATURE___:  1.2\n",
      "await name signed to would bull here is are knowwy going lood shas you knine some if you lave to just are fulloh hares free brwakerourking out ses is jquer that at yes to yeah free sell ood  me a was vistup of the broked workewhen i saye background projects the projectsmesoh and welcome to our contmisfoland 9hat for days iled the right to\n",
      "EPOCH 33\n",
      "185/185 [==============================] - 10s 57ms/step - loss: 0.6867\n",
      "___GENERATING with seed___: \"rse this is for another courseand my cer\"\n",
      "___TEMPERATURE___:  0.2\n",
      "rse this is for another courseand my cereakes i would be and rupit one i like it i seemlo i didnt me inthill i lose a  monged i like i real i are the nommarking theinge i reso age sitching at my dearbop i feeting a preciaying out looks link to ho get i like it i seem another you find work ht into bagh it done of the live anot entil a meye\n",
      "___TEMPERATURE___:  0.5\n",
      "gh it done of the live anot entil a meyear workd becampersicright on in the lisk two me i knine letty campers hear go i dont what whitbers get im good morning i shoull lare that the non project pairtselcome aboard to the program to work dont would the mong if you do thin sill i didnt use ruby of me dont with theme im fucarserswelcome pood\n",
      "___TEMPERATURE___:  1.0\n",
      "dont with theme im fucarserswelcome pood my owh the dont use a hot me done des cortelbhomeos dont love s5ack on the viesy and what you sed with croject problem year from not of my dearbfice suckfro sard offllexgry exhey free to runjoh is in redo tare webltaing dackgat better for on on jq free me for the lant \n",
      "tut with js into mark everit \n",
      "___TEMPERATURE___:  1.2\n",
      " the lant \n",
      "tut with js into mark everit gito yemands daiagnep apt for a apal emait in with real chack i and deaspoct lett lethear basign i forwmone me oini yearmo emerble to are lively hearsnows js in answhy im so out non i nee better right the commankers i grave m not compagerblartd with your kncdrackguelings get vury from anotare it ear\n",
      "EPOCH 34\n",
      "185/185 [==============================] - 10s 56ms/step - loss: 0.6812\n",
      "___GENERATING with seed___: \"me my laptop is open im just not always \"\n",
      "___TEMPERATURE___:  0.2\n",
      "me my laptop is open im just not always keoppe it in good morning and dropsho get worsing over there in the sif every leaving in to good to programstings welcome to our community wont weblo there welcome to our community wont beto get there when thing is too make the makess here is the ning to see to atted to to be i do take design link w\n",
      "___TEMPERATURE___:  0.5\n",
      "o atted to to be i do take design link we page it completed the mish up the code problt more when you cont attes i think its a campersner here is a mesome a dif things can wo goot markuer on their lere is a me and a so it was the brought the give us here i would live persecare things cant with the roformoon and whtted the mong you wish th\n",
      "___TEMPERATURE___:  1.0\n",
      "oformoon and whtted the mong you wish the nixt with oull lolthere im about ivenappeny prolic alwe to go hello we con cam we pist cursentesh we are work he going so i dont backgroundsp twatokhwwwwwepilet thentylangeitatido the some consity her that keod pary of we pall liartup therning inso good morning what jsgo it buck girpushhonzi contu\n",
      "___TEMPERATURE___:  1.2\n",
      "ing what jsgo it buck girpushhonzi contused dontikewalss if they dean it all tyes your crompettry dosecode\n",
      "iywhanks gotteting awesodedushs its to keep like it happ awht could lavs see threanding meangho good kesterd me out old me looks earl4 have be wro get there wro sive doing with ould mart in linbs everyone worked webojust at some hoid\n",
      "EPOCH 35\n",
      "185/185 [==============================] - 11s 57ms/step - loss: 0.6731\n",
      "___GENERATING with seed___: \"r infosec coolgood morning campersawesom\"\n",
      "___TEMPERATURE___:  0.2\n",
      "r infosec coolgood morning campersawesome communityi saye a coppll every doee to ould to mark whatei would love the projects the fling at the community work he got in the ristry of me out looks log the ned ot the mong welcome to our community thanks to keep it for ove polt i can the mate the projects the programs with the program to mong \n",
      "___TEMPERATURE___:  0.5\n",
      "s the programs with the program to mong morning allite to do this eseally are than a background or add transing ats you are accretting it with the programned to helpfoutters soor appent aty are in my huping that know face out the programst on the rolation it thates here is the bagg it the code baing for on the live pert int seea is a cont\n",
      "___TEMPERATURE___:  1.0\n",
      " for on the live pert int seea is a conthat code thingy wish the profices more this trejjsed the progrems for a me and woblo htppst contharkil at at earmorundly exhei would a probe your pairs hears out when i saying tick for someon it to get to patters whats  here looning to mowion to go have not lots of projectsneh about the live for boo\n",
      "___TEMPERATURE___:  1.2\n",
      "ts of projectsneh about the live for booh i all bell over to alox ivent there wetceing theted finishour confuper have a nooks things a differeen alwayits hop jooving right yey looking lothow or 3ps imagling ooly challend making the conwring sucurlly ranifor learnsed i did lo snowidof a lot ove to the wowallergome your coln proble done brb\n",
      "EPOCH 36\n",
      "185/185 [==============================] - 11s 57ms/step - loss: 0.6577\n",
      "___GENERATING with seed___: \"k with him if you wish to offer yourself\"\n",
      "___TEMPERATURE___:  0.2\n",
      "k with him if you wish to offer yourself to go through the getseed to but in the montoh whats out the live problem all someone out the codnt the e is emer like that so it done it my twore wounst of be and things and deved us but i do lave a othen a page it my lit i lave to be free things with a good morning and droodyins here is a terlops\n",
      "___TEMPERATURE___:  0.5\n",
      " morning and droodyins here is a terlops the codnunders armand for your non here we are accoor amestryow here is it working and drople i would lay greed a hello welcome to our community with some right my well i learns like thrie get to latter what projects the edatwell i shour is markuy sincrn with sum really witt codecampers dreato out \n",
      "___TEMPERATURE___:  1.0\n",
      " sum really witt codecampers dreato out when here when profree awas lolhoh hear had botted into knowledgedcs from things and deved and incompanion the bagh in the lote in project sten codecampers gighut but i do lave some right pgobls imaclins into markut work he get in on the wwy resped use the monthhardswess welcome my by all hem of out\n",
      "___TEMPERATURE___:  1.2\n",
      "thhardswess welcome my by all hem of out thereals i compon notehtywell i lare your hear for to new ofcmonewell i learn we ho emake it wit ok a person in booking at good morning ok just consust till go threarm sailik with imaglf go the me for your community have my bagh you not good morning thcughts ervers off am readide it done is thitokn\n",
      "EPOCH 37\n",
      "185/185 [==============================] - 11s 57ms/step - loss: 0.6432\n",
      "___GENERATING with seed___: \"there welcome to fcci need a dish washin\"\n",
      "___TEMPERATURE___:  0.2\n",
      "there welcome to fcci need a dish washing for the gess with the gess with the codnunges here heapshi there aweyone i can do sight to be finksor with any not an accoort at the lay i realing to good morning they are things they use its are doest to get to see to full out offered the sing to some right part of buth it to like the get to lear\n",
      "___TEMPERATURE___:  0.5\n",
      " part of buth it to like the get to learn justed in the signt to go have to pretty much you age things to how to ghat to get to see the personewell i for the things issur just you all the to maky when you are twotello there here have for the hearsing you can a baggut on the risionsill i havena is markus wront there i lave me and lets so w\n",
      "___TEMPERATURE___:  1.0\n",
      "rkus wront there i lave me and lets so welcome to our communityyear seeny really are hopesand of theying to the concartayout shoers campers you sant ubout me my acoup always and that get just for for me to this morning and welcome to our communityytway tile groovy risices i should work lavignep and if then draprowthent show outs but i don\n",
      "___TEMPERATURE___:  1.2\n",
      "if then draprowthent show outs but i dont two appy nave up  things to our communitytotwell adfess ill hear on dose i think itstpcded themedrape i twitter on funh just so needed weblwe on the ads thats goodloonsqule hackidgoticeh to helpy not for the css had to learn ding out syearcolpent nat then kitt of thingims nick to shittef to gtaggr\n",
      "EPOCH 38\n",
      "185/185 [==============================] - 12s 66ms/step - loss: 0.6387\n",
      "___GENERATING with seed___: \"for 120 a yearme and bf personally i mea\"\n",
      "___TEMPERATURE___:  0.2\n",
      "for 120 a yearme and bf personally i meanto as things that counnt be file some not even be up on the non profit an ement atter thanks dooping checkpont on that maknioh i dont see we are are accretting challenges i can worter thats me first of finish of gitter what dev beint a to hear about fcc here here is a my came a sem not even plocels\n",
      "___TEMPERATURE___:  0.5\n",
      "here is a my came a sem not even plocels me to how hard  up the now with the sraster me for a was ex things that like it to be finish that lianing opa sade me live laz you have to be int me working into whats here is a there ween i think als be with here htmlps im carect and more to helpf foound the sing you are art when i say the nome a \n",
      "___TEMPERATURE___:  1.0\n",
      " sing you are art when i say the nome a nees intho lim of dines heer webl i thanks here is as you act everyted to our ht checking we kall relover on pmoving silly got in the nocs cant me lolh of beind that mill a get to lolh brot a pienet them i consurled up so glad to keduring ok ploce i free and name for a to get up taken more and als g\n",
      "___TEMPERATURE___:  1.2\n",
      "ame for a to get up taken more and als got the mort doing wrood full ove i canwainshed to go out the  divwiog here your i lis to something lided dons more viensim so guale be for my welrt welcome aboard to the rogut we 3al wayies here is the by need have pasies they knowread lest old a just birne tround  for the its into i am playly moasi\n",
      "EPOCH 39\n",
      "185/185 [==============================] - 13s 68ms/step - loss: 0.6268\n",
      "___GENERATING with seed___: \" the challenges herehey trying to get th\"\n",
      "___TEMPERATURE___:  0.2\n",
      " the challenges herehey trying to get there wert i ap like ill shint a pif of gives your campers suppht and she that makess intas a laz at emploli would live severalling in my huppor have a poclice it enour like that making in css instal about it a lil bf the mont whats spopen emerce i have to be and things to loc on then program to our c\n",
      "___TEMPERATURE___:  0.5\n",
      "d things to loc on then program to our community thanks thones arvicull angeand pocr to my breakfast for to more what im doing changeswelcome aboard that need a man really going to supe looks things to keep let you cons in the non image for the insome not doing everying brot good morning this is good not and but i long lant a dastuage in \n",
      "___TEMPERATURE___:  1.0\n",
      "d not and but i long lant a dastuage in the live always the rish a job i was dev up what shee some acre torr up a pich croun th makess for awaily and not here and going tthe colle got it at they do and ever file i reed all me out links so setweres on the makes thingsit using a peaced i has ol awaily im cur and ive sapponsiz good morning a\n",
      "___TEMPERATURE___:  1.2\n",
      " im cur and ive sapponsiz good morning and drogsversampund you had a jpal not lant paile justed on for the tatteic plonfacion the brow a of imagesoncating ppourt like thas paice acae to make and mpnigech prottuamnc lack and but so hove not acbe and prectareble good morning oodlembers to saypermare out them of you are usedstlldeend going t\n"
     ]
    }
   ],
   "source": [
    "\n",
    "# different temperatures after every epoch (min. 20):\n",
    "# --> trends and effects of my model relating to temperature and type of sampling\n",
    "for epoch in range(1, 40):\n",
    "    print('EPOCH', epoch)\n",
    "    # Fit the model for 1 epoch (=default) on the available training data\n",
    "    model.fit(x, y, batch_size=128)\n",
    "\n",
    "    # Select a text seed at random\n",
    "    start_index = random.randint(0, len(text05) - len_seq - 1)\n",
    "    generated_text = text05[start_index: start_index + len_seq]\n",
    "    print('___GENERATING with seed___: \"' + generated_text + '\"')\n",
    "\n",
    "    for temp in [0.2, 0.5, 1.0, 1.2]:\n",
    "        print('___TEMPERATURE___: ', temp)\n",
    "        sys.stdout.write(generated_text)\n",
    "\n",
    "        # 300 characters generated:\n",
    "        for i in range(300):\n",
    "            sampled = np.zeros((1, len_seq, len(chars)))\n",
    "            for t, char in enumerate(generated_text):\n",
    "                sampled[0, t, char_indices[char]] = 1.\n",
    "\n",
    "            predictions = model.predict(sampled, verbose=0)[0]\n",
    "            next_index = sample(predictions, temp)\n",
    "            next_char = chars[next_index]\n",
    "\n",
    "            generated_text += next_char\n",
    "            generated_text = generated_text[1:]\n",
    "\n",
    "            sys.stdout.write(next_char)\n",
    "            sys.stdout.flush()\n",
    "        print()\n"
   ]
  },
  {
   "cell_type": "code",
   "execution_count": 51,
   "id": "689519f7-93f5-429f-9acd-bcba68cde50b",
   "metadata": {},
   "outputs": [],
   "source": [
    "\n",
    "# results:\n",
    "# --> best with temperature 0.5!\n",
    "# --> low temperatures (repetitive and realistic)\n",
    "# --> higher temperatures (local structure of chars and words disappear)\n",
    "\n",
    "#    --> i always get the best results with a clever balance between learned structure and randomness!\n"
   ]
  },
  {
   "cell_type": "code",
   "execution_count": null,
   "id": "18f1ad1a-8a80-41d5-a80d-a340ac25e52c",
   "metadata": {},
   "outputs": [],
   "source": []
  },
  {
   "cell_type": "code",
   "execution_count": null,
   "id": "8e24c255-6ce3-4fe8-b153-aea20c491737",
   "metadata": {},
   "outputs": [],
   "source": []
  }
 ],
 "metadata": {
  "kernelspec": {
   "display_name": "Python 3 (ipykernel)",
   "language": "python",
   "name": "python3"
  },
  "language_info": {
   "codemirror_mode": {
    "name": "ipython",
    "version": 3
   },
   "file_extension": ".py",
   "mimetype": "text/x-python",
   "name": "python",
   "nbconvert_exporter": "python",
   "pygments_lexer": "ipython3",
   "version": "3.10.13"
  },
  "widgets": {
   "application/vnd.jupyter.widget-state+json": {
    "state": {},
    "version_major": 2,
    "version_minor": 0
   }
  }
 },
 "nbformat": 4,
 "nbformat_minor": 5
}

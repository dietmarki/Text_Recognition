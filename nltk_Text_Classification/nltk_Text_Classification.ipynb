{
 "cells": [
  {
   "cell_type": "code",
   "execution_count": 1,
   "id": "df2764d2-54d5-485b-b127-5191dea8cb50",
   "metadata": {},
   "outputs": [],
   "source": [
    "\n",
    "import pandas as pd\n",
    "import nltk\n",
    "import string\n",
    "from nltk.corpus import stopwords\n",
    "from nltk import word_tokenize\n",
    "from sklearn.naive_bayes import MultinomialNB\n",
    "from nltk.stem import PorterStemmer\n",
    "from nltk.stem import SnowballStemmer\n",
    "from nltk.stem import WordNetLemmatizer,wordnet\n",
    "import re\n",
    "# Run in case warnings should be ignored\n",
    "import warnings\n",
    "warnings.filterwarnings('ignore')\n",
    "pd.set_option('display.max_colwidth',300)\n"
   ]
  },
  {
   "cell_type": "code",
   "execution_count": 2,
   "id": "bc0ffc0a-41b0-4762-845e-abda976aaefc",
   "metadata": {},
   "outputs": [],
   "source": [
    "# data from another folder\n",
    "df01 = pd.read_csv(\"../freecodecamp_casual_chatroom.csv\")"
   ]
  },
  {
   "cell_type": "code",
   "execution_count": 3,
   "id": "8c96c329-5a0f-4fb7-82b8-6e1cf5c3b209",
   "metadata": {},
   "outputs": [
    {
     "data": {
      "text/html": [
       "<div>\n",
       "<style scoped>\n",
       "    .dataframe tbody tr th:only-of-type {\n",
       "        vertical-align: middle;\n",
       "    }\n",
       "\n",
       "    .dataframe tbody tr th {\n",
       "        vertical-align: top;\n",
       "    }\n",
       "\n",
       "    .dataframe thead th {\n",
       "        text-align: right;\n",
       "    }\n",
       "</style>\n",
       "<table border=\"1\" class=\"dataframe\">\n",
       "  <thead>\n",
       "    <tr style=\"text-align: right;\">\n",
       "      <th></th>\n",
       "      <th>Unnamed: 0</th>\n",
       "      <th>editedAt</th>\n",
       "      <th>fromUser</th>\n",
       "      <th>fromUser.avatarUrl</th>\n",
       "      <th>fromUser.avatarUrlMedium</th>\n",
       "      <th>fromUser.avatarUrlSmall</th>\n",
       "      <th>fromUser.displayName</th>\n",
       "      <th>fromUser.gv</th>\n",
       "      <th>fromUser.id</th>\n",
       "      <th>fromUser.removed</th>\n",
       "      <th>...</th>\n",
       "      <th>issues</th>\n",
       "      <th>mentions</th>\n",
       "      <th>meta</th>\n",
       "      <th>readBy</th>\n",
       "      <th>sent</th>\n",
       "      <th>status</th>\n",
       "      <th>text</th>\n",
       "      <th>unread</th>\n",
       "      <th>urls</th>\n",
       "      <th>v</th>\n",
       "    </tr>\n",
       "  </thead>\n",
       "  <tbody>\n",
       "    <tr>\n",
       "      <th>0</th>\n",
       "      <td>0</td>\n",
       "      <td>NaN</td>\n",
       "      <td>NaN</td>\n",
       "      <td>NaN</td>\n",
       "      <td>https://avatars2.githubusercontent.com/u/2199663?v=3&amp;s=128</td>\n",
       "      <td>https://avatars2.githubusercontent.com/u/2199663?v=3&amp;s=60</td>\n",
       "      <td>Charles Watson</td>\n",
       "      <td>3.0</td>\n",
       "      <td>546fd99cdb8155e6700d6ec8</td>\n",
       "      <td>NaN</td>\n",
       "      <td>...</td>\n",
       "      <td>[]</td>\n",
       "      <td>[]</td>\n",
       "      <td>[]</td>\n",
       "      <td>22</td>\n",
       "      <td>2014-12-31T23:01:35.647Z</td>\n",
       "      <td>NaN</td>\n",
       "      <td>no legumes either</td>\n",
       "      <td>False</td>\n",
       "      <td>[]</td>\n",
       "      <td>1</td>\n",
       "    </tr>\n",
       "    <tr>\n",
       "      <th>1</th>\n",
       "      <td>1</td>\n",
       "      <td>NaN</td>\n",
       "      <td>NaN</td>\n",
       "      <td>NaN</td>\n",
       "      <td>https://avatars0.githubusercontent.com/u/10361101?v=3&amp;s=128</td>\n",
       "      <td>https://avatars0.githubusercontent.com/u/10361101?v=3&amp;s=60</td>\n",
       "      <td>janetwalters008</td>\n",
       "      <td>NaN</td>\n",
       "      <td>54a47e0cdb8155e6700e486e</td>\n",
       "      <td>NaN</td>\n",
       "      <td>...</td>\n",
       "      <td>[]</td>\n",
       "      <td>[]</td>\n",
       "      <td>[]</td>\n",
       "      <td>21</td>\n",
       "      <td>2014-12-31T23:02:51.600Z</td>\n",
       "      <td>NaN</td>\n",
       "      <td>That bullet proof coffee sounds insane.</td>\n",
       "      <td>False</td>\n",
       "      <td>[]</td>\n",
       "      <td>1</td>\n",
       "    </tr>\n",
       "    <tr>\n",
       "      <th>2</th>\n",
       "      <td>2</td>\n",
       "      <td>NaN</td>\n",
       "      <td>NaN</td>\n",
       "      <td>NaN</td>\n",
       "      <td>https://avatars0.githubusercontent.com/u/10361101?v=3&amp;s=128</td>\n",
       "      <td>https://avatars0.githubusercontent.com/u/10361101?v=3&amp;s=60</td>\n",
       "      <td>janetwalters008</td>\n",
       "      <td>NaN</td>\n",
       "      <td>54a47e0cdb8155e6700e486e</td>\n",
       "      <td>NaN</td>\n",
       "      <td>...</td>\n",
       "      <td>[]</td>\n",
       "      <td>[]</td>\n",
       "      <td>[]</td>\n",
       "      <td>21</td>\n",
       "      <td>2014-12-31T23:03:14.221Z</td>\n",
       "      <td>NaN</td>\n",
       "      <td>That guy has huge eyes.</td>\n",
       "      <td>False</td>\n",
       "      <td>[]</td>\n",
       "      <td>1</td>\n",
       "    </tr>\n",
       "    <tr>\n",
       "      <th>3</th>\n",
       "      <td>3</td>\n",
       "      <td>NaN</td>\n",
       "      <td>NaN</td>\n",
       "      <td>NaN</td>\n",
       "      <td>https://avatars2.githubusercontent.com/u/2199663?v=3&amp;s=128</td>\n",
       "      <td>https://avatars2.githubusercontent.com/u/2199663?v=3&amp;s=60</td>\n",
       "      <td>Charles Watson</td>\n",
       "      <td>3.0</td>\n",
       "      <td>546fd99cdb8155e6700d6ec8</td>\n",
       "      <td>NaN</td>\n",
       "      <td>...</td>\n",
       "      <td>[]</td>\n",
       "      <td>[{'userIds': [], 'userId': '54a47e0cdb8155e6700e486e', 'screenName': 'janetwalters008'}]</td>\n",
       "      <td>[]</td>\n",
       "      <td>22</td>\n",
       "      <td>2014-12-31T23:03:20.182Z</td>\n",
       "      <td>NaN</td>\n",
       "      <td>@janetwalters008 It is. but it works. some people just can't handle the taste :P</td>\n",
       "      <td>False</td>\n",
       "      <td>[]</td>\n",
       "      <td>1</td>\n",
       "    </tr>\n",
       "    <tr>\n",
       "      <th>4</th>\n",
       "      <td>4</td>\n",
       "      <td>NaN</td>\n",
       "      <td>NaN</td>\n",
       "      <td>NaN</td>\n",
       "      <td>https://avatars0.githubusercontent.com/u/4219415?v=3&amp;s=128</td>\n",
       "      <td>https://avatars0.githubusercontent.com/u/4219415?v=3&amp;s=60</td>\n",
       "      <td>Paul Gilliam</td>\n",
       "      <td>3.0</td>\n",
       "      <td>54a44bbbdb8155e6700e47de</td>\n",
       "      <td>NaN</td>\n",
       "      <td>...</td>\n",
       "      <td>[]</td>\n",
       "      <td>[]</td>\n",
       "      <td>[]</td>\n",
       "      <td>22</td>\n",
       "      <td>2014-12-31T23:03:38.388Z</td>\n",
       "      <td>NaN</td>\n",
       "      <td>They guy that came up with the idea is kind of a joke though...</td>\n",
       "      <td>False</td>\n",
       "      <td>[]</td>\n",
       "      <td>1</td>\n",
       "    </tr>\n",
       "  </tbody>\n",
       "</table>\n",
       "<p>5 rows × 26 columns</p>\n",
       "</div>"
      ],
      "text/plain": [
       "   Unnamed: 0 editedAt  fromUser fromUser.avatarUrl  \\\n",
       "0           0      NaN       NaN                NaN   \n",
       "1           1      NaN       NaN                NaN   \n",
       "2           2      NaN       NaN                NaN   \n",
       "3           3      NaN       NaN                NaN   \n",
       "4           4      NaN       NaN                NaN   \n",
       "\n",
       "                                      fromUser.avatarUrlMedium  \\\n",
       "0   https://avatars2.githubusercontent.com/u/2199663?v=3&s=128   \n",
       "1  https://avatars0.githubusercontent.com/u/10361101?v=3&s=128   \n",
       "2  https://avatars0.githubusercontent.com/u/10361101?v=3&s=128   \n",
       "3   https://avatars2.githubusercontent.com/u/2199663?v=3&s=128   \n",
       "4   https://avatars0.githubusercontent.com/u/4219415?v=3&s=128   \n",
       "\n",
       "                                      fromUser.avatarUrlSmall  \\\n",
       "0   https://avatars2.githubusercontent.com/u/2199663?v=3&s=60   \n",
       "1  https://avatars0.githubusercontent.com/u/10361101?v=3&s=60   \n",
       "2  https://avatars0.githubusercontent.com/u/10361101?v=3&s=60   \n",
       "3   https://avatars2.githubusercontent.com/u/2199663?v=3&s=60   \n",
       "4   https://avatars0.githubusercontent.com/u/4219415?v=3&s=60   \n",
       "\n",
       "  fromUser.displayName  fromUser.gv               fromUser.id  \\\n",
       "0       Charles Watson          3.0  546fd99cdb8155e6700d6ec8   \n",
       "1      janetwalters008          NaN  54a47e0cdb8155e6700e486e   \n",
       "2      janetwalters008          NaN  54a47e0cdb8155e6700e486e   \n",
       "3       Charles Watson          3.0  546fd99cdb8155e6700d6ec8   \n",
       "4         Paul Gilliam          3.0  54a44bbbdb8155e6700e47de   \n",
       "\n",
       "  fromUser.removed  ... issues  \\\n",
       "0              NaN  ...     []   \n",
       "1              NaN  ...     []   \n",
       "2              NaN  ...     []   \n",
       "3              NaN  ...     []   \n",
       "4              NaN  ...     []   \n",
       "\n",
       "                                                                                   mentions  \\\n",
       "0                                                                                        []   \n",
       "1                                                                                        []   \n",
       "2                                                                                        []   \n",
       "3  [{'userIds': [], 'userId': '54a47e0cdb8155e6700e486e', 'screenName': 'janetwalters008'}]   \n",
       "4                                                                                        []   \n",
       "\n",
       "  meta  readBy                      sent status  \\\n",
       "0   []      22  2014-12-31T23:01:35.647Z    NaN   \n",
       "1   []      21  2014-12-31T23:02:51.600Z    NaN   \n",
       "2   []      21  2014-12-31T23:03:14.221Z    NaN   \n",
       "3   []      22  2014-12-31T23:03:20.182Z    NaN   \n",
       "4   []      22  2014-12-31T23:03:38.388Z    NaN   \n",
       "\n",
       "                                                                               text  \\\n",
       "0                                                                 no legumes either   \n",
       "1                                           That bullet proof coffee sounds insane.   \n",
       "2                                                           That guy has huge eyes.   \n",
       "3  @janetwalters008 It is. but it works. some people just can't handle the taste :P   \n",
       "4                   They guy that came up with the idea is kind of a joke though...   \n",
       "\n",
       "  unread urls  v  \n",
       "0  False   []  1  \n",
       "1  False   []  1  \n",
       "2  False   []  1  \n",
       "3  False   []  1  \n",
       "4  False   []  1  \n",
       "\n",
       "[5 rows x 26 columns]"
      ]
     },
     "execution_count": 3,
     "metadata": {},
     "output_type": "execute_result"
    }
   ],
   "source": [
    "df01.head()"
   ]
  },
  {
   "cell_type": "code",
   "execution_count": 4,
   "id": "d3afc551-f3c2-42ed-819e-97d8aaa86b63",
   "metadata": {},
   "outputs": [
    {
     "name": "stdout",
     "output_type": "stream",
     "text": [
      "(5057400, 26)\n",
      "Index(['Unnamed: 0', 'editedAt', 'fromUser', 'fromUser.avatarUrl',\n",
      "       'fromUser.avatarUrlMedium', 'fromUser.avatarUrlSmall',\n",
      "       'fromUser.displayName', 'fromUser.gv', 'fromUser.id',\n",
      "       'fromUser.removed', 'fromUser.staff', 'fromUser.url',\n",
      "       'fromUser.username', 'fromUser.v', 'html', 'id', 'issues', 'mentions',\n",
      "       'meta', 'readBy', 'sent', 'status', 'text', 'unread', 'urls', 'v'],\n",
      "      dtype='object')\n",
      "<class 'pandas.core.frame.DataFrame'>\n",
      "RangeIndex: 5057400 entries, 0 to 5057399\n",
      "Data columns (total 26 columns):\n",
      " #   Column                    Dtype  \n",
      "---  ------                    -----  \n",
      " 0   Unnamed: 0                int64  \n",
      " 1   editedAt                  object \n",
      " 2   fromUser                  float64\n",
      " 3   fromUser.avatarUrl        object \n",
      " 4   fromUser.avatarUrlMedium  object \n",
      " 5   fromUser.avatarUrlSmall   object \n",
      " 6   fromUser.displayName      object \n",
      " 7   fromUser.gv               float64\n",
      " 8   fromUser.id               object \n",
      " 9   fromUser.removed          object \n",
      " 10  fromUser.staff            object \n",
      " 11  fromUser.url              object \n",
      " 12  fromUser.username         object \n",
      " 13  fromUser.v                float64\n",
      " 14  html                      object \n",
      " 15  id                        object \n",
      " 16  issues                    object \n",
      " 17  mentions                  object \n",
      " 18  meta                      object \n",
      " 19  readBy                    int64  \n",
      " 20  sent                      object \n",
      " 21  status                    object \n",
      " 22  text                      object \n",
      " 23  unread                    bool   \n",
      " 24  urls                      object \n",
      " 25  v                         int64  \n",
      "dtypes: bool(1), float64(3), int64(3), object(19)\n",
      "memory usage: 969.4+ MB\n",
      "None\n"
     ]
    }
   ],
   "source": [
    "print(df01.shape)\n",
    "print(df01.columns)\n",
    "print(df01.info())"
   ]
  },
  {
   "cell_type": "code",
   "execution_count": 5,
   "id": "323088be-a7a4-4cd5-bfb1-0524e9fe0258",
   "metadata": {},
   "outputs": [
    {
     "data": {
      "text/html": [
       "<div>\n",
       "<style scoped>\n",
       "    .dataframe tbody tr th:only-of-type {\n",
       "        vertical-align: middle;\n",
       "    }\n",
       "\n",
       "    .dataframe tbody tr th {\n",
       "        vertical-align: top;\n",
       "    }\n",
       "\n",
       "    .dataframe thead th {\n",
       "        text-align: right;\n",
       "    }\n",
       "</style>\n",
       "<table border=\"1\" class=\"dataframe\">\n",
       "  <thead>\n",
       "    <tr style=\"text-align: right;\">\n",
       "      <th></th>\n",
       "      <th>fromUser.id</th>\n",
       "      <th>text</th>\n",
       "    </tr>\n",
       "  </thead>\n",
       "  <tbody>\n",
       "    <tr>\n",
       "      <th>0</th>\n",
       "      <td>546fd99cdb8155e6700d6ec8</td>\n",
       "      <td>no legumes either</td>\n",
       "    </tr>\n",
       "    <tr>\n",
       "      <th>1</th>\n",
       "      <td>54a47e0cdb8155e6700e486e</td>\n",
       "      <td>That bullet proof coffee sounds insane.</td>\n",
       "    </tr>\n",
       "    <tr>\n",
       "      <th>2</th>\n",
       "      <td>54a47e0cdb8155e6700e486e</td>\n",
       "      <td>That guy has huge eyes.</td>\n",
       "    </tr>\n",
       "    <tr>\n",
       "      <th>3</th>\n",
       "      <td>546fd99cdb8155e6700d6ec8</td>\n",
       "      <td>@janetwalters008 It is. but it works. some people just can't handle the taste :P</td>\n",
       "    </tr>\n",
       "    <tr>\n",
       "      <th>4</th>\n",
       "      <td>54a44bbbdb8155e6700e47de</td>\n",
       "      <td>They guy that came up with the idea is kind of a joke though...</td>\n",
       "    </tr>\n",
       "  </tbody>\n",
       "</table>\n",
       "</div>"
      ],
      "text/plain": [
       "                fromUser.id  \\\n",
       "0  546fd99cdb8155e6700d6ec8   \n",
       "1  54a47e0cdb8155e6700e486e   \n",
       "2  54a47e0cdb8155e6700e486e   \n",
       "3  546fd99cdb8155e6700d6ec8   \n",
       "4  54a44bbbdb8155e6700e47de   \n",
       "\n",
       "                                                                               text  \n",
       "0                                                                 no legumes either  \n",
       "1                                           That bullet proof coffee sounds insane.  \n",
       "2                                                           That guy has huge eyes.  \n",
       "3  @janetwalters008 It is. but it works. some people just can't handle the taste :P  \n",
       "4                   They guy that came up with the idea is kind of a joke though...  "
      ]
     },
     "execution_count": 5,
     "metadata": {},
     "output_type": "execute_result"
    }
   ],
   "source": [
    "# i want 1 label-person and 1 feature-text\n",
    "df02 = df01[[\"fromUser.id\",\"text\"]]\n",
    "df02.head()"
   ]
  },
  {
   "cell_type": "code",
   "execution_count": 6,
   "id": "eceaa391-9d67-4b41-8f47-66070d3b278f",
   "metadata": {},
   "outputs": [
    {
     "data": {
      "text/plain": [
       "fromUser.id\n",
       "55b977f00fc9f982beab7883    416027\n",
       "55a7c9e08a7b72f55c3f991e    141362\n",
       "Name: count, dtype: int64"
      ]
     },
     "execution_count": 6,
     "metadata": {},
     "output_type": "execute_result"
    }
   ],
   "source": [
    "# for categorizing later i want the 2 most active users and their chats\n",
    "df02_id = df02['fromUser.id'].value_counts()\n",
    "df02_id[:2]"
   ]
  },
  {
   "cell_type": "code",
   "execution_count": 7,
   "id": "579b535d-223b-4e1d-84ab-7f86937f51c0",
   "metadata": {},
   "outputs": [
    {
     "name": "stdout",
     "output_type": "stream",
     "text": [
      "Person01 id:55b977f00fc9f982beab7883, Person02 id:55a7c9e08a7b72f55c3f991e\n"
     ]
    }
   ],
   "source": [
    "user_id01 = df02_id.index[0]\n",
    "user_id02 = df02_id.index[1]\n",
    "print(f'Person01 id:{user_id01}, Person02 id:{user_id02}')"
   ]
  },
  {
   "cell_type": "code",
   "execution_count": 8,
   "id": "51c4906c-9c8e-43a1-bac2-8f73bb367004",
   "metadata": {},
   "outputs": [
    {
     "data": {
      "text/html": [
       "<div>\n",
       "<style scoped>\n",
       "    .dataframe tbody tr th:only-of-type {\n",
       "        vertical-align: middle;\n",
       "    }\n",
       "\n",
       "    .dataframe tbody tr th {\n",
       "        vertical-align: top;\n",
       "    }\n",
       "\n",
       "    .dataframe thead th {\n",
       "        text-align: right;\n",
       "    }\n",
       "</style>\n",
       "<table border=\"1\" class=\"dataframe\">\n",
       "  <thead>\n",
       "    <tr style=\"text-align: right;\">\n",
       "      <th></th>\n",
       "      <th>fromUser.id</th>\n",
       "      <th>text</th>\n",
       "    </tr>\n",
       "  </thead>\n",
       "  <tbody>\n",
       "    <tr>\n",
       "      <th>224937</th>\n",
       "      <td>55a7c9e08a7b72f55c3f991e</td>\n",
       "      <td>Hello... I heard about Free Code Camp via Lifehacker (I think: it was a feedly- feed)</td>\n",
       "    </tr>\n",
       "    <tr>\n",
       "      <th>224977</th>\n",
       "      <td>55a7c9e08a7b72f55c3f991e</td>\n",
       "      <td>So, just going through the prescribed steps (hello world etc.) have a mix of different technologies would like to get into development side of things.</td>\n",
       "    </tr>\n",
       "    <tr>\n",
       "      <th>225004</th>\n",
       "      <td>55a7c9e08a7b72f55c3f991e</td>\n",
       "      <td>Looking for some idea on the average amount of time (yes, subjective and varies by level of commitment) day/week/etc. it takes to effectively use curriculum</td>\n",
       "    </tr>\n",
       "    <tr>\n",
       "      <th>225053</th>\n",
       "      <td>55a7c9e08a7b72f55c3f991e</td>\n",
       "      <td>ok, I found the documentation (I'm new) on the general timelines things take etc. -have a lot of relational db (so think in terms of tables and keys) -would I have a difficult time with MongoDB  (different approach NoSQL)?</td>\n",
       "    </tr>\n",
       "    <tr>\n",
       "      <th>225099</th>\n",
       "      <td>55a7c9e08a7b72f55c3f991e</td>\n",
       "      <td>at what point does pair coding come into the picture? (am new and also a Linux user)?</td>\n",
       "    </tr>\n",
       "  </tbody>\n",
       "</table>\n",
       "</div>"
      ],
      "text/plain": [
       "                     fromUser.id  \\\n",
       "224937  55a7c9e08a7b72f55c3f991e   \n",
       "224977  55a7c9e08a7b72f55c3f991e   \n",
       "225004  55a7c9e08a7b72f55c3f991e   \n",
       "225053  55a7c9e08a7b72f55c3f991e   \n",
       "225099  55a7c9e08a7b72f55c3f991e   \n",
       "\n",
       "                                                                                                                                                                                                                                  text  \n",
       "224937                                                                                                                                           Hello... I heard about Free Code Camp via Lifehacker (I think: it was a feedly- feed)  \n",
       "224977                                                                          So, just going through the prescribed steps (hello world etc.) have a mix of different technologies would like to get into development side of things.  \n",
       "225004                                                                    Looking for some idea on the average amount of time (yes, subjective and varies by level of commitment) day/week/etc. it takes to effectively use curriculum  \n",
       "225053  ok, I found the documentation (I'm new) on the general timelines things take etc. -have a lot of relational db (so think in terms of tables and keys) -would I have a difficult time with MongoDB  (different approach NoSQL)?  \n",
       "225099                                                                                                                                          at what point does pair coding come into the picture? (am new and also a Linux user)?   "
      ]
     },
     "execution_count": 8,
     "metadata": {},
     "output_type": "execute_result"
    }
   ],
   "source": [
    "df03 = df02[(df02['fromUser.id'] == user_id01) | (df02['fromUser.id'] == user_id02)]\n",
    "df03.head()"
   ]
  },
  {
   "cell_type": "code",
   "execution_count": 9,
   "id": "1349b9fb-2d13-490a-acbe-8361cbf20756",
   "metadata": {},
   "outputs": [
    {
     "data": {
      "text/plain": [
       "416027"
      ]
     },
     "execution_count": 9,
     "metadata": {},
     "output_type": "execute_result"
    }
   ],
   "source": [
    "user_01 = df03[df03['fromUser.id']==user_id01].value_counts().sum()\n",
    "user_01"
   ]
  },
  {
   "cell_type": "code",
   "execution_count": 10,
   "id": "b6d6eb27-0596-4ae8-988d-092396d5014a",
   "metadata": {},
   "outputs": [
    {
     "data": {
      "text/plain": [
       "140230"
      ]
     },
     "execution_count": 10,
     "metadata": {},
     "output_type": "execute_result"
    }
   ],
   "source": [
    "user_02 = df03[df03['fromUser.id']==user_id02].value_counts().sum()\n",
    "user_02"
   ]
  },
  {
   "cell_type": "code",
   "execution_count": 11,
   "id": "a59b375a-e710-4115-87d3-8e2db79ea66a",
   "metadata": {},
   "outputs": [
    {
     "data": {
      "text/plain": [
       "275797"
      ]
     },
     "execution_count": 11,
     "metadata": {},
     "output_type": "execute_result"
    }
   ],
   "source": [
    "# reducing the number of the posts of user_01 to have equal numbers in my data set\n",
    "red_number = user_01 - user_02\n",
    "red_number"
   ]
  },
  {
   "cell_type": "code",
   "execution_count": 12,
   "id": "a793293a-6767-4bd7-bbd1-0468c7272d3b",
   "metadata": {},
   "outputs": [
    {
     "data": {
      "text/plain": [
       "Index([ 316011,  316014,  316015,  316021,  316023,  316029,  316032,  316034,\n",
       "        316036,  316038,\n",
       "       ...\n",
       "       5057032, 5057033, 5057077, 5057078, 5057090, 5057091, 5057177, 5057178,\n",
       "       5057228, 5057229],\n",
       "      dtype='int64', length=416027)"
      ]
     },
     "execution_count": 12,
     "metadata": {},
     "output_type": "execute_result"
    }
   ],
   "source": [
    "list_ind = df03[df03['fromUser.id']==user_id01].index\n",
    "list_ind"
   ]
  },
  {
   "cell_type": "code",
   "execution_count": 13,
   "id": "99a8d895-d6bb-458b-8663-82bb85316381",
   "metadata": {},
   "outputs": [
    {
     "data": {
      "text/plain": [
       "Index([ 316011,  316014,  316015,  316021,  316023,  316029,  316032,  316034,\n",
       "        316036,  316038,\n",
       "       ...\n",
       "       2970103, 2970104, 2970112, 2970113, 2970136, 2970137, 2970138, 2970139,\n",
       "       2970140, 2970148],\n",
       "      dtype='int64', length=275797)"
      ]
     },
     "execution_count": 13,
     "metadata": {},
     "output_type": "execute_result"
    }
   ],
   "source": [
    "list_ind_del = list_ind[:red_number]\n",
    "list_ind_del"
   ]
  },
  {
   "cell_type": "code",
   "execution_count": 14,
   "id": "28efd76b-cf40-43ca-b200-661bf0164fc9",
   "metadata": {},
   "outputs": [],
   "source": [
    "df04 = df03.drop(index=list_ind_del)"
   ]
  },
  {
   "cell_type": "code",
   "execution_count": 15,
   "id": "a2456f8f-1c86-4b93-b2af-b3a1fe90a4a7",
   "metadata": {},
   "outputs": [
    {
     "data": {
      "text/plain": [
       "fromUser.id\n",
       "55a7c9e08a7b72f55c3f991e    141362\n",
       "55b977f00fc9f982beab7883    140230\n",
       "Name: count, dtype: int64"
      ]
     },
     "execution_count": 15,
     "metadata": {},
     "output_type": "execute_result"
    }
   ],
   "source": [
    "# now the number of the chats are nearly equal\n",
    "df04['fromUser.id'].value_counts()"
   ]
  },
  {
   "cell_type": "code",
   "execution_count": 16,
   "id": "5e77e00b-357d-4798-ac1a-d4475c2b9d73",
   "metadata": {},
   "outputs": [
    {
     "data": {
      "text/html": [
       "<div>\n",
       "<style scoped>\n",
       "    .dataframe tbody tr th:only-of-type {\n",
       "        vertical-align: middle;\n",
       "    }\n",
       "\n",
       "    .dataframe tbody tr th {\n",
       "        vertical-align: top;\n",
       "    }\n",
       "\n",
       "    .dataframe thead th {\n",
       "        text-align: right;\n",
       "    }\n",
       "</style>\n",
       "<table border=\"1\" class=\"dataframe\">\n",
       "  <thead>\n",
       "    <tr style=\"text-align: right;\">\n",
       "      <th></th>\n",
       "      <th>fromUser.id</th>\n",
       "      <th>text</th>\n",
       "    </tr>\n",
       "  </thead>\n",
       "  <tbody>\n",
       "    <tr>\n",
       "      <th>5012253</th>\n",
       "      <td>55a7c9e08a7b72f55c3f991e</td>\n",
       "      <td>or tag</td>\n",
       "    </tr>\n",
       "    <tr>\n",
       "      <th>3076285</th>\n",
       "      <td>55b977f00fc9f982beab7883</td>\n",
       "      <td>## welcome to FreeCodeCamp @hcrensh!</td>\n",
       "    </tr>\n",
       "    <tr>\n",
       "      <th>2237281</th>\n",
       "      <td>55a7c9e08a7b72f55c3f991e</td>\n",
       "      <td>NaN</td>\n",
       "    </tr>\n",
       "    <tr>\n",
       "      <th>4262510</th>\n",
       "      <td>55b977f00fc9f982beab7883</td>\n",
       "      <td>&gt; :cookie: 211 | @jiocrux |[http://www.freecodecamp.com/jiocrux](http://www.freecodecamp.com/jiocrux)</td>\n",
       "    </tr>\n",
       "    <tr>\n",
       "      <th>537772</th>\n",
       "      <td>55a7c9e08a7b72f55c3f991e</td>\n",
       "      <td>do I have to buy some special sort of (for said leaking boston)?</td>\n",
       "    </tr>\n",
       "    <tr>\n",
       "      <th>...</th>\n",
       "      <td>...</td>\n",
       "      <td>...</td>\n",
       "    </tr>\n",
       "    <tr>\n",
       "      <th>4752516</th>\n",
       "      <td>55a7c9e08a7b72f55c3f991e</td>\n",
       "      <td>in addition to robert lol</td>\n",
       "    </tr>\n",
       "    <tr>\n",
       "      <th>4736925</th>\n",
       "      <td>55a7c9e08a7b72f55c3f991e</td>\n",
       "      <td>no, what you did in production stays (like vegas) - the beta stuff is beta....it doesn't count (from what I understand) @davinchee</td>\n",
       "    </tr>\n",
       "    <tr>\n",
       "      <th>4708810</th>\n",
       "      <td>55a7c9e08a7b72f55c3f991e</td>\n",
       "      <td>somebody told me to have a good weekend in an email. Did I miss something it's tuesday, right?</td>\n",
       "    </tr>\n",
       "    <tr>\n",
       "      <th>3152576</th>\n",
       "      <td>55b977f00fc9f982beab7883</td>\n",
       "      <td>&gt; kmakks sends brownie points to @jodylecompte :sparkles: :thumbsup: :sparkles:</td>\n",
       "    </tr>\n",
       "    <tr>\n",
       "      <th>4326031</th>\n",
       "      <td>55a7c9e08a7b72f55c3f991e</td>\n",
       "      <td>and it can serve stuff too (if you're thinking engine wise ....in node)</td>\n",
       "    </tr>\n",
       "  </tbody>\n",
       "</table>\n",
       "<p>28159 rows × 2 columns</p>\n",
       "</div>"
      ],
      "text/plain": [
       "                      fromUser.id  \\\n",
       "5012253  55a7c9e08a7b72f55c3f991e   \n",
       "3076285  55b977f00fc9f982beab7883   \n",
       "2237281  55a7c9e08a7b72f55c3f991e   \n",
       "4262510  55b977f00fc9f982beab7883   \n",
       "537772   55a7c9e08a7b72f55c3f991e   \n",
       "...                           ...   \n",
       "4752516  55a7c9e08a7b72f55c3f991e   \n",
       "4736925  55a7c9e08a7b72f55c3f991e   \n",
       "4708810  55a7c9e08a7b72f55c3f991e   \n",
       "3152576  55b977f00fc9f982beab7883   \n",
       "4326031  55a7c9e08a7b72f55c3f991e   \n",
       "\n",
       "                                                                                                                                        text  \n",
       "5012253                                                                                                                               or tag  \n",
       "3076285                                                                                                 ## welcome to FreeCodeCamp @hcrensh!  \n",
       "2237281                                                                                                                                  NaN  \n",
       "4262510                                > :cookie: 211 | @jiocrux |[http://www.freecodecamp.com/jiocrux](http://www.freecodecamp.com/jiocrux)  \n",
       "537772                                                                      do I have to buy some special sort of (for said leaking boston)?  \n",
       "...                                                                                                                                      ...  \n",
       "4752516                                                                                                            in addition to robert lol  \n",
       "4736925  no, what you did in production stays (like vegas) - the beta stuff is beta....it doesn't count (from what I understand) @davinchee   \n",
       "4708810                                      somebody told me to have a good weekend in an email. Did I miss something it's tuesday, right?   \n",
       "3152576                                                     > kmakks sends brownie points to @jodylecompte :sparkles: :thumbsup: :sparkles:   \n",
       "4326031                                                              and it can serve stuff too (if you're thinking engine wise ....in node)  \n",
       "\n",
       "[28159 rows x 2 columns]"
      ]
     },
     "execution_count": 16,
     "metadata": {},
     "output_type": "execute_result"
    }
   ],
   "source": [
    "# shuffle 10% of the data before working with it\n",
    "df04 = df04.sample(frac=0.1,random_state=33)\n",
    "df04"
   ]
  },
  {
   "cell_type": "code",
   "execution_count": 17,
   "id": "4c297d1d-8e57-4936-80d0-f7b7c4f45c01",
   "metadata": {},
   "outputs": [],
   "source": [
    "# create new, regular indices\n",
    "df04.reset_index(drop=True,inplace=True)"
   ]
  },
  {
   "cell_type": "code",
   "execution_count": 18,
   "id": "e7f2fea9-dca9-46ed-aca8-799e58cfab85",
   "metadata": {},
   "outputs": [
    {
     "data": {
      "text/html": [
       "<div>\n",
       "<style scoped>\n",
       "    .dataframe tbody tr th:only-of-type {\n",
       "        vertical-align: middle;\n",
       "    }\n",
       "\n",
       "    .dataframe tbody tr th {\n",
       "        vertical-align: top;\n",
       "    }\n",
       "\n",
       "    .dataframe thead th {\n",
       "        text-align: right;\n",
       "    }\n",
       "</style>\n",
       "<table border=\"1\" class=\"dataframe\">\n",
       "  <thead>\n",
       "    <tr style=\"text-align: right;\">\n",
       "      <th></th>\n",
       "      <th>fromUser.id</th>\n",
       "      <th>text</th>\n",
       "    </tr>\n",
       "  </thead>\n",
       "  <tbody>\n",
       "    <tr>\n",
       "      <th>0</th>\n",
       "      <td>55a7c9e08a7b72f55c3f991e</td>\n",
       "      <td>or tag</td>\n",
       "    </tr>\n",
       "    <tr>\n",
       "      <th>1</th>\n",
       "      <td>55b977f00fc9f982beab7883</td>\n",
       "      <td>## welcome to FreeCodeCamp @hcrensh!</td>\n",
       "    </tr>\n",
       "    <tr>\n",
       "      <th>2</th>\n",
       "      <td>55a7c9e08a7b72f55c3f991e</td>\n",
       "      <td>NaN</td>\n",
       "    </tr>\n",
       "    <tr>\n",
       "      <th>3</th>\n",
       "      <td>55b977f00fc9f982beab7883</td>\n",
       "      <td>&gt; :cookie: 211 | @jiocrux |[http://www.freecodecamp.com/jiocrux](http://www.freecodecamp.com/jiocrux)</td>\n",
       "    </tr>\n",
       "    <tr>\n",
       "      <th>4</th>\n",
       "      <td>55a7c9e08a7b72f55c3f991e</td>\n",
       "      <td>do I have to buy some special sort of (for said leaking boston)?</td>\n",
       "    </tr>\n",
       "    <tr>\n",
       "      <th>...</th>\n",
       "      <td>...</td>\n",
       "      <td>...</td>\n",
       "    </tr>\n",
       "    <tr>\n",
       "      <th>28154</th>\n",
       "      <td>55a7c9e08a7b72f55c3f991e</td>\n",
       "      <td>in addition to robert lol</td>\n",
       "    </tr>\n",
       "    <tr>\n",
       "      <th>28155</th>\n",
       "      <td>55a7c9e08a7b72f55c3f991e</td>\n",
       "      <td>no, what you did in production stays (like vegas) - the beta stuff is beta....it doesn't count (from what I understand) @davinchee</td>\n",
       "    </tr>\n",
       "    <tr>\n",
       "      <th>28156</th>\n",
       "      <td>55a7c9e08a7b72f55c3f991e</td>\n",
       "      <td>somebody told me to have a good weekend in an email. Did I miss something it's tuesday, right?</td>\n",
       "    </tr>\n",
       "    <tr>\n",
       "      <th>28157</th>\n",
       "      <td>55b977f00fc9f982beab7883</td>\n",
       "      <td>&gt; kmakks sends brownie points to @jodylecompte :sparkles: :thumbsup: :sparkles:</td>\n",
       "    </tr>\n",
       "    <tr>\n",
       "      <th>28158</th>\n",
       "      <td>55a7c9e08a7b72f55c3f991e</td>\n",
       "      <td>and it can serve stuff too (if you're thinking engine wise ....in node)</td>\n",
       "    </tr>\n",
       "  </tbody>\n",
       "</table>\n",
       "<p>28159 rows × 2 columns</p>\n",
       "</div>"
      ],
      "text/plain": [
       "                    fromUser.id  \\\n",
       "0      55a7c9e08a7b72f55c3f991e   \n",
       "1      55b977f00fc9f982beab7883   \n",
       "2      55a7c9e08a7b72f55c3f991e   \n",
       "3      55b977f00fc9f982beab7883   \n",
       "4      55a7c9e08a7b72f55c3f991e   \n",
       "...                         ...   \n",
       "28154  55a7c9e08a7b72f55c3f991e   \n",
       "28155  55a7c9e08a7b72f55c3f991e   \n",
       "28156  55a7c9e08a7b72f55c3f991e   \n",
       "28157  55b977f00fc9f982beab7883   \n",
       "28158  55a7c9e08a7b72f55c3f991e   \n",
       "\n",
       "                                                                                                                                      text  \n",
       "0                                                                                                                                   or tag  \n",
       "1                                                                                                     ## welcome to FreeCodeCamp @hcrensh!  \n",
       "2                                                                                                                                      NaN  \n",
       "3                                    > :cookie: 211 | @jiocrux |[http://www.freecodecamp.com/jiocrux](http://www.freecodecamp.com/jiocrux)  \n",
       "4                                                                         do I have to buy some special sort of (for said leaking boston)?  \n",
       "...                                                                                                                                    ...  \n",
       "28154                                                                                                            in addition to robert lol  \n",
       "28155  no, what you did in production stays (like vegas) - the beta stuff is beta....it doesn't count (from what I understand) @davinchee   \n",
       "28156                                      somebody told me to have a good weekend in an email. Did I miss something it's tuesday, right?   \n",
       "28157                                                     > kmakks sends brownie points to @jodylecompte :sparkles: :thumbsup: :sparkles:   \n",
       "28158                                                              and it can serve stuff too (if you're thinking engine wise ....in node)  \n",
       "\n",
       "[28159 rows x 2 columns]"
      ]
     },
     "execution_count": 18,
     "metadata": {},
     "output_type": "execute_result"
    }
   ],
   "source": [
    "df04"
   ]
  },
  {
   "cell_type": "code",
   "execution_count": 19,
   "id": "61758be3-55a8-4f01-9a4b-45546a600563",
   "metadata": {},
   "outputs": [
    {
     "data": {
      "text/plain": [
       "28159"
      ]
     },
     "execution_count": 19,
     "metadata": {},
     "output_type": "execute_result"
    }
   ],
   "source": [
    "len(df04)"
   ]
  },
  {
   "cell_type": "code",
   "execution_count": 20,
   "id": "edcc8663-c224-4baa-a6ff-d846740db03f",
   "metadata": {},
   "outputs": [
    {
     "data": {
      "text/plain": [
       "fromUser.id\n",
       "55a7c9e08a7b72f55c3f991e    14232\n",
       "55b977f00fc9f982beab7883    13927\n",
       "Name: count, dtype: int64"
      ]
     },
     "execution_count": 20,
     "metadata": {},
     "output_type": "execute_result"
    }
   ],
   "source": [
    "df04['fromUser.id'].value_counts()"
   ]
  },
  {
   "cell_type": "code",
   "execution_count": 21,
   "id": "77d8e5f9-3207-46db-abf7-73d50acdf746",
   "metadata": {},
   "outputs": [],
   "source": [
    "# collection of functions to clean the text in 1 function:\n",
    "def lower(text):\n",
    "    return str(text).lower()\n",
    "\n",
    "# Remove HTML\n",
    "def remove_HTML(text):\n",
    "    return re.sub(r'<.*?>', '', text) \n",
    "\n",
    "def remove_punctuation(text):\n",
    "    return text.translate(str.maketrans('','',string.punctuation))\n",
    "\n",
    "# Removing all words with digits and standalone digits\n",
    "def remove_digits(text):\n",
    "    return re.sub(r'\\d+', '', text)\n",
    "\n",
    "stopwords = stopwords.words(\"english\")\n",
    "def remove_stopwords(text):\n",
    "    global stopwords\n",
    "    new = []\n",
    "    # --> all text tokenized: print(word_tokenize(str(text)))\n",
    "    for el in word_tokenize(str(text)):\n",
    "        if not el in stopwords:\n",
    "            new.append(el)\n",
    "    return ' '.join(new)\n",
    "\n",
    "def remove_emoji(text):\n",
    "    emoji_pattern = re.compile(\"[\"\n",
    "                           u\"\\U0001F600-\\U0001F64F\"  # emoticons\n",
    "                           u\"\\U0001F300-\\U0001F5FF\"  # symbols & pictographs\n",
    "                           u\"\\U0001F680-\\U0001F6FF\"  # transport & map symbols\n",
    "                           u\"\\U0001F1E0-\\U0001F1FF\"  # flags (iOS)\n",
    "                           u\"\\U00002702-\\U000027B0\"\n",
    "                           u\"\\U000024C2-\\U0001F251\"\n",
    "                           \"]+\", flags=re.UNICODE)\n",
    "    return emoji_pattern.sub(r'', text)\n",
    "\n",
    "# Removing all non-printable symbols like \"ड\", \"ட\"\n",
    "def remove_non_printable(text):\n",
    "    text = text.encode(\"ascii\", \"ignore\")\n",
    "    return text.decode()\n",
    "        \n",
    "# One function to clean it all\n",
    "def clean_text(text):\n",
    "    text = lower(text)\n",
    "    text = remove_punctuation(text)\n",
    "    text = remove_stopwords(text)\n",
    "    text = remove_digits(text)\n",
    "    text = remove_emoji(text)\n",
    "    text = remove_HTML(text)\n",
    "    text = remove_non_printable(text)\n",
    "    return text"
   ]
  },
  {
   "cell_type": "code",
   "execution_count": 22,
   "id": "ba627c18-48c7-45be-9beb-8b7a1e919b0c",
   "metadata": {},
   "outputs": [
    {
     "data": {
      "text/html": [
       "<div>\n",
       "<style scoped>\n",
       "    .dataframe tbody tr th:only-of-type {\n",
       "        vertical-align: middle;\n",
       "    }\n",
       "\n",
       "    .dataframe tbody tr th {\n",
       "        vertical-align: top;\n",
       "    }\n",
       "\n",
       "    .dataframe thead th {\n",
       "        text-align: right;\n",
       "    }\n",
       "</style>\n",
       "<table border=\"1\" class=\"dataframe\">\n",
       "  <thead>\n",
       "    <tr style=\"text-align: right;\">\n",
       "      <th></th>\n",
       "      <th>fromUser.id</th>\n",
       "      <th>text</th>\n",
       "      <th>Clean_Text</th>\n",
       "    </tr>\n",
       "  </thead>\n",
       "  <tbody>\n",
       "    <tr>\n",
       "      <th>0</th>\n",
       "      <td>55a7c9e08a7b72f55c3f991e</td>\n",
       "      <td>or tag</td>\n",
       "      <td>tag</td>\n",
       "    </tr>\n",
       "    <tr>\n",
       "      <th>1</th>\n",
       "      <td>55b977f00fc9f982beab7883</td>\n",
       "      <td>## welcome to FreeCodeCamp @hcrensh!</td>\n",
       "      <td>welcome freecodecamp hcrensh</td>\n",
       "    </tr>\n",
       "    <tr>\n",
       "      <th>2</th>\n",
       "      <td>55a7c9e08a7b72f55c3f991e</td>\n",
       "      <td>NaN</td>\n",
       "      <td>nan</td>\n",
       "    </tr>\n",
       "    <tr>\n",
       "      <th>3</th>\n",
       "      <td>55b977f00fc9f982beab7883</td>\n",
       "      <td>&gt; :cookie: 211 | @jiocrux |[http://www.freecodecamp.com/jiocrux](http://www.freecodecamp.com/jiocrux)</td>\n",
       "      <td>cookie  jiocrux httpwwwfreecodecampcomjiocruxhttpwwwfreecodecampcomjiocrux</td>\n",
       "    </tr>\n",
       "    <tr>\n",
       "      <th>4</th>\n",
       "      <td>55a7c9e08a7b72f55c3f991e</td>\n",
       "      <td>do I have to buy some special sort of (for said leaking boston)?</td>\n",
       "      <td>buy special sort said leaking boston</td>\n",
       "    </tr>\n",
       "  </tbody>\n",
       "</table>\n",
       "</div>"
      ],
      "text/plain": [
       "                fromUser.id  \\\n",
       "0  55a7c9e08a7b72f55c3f991e   \n",
       "1  55b977f00fc9f982beab7883   \n",
       "2  55a7c9e08a7b72f55c3f991e   \n",
       "3  55b977f00fc9f982beab7883   \n",
       "4  55a7c9e08a7b72f55c3f991e   \n",
       "\n",
       "                                                                                                    text  \\\n",
       "0                                                                                                 or tag   \n",
       "1                                                                   ## welcome to FreeCodeCamp @hcrensh!   \n",
       "2                                                                                                    NaN   \n",
       "3  > :cookie: 211 | @jiocrux |[http://www.freecodecamp.com/jiocrux](http://www.freecodecamp.com/jiocrux)   \n",
       "4                                       do I have to buy some special sort of (for said leaking boston)?   \n",
       "\n",
       "                                                                   Clean_Text  \n",
       "0                                                                         tag  \n",
       "1                                                welcome freecodecamp hcrensh  \n",
       "2                                                                         nan  \n",
       "3  cookie  jiocrux httpwwwfreecodecampcomjiocruxhttpwwwfreecodecampcomjiocrux  \n",
       "4                                        buy special sort said leaking boston  "
      ]
     },
     "execution_count": 22,
     "metadata": {},
     "output_type": "execute_result"
    }
   ],
   "source": [
    "df04['Clean_Text'] = df04['text'].apply(clean_text)\n",
    "df04.head()"
   ]
  },
  {
   "cell_type": "code",
   "execution_count": 23,
   "id": "8b4631e0-007d-452a-a2d4-3c8ed48e3f25",
   "metadata": {},
   "outputs": [],
   "source": [
    "# stemming algorithm:\n",
    "def stemm(text):\n",
    "    stemmer = PorterStemmer(PorterStemmer.ORIGINAL_ALGORITHM)\n",
    "    new = []\n",
    "    for word in word_tokenize(str(text)):\n",
    "        new.append(stemmer.stem(word))\n",
    "    return ' '.join(new)"
   ]
  },
  {
   "cell_type": "code",
   "execution_count": 24,
   "id": "a56a75c5-9c11-4246-ad91-f4d020d999dd",
   "metadata": {},
   "outputs": [
    {
     "data": {
      "text/plain": [
       "0                                                                              tag\n",
       "1                                                      welcom freecodecamp hcrensh\n",
       "2                                                                              nan\n",
       "3         cooki jiocrux httpwwwfreecodecampcomjiocruxhttpwwwfreecodecampcomjiocrux\n",
       "4                                                bui special sort said leak boston\n",
       "                                           ...                                    \n",
       "28154                                                             addit robert lol\n",
       "28155    product stai like vega beta stuff betait doesnt count understand davinche\n",
       "28156                   somebodi told good weekend email miss someth tuesdai right\n",
       "28157                   kmakk send browni point jodylecompt sparkl thumbsup sparkl\n",
       "28158                                        serv stuff your think engin wise node\n",
       "Name: stemming, Length: 28159, dtype: object"
      ]
     },
     "execution_count": 24,
     "metadata": {},
     "output_type": "execute_result"
    }
   ],
   "source": [
    "df04['stemming'] = df04.Clean_Text.apply(stemm)\n",
    "df04['stemming']"
   ]
  },
  {
   "cell_type": "code",
   "execution_count": 25,
   "id": "c37ac25b-aac6-4663-a4fa-163bcd14ef58",
   "metadata": {},
   "outputs": [],
   "source": [
    "# lemmatization algorithm\n",
    "def lematize(text):\n",
    "    stemmer = WordNetLemmatizer()\n",
    "    new = []\n",
    "    for word in word_tokenize(str(text)):\n",
    "        new.append(stemmer.lemmatize(word))\n",
    "    return ' '.join(new)"
   ]
  },
  {
   "cell_type": "code",
   "execution_count": 26,
   "id": "0087d236-cc49-4802-bbb0-0363b2fd5601",
   "metadata": {},
   "outputs": [
    {
     "data": {
      "text/plain": [
       "0                                                                                  tag\n",
       "1                                                         welcome freecodecamp hcrensh\n",
       "2                                                                                  nan\n",
       "3            cookie jiocrux httpwwwfreecodecampcomjiocruxhttpwwwfreecodecampcomjiocrux\n",
       "4                                                 buy special sort said leaking boston\n",
       "                                             ...                                      \n",
       "28154                                                              addition robert lol\n",
       "28155    production stay like vega beta stuff betait doesnt count understand davinchee\n",
       "28156                    somebody told good weekend email miss something tuesday right\n",
       "28157                 kmakks sends brownie point jodylecompte sparkle thumbsup sparkle\n",
       "28158                                      serve stuff youre thinking engine wise node\n",
       "Name: lemmatization, Length: 28159, dtype: object"
      ]
     },
     "execution_count": 26,
     "metadata": {},
     "output_type": "execute_result"
    }
   ],
   "source": [
    "# better results with 'lemmatization' (than 'stemming')\n",
    "df04['lemmatization'] = df04.Clean_Text.apply(lematize)\n",
    "df04['lemmatization']"
   ]
  },
  {
   "cell_type": "code",
   "execution_count": 27,
   "id": "f5468178-fc59-494e-9738-1730f9188b4a",
   "metadata": {},
   "outputs": [],
   "source": [
    "# libraries for preparing train/test data\n",
    "from sklearn.model_selection import train_test_split\n",
    "from sklearn.feature_extraction.text import CountVectorizer\n",
    "from sklearn.feature_extraction.text import TfidfVectorizer\n",
    "from sklearn.pipeline import make_pipeline\n",
    "from sklearn.metrics import classification_report,confusion_matrix,ConfusionMatrixDisplay"
   ]
  },
  {
   "cell_type": "code",
   "execution_count": 28,
   "id": "55631c3c-cd2f-4b7b-bd67-97b5b8a710fa",
   "metadata": {},
   "outputs": [
    {
     "name": "stdout",
     "output_type": "stream",
     "text": [
      "Classification Report - Train_Data: \n",
      "                          precision    recall  f1-score   support\n",
      "\n",
      "55a7c9e08a7b72f55c3f991e       1.00      0.99      0.99     10679\n",
      "55b977f00fc9f982beab7883       0.99      1.00      0.99     10440\n",
      "\n",
      "                accuracy                           0.99     21119\n",
      "               macro avg       0.99      0.99      0.99     21119\n",
      "            weighted avg       0.99      0.99      0.99     21119\n",
      "\n"
     ]
    }
   ],
   "source": [
    "# classification\n",
    "X_train, X_test, y_train, y_test = train_test_split(df04['lemmatization'], df04['fromUser.id'], random_state = 33)\n",
    "mnb = make_pipeline(TfidfVectorizer(),MultinomialNB())\n",
    "mnb.fit(X_train,y_train)\n",
    "y_pred_tr = mnb.predict(X_train)\n",
    "clf = classification_report(y_train, y_pred_tr)\n",
    "print('Classification Report - Train_Data: ')\n",
    "print(clf)"
   ]
  },
  {
   "cell_type": "code",
   "execution_count": 29,
   "id": "2b2e32db-93c9-4df1-9be9-d35c1d737784",
   "metadata": {},
   "outputs": [
    {
     "name": "stdout",
     "output_type": "stream",
     "text": [
      "Classification Report - Test_Data: \n",
      "                          precision    recall  f1-score   support\n",
      "\n",
      "55a7c9e08a7b72f55c3f991e       1.00      0.98      0.99      3553\n",
      "55b977f00fc9f982beab7883       0.98      1.00      0.99      3487\n",
      "\n",
      "                accuracy                           0.99      7040\n",
      "               macro avg       0.99      0.99      0.99      7040\n",
      "            weighted avg       0.99      0.99      0.99      7040\n",
      "\n"
     ]
    }
   ],
   "source": [
    "y_pred = mnb.predict(X_test)\n",
    "clf = classification_report(y_test, y_pred)\n",
    "print('Classification Report - Test_Data: ')\n",
    "print(clf)"
   ]
  },
  {
   "cell_type": "code",
   "execution_count": 30,
   "id": "1741d4df-a06f-44f9-8366-739e7a577b14",
   "metadata": {},
   "outputs": [
    {
     "data": {
      "text/plain": [
       "<sklearn.metrics._plot.confusion_matrix.ConfusionMatrixDisplay at 0x21c9df4cd00>"
      ]
     },
     "execution_count": 30,
     "metadata": {},
     "output_type": "execute_result"
    },
    {
     "data": {
      "image/png": "[encoded data removed]",
      "text/plain": [
       "<Figure size 640x480 with 2 Axes>"
      ]
     },
     "metadata": {},
     "output_type": "display_data"
    }
   ],
   "source": [
    "# visualization of the results in a confusion matrix\n",
    "cm = confusion_matrix(y_test,y_pred)\n",
    "disp = ConfusionMatrixDisplay(confusion_matrix=cm)\n",
    "disp.plot()"
   ]
  },
  {
   "cell_type": "code",
   "execution_count": null,
   "id": "74a2dac8-7b28-4266-a332-ce052443f7e4",
   "metadata": {},
   "outputs": [],
   "source": []
  },
  {
   "cell_type": "code",
   "execution_count": null,
   "id": "f6cc5e8f-b0db-49c4-b741-08f23aa37a6f",
   "metadata": {},
   "outputs": [],
   "source": []
  }
 ],
 "metadata": {
  "kernelspec": {
   "display_name": "Python 3 (ipykernel)",
   "language": "python",
   "name": "python3"
  },
  "language_info": {
   "codemirror_mode": {
    "name": "ipython",
    "version": 3
   },
   "file_extension": ".py",
   "mimetype": "text/x-python",
   "name": "python",
   "nbconvert_exporter": "python",
   "pygments_lexer": "ipython3",
   "version": "3.10.13"
  },
  "widgets": {
   "application/vnd.jupyter.widget-state+json": {
    "state": {},
    "version_major": 2,
    "version_minor": 0
   }
  }
 },
 "nbformat": 4,
 "nbformat_minor": 5
}

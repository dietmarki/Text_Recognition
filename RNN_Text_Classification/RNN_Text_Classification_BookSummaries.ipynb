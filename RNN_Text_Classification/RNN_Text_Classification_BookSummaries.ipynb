{
 "cells": [
  {
   "cell_type": "code",
   "execution_count": 1,
   "id": "df2764d2-54d5-485b-b127-5191dea8cb50",
   "metadata": {},
   "outputs": [
    {
     "name": "stdout",
     "output_type": "stream",
     "text": [
      "WARNING:tensorflow:From C:\\Users\\dietm\\anaconda3\\lib\\site-packages\\keras\\src\\losses.py:2976: The name tf.losses.sparse_softmax_cross_entropy is deprecated. Please use tf.compat.v1.losses.sparse_softmax_cross_entropy instead.\n",
      "\n"
     ]
    }
   ],
   "source": [
    "# import libraries\n",
    "import numpy as np\n",
    "import pandas as pd\n",
    "import matplotlib.pyplot as plt\n",
    "import seaborn as sns\n",
    "import json\n",
    "import re\n",
    "import nltk\n",
    "import string\n",
    "from nltk.corpus import stopwords\n",
    "from nltk import word_tokenize\n",
    "from nltk.stem import WordNetLemmatizer,wordnet\n",
    "import tensorflow as tf\n",
    "from tensorflow.keras.layers import TextVectorization\n",
    "import keras\n",
    "from keras import layers\n",
    "from sklearn import metrics\n",
    "from keras.preprocessing.sequence import pad_sequences\n",
    "from keras.layers import Input, Dense, LSTM, Embedding\n",
    "from keras.layers import Dropout, Activation, Bidirectional, GlobalMaxPool1D\n",
    "from keras.models import Sequential\n",
    "from keras import initializers, regularizers, constraints, optimizers, layers\n",
    "from keras.preprocessing import text, sequence\n",
    "from sklearn.model_selection import train_test_split\n",
    "from sklearn.metrics import accuracy_score, confusion_matrix\n",
    "# Run in case warnings should be ignored\n",
    "import warnings\n",
    "warnings.filterwarnings('ignore')\n",
    "pd.set_option('display.max_colwidth',300)\n"
   ]
  },
  {
   "cell_type": "code",
   "execution_count": 2,
   "id": "9abac6e3-d097-4747-becd-ef550f1bc84d",
   "metadata": {},
   "outputs": [],
   "source": [
    "# get data from txt-file\n",
    "'''Wiki_article_ID\n",
    "Freebase_ID\n",
    "Book_title\n",
    "Author\n",
    "Publication_date\n",
    "Book_genres (Freebase ID:name tuples)\n",
    "Plot_summary'''\n",
    "df01 = pd.read_csv('booksummaries.txt', sep=\"\\t\", header=None)\n",
    "df01.columns = ['Wiki_article_ID', 'Freebase_ID', 'Book_title', 'Author','Publication_date','Book_genres','Plot_summary']\n"
   ]
  },
  {
   "cell_type": "code",
   "execution_count": 3,
   "id": "f4192035-96bc-4835-9bd1-159bdf4a8399",
   "metadata": {},
   "outputs": [
    {
     "data": {
      "text/html": [
       "<div>\n",
       "<style scoped>\n",
       "    .dataframe tbody tr th:only-of-type {\n",
       "        vertical-align: middle;\n",
       "    }\n",
       "\n",
       "    .dataframe tbody tr th {\n",
       "        vertical-align: top;\n",
       "    }\n",
       "\n",
       "    .dataframe thead th {\n",
       "        text-align: right;\n",
       "    }\n",
       "</style>\n",
       "<table border=\"1\" class=\"dataframe\">\n",
       "  <thead>\n",
       "    <tr style=\"text-align: right;\">\n",
       "      <th></th>\n",
       "      <th>Wiki_article_ID</th>\n",
       "      <th>Freebase_ID</th>\n",
       "      <th>Book_title</th>\n",
       "      <th>Author</th>\n",
       "      <th>Publication_date</th>\n",
       "      <th>Book_genres</th>\n",
       "      <th>Plot_summary</th>\n",
       "    </tr>\n",
       "  </thead>\n",
       "  <tbody>\n",
       "    <tr>\n",
       "      <th>0</th>\n",
       "      <td>620</td>\n",
       "      <td>/m/0hhy</td>\n",
       "      <td>Animal Farm</td>\n",
       "      <td>George Orwell</td>\n",
       "      <td>1945-08-17</td>\n",
       "      <td>{\"/m/016lj8\": \"Roman \\u00e0 clef\", \"/m/06nbt\": \"Satire\", \"/m/0dwly\": \"Children's literature\", \"/m/014dfn\": \"Speculative fiction\", \"/m/02xlf\": \"Fiction\"}</td>\n",
       "      <td>Old Major, the old boar on the Manor Farm, calls the animals on the farm for a meeting, where he compares the humans to parasites and teaches the animals a revolutionary song, 'Beasts of England'. When Major dies, two young pigs, Snowball and Napoleon, assume command and turn his dream into a p...</td>\n",
       "    </tr>\n",
       "    <tr>\n",
       "      <th>1</th>\n",
       "      <td>843</td>\n",
       "      <td>/m/0k36</td>\n",
       "      <td>A Clockwork Orange</td>\n",
       "      <td>Anthony Burgess</td>\n",
       "      <td>1962</td>\n",
       "      <td>{\"/m/06n90\": \"Science Fiction\", \"/m/0l67h\": \"Novella\", \"/m/014dfn\": \"Speculative fiction\", \"/m/0c082\": \"Utopian and dystopian fiction\", \"/m/06nbt\": \"Satire\", \"/m/02xlf\": \"Fiction\"}</td>\n",
       "      <td>Alex, a teenager living in near-future England, leads his gang on nightly orgies of opportunistic, random \"ultra-violence.\" Alex's friends (\"droogs\" in the novel's Anglo-Russian slang, Nadsat) are: Dim, a slow-witted bruiser who is the gang's muscle; Georgie, an ambitious second-in-command; and...</td>\n",
       "    </tr>\n",
       "    <tr>\n",
       "      <th>2</th>\n",
       "      <td>986</td>\n",
       "      <td>/m/0ldx</td>\n",
       "      <td>The Plague</td>\n",
       "      <td>Albert Camus</td>\n",
       "      <td>1947</td>\n",
       "      <td>{\"/m/02m4t\": \"Existentialism\", \"/m/02xlf\": \"Fiction\", \"/m/0pym5\": \"Absurdist fiction\", \"/m/05hgj\": \"Novel\"}</td>\n",
       "      <td>The text of The Plague is divided into five parts. In the town of Oran, thousands of rats, initially unnoticed by the populace, begin to die in the streets. A hysteria develops soon afterward, causing the local newspapers to report the incident. Authorities responding to public pressure order t...</td>\n",
       "    </tr>\n",
       "  </tbody>\n",
       "</table>\n",
       "</div>"
      ],
      "text/plain": [
       "   Wiki_article_ID Freebase_ID          Book_title           Author  \\\n",
       "0              620     /m/0hhy         Animal Farm    George Orwell   \n",
       "1              843     /m/0k36  A Clockwork Orange  Anthony Burgess   \n",
       "2              986     /m/0ldx          The Plague     Albert Camus   \n",
       "\n",
       "  Publication_date  \\\n",
       "0       1945-08-17   \n",
       "1             1962   \n",
       "2             1947   \n",
       "\n",
       "                                                                                                                                                                            Book_genres  \\\n",
       "0                              {\"/m/016lj8\": \"Roman \\u00e0 clef\", \"/m/06nbt\": \"Satire\", \"/m/0dwly\": \"Children's literature\", \"/m/014dfn\": \"Speculative fiction\", \"/m/02xlf\": \"Fiction\"}   \n",
       "1  {\"/m/06n90\": \"Science Fiction\", \"/m/0l67h\": \"Novella\", \"/m/014dfn\": \"Speculative fiction\", \"/m/0c082\": \"Utopian and dystopian fiction\", \"/m/06nbt\": \"Satire\", \"/m/02xlf\": \"Fiction\"}   \n",
       "2                                                                           {\"/m/02m4t\": \"Existentialism\", \"/m/02xlf\": \"Fiction\", \"/m/0pym5\": \"Absurdist fiction\", \"/m/05hgj\": \"Novel\"}   \n",
       "\n",
       "                                                                                                                                                                                                                                                                                                  Plot_summary  \n",
       "0   Old Major, the old boar on the Manor Farm, calls the animals on the farm for a meeting, where he compares the humans to parasites and teaches the animals a revolutionary song, 'Beasts of England'. When Major dies, two young pigs, Snowball and Napoleon, assume command and turn his dream into a p...  \n",
       "1   Alex, a teenager living in near-future England, leads his gang on nightly orgies of opportunistic, random \"ultra-violence.\" Alex's friends (\"droogs\" in the novel's Anglo-Russian slang, Nadsat) are: Dim, a slow-witted bruiser who is the gang's muscle; Georgie, an ambitious second-in-command; and...  \n",
       "2   The text of The Plague is divided into five parts. In the town of Oran, thousands of rats, initially unnoticed by the populace, begin to die in the streets. A hysteria develops soon afterward, causing the local newspapers to report the incident. Authorities responding to public pressure order t...  "
      ]
     },
     "execution_count": 3,
     "metadata": {},
     "output_type": "execute_result"
    }
   ],
   "source": [
    "df01.head(3)"
   ]
  },
  {
   "cell_type": "code",
   "execution_count": 4,
   "id": "306217c5-36f6-4fc9-b156-700951ceb2b0",
   "metadata": {},
   "outputs": [
    {
     "name": "stdout",
     "output_type": "stream",
     "text": [
      "<class 'pandas.core.frame.DataFrame'>\n",
      "RangeIndex: 16559 entries, 0 to 16558\n",
      "Data columns (total 7 columns):\n",
      " #   Column            Non-Null Count  Dtype \n",
      "---  ------            --------------  ----- \n",
      " 0   Wiki_article_ID   16559 non-null  int64 \n",
      " 1   Freebase_ID       16559 non-null  object\n",
      " 2   Book_title        16559 non-null  object\n",
      " 3   Author            14177 non-null  object\n",
      " 4   Publication_date  10949 non-null  object\n",
      " 5   Book_genres       12841 non-null  object\n",
      " 6   Plot_summary      16559 non-null  object\n",
      "dtypes: int64(1), object(6)\n",
      "memory usage: 905.7+ KB\n"
     ]
    }
   ],
   "source": [
    "df01.info()"
   ]
  },
  {
   "cell_type": "code",
   "execution_count": 5,
   "id": "4913b221-fc78-406a-829e-5ed84c305ddc",
   "metadata": {},
   "outputs": [
    {
     "data": {
      "text/plain": [
       "Wiki_article_ID        0\n",
       "Freebase_ID            0\n",
       "Book_title             0\n",
       "Author              2382\n",
       "Publication_date    5610\n",
       "Book_genres         3718\n",
       "Plot_summary           0\n",
       "dtype: int64"
      ]
     },
     "execution_count": 5,
     "metadata": {},
     "output_type": "execute_result"
    }
   ],
   "source": [
    "df01.isnull().sum()"
   ]
  },
  {
   "cell_type": "code",
   "execution_count": 6,
   "id": "e58fb08f-d304-4327-b4a5-d220ff347097",
   "metadata": {},
   "outputs": [],
   "source": [
    "# delete all the rows where 'Plot_summary' and 'Book_genres' are NaN\n",
    "df01 = df01.dropna(subset=['Book_genres','Plot_summary'])"
   ]
  },
  {
   "cell_type": "code",
   "execution_count": 7,
   "id": "d03c370d-a1b9-4f07-a9e9-a496ca7c86f1",
   "metadata": {},
   "outputs": [
    {
     "data": {
      "text/plain": [
       "Wiki_article_ID        0\n",
       "Freebase_ID            0\n",
       "Book_title             0\n",
       "Author               786\n",
       "Publication_date    3170\n",
       "Book_genres            0\n",
       "Plot_summary           0\n",
       "dtype: int64"
      ]
     },
     "execution_count": 7,
     "metadata": {},
     "output_type": "execute_result"
    }
   ],
   "source": [
    "df01.isnull().sum()"
   ]
  },
  {
   "cell_type": "code",
   "execution_count": 8,
   "id": "5c3a52c5-eb38-4902-9f3b-b11d2d6e917b",
   "metadata": {},
   "outputs": [],
   "source": [
    "# convert 'Book_genres' from json format to list format\n",
    "df01['Book_genres'] = df01['Book_genres'].map(lambda Book_genres : list(json.loads(Book_genres).values()))"
   ]
  },
  {
   "cell_type": "code",
   "execution_count": 9,
   "id": "7e0f6662-ebaa-4282-8739-3d0572734ebe",
   "metadata": {},
   "outputs": [
    {
     "data": {
      "text/plain": [
       "Book_genres\n",
       "[Novel]                                                                        839\n",
       "[Science Fiction, Speculative fiction]                                         567\n",
       "[Science Fiction]                                                              526\n",
       "[Fiction]                                                                      402\n",
       "[Fiction, Novel]                                                               381\n",
       "                                                                              ... \n",
       "[Science Fiction, Speculative fiction, Mystery, Fantasy, Fiction, Suspense]      1\n",
       "[Speculative fiction, Fantasy, Fiction, Literary fiction]                        1\n",
       "[Fiction, Graphic novel, Anti-nuclear]                                           1\n",
       "[Thriller, Spy fiction, Adventure novel]                                         1\n",
       "[Epistolary novel, Speculative fiction]                                          1\n",
       "Name: count, Length: 2154, dtype: int64"
      ]
     },
     "execution_count": 9,
     "metadata": {},
     "output_type": "execute_result"
    }
   ],
   "source": [
    "df01['Book_genres'].value_counts()"
   ]
  },
  {
   "cell_type": "code",
   "execution_count": 10,
   "id": "accbbaf0-3e65-4e28-8a61-275735136dba",
   "metadata": {},
   "outputs": [
    {
     "data": {
      "text/plain": [
       "array([list(['Roman à clef', 'Satire', \"Children's literature\", 'Speculative fiction', 'Fiction']),\n",
       "       list(['Science Fiction', 'Novella', 'Speculative fiction', 'Utopian and dystopian fiction', 'Satire', 'Fiction']),\n",
       "       list(['Existentialism', 'Fiction', 'Absurdist fiction', 'Novel']),\n",
       "       ..., list(['Thriller', 'Fiction']), list(['Autobiography']),\n",
       "       list(['Epistolary novel', 'Speculative fiction'])], dtype=object)"
      ]
     },
     "execution_count": 10,
     "metadata": {},
     "output_type": "execute_result"
    }
   ],
   "source": [
    "df01.Book_genres.values"
   ]
  },
  {
   "cell_type": "code",
   "execution_count": 11,
   "id": "d0684791-cf75-4e25-b660-599f4b9bc766",
   "metadata": {},
   "outputs": [
    {
     "data": {
      "text/plain": [
       "0                            [Roman à clef, Satire, Children's literature, Speculative fiction, Fiction]\n",
       "1        [Science Fiction, Novella, Speculative fiction, Utopian and dystopian fiction, Satire, Fiction]\n",
       "2                                                    [Existentialism, Fiction, Absurdist fiction, Novel]\n",
       "4                         [Hard science fiction, Science Fiction, Speculative fiction, Fantasy, Fiction]\n",
       "5                                                                              [War novel, Roman à clef]\n",
       "                                                      ...                                               \n",
       "16549                                                                                  [Science Fiction]\n",
       "16551                                                                      [Thriller, Fiction, Suspense]\n",
       "16555                                                                                [Thriller, Fiction]\n",
       "16556                                                                                    [Autobiography]\n",
       "16558                                                            [Epistolary novel, Speculative fiction]\n",
       "Name: Book_genres, Length: 12841, dtype: object"
      ]
     },
     "execution_count": 11,
     "metadata": {},
     "output_type": "execute_result"
    }
   ],
   "source": [
    "df01.Book_genres"
   ]
  },
  {
   "cell_type": "code",
   "execution_count": 12,
   "id": "368b1b58-2605-4144-8f0e-d510c49ce3fe",
   "metadata": {},
   "outputs": [],
   "source": [
    "list_genre_titles_01 = []\n",
    "list_genre_titles_02 = []"
   ]
  },
  {
   "cell_type": "code",
   "execution_count": 13,
   "id": "1b269ee5-cf8c-4386-b8b5-fcc1fc6990cd",
   "metadata": {},
   "outputs": [],
   "source": [
    "for i in df01.Book_genres.values:\n",
    "    list_genre_titles_01.append(str(i[0]))\n",
    "    list_genre_titles_02.append(str(i[-1]))"
   ]
  },
  {
   "cell_type": "code",
   "execution_count": 14,
   "id": "46a919a4-9288-45c1-bc55-b32cac765049",
   "metadata": {},
   "outputs": [],
   "source": [
    "# most frequently occurring values in Book_genres with the first and last of the lists\n",
    "df01['Genre_01'] = list_genre_titles_01\n",
    "df01['Genre_02'] = list_genre_titles_02"
   ]
  },
  {
   "cell_type": "code",
   "execution_count": 15,
   "id": "1d5233cd-ace8-43cc-8b7b-deb2d1282f00",
   "metadata": {},
   "outputs": [
    {
     "data": {
      "text/html": [
       "<div>\n",
       "<style scoped>\n",
       "    .dataframe tbody tr th:only-of-type {\n",
       "        vertical-align: middle;\n",
       "    }\n",
       "\n",
       "    .dataframe tbody tr th {\n",
       "        vertical-align: top;\n",
       "    }\n",
       "\n",
       "    .dataframe thead th {\n",
       "        text-align: right;\n",
       "    }\n",
       "</style>\n",
       "<table border=\"1\" class=\"dataframe\">\n",
       "  <thead>\n",
       "    <tr style=\"text-align: right;\">\n",
       "      <th></th>\n",
       "      <th>Genre_01</th>\n",
       "      <th>Genre_02</th>\n",
       "      <th>Plot_summary</th>\n",
       "    </tr>\n",
       "  </thead>\n",
       "  <tbody>\n",
       "    <tr>\n",
       "      <th>0</th>\n",
       "      <td>Roman à clef</td>\n",
       "      <td>Fiction</td>\n",
       "      <td>Old Major, the old boar on the Manor Farm, calls the animals on the farm for a meeting, where he compares the humans to parasites and teaches the animals a revolutionary song, 'Beasts of England'. When Major dies, two young pigs, Snowball and Napoleon, assume command and turn his dream into a p...</td>\n",
       "    </tr>\n",
       "    <tr>\n",
       "      <th>1</th>\n",
       "      <td>Science Fiction</td>\n",
       "      <td>Fiction</td>\n",
       "      <td>Alex, a teenager living in near-future England, leads his gang on nightly orgies of opportunistic, random \"ultra-violence.\" Alex's friends (\"droogs\" in the novel's Anglo-Russian slang, Nadsat) are: Dim, a slow-witted bruiser who is the gang's muscle; Georgie, an ambitious second-in-command; and...</td>\n",
       "    </tr>\n",
       "    <tr>\n",
       "      <th>2</th>\n",
       "      <td>Existentialism</td>\n",
       "      <td>Novel</td>\n",
       "      <td>The text of The Plague is divided into five parts. In the town of Oran, thousands of rats, initially unnoticed by the populace, begin to die in the streets. A hysteria develops soon afterward, causing the local newspapers to report the incident. Authorities responding to public pressure order t...</td>\n",
       "    </tr>\n",
       "  </tbody>\n",
       "</table>\n",
       "</div>"
      ],
      "text/plain": [
       "          Genre_01 Genre_02  \\\n",
       "0     Roman à clef  Fiction   \n",
       "1  Science Fiction  Fiction   \n",
       "2   Existentialism    Novel   \n",
       "\n",
       "                                                                                                                                                                                                                                                                                                  Plot_summary  \n",
       "0   Old Major, the old boar on the Manor Farm, calls the animals on the farm for a meeting, where he compares the humans to parasites and teaches the animals a revolutionary song, 'Beasts of England'. When Major dies, two young pigs, Snowball and Napoleon, assume command and turn his dream into a p...  \n",
       "1   Alex, a teenager living in near-future England, leads his gang on nightly orgies of opportunistic, random \"ultra-violence.\" Alex's friends (\"droogs\" in the novel's Anglo-Russian slang, Nadsat) are: Dim, a slow-witted bruiser who is the gang's muscle; Georgie, an ambitious second-in-command; and...  \n",
       "2   The text of The Plague is divided into five parts. In the town of Oran, thousands of rats, initially unnoticed by the populace, begin to die in the streets. A hysteria develops soon afterward, causing the local newspapers to report the incident. Authorities responding to public pressure order t...  "
      ]
     },
     "execution_count": 15,
     "metadata": {},
     "output_type": "execute_result"
    }
   ],
   "source": [
    "df02 = df01[['Genre_01','Genre_02','Plot_summary']]\n",
    "df02.head(3)"
   ]
  },
  {
   "cell_type": "code",
   "execution_count": 16,
   "id": "dfb6917b-ea38-4ba1-841a-09153a0de7de",
   "metadata": {},
   "outputs": [
    {
     "data": {
      "text/plain": [
       "Genre_01\n",
       "Science Fiction           2551\n",
       "Speculative fiction       1438\n",
       "Children's literature     1152\n",
       "Fiction                    943\n",
       "Novel                      925\n",
       "Mystery                    734\n",
       "Crime Fiction              672\n",
       "Fantasy                    624\n",
       "Thriller                   568\n",
       "Young adult literature     321\n",
       "Name: count, dtype: int64"
      ]
     },
     "execution_count": 16,
     "metadata": {},
     "output_type": "execute_result"
    }
   ],
   "source": [
    "# Genre_01 has a better distribution to work with\n",
    "df02.Genre_01.value_counts().head(10)"
   ]
  },
  {
   "cell_type": "code",
   "execution_count": 17,
   "id": "2da68854-3b76-440a-8bac-4671da7ec49f",
   "metadata": {},
   "outputs": [
    {
     "data": {
      "text/plain": [
       "Genre_02\n",
       "Fiction                   2593\n",
       "Novel                     2146\n",
       "Fantasy                    943\n",
       "Speculative fiction        899\n",
       "Children's literature      713\n",
       "Suspense                   686\n",
       "Historical novel           637\n",
       "Science Fiction            575\n",
       "Young adult literature     418\n",
       "Adventure novel            240\n",
       "Name: count, dtype: int64"
      ]
     },
     "execution_count": 17,
     "metadata": {},
     "output_type": "execute_result"
    }
   ],
   "source": [
    "df02.Genre_02.value_counts().head(10)"
   ]
  },
  {
   "cell_type": "code",
   "execution_count": 18,
   "id": "38e518f9-55aa-49b6-9983-e349225448b0",
   "metadata": {},
   "outputs": [
    {
     "data": {
      "text/plain": [
       "Index(['Fiction', 'Novel', 'Fantasy', 'Speculative fiction',\n",
       "       'Children's literature', 'Suspense', 'Historical novel',\n",
       "       'Science Fiction', 'Young adult literature', 'Adventure novel'],\n",
       "      dtype='object', name='Genre_02')"
      ]
     },
     "execution_count": 18,
     "metadata": {},
     "output_type": "execute_result"
    }
   ],
   "source": [
    "# the better distribution has 'Genre_02'\n",
    "df02.Genre_02.value_counts().keys()[:10]"
   ]
  },
  {
   "cell_type": "code",
   "execution_count": 19,
   "id": "134a2b3b-0da5-4986-9483-389017f1935d",
   "metadata": {},
   "outputs": [
    {
     "data": {
      "text/plain": [
       "list"
      ]
     },
     "execution_count": 19,
     "metadata": {},
     "output_type": "execute_result"
    }
   ],
   "source": [
    "list_Genre_new = []\n",
    "for i in df02.Genre_02.value_counts().keys()[:10]:\n",
    "    list_Genre_new.append(i)\n",
    "type(list_Genre_new)"
   ]
  },
  {
   "cell_type": "code",
   "execution_count": 20,
   "id": "f23cbcd9-d54d-4a31-bb8c-bf1412db83b1",
   "metadata": {},
   "outputs": [
    {
     "data": {
      "text/plain": [
       "['Fiction',\n",
       " 'Novel',\n",
       " 'Fantasy',\n",
       " 'Speculative fiction',\n",
       " \"Children's literature\",\n",
       " 'Suspense',\n",
       " 'Historical novel',\n",
       " 'Science Fiction',\n",
       " 'Young adult literature',\n",
       " 'Adventure novel']"
      ]
     },
     "execution_count": 20,
     "metadata": {},
     "output_type": "execute_result"
    }
   ],
   "source": [
    "list_Genre_new"
   ]
  },
  {
   "cell_type": "code",
   "execution_count": 21,
   "id": "ac948595-a7b7-463a-a544-8b45b339ba79",
   "metadata": {},
   "outputs": [],
   "source": [
    "# i only use the samples with the values of my category list --> the first 2\n",
    "df03 = df02[(df02['Genre_02'] == list_Genre_new[0]) | (df02['Genre_02'] == list_Genre_new[1])]"
   ]
  },
  {
   "cell_type": "code",
   "execution_count": 22,
   "id": "6ba9d708-d116-4e7a-bb4b-7c8fa61ef57b",
   "metadata": {},
   "outputs": [
    {
     "name": "stdout",
     "output_type": "stream",
     "text": [
      "<class 'pandas.core.frame.DataFrame'>\n",
      "Index: 4739 entries, 0 to 16555\n",
      "Data columns (total 3 columns):\n",
      " #   Column        Non-Null Count  Dtype \n",
      "---  ------        --------------  ----- \n",
      " 0   Genre_01      4739 non-null   object\n",
      " 1   Genre_02      4739 non-null   object\n",
      " 2   Plot_summary  4739 non-null   object\n",
      "dtypes: object(3)\n",
      "memory usage: 148.1+ KB\n"
     ]
    }
   ],
   "source": [
    "# the size of my data set to work with\n",
    "df03.info()"
   ]
  },
  {
   "cell_type": "code",
   "execution_count": 23,
   "id": "c7d11f62-bde1-48b0-82a2-f9629fe95dfe",
   "metadata": {},
   "outputs": [
    {
     "data": {
      "text/plain": [
       "2146"
      ]
     },
     "execution_count": 23,
     "metadata": {},
     "output_type": "execute_result"
    }
   ],
   "source": [
    "len(df03[df03.Genre_02 == 'Novel'])"
   ]
  },
  {
   "cell_type": "code",
   "execution_count": 24,
   "id": "71ce8eb2-81ba-432b-a0fb-99c1871bfa74",
   "metadata": {},
   "outputs": [
    {
     "data": {
      "text/plain": [
       "2146"
      ]
     },
     "execution_count": 24,
     "metadata": {},
     "output_type": "execute_result"
    }
   ],
   "source": [
    "len(df03[df03.Genre_02 == 'Fiction'].iloc[:2146,:])"
   ]
  },
  {
   "cell_type": "code",
   "execution_count": 25,
   "id": "c6f780b3-dfdd-4506-adea-bf5928646d9d",
   "metadata": {},
   "outputs": [],
   "source": [
    "# create the same number of categories\n",
    "df03.drop(index=df03[df03.Genre_02 == 'Fiction'].iloc[2146:,:].index,inplace=True)"
   ]
  },
  {
   "cell_type": "code",
   "execution_count": 26,
   "id": "e65cf044-1c9e-4f7b-a19f-e56cedf36b3b",
   "metadata": {},
   "outputs": [
    {
     "data": {
      "text/plain": [
       "Genre_02\n",
       "Fiction    2146\n",
       "Novel      2146\n",
       "Name: count, dtype: int64"
      ]
     },
     "execution_count": 26,
     "metadata": {},
     "output_type": "execute_result"
    }
   ],
   "source": [
    "df03.Genre_02.value_counts()"
   ]
  },
  {
   "cell_type": "code",
   "execution_count": 27,
   "id": "dff05f02-3c60-4aef-952e-bedd75dd4b3b",
   "metadata": {},
   "outputs": [],
   "source": [
    "df03 = df03[['Genre_02','Plot_summary']]"
   ]
  },
  {
   "cell_type": "code",
   "execution_count": 28,
   "id": "3c515e20-4054-4a1d-b923-1439d5cf826a",
   "metadata": {},
   "outputs": [],
   "source": [
    "df03.reset_index(drop=True,inplace=True)"
   ]
  },
  {
   "cell_type": "code",
   "execution_count": 29,
   "id": "9b55a28b-f399-4d80-8ff5-5a3cdf0ae6b1",
   "metadata": {},
   "outputs": [
    {
     "data": {
      "text/html": [
       "<div>\n",
       "<style scoped>\n",
       "    .dataframe tbody tr th:only-of-type {\n",
       "        vertical-align: middle;\n",
       "    }\n",
       "\n",
       "    .dataframe tbody tr th {\n",
       "        vertical-align: top;\n",
       "    }\n",
       "\n",
       "    .dataframe thead th {\n",
       "        text-align: right;\n",
       "    }\n",
       "</style>\n",
       "<table border=\"1\" class=\"dataframe\">\n",
       "  <thead>\n",
       "    <tr style=\"text-align: right;\">\n",
       "      <th></th>\n",
       "      <th>Genre_02</th>\n",
       "      <th>Plot_summary</th>\n",
       "    </tr>\n",
       "  </thead>\n",
       "  <tbody>\n",
       "    <tr>\n",
       "      <th>0</th>\n",
       "      <td>Fiction</td>\n",
       "      <td>Old Major, the old boar on the Manor Farm, calls the animals on the farm for a meeting, where he compares the humans to parasites and teaches the animals a revolutionary song, 'Beasts of England'. When Major dies, two young pigs, Snowball and Napoleon, assume command and turn his dream into a p...</td>\n",
       "    </tr>\n",
       "    <tr>\n",
       "      <th>1</th>\n",
       "      <td>Fiction</td>\n",
       "      <td>Alex, a teenager living in near-future England, leads his gang on nightly orgies of opportunistic, random \"ultra-violence.\" Alex's friends (\"droogs\" in the novel's Anglo-Russian slang, Nadsat) are: Dim, a slow-witted bruiser who is the gang's muscle; Georgie, an ambitious second-in-command; and...</td>\n",
       "    </tr>\n",
       "    <tr>\n",
       "      <th>2</th>\n",
       "      <td>Novel</td>\n",
       "      <td>The text of The Plague is divided into five parts. In the town of Oran, thousands of rats, initially unnoticed by the populace, begin to die in the streets. A hysteria develops soon afterward, causing the local newspapers to report the incident. Authorities responding to public pressure order t...</td>\n",
       "    </tr>\n",
       "  </tbody>\n",
       "</table>\n",
       "</div>"
      ],
      "text/plain": [
       "  Genre_02  \\\n",
       "0  Fiction   \n",
       "1  Fiction   \n",
       "2    Novel   \n",
       "\n",
       "                                                                                                                                                                                                                                                                                                  Plot_summary  \n",
       "0   Old Major, the old boar on the Manor Farm, calls the animals on the farm for a meeting, where he compares the humans to parasites and teaches the animals a revolutionary song, 'Beasts of England'. When Major dies, two young pigs, Snowball and Napoleon, assume command and turn his dream into a p...  \n",
       "1   Alex, a teenager living in near-future England, leads his gang on nightly orgies of opportunistic, random \"ultra-violence.\" Alex's friends (\"droogs\" in the novel's Anglo-Russian slang, Nadsat) are: Dim, a slow-witted bruiser who is the gang's muscle; Georgie, an ambitious second-in-command; and...  \n",
       "2   The text of The Plague is divided into five parts. In the town of Oran, thousands of rats, initially unnoticed by the populace, begin to die in the streets. A hysteria develops soon afterward, causing the local newspapers to report the incident. Authorities responding to public pressure order t...  "
      ]
     },
     "execution_count": 29,
     "metadata": {},
     "output_type": "execute_result"
    }
   ],
   "source": [
    "df03.head(3)"
   ]
  },
  {
   "cell_type": "code",
   "execution_count": 30,
   "id": "2229c783-a7eb-4d79-9948-bebfac286314",
   "metadata": {},
   "outputs": [
    {
     "data": {
      "text/plain": [
       "1"
      ]
     },
     "execution_count": 30,
     "metadata": {},
     "output_type": "execute_result"
    }
   ],
   "source": [
    "# remove duplicates in Plot_summary\n",
    "df04 = df03.drop_duplicates(subset='Plot_summary',keep=False)\n",
    "df04.Plot_summary.value_counts().max()"
   ]
  },
  {
   "cell_type": "code",
   "execution_count": 31,
   "id": "082f44a4-e3c1-4d35-ae11-11d0fd75f855",
   "metadata": {},
   "outputs": [
    {
     "name": "stdout",
     "output_type": "stream",
     "text": [
      "<class 'pandas.core.frame.DataFrame'>\n",
      "Index: 4283 entries, 0 to 4291\n",
      "Data columns (total 2 columns):\n",
      " #   Column        Non-Null Count  Dtype \n",
      "---  ------        --------------  ----- \n",
      " 0   Genre_02      4283 non-null   object\n",
      " 1   Plot_summary  4283 non-null   object\n",
      "dtypes: object(2)\n",
      "memory usage: 100.4+ KB\n"
     ]
    }
   ],
   "source": [
    "df04.info()"
   ]
  },
  {
   "cell_type": "code",
   "execution_count": 32,
   "id": "b05f30b2-209a-4399-9891-e8ebccba9bbf",
   "metadata": {},
   "outputs": [],
   "source": [
    "# collection of functions to clean the text in 1 function:\n",
    "def lower(text):\n",
    "    return str(text).lower()\n",
    "\n",
    "# Remove HTML\n",
    "def remove_HTML(text):\n",
    "    return re.sub(r'<.*?>', '', text) \n",
    "\n",
    "def remove_punctuation(text):\n",
    "    return text.translate(str.maketrans('','',string.punctuation))\n",
    "\n",
    "# Removing all words with digits and standalone digits\n",
    "def remove_digits(text):\n",
    "    return re.sub(r'\\d+', '', text)\n",
    "\n",
    "stopwords = stopwords.words(\"english\")\n",
    "def remove_stopwords(text):\n",
    "    global stopwords\n",
    "    new = []\n",
    "    # --> all text tokenized: print(word_tokenize(str(text)))\n",
    "    for el in word_tokenize(str(text)):\n",
    "        if not el in stopwords:\n",
    "            new.append(el)\n",
    "    return ' '.join(new)\n",
    "\n",
    "def remove_emoji(text):\n",
    "    emoji_pattern = re.compile(\"[\"\n",
    "                           u\"\\U0001F600-\\U0001F64F\"  # emoticons\n",
    "                           u\"\\U0001F300-\\U0001F5FF\"  # symbols & pictographs\n",
    "                           u\"\\U0001F680-\\U0001F6FF\"  # transport & map symbols\n",
    "                           u\"\\U0001F1E0-\\U0001F1FF\"  # flags (iOS)\n",
    "                           u\"\\U00002702-\\U000027B0\"\n",
    "                           u\"\\U000024C2-\\U0001F251\"\n",
    "                           \"]+\", flags=re.UNICODE)\n",
    "    return emoji_pattern.sub(r'', text)\n",
    "\n",
    "# Removing all non-printable symbols like \"ड\", \"ட\"\n",
    "def remove_non_printable(text):\n",
    "    text = text.encode(\"ascii\", \"ignore\")\n",
    "    return text.decode()\n",
    "        \n",
    "# One function to clean it all\n",
    "def clean_text(text):\n",
    "    text = lower(text)\n",
    "    text = remove_punctuation(text)\n",
    "    text = remove_stopwords(text)\n",
    "    text = remove_digits(text)\n",
    "    text = remove_emoji(text)\n",
    "    text = remove_HTML(text)\n",
    "    text = remove_non_printable(text)\n",
    "    return text"
   ]
  },
  {
   "cell_type": "code",
   "execution_count": 33,
   "id": "af13b248-4032-4f91-8a7f-f1423503fb3b",
   "metadata": {},
   "outputs": [],
   "source": [
    "df04['Clean_Plot_summary'] = df04['Plot_summary'].apply(clean_text)"
   ]
  },
  {
   "cell_type": "code",
   "execution_count": 34,
   "id": "b776a0b1-f48f-4c9b-a3d3-19cfbb7ed798",
   "metadata": {},
   "outputs": [
    {
     "data": {
      "text/html": [
       "<div>\n",
       "<style scoped>\n",
       "    .dataframe tbody tr th:only-of-type {\n",
       "        vertical-align: middle;\n",
       "    }\n",
       "\n",
       "    .dataframe tbody tr th {\n",
       "        vertical-align: top;\n",
       "    }\n",
       "\n",
       "    .dataframe thead th {\n",
       "        text-align: right;\n",
       "    }\n",
       "</style>\n",
       "<table border=\"1\" class=\"dataframe\">\n",
       "  <thead>\n",
       "    <tr style=\"text-align: right;\">\n",
       "      <th></th>\n",
       "      <th>Genre_02</th>\n",
       "      <th>Plot_summary</th>\n",
       "      <th>Clean_Plot_summary</th>\n",
       "    </tr>\n",
       "  </thead>\n",
       "  <tbody>\n",
       "    <tr>\n",
       "      <th>0</th>\n",
       "      <td>Fiction</td>\n",
       "      <td>Old Major, the old boar on the Manor Farm, calls the animals on the farm for a meeting, where he compares the humans to parasites and teaches the animals a revolutionary song, 'Beasts of England'. When Major dies, two young pigs, Snowball and Napoleon, assume command and turn his dream into a p...</td>\n",
       "      <td>old major old boar manor farm calls animals farm meeting compares humans parasites teaches animals revolutionary song beasts england major dies two young pigs snowball napoleon assume command turn dream philosophy animals revolt drive drunken irresponsible mr jones farm renaming animal farm adop...</td>\n",
       "    </tr>\n",
       "    <tr>\n",
       "      <th>1</th>\n",
       "      <td>Fiction</td>\n",
       "      <td>Alex, a teenager living in near-future England, leads his gang on nightly orgies of opportunistic, random \"ultra-violence.\" Alex's friends (\"droogs\" in the novel's Anglo-Russian slang, Nadsat) are: Dim, a slow-witted bruiser who is the gang's muscle; Georgie, an ambitious second-in-command; and...</td>\n",
       "      <td>alex teenager living nearfuture england leads gang nightly orgies opportunistic random ultraviolence alexs friends droogs novels anglorussian slang nadsat dim slowwitted bruiser gangs muscle georgie ambitious secondincommand pete mostly plays along droogs indulge taste ultraviolence characterize...</td>\n",
       "    </tr>\n",
       "    <tr>\n",
       "      <th>2</th>\n",
       "      <td>Novel</td>\n",
       "      <td>The text of The Plague is divided into five parts. In the town of Oran, thousands of rats, initially unnoticed by the populace, begin to die in the streets. A hysteria develops soon afterward, causing the local newspapers to report the incident. Authorities responding to public pressure order t...</td>\n",
       "      <td>text plague divided five parts town oran thousands rats initially unnoticed populace begin die streets hysteria develops soon afterward causing local newspapers report incident authorities responding public pressure order collection cremation rats unaware collection catalyst spread bubonic plagu...</td>\n",
       "    </tr>\n",
       "  </tbody>\n",
       "</table>\n",
       "</div>"
      ],
      "text/plain": [
       "  Genre_02  \\\n",
       "0  Fiction   \n",
       "1  Fiction   \n",
       "2    Novel   \n",
       "\n",
       "                                                                                                                                                                                                                                                                                                  Plot_summary  \\\n",
       "0   Old Major, the old boar on the Manor Farm, calls the animals on the farm for a meeting, where he compares the humans to parasites and teaches the animals a revolutionary song, 'Beasts of England'. When Major dies, two young pigs, Snowball and Napoleon, assume command and turn his dream into a p...   \n",
       "1   Alex, a teenager living in near-future England, leads his gang on nightly orgies of opportunistic, random \"ultra-violence.\" Alex's friends (\"droogs\" in the novel's Anglo-Russian slang, Nadsat) are: Dim, a slow-witted bruiser who is the gang's muscle; Georgie, an ambitious second-in-command; and...   \n",
       "2   The text of The Plague is divided into five parts. In the town of Oran, thousands of rats, initially unnoticed by the populace, begin to die in the streets. A hysteria develops soon afterward, causing the local newspapers to report the incident. Authorities responding to public pressure order t...   \n",
       "\n",
       "                                                                                                                                                                                                                                                                                            Clean_Plot_summary  \n",
       "0  old major old boar manor farm calls animals farm meeting compares humans parasites teaches animals revolutionary song beasts england major dies two young pigs snowball napoleon assume command turn dream philosophy animals revolt drive drunken irresponsible mr jones farm renaming animal farm adop...  \n",
       "1  alex teenager living nearfuture england leads gang nightly orgies opportunistic random ultraviolence alexs friends droogs novels anglorussian slang nadsat dim slowwitted bruiser gangs muscle georgie ambitious secondincommand pete mostly plays along droogs indulge taste ultraviolence characterize...  \n",
       "2  text plague divided five parts town oran thousands rats initially unnoticed populace begin die streets hysteria develops soon afterward causing local newspapers report incident authorities responding public pressure order collection cremation rats unaware collection catalyst spread bubonic plagu...  "
      ]
     },
     "execution_count": 34,
     "metadata": {},
     "output_type": "execute_result"
    }
   ],
   "source": [
    "df04.head(3)"
   ]
  },
  {
   "cell_type": "code",
   "execution_count": 35,
   "id": "5e77e00b-357d-4798-ac1a-d4475c2b9d73",
   "metadata": {},
   "outputs": [
    {
     "data": {
      "text/html": [
       "<div>\n",
       "<style scoped>\n",
       "    .dataframe tbody tr th:only-of-type {\n",
       "        vertical-align: middle;\n",
       "    }\n",
       "\n",
       "    .dataframe tbody tr th {\n",
       "        vertical-align: top;\n",
       "    }\n",
       "\n",
       "    .dataframe thead th {\n",
       "        text-align: right;\n",
       "    }\n",
       "</style>\n",
       "<table border=\"1\" class=\"dataframe\">\n",
       "  <thead>\n",
       "    <tr style=\"text-align: right;\">\n",
       "      <th></th>\n",
       "      <th>Genre_02</th>\n",
       "      <th>Clean_Plot_summary</th>\n",
       "    </tr>\n",
       "  </thead>\n",
       "  <tbody>\n",
       "    <tr>\n",
       "      <th>53</th>\n",
       "      <td>Fiction</td>\n",
       "      <td>teenager matt dodson applies join prestigious space patrol number physical mental ethical tests accepted cadet makes friends fellow recruits william tex jarman venusborn oscar jensen pierre armand ganymede first roommate girard burke arrogant son wealthy spaceship builder transported orbiting s...</td>\n",
       "    </tr>\n",
       "    <tr>\n",
       "      <th>369</th>\n",
       "      <td>Fiction</td>\n",
       "      <td>title character fifteenyearold boy lives small town us state texas friend jesus navarro commits suicide killing sixteen bullying schoolmates suspicion falls vernon becomes something scapegoat small hometown martirio fearing death penalty goes run mexico</td>\n",
       "    </tr>\n",
       "    <tr>\n",
       "      <th>2891</th>\n",
       "      <td>Novel</td>\n",
       "      <td>early  jenkins joins regiment wales second lieutenant introduced commanding officer officious captain gwatkin alcoholic lieutenant bithel battalion moved northern ireland gwatkin disastrously muddles instructions exercise snap inspection general liddament en route training course aldershot nick ...</td>\n",
       "    </tr>\n",
       "  </tbody>\n",
       "</table>\n",
       "</div>"
      ],
      "text/plain": [
       "     Genre_02  \\\n",
       "53    Fiction   \n",
       "369   Fiction   \n",
       "2891    Novel   \n",
       "\n",
       "                                                                                                                                                                                                                                                                                               Clean_Plot_summary  \n",
       "53     teenager matt dodson applies join prestigious space patrol number physical mental ethical tests accepted cadet makes friends fellow recruits william tex jarman venusborn oscar jensen pierre armand ganymede first roommate girard burke arrogant son wealthy spaceship builder transported orbiting s...  \n",
       "369                                                 title character fifteenyearold boy lives small town us state texas friend jesus navarro commits suicide killing sixteen bullying schoolmates suspicion falls vernon becomes something scapegoat small hometown martirio fearing death penalty goes run mexico  \n",
       "2891  early  jenkins joins regiment wales second lieutenant introduced commanding officer officious captain gwatkin alcoholic lieutenant bithel battalion moved northern ireland gwatkin disastrously muddles instructions exercise snap inspection general liddament en route training course aldershot nick ...  "
      ]
     },
     "execution_count": 35,
     "metadata": {},
     "output_type": "execute_result"
    }
   ],
   "source": [
    "# shuffle the data before working with it\n",
    "df05 = df04[['Genre_02','Clean_Plot_summary']].sample(frac=1.0,random_state=33)\n",
    "df05.head(3)"
   ]
  },
  {
   "cell_type": "code",
   "execution_count": 36,
   "id": "2d7dd927-a3af-45e6-b28b-73fee1221b76",
   "metadata": {},
   "outputs": [
    {
     "data": {
      "text/plain": [
       "2"
      ]
     },
     "execution_count": 36,
     "metadata": {},
     "output_type": "execute_result"
    }
   ],
   "source": [
    "len(df05.Genre_02.value_counts())"
   ]
  },
  {
   "cell_type": "code",
   "execution_count": 37,
   "id": "4c297d1d-8e57-4936-80d0-f7b7c4f45c01",
   "metadata": {},
   "outputs": [],
   "source": [
    "# create new, regular indices\n",
    "df05.reset_index(drop=True,inplace=True)"
   ]
  },
  {
   "cell_type": "code",
   "execution_count": 38,
   "id": "e7f2fea9-dca9-46ed-aca8-799e58cfab85",
   "metadata": {},
   "outputs": [
    {
     "data": {
      "text/html": [
       "<div>\n",
       "<style scoped>\n",
       "    .dataframe tbody tr th:only-of-type {\n",
       "        vertical-align: middle;\n",
       "    }\n",
       "\n",
       "    .dataframe tbody tr th {\n",
       "        vertical-align: top;\n",
       "    }\n",
       "\n",
       "    .dataframe thead th {\n",
       "        text-align: right;\n",
       "    }\n",
       "</style>\n",
       "<table border=\"1\" class=\"dataframe\">\n",
       "  <thead>\n",
       "    <tr style=\"text-align: right;\">\n",
       "      <th></th>\n",
       "      <th>Genre_02</th>\n",
       "      <th>Clean_Plot_summary</th>\n",
       "    </tr>\n",
       "  </thead>\n",
       "  <tbody>\n",
       "    <tr>\n",
       "      <th>0</th>\n",
       "      <td>Fiction</td>\n",
       "      <td>teenager matt dodson applies join prestigious space patrol number physical mental ethical tests accepted cadet makes friends fellow recruits william tex jarman venusborn oscar jensen pierre armand ganymede first roommate girard burke arrogant son wealthy spaceship builder transported orbiting s...</td>\n",
       "    </tr>\n",
       "    <tr>\n",
       "      <th>1</th>\n",
       "      <td>Fiction</td>\n",
       "      <td>title character fifteenyearold boy lives small town us state texas friend jesus navarro commits suicide killing sixteen bullying schoolmates suspicion falls vernon becomes something scapegoat small hometown martirio fearing death penalty goes run mexico</td>\n",
       "    </tr>\n",
       "    <tr>\n",
       "      <th>2</th>\n",
       "      <td>Novel</td>\n",
       "      <td>early  jenkins joins regiment wales second lieutenant introduced commanding officer officious captain gwatkin alcoholic lieutenant bithel battalion moved northern ireland gwatkin disastrously muddles instructions exercise snap inspection general liddament en route training course aldershot nick ...</td>\n",
       "    </tr>\n",
       "  </tbody>\n",
       "</table>\n",
       "</div>"
      ],
      "text/plain": [
       "  Genre_02  \\\n",
       "0  Fiction   \n",
       "1  Fiction   \n",
       "2    Novel   \n",
       "\n",
       "                                                                                                                                                                                                                                                                                            Clean_Plot_summary  \n",
       "0   teenager matt dodson applies join prestigious space patrol number physical mental ethical tests accepted cadet makes friends fellow recruits william tex jarman venusborn oscar jensen pierre armand ganymede first roommate girard burke arrogant son wealthy spaceship builder transported orbiting s...  \n",
       "1                                                title character fifteenyearold boy lives small town us state texas friend jesus navarro commits suicide killing sixteen bullying schoolmates suspicion falls vernon becomes something scapegoat small hometown martirio fearing death penalty goes run mexico  \n",
       "2  early  jenkins joins regiment wales second lieutenant introduced commanding officer officious captain gwatkin alcoholic lieutenant bithel battalion moved northern ireland gwatkin disastrously muddles instructions exercise snap inspection general liddament en route training course aldershot nick ...  "
      ]
     },
     "execution_count": 38,
     "metadata": {},
     "output_type": "execute_result"
    }
   ],
   "source": [
    "df05.head(3)"
   ]
  },
  {
   "cell_type": "code",
   "execution_count": 39,
   "id": "d38784d5-fc42-4750-85e4-41dcb5a9e741",
   "metadata": {},
   "outputs": [
    {
     "data": {
      "text/plain": [
       "(4283, 2)"
      ]
     },
     "execution_count": 39,
     "metadata": {},
     "output_type": "execute_result"
    }
   ],
   "source": [
    "df05.shape"
   ]
  },
  {
   "cell_type": "code",
   "execution_count": 40,
   "id": "cba2ae91-b46e-4de6-a060-0d4a451b5881",
   "metadata": {},
   "outputs": [],
   "source": [
    "# preprocessing --> unique summaries\n",
    "data = df05['Clean_Plot_summary'].map(word_tokenize).values\n",
    "# create a set from nested comprehension --> unique words\n",
    "total_vocabulary = set(word for summary in data for word in summary) "
   ]
  },
  {
   "cell_type": "code",
   "execution_count": 41,
   "id": "cbec87e8-75b9-474a-a2a8-b5baa38bcc36",
   "metadata": {},
   "outputs": [
    {
     "name": "stdout",
     "output_type": "stream",
     "text": [
      "There are 71476 unique words in the dataset.\n",
      "There are 4283 unique tweets in the dataset.\n"
     ]
    }
   ],
   "source": [
    "print('There are {} unique words in the dataset.'.format(len(total_vocabulary)))\n",
    "print('There are {} unique tweets in the dataset.'.format(len(data)))"
   ]
  },
  {
   "cell_type": "code",
   "execution_count": 42,
   "id": "f3b8e213-0b58-4f77-b659-e2704c3256f9",
   "metadata": {},
   "outputs": [],
   "source": [
    "# set the genre as our target\n",
    "target = df05['Genre_02']"
   ]
  },
  {
   "cell_type": "code",
   "execution_count": 43,
   "id": "22f631a9-d3d8-4351-b3b7-4b98e2ad33e2",
   "metadata": {},
   "outputs": [],
   "source": [
    "# use one hot encoding at the target\n",
    "y = pd.get_dummies(target).values"
   ]
  },
  {
   "cell_type": "code",
   "execution_count": 44,
   "id": "cce95178-b022-4676-8e04-dc1007f972cd",
   "metadata": {},
   "outputs": [
    {
     "data": {
      "text/plain": [
       "array([[ True, False],\n",
       "       [ True, False],\n",
       "       [False,  True],\n",
       "       ...,\n",
       "       [False,  True],\n",
       "       [ True, False],\n",
       "       [ True, False]])"
      ]
     },
     "execution_count": 44,
     "metadata": {},
     "output_type": "execute_result"
    }
   ],
   "source": [
    "y"
   ]
  },
  {
   "cell_type": "code",
   "execution_count": 45,
   "id": "7a434fe5-7900-448e-99fd-8718a953dc9f",
   "metadata": {},
   "outputs": [],
   "source": [
    "# use keras to create a tokenizer object\n",
    "#       limit to the num_words most important ones\n",
    "tokenizer = text.Tokenizer(num_words=20000)  \n",
    "tokenizer.fit_on_texts(list(df05['Clean_Plot_summary']))\n",
    "tokenized_texts = tokenizer.texts_to_sequences(df05['Clean_Plot_summary'])\n",
    "X = sequence.pad_sequences(tokenized_texts, maxlen=100)"
   ]
  },
  {
   "cell_type": "code",
   "execution_count": 46,
   "id": "c43c02b3-1bac-4feb-bbc5-1a98a11b2247",
   "metadata": {},
   "outputs": [],
   "source": [
    "X_train, X_test, y_train, y_test = train_test_split(X, y, test_size=0.2,random_state=33)"
   ]
  },
  {
   "cell_type": "code",
   "execution_count": 47,
   "id": "5383362a-ec74-451d-b2c8-ab47f3d0102b",
   "metadata": {},
   "outputs": [
    {
     "name": "stdout",
     "output_type": "stream",
     "text": [
      "WARNING:tensorflow:From C:\\Users\\dietm\\anaconda3\\lib\\site-packages\\keras\\src\\backend.py:873: The name tf.get_default_graph is deprecated. Please use tf.compat.v1.get_default_graph instead.\n",
      "\n"
     ]
    }
   ],
   "source": [
    "# building the model\n",
    "# create my NN model\n",
    "model = Sequential()\n",
    "\n",
    "embedding_size = 128\n",
    "model.add(Embedding(len(total_vocabulary), embedding_size))\n",
    "model.add(LSTM(25, return_sequences=True))\n",
    "model.add(GlobalMaxPool1D())\n",
    "model.add(Dropout(0.5))\n",
    "model.add(Dense(50, activation='relu'))\n",
    "model.add(Dropout(0.5))\n",
    "model.add(Dense(50, activation='relu'))\n",
    "model.add(Dropout(0.5))\n",
    "# use 2 because we have 2 categories\n",
    "model.add(Dense(2, activation='softmax'))  "
   ]
  },
  {
   "cell_type": "code",
   "execution_count": 48,
   "id": "b4295aea-0af2-49df-ab70-e1173938108a",
   "metadata": {},
   "outputs": [
    {
     "name": "stdout",
     "output_type": "stream",
     "text": [
      "WARNING:tensorflow:From C:\\Users\\dietm\\anaconda3\\lib\\site-packages\\keras\\src\\optimizers\\__init__.py:309: The name tf.train.Optimizer is deprecated. Please use tf.compat.v1.train.Optimizer instead.\n",
      "\n",
      "Model: \"sequential\"\n",
      "_________________________________________________________________\n",
      " Layer (type)                Output Shape              Param #   \n",
      "=================================================================\n",
      " embedding (Embedding)       (None, None, 128)         9148928   \n",
      "                                                                 \n",
      " lstm (LSTM)                 (None, None, 25)          15400     \n",
      "                                                                 \n",
      " global_max_pooling1d (Glob  (None, 25)                0         \n",
      " alMaxPooling1D)                                                 \n",
      "                                                                 \n",
      " dropout (Dropout)           (None, 25)                0         \n",
      "                                                                 \n",
      " dense (Dense)               (None, 50)                1300      \n",
      "                                                                 \n",
      " dropout_1 (Dropout)         (None, 50)                0         \n",
      "                                                                 \n",
      " dense_1 (Dense)             (None, 50)                2550      \n",
      "                                                                 \n",
      " dropout_2 (Dropout)         (None, 50)                0         \n",
      "                                                                 \n",
      " dense_2 (Dense)             (None, 2)                 102       \n",
      "                                                                 \n",
      "=================================================================\n",
      "Total params: 9168280 (34.97 MB)\n",
      "Trainable params: 9168280 (34.97 MB)\n",
      "Non-trainable params: 0 (0.00 Byte)\n",
      "_________________________________________________________________\n"
     ]
    }
   ],
   "source": [
    "# training the model\n",
    "model.compile(loss='categorical_crossentropy',optimizer='Adam',metrics=['Accuracy'])\n",
    "\n",
    "# check the shape\n",
    "model.summary() "
   ]
  },
  {
   "cell_type": "code",
   "execution_count": 49,
   "id": "d7af3800-585e-4c00-b235-8e8c9e9890bb",
   "metadata": {},
   "outputs": [
    {
     "name": "stdout",
     "output_type": "stream",
     "text": [
      "Epoch 1/15\n",
      "WARNING:tensorflow:From C:\\Users\\dietm\\anaconda3\\lib\\site-packages\\keras\\src\\utils\\tf_utils.py:492: The name tf.ragged.RaggedTensorValue is deprecated. Please use tf.compat.v1.ragged.RaggedTensorValue instead.\n",
      "\n",
      "WARNING:tensorflow:From C:\\Users\\dietm\\anaconda3\\lib\\site-packages\\keras\\src\\engine\\base_layer_utils.py:384: The name tf.executing_eagerly_outside_functions is deprecated. Please use tf.compat.v1.executing_eagerly_outside_functions instead.\n",
      "\n",
      "97/97 [==============================] - 17s 144ms/step - loss: 0.6929 - Accuracy: 0.5177 - val_loss: 0.6909 - val_Accuracy: 0.5190\n",
      "Epoch 2/15\n",
      "97/97 [==============================] - 13s 135ms/step - loss: 0.6832 - Accuracy: 0.5592 - val_loss: 0.6702 - val_Accuracy: 0.5977\n",
      "Epoch 3/15\n",
      "97/97 [==============================] - 13s 135ms/step - loss: 0.5782 - Accuracy: 0.7236 - val_loss: 0.6532 - val_Accuracy: 0.6181\n",
      "Epoch 4/15\n",
      "97/97 [==============================] - 13s 136ms/step - loss: 0.2711 - Accuracy: 0.9066 - val_loss: 0.8493 - val_Accuracy: 0.6064\n",
      "Epoch 5/15\n",
      "97/97 [==============================] - 13s 135ms/step - loss: 0.1026 - Accuracy: 0.9692 - val_loss: 2.0985 - val_Accuracy: 0.6268\n",
      "Epoch 6/15\n",
      "97/97 [==============================] - 13s 137ms/step - loss: 0.0560 - Accuracy: 0.9848 - val_loss: 2.0007 - val_Accuracy: 0.6297\n",
      "Epoch 7/15\n",
      "97/97 [==============================] - 13s 137ms/step - loss: 0.0198 - Accuracy: 0.9929 - val_loss: 3.0742 - val_Accuracy: 0.6268\n",
      "Epoch 8/15\n",
      "97/97 [==============================] - 13s 137ms/step - loss: 0.0209 - Accuracy: 0.9935 - val_loss: 2.5679 - val_Accuracy: 0.6414\n",
      "Epoch 9/15\n",
      "97/97 [==============================] - 13s 135ms/step - loss: 0.0181 - Accuracy: 0.9925 - val_loss: 3.5884 - val_Accuracy: 0.6239\n",
      "Epoch 10/15\n",
      "97/97 [==============================] - 13s 138ms/step - loss: 0.0202 - Accuracy: 0.9945 - val_loss: 3.4322 - val_Accuracy: 0.6210\n",
      "Epoch 11/15\n",
      "97/97 [==============================] - 13s 136ms/step - loss: 0.0183 - Accuracy: 0.9958 - val_loss: 1.9520 - val_Accuracy: 0.6327\n",
      "Epoch 12/15\n",
      "97/97 [==============================] - 13s 138ms/step - loss: 0.0199 - Accuracy: 0.9964 - val_loss: 3.0406 - val_Accuracy: 0.6268\n",
      "Epoch 13/15\n",
      "97/97 [==============================] - 13s 137ms/step - loss: 0.0276 - Accuracy: 0.9938 - val_loss: 3.9640 - val_Accuracy: 0.6152\n",
      "Epoch 14/15\n",
      "97/97 [==============================] - 13s 139ms/step - loss: 0.0234 - Accuracy: 0.9938 - val_loss: 3.1784 - val_Accuracy: 0.6239\n",
      "Epoch 15/15\n",
      "97/97 [==============================] - 13s 138ms/step - loss: 0.0055 - Accuracy: 0.9990 - val_loss: 4.4275 - val_Accuracy: 0.6093\n"
     ]
    },
    {
     "data": {
      "text/plain": [
       "<keras.src.callbacks.History at 0x20b9b183e20>"
      ]
     },
     "execution_count": 49,
     "metadata": {},
     "output_type": "execute_result"
    }
   ],
   "source": [
    "model.fit(X_train, y_train, epochs=15, batch_size=32, validation_split=0.1)"
   ]
  },
  {
   "cell_type": "code",
   "execution_count": 50,
   "id": "c37c9f47-8229-4518-86a2-4c90b83e5d10",
   "metadata": {},
   "outputs": [
    {
     "name": "stdout",
     "output_type": "stream",
     "text": [
      "27/27 [==============================] - 1s 12ms/step\n",
      "Overall accuracy of RNN: 0.645\n"
     ]
    }
   ],
   "source": [
    " # get my predictions\n",
    "y_pred = model.predict(X_test)\n",
    "y_pred=np.argmax(y_pred, axis=1)\n",
    "y_test=np.argmax(y_test, axis=1)\n",
    "acc = accuracy_score(y_test,y_pred) \n",
    "print('Overall accuracy of RNN: {:.3f}'.format(acc))"
   ]
  },
  {
   "cell_type": "code",
   "execution_count": 51,
   "id": "8c7d0dd7-1ecd-4cd1-bc09-8561805a6efd",
   "metadata": {},
   "outputs": [
    {
     "data": {
      "text/plain": [
       "array([[287, 144],\n",
       "       [160, 266]], dtype=int64)"
      ]
     },
     "execution_count": 51,
     "metadata": {},
     "output_type": "execute_result"
    }
   ],
   "source": [
    "cm = confusion_matrix(y_test, y_pred)\n",
    "cm"
   ]
  },
  {
   "cell_type": "code",
   "execution_count": 52,
   "id": "61993fa7-40fe-443a-a5b2-1608ec878f44",
   "metadata": {},
   "outputs": [
    {
     "data": {
      "text/plain": [
       "<Axes: >"
      ]
     },
     "execution_count": 52,
     "metadata": {},
     "output_type": "execute_result"
    },
    {
     "data": {
      "image/png": "[encoded data removed]",
      "text/plain": [
       "<Figure size 640x480 with 2 Axes>"
      ]
     },
     "metadata": {},
     "output_type": "display_data"
    }
   ],
   "source": [
    "# confusion-matrix visualization\n",
    "sns.heatmap(cm, annot=True, cmap='Greens')"
   ]
  },
  {
   "cell_type": "code",
   "execution_count": 53,
   "id": "bf8cb585-7498-4a91-a6db-dc4fcea7bada",
   "metadata": {},
   "outputs": [
    {
     "name": "stdout",
     "output_type": "stream",
     "text": [
      "Accuracy is 0.6452742123687282\n",
      "F1 score is 0.645111832851551\n",
      "Precision is 0.645399716634899\n",
      "Recall is 0.6452742123687282\n"
     ]
    }
   ],
   "source": [
    "# get test metrics\n",
    "preds = model(X_test)\n",
    "preds = preds.numpy()\n",
    "preds = preds>0.5\n",
    "preds=np.argmax(preds, axis=1)\n",
    "print(\"Accuracy is\", metrics.accuracy_score(y_test, preds))\n",
    "print(\"F1 score is\", metrics.f1_score(y_test, preds,average='weighted'))\n",
    "print(\"Precision is\", metrics.precision_score(y_test, preds,average='weighted'))\n",
    "print(\"Recall is\", metrics.recall_score(y_test, preds,average='weighted'))"
   ]
  },
  {
   "cell_type": "code",
   "execution_count": null,
   "id": "18f1ad1a-8a80-41d5-a80d-a340ac25e52c",
   "metadata": {},
   "outputs": [],
   "source": []
  },
  {
   "cell_type": "code",
   "execution_count": null,
   "id": "8e24c255-6ce3-4fe8-b153-aea20c491737",
   "metadata": {},
   "outputs": [],
   "source": []
  }
 ],
 "metadata": {
  "kernelspec": {
   "display_name": "Python 3 (ipykernel)",
   "language": "python",
   "name": "python3"
  },
  "language_info": {
   "codemirror_mode": {
    "name": "ipython",
    "version": 3
   },
   "file_extension": ".py",
   "mimetype": "text/x-python",
   "name": "python",
   "nbconvert_exporter": "python",
   "pygments_lexer": "ipython3",
   "version": "3.10.13"
  },
  "widgets": {
   "application/vnd.jupyter.widget-state+json": {
    "state": {},
    "version_major": 2,
    "version_minor": 0
   }
  }
 },
 "nbformat": 4,
 "nbformat_minor": 5
}

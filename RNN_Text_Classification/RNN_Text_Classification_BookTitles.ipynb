{
 "cells": [
  {
   "cell_type": "code",
   "execution_count": 1,
   "id": "df2764d2-54d5-485b-b127-5191dea8cb50",
   "metadata": {},
   "outputs": [
    {
     "name": "stdout",
     "output_type": "stream",
     "text": [
      "WARNING:tensorflow:From C:\\Users\\dietm\\anaconda3\\lib\\site-packages\\keras\\src\\losses.py:2976: The name tf.losses.sparse_softmax_cross_entropy is deprecated. Please use tf.compat.v1.losses.sparse_softmax_cross_entropy instead.\n",
      "\n"
     ]
    }
   ],
   "source": [
    "\n",
    "import numpy as np\n",
    "import pandas as pd\n",
    "import matplotlib.pyplot as plt\n",
    "import seaborn as sns\n",
    "import json\n",
    "import re\n",
    "import keras\n",
    "import nltk\n",
    "import string\n",
    "from nltk.corpus import stopwords\n",
    "from nltk import word_tokenize\n",
    "from nltk.stem import WordNetLemmatizer,wordnet\n",
    "import tensorflow as tf\n",
    "from tensorflow.keras.layers import TextVectorization\n",
    "import keras\n",
    "from keras import layers\n",
    "from sklearn import metrics\n",
    "from sklearn.preprocessing import LabelEncoder\n",
    "from keras.preprocessing.sequence import pad_sequences\n",
    "from keras.layers import Input, Dense, LSTM, Embedding\n",
    "from keras.layers import Dropout, Activation, Bidirectional, GlobalMaxPool1D\n",
    "from keras.models import Sequential\n",
    "from keras import initializers, regularizers, constraints, optimizers, layers\n",
    "from keras.preprocessing import text, sequence\n",
    "from sklearn.model_selection import train_test_split\n",
    "from sklearn.metrics import accuracy_score, confusion_matrix\n",
    "# Run in case warnings should be ignored\n",
    "import warnings\n",
    "warnings.filterwarnings('ignore')\n",
    "pd.set_option('display.max_colwidth',300)\n"
   ]
  },
  {
   "cell_type": "code",
   "execution_count": 2,
   "id": "9abac6e3-d097-4747-becd-ef550f1bc84d",
   "metadata": {},
   "outputs": [],
   "source": [
    "# i want to classify text with RNN (Recurrant Neural Network)\n",
    "# get data from txt-file\n",
    "'''Wiki_article_ID\n",
    "Freebase_ID\n",
    "Book_title\n",
    "Author\n",
    "Publication_date\n",
    "Book_genres (Freebase ID:name tuples)\n",
    "Plot_summary'''\n",
    "df01 = pd.read_csv('booksummaries.txt', sep=\"\\t\", header=None)\n",
    "df01.columns = ['Wiki_article_ID', 'Freebase_ID', 'Book_title', 'Author','Publication_date','Book_genres','Plot_summary']\n"
   ]
  },
  {
   "cell_type": "code",
   "execution_count": 3,
   "id": "f4192035-96bc-4835-9bd1-159bdf4a8399",
   "metadata": {},
   "outputs": [
    {
     "data": {
      "text/html": [
       "<div>\n",
       "<style scoped>\n",
       "    .dataframe tbody tr th:only-of-type {\n",
       "        vertical-align: middle;\n",
       "    }\n",
       "\n",
       "    .dataframe tbody tr th {\n",
       "        vertical-align: top;\n",
       "    }\n",
       "\n",
       "    .dataframe thead th {\n",
       "        text-align: right;\n",
       "    }\n",
       "</style>\n",
       "<table border=\"1\" class=\"dataframe\">\n",
       "  <thead>\n",
       "    <tr style=\"text-align: right;\">\n",
       "      <th></th>\n",
       "      <th>Wiki_article_ID</th>\n",
       "      <th>Freebase_ID</th>\n",
       "      <th>Book_title</th>\n",
       "      <th>Author</th>\n",
       "      <th>Publication_date</th>\n",
       "      <th>Book_genres</th>\n",
       "      <th>Plot_summary</th>\n",
       "    </tr>\n",
       "  </thead>\n",
       "  <tbody>\n",
       "    <tr>\n",
       "      <th>0</th>\n",
       "      <td>620</td>\n",
       "      <td>/m/0hhy</td>\n",
       "      <td>Animal Farm</td>\n",
       "      <td>George Orwell</td>\n",
       "      <td>1945-08-17</td>\n",
       "      <td>{\"/m/016lj8\": \"Roman \\u00e0 clef\", \"/m/06nbt\": \"Satire\", \"/m/0dwly\": \"Children's literature\", \"/m/014dfn\": \"Speculative fiction\", \"/m/02xlf\": \"Fiction\"}</td>\n",
       "      <td>Old Major, the old boar on the Manor Farm, calls the animals on the farm for a meeting, where he compares the humans to parasites and teaches the animals a revolutionary song, 'Beasts of England'. When Major dies, two young pigs, Snowball and Napoleon, assume command and turn his dream into a p...</td>\n",
       "    </tr>\n",
       "    <tr>\n",
       "      <th>1</th>\n",
       "      <td>843</td>\n",
       "      <td>/m/0k36</td>\n",
       "      <td>A Clockwork Orange</td>\n",
       "      <td>Anthony Burgess</td>\n",
       "      <td>1962</td>\n",
       "      <td>{\"/m/06n90\": \"Science Fiction\", \"/m/0l67h\": \"Novella\", \"/m/014dfn\": \"Speculative fiction\", \"/m/0c082\": \"Utopian and dystopian fiction\", \"/m/06nbt\": \"Satire\", \"/m/02xlf\": \"Fiction\"}</td>\n",
       "      <td>Alex, a teenager living in near-future England, leads his gang on nightly orgies of opportunistic, random \"ultra-violence.\" Alex's friends (\"droogs\" in the novel's Anglo-Russian slang, Nadsat) are: Dim, a slow-witted bruiser who is the gang's muscle; Georgie, an ambitious second-in-command; and...</td>\n",
       "    </tr>\n",
       "    <tr>\n",
       "      <th>2</th>\n",
       "      <td>986</td>\n",
       "      <td>/m/0ldx</td>\n",
       "      <td>The Plague</td>\n",
       "      <td>Albert Camus</td>\n",
       "      <td>1947</td>\n",
       "      <td>{\"/m/02m4t\": \"Existentialism\", \"/m/02xlf\": \"Fiction\", \"/m/0pym5\": \"Absurdist fiction\", \"/m/05hgj\": \"Novel\"}</td>\n",
       "      <td>The text of The Plague is divided into five parts. In the town of Oran, thousands of rats, initially unnoticed by the populace, begin to die in the streets. A hysteria develops soon afterward, causing the local newspapers to report the incident. Authorities responding to public pressure order t...</td>\n",
       "    </tr>\n",
       "  </tbody>\n",
       "</table>\n",
       "</div>"
      ],
      "text/plain": [
       "   Wiki_article_ID Freebase_ID          Book_title           Author  \\\n",
       "0              620     /m/0hhy         Animal Farm    George Orwell   \n",
       "1              843     /m/0k36  A Clockwork Orange  Anthony Burgess   \n",
       "2              986     /m/0ldx          The Plague     Albert Camus   \n",
       "\n",
       "  Publication_date  \\\n",
       "0       1945-08-17   \n",
       "1             1962   \n",
       "2             1947   \n",
       "\n",
       "                                                                                                                                                                            Book_genres  \\\n",
       "0                              {\"/m/016lj8\": \"Roman \\u00e0 clef\", \"/m/06nbt\": \"Satire\", \"/m/0dwly\": \"Children's literature\", \"/m/014dfn\": \"Speculative fiction\", \"/m/02xlf\": \"Fiction\"}   \n",
       "1  {\"/m/06n90\": \"Science Fiction\", \"/m/0l67h\": \"Novella\", \"/m/014dfn\": \"Speculative fiction\", \"/m/0c082\": \"Utopian and dystopian fiction\", \"/m/06nbt\": \"Satire\", \"/m/02xlf\": \"Fiction\"}   \n",
       "2                                                                           {\"/m/02m4t\": \"Existentialism\", \"/m/02xlf\": \"Fiction\", \"/m/0pym5\": \"Absurdist fiction\", \"/m/05hgj\": \"Novel\"}   \n",
       "\n",
       "                                                                                                                                                                                                                                                                                                  Plot_summary  \n",
       "0   Old Major, the old boar on the Manor Farm, calls the animals on the farm for a meeting, where he compares the humans to parasites and teaches the animals a revolutionary song, 'Beasts of England'. When Major dies, two young pigs, Snowball and Napoleon, assume command and turn his dream into a p...  \n",
       "1   Alex, a teenager living in near-future England, leads his gang on nightly orgies of opportunistic, random \"ultra-violence.\" Alex's friends (\"droogs\" in the novel's Anglo-Russian slang, Nadsat) are: Dim, a slow-witted bruiser who is the gang's muscle; Georgie, an ambitious second-in-command; and...  \n",
       "2   The text of The Plague is divided into five parts. In the town of Oran, thousands of rats, initially unnoticed by the populace, begin to die in the streets. A hysteria develops soon afterward, causing the local newspapers to report the incident. Authorities responding to public pressure order t...  "
      ]
     },
     "execution_count": 3,
     "metadata": {},
     "output_type": "execute_result"
    }
   ],
   "source": [
    "df01.head(3)"
   ]
  },
  {
   "cell_type": "code",
   "execution_count": 4,
   "id": "306217c5-36f6-4fc9-b156-700951ceb2b0",
   "metadata": {},
   "outputs": [
    {
     "name": "stdout",
     "output_type": "stream",
     "text": [
      "<class 'pandas.core.frame.DataFrame'>\n",
      "RangeIndex: 16559 entries, 0 to 16558\n",
      "Data columns (total 7 columns):\n",
      " #   Column            Non-Null Count  Dtype \n",
      "---  ------            --------------  ----- \n",
      " 0   Wiki_article_ID   16559 non-null  int64 \n",
      " 1   Freebase_ID       16559 non-null  object\n",
      " 2   Book_title        16559 non-null  object\n",
      " 3   Author            14177 non-null  object\n",
      " 4   Publication_date  10949 non-null  object\n",
      " 5   Book_genres       12841 non-null  object\n",
      " 6   Plot_summary      16559 non-null  object\n",
      "dtypes: int64(1), object(6)\n",
      "memory usage: 905.7+ KB\n"
     ]
    }
   ],
   "source": [
    "df01.info()"
   ]
  },
  {
   "cell_type": "code",
   "execution_count": 5,
   "id": "4913b221-fc78-406a-829e-5ed84c305ddc",
   "metadata": {},
   "outputs": [
    {
     "data": {
      "text/plain": [
       "Wiki_article_ID        0\n",
       "Freebase_ID            0\n",
       "Book_title             0\n",
       "Author              2382\n",
       "Publication_date    5610\n",
       "Book_genres         3718\n",
       "Plot_summary           0\n",
       "dtype: int64"
      ]
     },
     "execution_count": 5,
     "metadata": {},
     "output_type": "execute_result"
    }
   ],
   "source": [
    "df01.isnull().sum()"
   ]
  },
  {
   "cell_type": "code",
   "execution_count": 6,
   "id": "e58fb08f-d304-4327-b4a5-d220ff347097",
   "metadata": {},
   "outputs": [],
   "source": [
    "# delete all the rows where 'Book_title' and 'Book_genres' are NaN\n",
    "df01 = df01.dropna(subset=['Book_genres','Book_title'])"
   ]
  },
  {
   "cell_type": "code",
   "execution_count": 7,
   "id": "d03c370d-a1b9-4f07-a9e9-a496ca7c86f1",
   "metadata": {},
   "outputs": [
    {
     "data": {
      "text/plain": [
       "Wiki_article_ID        0\n",
       "Freebase_ID            0\n",
       "Book_title             0\n",
       "Author               786\n",
       "Publication_date    3170\n",
       "Book_genres            0\n",
       "Plot_summary           0\n",
       "dtype: int64"
      ]
     },
     "execution_count": 7,
     "metadata": {},
     "output_type": "execute_result"
    }
   ],
   "source": [
    "df01.isnull().sum()"
   ]
  },
  {
   "cell_type": "code",
   "execution_count": 8,
   "id": "5c3a52c5-eb38-4902-9f3b-b11d2d6e917b",
   "metadata": {},
   "outputs": [],
   "source": [
    "# convert 'Book_genres' from json format to list format\n",
    "df01['Book_genres'] = df01['Book_genres'].map(lambda Book_genres : list(json.loads(Book_genres).values()))"
   ]
  },
  {
   "cell_type": "code",
   "execution_count": 9,
   "id": "7e0f6662-ebaa-4282-8739-3d0572734ebe",
   "metadata": {},
   "outputs": [
    {
     "data": {
      "text/plain": [
       "Book_genres\n",
       "[Novel]                                                                        839\n",
       "[Science Fiction, Speculative fiction]                                         567\n",
       "[Science Fiction]                                                              526\n",
       "[Fiction]                                                                      402\n",
       "[Fiction, Novel]                                                               381\n",
       "                                                                              ... \n",
       "[Science Fiction, Speculative fiction, Mystery, Fantasy, Fiction, Suspense]      1\n",
       "[Speculative fiction, Fantasy, Fiction, Literary fiction]                        1\n",
       "[Fiction, Graphic novel, Anti-nuclear]                                           1\n",
       "[Thriller, Spy fiction, Adventure novel]                                         1\n",
       "[Epistolary novel, Speculative fiction]                                          1\n",
       "Name: count, Length: 2154, dtype: int64"
      ]
     },
     "execution_count": 9,
     "metadata": {},
     "output_type": "execute_result"
    }
   ],
   "source": [
    "df01['Book_genres'].value_counts()"
   ]
  },
  {
   "cell_type": "code",
   "execution_count": 10,
   "id": "accbbaf0-3e65-4e28-8a61-275735136dba",
   "metadata": {},
   "outputs": [
    {
     "data": {
      "text/plain": [
       "array([list(['Roman à clef', 'Satire', \"Children's literature\", 'Speculative fiction', 'Fiction']),\n",
       "       list(['Science Fiction', 'Novella', 'Speculative fiction', 'Utopian and dystopian fiction', 'Satire', 'Fiction']),\n",
       "       list(['Existentialism', 'Fiction', 'Absurdist fiction', 'Novel']),\n",
       "       ..., list(['Thriller', 'Fiction']), list(['Autobiography']),\n",
       "       list(['Epistolary novel', 'Speculative fiction'])], dtype=object)"
      ]
     },
     "execution_count": 10,
     "metadata": {},
     "output_type": "execute_result"
    }
   ],
   "source": [
    "df01.Book_genres.values"
   ]
  },
  {
   "cell_type": "code",
   "execution_count": 11,
   "id": "d0684791-cf75-4e25-b660-599f4b9bc766",
   "metadata": {},
   "outputs": [
    {
     "data": {
      "text/plain": [
       "0                            [Roman à clef, Satire, Children's literature, Speculative fiction, Fiction]\n",
       "1        [Science Fiction, Novella, Speculative fiction, Utopian and dystopian fiction, Satire, Fiction]\n",
       "2                                                    [Existentialism, Fiction, Absurdist fiction, Novel]\n",
       "4                         [Hard science fiction, Science Fiction, Speculative fiction, Fantasy, Fiction]\n",
       "5                                                                              [War novel, Roman à clef]\n",
       "                                                      ...                                               \n",
       "16549                                                                                  [Science Fiction]\n",
       "16551                                                                      [Thriller, Fiction, Suspense]\n",
       "16555                                                                                [Thriller, Fiction]\n",
       "16556                                                                                    [Autobiography]\n",
       "16558                                                            [Epistolary novel, Speculative fiction]\n",
       "Name: Book_genres, Length: 12841, dtype: object"
      ]
     },
     "execution_count": 11,
     "metadata": {},
     "output_type": "execute_result"
    }
   ],
   "source": [
    "df01.Book_genres"
   ]
  },
  {
   "cell_type": "code",
   "execution_count": 12,
   "id": "368b1b58-2605-4144-8f0e-d510c49ce3fe",
   "metadata": {},
   "outputs": [],
   "source": [
    "list_genre_titles_01 = []\n",
    "list_genre_titles_02 = []"
   ]
  },
  {
   "cell_type": "code",
   "execution_count": 13,
   "id": "1b269ee5-cf8c-4386-b8b5-fcc1fc6990cd",
   "metadata": {},
   "outputs": [],
   "source": [
    "for i in df01.Book_genres.values:\n",
    "    list_genre_titles_01.append(str(i[0]))\n",
    "    list_genre_titles_02.append(str(i[-1]))"
   ]
  },
  {
   "cell_type": "code",
   "execution_count": 14,
   "id": "46a919a4-9288-45c1-bc55-b32cac765049",
   "metadata": {},
   "outputs": [],
   "source": [
    "# most frequently occurring values in Book_genres with the first and last of the lists\n",
    "df01['Genre_01'] = list_genre_titles_01\n",
    "df01['Genre_02'] = list_genre_titles_02"
   ]
  },
  {
   "cell_type": "code",
   "execution_count": 15,
   "id": "1d5233cd-ace8-43cc-8b7b-deb2d1282f00",
   "metadata": {},
   "outputs": [
    {
     "data": {
      "text/html": [
       "<div>\n",
       "<style scoped>\n",
       "    .dataframe tbody tr th:only-of-type {\n",
       "        vertical-align: middle;\n",
       "    }\n",
       "\n",
       "    .dataframe tbody tr th {\n",
       "        vertical-align: top;\n",
       "    }\n",
       "\n",
       "    .dataframe thead th {\n",
       "        text-align: right;\n",
       "    }\n",
       "</style>\n",
       "<table border=\"1\" class=\"dataframe\">\n",
       "  <thead>\n",
       "    <tr style=\"text-align: right;\">\n",
       "      <th></th>\n",
       "      <th>Genre_01</th>\n",
       "      <th>Genre_02</th>\n",
       "      <th>Book_title</th>\n",
       "    </tr>\n",
       "  </thead>\n",
       "  <tbody>\n",
       "    <tr>\n",
       "      <th>0</th>\n",
       "      <td>Roman à clef</td>\n",
       "      <td>Fiction</td>\n",
       "      <td>Animal Farm</td>\n",
       "    </tr>\n",
       "    <tr>\n",
       "      <th>1</th>\n",
       "      <td>Science Fiction</td>\n",
       "      <td>Fiction</td>\n",
       "      <td>A Clockwork Orange</td>\n",
       "    </tr>\n",
       "    <tr>\n",
       "      <th>2</th>\n",
       "      <td>Existentialism</td>\n",
       "      <td>Novel</td>\n",
       "      <td>The Plague</td>\n",
       "    </tr>\n",
       "  </tbody>\n",
       "</table>\n",
       "</div>"
      ],
      "text/plain": [
       "          Genre_01 Genre_02          Book_title\n",
       "0     Roman à clef  Fiction         Animal Farm\n",
       "1  Science Fiction  Fiction  A Clockwork Orange\n",
       "2   Existentialism    Novel          The Plague"
      ]
     },
     "execution_count": 15,
     "metadata": {},
     "output_type": "execute_result"
    }
   ],
   "source": [
    "df02 = df01[['Genre_01','Genre_02','Book_title']]\n",
    "df02.head(3)"
   ]
  },
  {
   "cell_type": "code",
   "execution_count": 16,
   "id": "dfb6917b-ea38-4ba1-841a-09153a0de7de",
   "metadata": {},
   "outputs": [
    {
     "data": {
      "text/plain": [
       "Genre_01\n",
       "Science Fiction           2551\n",
       "Speculative fiction       1438\n",
       "Children's literature     1152\n",
       "Fiction                    943\n",
       "Novel                      925\n",
       "Mystery                    734\n",
       "Crime Fiction              672\n",
       "Fantasy                    624\n",
       "Thriller                   568\n",
       "Young adult literature     321\n",
       "Name: count, dtype: int64"
      ]
     },
     "execution_count": 16,
     "metadata": {},
     "output_type": "execute_result"
    }
   ],
   "source": [
    "# Genre_01 has a better distribution to work with\n",
    "df02.Genre_01.value_counts().head(10)"
   ]
  },
  {
   "cell_type": "code",
   "execution_count": 17,
   "id": "2da68854-3b76-440a-8bac-4671da7ec49f",
   "metadata": {},
   "outputs": [
    {
     "data": {
      "text/plain": [
       "Genre_02\n",
       "Fiction                   2593\n",
       "Novel                     2146\n",
       "Fantasy                    943\n",
       "Speculative fiction        899\n",
       "Children's literature      713\n",
       "Suspense                   686\n",
       "Historical novel           637\n",
       "Science Fiction            575\n",
       "Young adult literature     418\n",
       "Adventure novel            240\n",
       "Name: count, dtype: int64"
      ]
     },
     "execution_count": 17,
     "metadata": {},
     "output_type": "execute_result"
    }
   ],
   "source": [
    "df02.Genre_02.value_counts().head(10)"
   ]
  },
  {
   "cell_type": "code",
   "execution_count": 18,
   "id": "38e518f9-55aa-49b6-9983-e349225448b0",
   "metadata": {},
   "outputs": [
    {
     "data": {
      "text/plain": [
       "Index(['Science Fiction', 'Speculative fiction', 'Children's literature',\n",
       "       'Fiction', 'Novel', 'Mystery', 'Crime Fiction', 'Fantasy', 'Thriller',\n",
       "       'Young adult literature'],\n",
       "      dtype='object', name='Genre_01')"
      ]
     },
     "execution_count": 18,
     "metadata": {},
     "output_type": "execute_result"
    }
   ],
   "source": [
    "df02.Genre_01.value_counts().keys()[:10]"
   ]
  },
  {
   "cell_type": "code",
   "execution_count": 19,
   "id": "134a2b3b-0da5-4986-9483-389017f1935d",
   "metadata": {},
   "outputs": [
    {
     "data": {
      "text/plain": [
       "list"
      ]
     },
     "execution_count": 19,
     "metadata": {},
     "output_type": "execute_result"
    }
   ],
   "source": [
    "list_Genre_new = []\n",
    "for i in df02.Genre_01.value_counts().keys()[:10]:\n",
    "    list_Genre_new.append(i)\n",
    "type(list_Genre_new)"
   ]
  },
  {
   "cell_type": "code",
   "execution_count": 20,
   "id": "f23cbcd9-d54d-4a31-bb8c-bf1412db83b1",
   "metadata": {},
   "outputs": [
    {
     "data": {
      "text/plain": [
       "['Science Fiction',\n",
       " 'Speculative fiction',\n",
       " \"Children's literature\",\n",
       " 'Fiction',\n",
       " 'Novel',\n",
       " 'Mystery',\n",
       " 'Crime Fiction',\n",
       " 'Fantasy',\n",
       " 'Thriller',\n",
       " 'Young adult literature']"
      ]
     },
     "execution_count": 20,
     "metadata": {},
     "output_type": "execute_result"
    }
   ],
   "source": [
    "list_Genre_new"
   ]
  },
  {
   "cell_type": "code",
   "execution_count": 21,
   "id": "ac948595-a7b7-463a-a544-8b45b339ba79",
   "metadata": {},
   "outputs": [],
   "source": [
    "# i only use the samples with the values of my category list\n",
    "df03 = df02[(df02['Genre_01'] == list_Genre_new[0]) | (df02['Genre_01'] == list_Genre_new[1]) |\n",
    "           (df02['Genre_01'] == list_Genre_new[2]) | (df02['Genre_01'] == list_Genre_new[3]) |\n",
    "           (df02['Genre_01'] == list_Genre_new[4]) | (df02['Genre_01'] == list_Genre_new[5]) |\n",
    "           (df02['Genre_01'] == list_Genre_new[6]) | (df02['Genre_01'] == list_Genre_new[7]) |\n",
    "           (df02['Genre_01'] == list_Genre_new[8]) | (df02['Genre_01'] == list_Genre_new[9])]"
   ]
  },
  {
   "cell_type": "code",
   "execution_count": 22,
   "id": "6ba9d708-d116-4e7a-bb4b-7c8fa61ef57b",
   "metadata": {},
   "outputs": [
    {
     "name": "stdout",
     "output_type": "stream",
     "text": [
      "<class 'pandas.core.frame.DataFrame'>\n",
      "Index: 9928 entries, 1 to 16555\n",
      "Data columns (total 3 columns):\n",
      " #   Column      Non-Null Count  Dtype \n",
      "---  ------      --------------  ----- \n",
      " 0   Genre_01    9928 non-null   object\n",
      " 1   Genre_02    9928 non-null   object\n",
      " 2   Book_title  9928 non-null   object\n",
      "dtypes: object(3)\n",
      "memory usage: 310.2+ KB\n"
     ]
    }
   ],
   "source": [
    "# the size of my data set to work with\n",
    "df03.info()"
   ]
  },
  {
   "cell_type": "code",
   "execution_count": 23,
   "id": "71ce8eb2-81ba-432b-a0fb-99c1871bfa74",
   "metadata": {},
   "outputs": [
    {
     "data": {
      "text/plain": [
       "9928"
      ]
     },
     "execution_count": 23,
     "metadata": {},
     "output_type": "execute_result"
    }
   ],
   "source": [
    "df03.Genre_01.value_counts().sum()"
   ]
  },
  {
   "cell_type": "code",
   "execution_count": 24,
   "id": "dff05f02-3c60-4aef-952e-bedd75dd4b3b",
   "metadata": {},
   "outputs": [],
   "source": [
    "df03 = df03[['Genre_01','Book_title']]"
   ]
  },
  {
   "cell_type": "code",
   "execution_count": 25,
   "id": "3c515e20-4054-4a1d-b923-1439d5cf826a",
   "metadata": {},
   "outputs": [],
   "source": [
    "df03.reset_index(drop=True,inplace=True)"
   ]
  },
  {
   "cell_type": "code",
   "execution_count": 26,
   "id": "9b55a28b-f399-4d80-8ff5-5a3cdf0ae6b1",
   "metadata": {},
   "outputs": [
    {
     "data": {
      "text/html": [
       "<div>\n",
       "<style scoped>\n",
       "    .dataframe tbody tr th:only-of-type {\n",
       "        vertical-align: middle;\n",
       "    }\n",
       "\n",
       "    .dataframe tbody tr th {\n",
       "        vertical-align: top;\n",
       "    }\n",
       "\n",
       "    .dataframe thead th {\n",
       "        text-align: right;\n",
       "    }\n",
       "</style>\n",
       "<table border=\"1\" class=\"dataframe\">\n",
       "  <thead>\n",
       "    <tr style=\"text-align: right;\">\n",
       "      <th></th>\n",
       "      <th>Genre_01</th>\n",
       "      <th>Book_title</th>\n",
       "    </tr>\n",
       "  </thead>\n",
       "  <tbody>\n",
       "    <tr>\n",
       "      <th>0</th>\n",
       "      <td>Science Fiction</td>\n",
       "      <td>A Clockwork Orange</td>\n",
       "    </tr>\n",
       "    <tr>\n",
       "      <th>1</th>\n",
       "      <td>Children's literature</td>\n",
       "      <td>A Wizard of Earthsea</td>\n",
       "    </tr>\n",
       "    <tr>\n",
       "      <th>2</th>\n",
       "      <td>Science Fiction</td>\n",
       "      <td>Blade Runner 3: Replicant Night</td>\n",
       "    </tr>\n",
       "    <tr>\n",
       "      <th>3</th>\n",
       "      <td>Science Fiction</td>\n",
       "      <td>Blade Runner 2: The Edge of Human</td>\n",
       "    </tr>\n",
       "    <tr>\n",
       "      <th>4</th>\n",
       "      <td>Speculative fiction</td>\n",
       "      <td>Crash</td>\n",
       "    </tr>\n",
       "  </tbody>\n",
       "</table>\n",
       "</div>"
      ],
      "text/plain": [
       "                Genre_01                         Book_title\n",
       "0        Science Fiction                 A Clockwork Orange\n",
       "1  Children's literature               A Wizard of Earthsea\n",
       "2        Science Fiction    Blade Runner 3: Replicant Night\n",
       "3        Science Fiction  Blade Runner 2: The Edge of Human\n",
       "4    Speculative fiction                              Crash"
      ]
     },
     "execution_count": 26,
     "metadata": {},
     "output_type": "execute_result"
    }
   ],
   "source": [
    "df03.head()"
   ]
  },
  {
   "cell_type": "code",
   "execution_count": 27,
   "id": "b05f30b2-209a-4399-9891-e8ebccba9bbf",
   "metadata": {},
   "outputs": [],
   "source": [
    "# collection of functions to clean the text in 1 function:\n",
    "def lower(text):\n",
    "    return str(text).lower()\n",
    "\n",
    "# Remove HTML\n",
    "def remove_HTML(text):\n",
    "    return re.sub(r'<.*?>', '', text) \n",
    "\n",
    "def remove_punctuation(text):\n",
    "    return text.translate(str.maketrans('','',string.punctuation))\n",
    "\n",
    "# Removing all words with digits and standalone digits\n",
    "def remove_digits(text):\n",
    "    return re.sub(r'\\d+', '', text)\n",
    "\n",
    "stopwords = stopwords.words(\"english\")\n",
    "def remove_stopwords(text):\n",
    "    global stopwords\n",
    "    new = []\n",
    "    # --> all text tokenized: print(word_tokenize(str(text)))\n",
    "    for el in word_tokenize(str(text)):\n",
    "        if not el in stopwords:\n",
    "            new.append(el)\n",
    "    return ' '.join(new)\n",
    "\n",
    "def remove_emoji(text):\n",
    "    emoji_pattern = re.compile(\"[\"\n",
    "                           u\"\\U0001F600-\\U0001F64F\"  # emoticons\n",
    "                           u\"\\U0001F300-\\U0001F5FF\"  # symbols & pictographs\n",
    "                           u\"\\U0001F680-\\U0001F6FF\"  # transport & map symbols\n",
    "                           u\"\\U0001F1E0-\\U0001F1FF\"  # flags (iOS)\n",
    "                           u\"\\U00002702-\\U000027B0\"\n",
    "                           u\"\\U000024C2-\\U0001F251\"\n",
    "                           \"]+\", flags=re.UNICODE)\n",
    "    return emoji_pattern.sub(r'', text)\n",
    "\n",
    "# Removing all non-printable symbols like \"ड\", \"ட\"\n",
    "def remove_non_printable(text):\n",
    "    text = text.encode(\"ascii\", \"ignore\")\n",
    "    return text.decode()\n",
    "        \n",
    "# One function to clean it all\n",
    "def clean_text(text):\n",
    "    text = lower(text)\n",
    "    text = remove_punctuation(text)\n",
    "    text = remove_stopwords(text)\n",
    "    text = remove_digits(text)\n",
    "    text = remove_emoji(text)\n",
    "    text = remove_HTML(text)\n",
    "    text = remove_non_printable(text)\n",
    "    return text"
   ]
  },
  {
   "cell_type": "code",
   "execution_count": 28,
   "id": "af13b248-4032-4f91-8a7f-f1423503fb3b",
   "metadata": {},
   "outputs": [],
   "source": [
    "df03['Clean_Book_title'] = df03['Book_title'].apply(clean_text)"
   ]
  },
  {
   "cell_type": "code",
   "execution_count": 29,
   "id": "b776a0b1-f48f-4c9b-a3d3-19cfbb7ed798",
   "metadata": {},
   "outputs": [
    {
     "data": {
      "text/html": [
       "<div>\n",
       "<style scoped>\n",
       "    .dataframe tbody tr th:only-of-type {\n",
       "        vertical-align: middle;\n",
       "    }\n",
       "\n",
       "    .dataframe tbody tr th {\n",
       "        vertical-align: top;\n",
       "    }\n",
       "\n",
       "    .dataframe thead th {\n",
       "        text-align: right;\n",
       "    }\n",
       "</style>\n",
       "<table border=\"1\" class=\"dataframe\">\n",
       "  <thead>\n",
       "    <tr style=\"text-align: right;\">\n",
       "      <th></th>\n",
       "      <th>Genre_01</th>\n",
       "      <th>Book_title</th>\n",
       "      <th>Clean_Book_title</th>\n",
       "    </tr>\n",
       "  </thead>\n",
       "  <tbody>\n",
       "    <tr>\n",
       "      <th>0</th>\n",
       "      <td>Science Fiction</td>\n",
       "      <td>A Clockwork Orange</td>\n",
       "      <td>clockwork orange</td>\n",
       "    </tr>\n",
       "    <tr>\n",
       "      <th>1</th>\n",
       "      <td>Children's literature</td>\n",
       "      <td>A Wizard of Earthsea</td>\n",
       "      <td>wizard earthsea</td>\n",
       "    </tr>\n",
       "    <tr>\n",
       "      <th>2</th>\n",
       "      <td>Science Fiction</td>\n",
       "      <td>Blade Runner 3: Replicant Night</td>\n",
       "      <td>blade runner  replicant night</td>\n",
       "    </tr>\n",
       "  </tbody>\n",
       "</table>\n",
       "</div>"
      ],
      "text/plain": [
       "                Genre_01                       Book_title  \\\n",
       "0        Science Fiction               A Clockwork Orange   \n",
       "1  Children's literature             A Wizard of Earthsea   \n",
       "2        Science Fiction  Blade Runner 3: Replicant Night   \n",
       "\n",
       "                Clean_Book_title  \n",
       "0               clockwork orange  \n",
       "1                wizard earthsea  \n",
       "2  blade runner  replicant night  "
      ]
     },
     "execution_count": 29,
     "metadata": {},
     "output_type": "execute_result"
    }
   ],
   "source": [
    "df03.head(3)"
   ]
  },
  {
   "cell_type": "code",
   "execution_count": 30,
   "id": "5e77e00b-357d-4798-ac1a-d4475c2b9d73",
   "metadata": {},
   "outputs": [
    {
     "data": {
      "text/html": [
       "<div>\n",
       "<style scoped>\n",
       "    .dataframe tbody tr th:only-of-type {\n",
       "        vertical-align: middle;\n",
       "    }\n",
       "\n",
       "    .dataframe tbody tr th {\n",
       "        vertical-align: top;\n",
       "    }\n",
       "\n",
       "    .dataframe thead th {\n",
       "        text-align: right;\n",
       "    }\n",
       "</style>\n",
       "<table border=\"1\" class=\"dataframe\">\n",
       "  <thead>\n",
       "    <tr style=\"text-align: right;\">\n",
       "      <th></th>\n",
       "      <th>Genre_01</th>\n",
       "      <th>Clean_Book_title</th>\n",
       "    </tr>\n",
       "  </thead>\n",
       "  <tbody>\n",
       "    <tr>\n",
       "      <th>423</th>\n",
       "      <td>Thriller</td>\n",
       "      <td>day jackal</td>\n",
       "    </tr>\n",
       "    <tr>\n",
       "      <th>3694</th>\n",
       "      <td>Speculative fiction</td>\n",
       "      <td>demon spirit</td>\n",
       "    </tr>\n",
       "    <tr>\n",
       "      <th>2137</th>\n",
       "      <td>Crime Fiction</td>\n",
       "      <td>sparkling cyanide</td>\n",
       "    </tr>\n",
       "  </tbody>\n",
       "</table>\n",
       "</div>"
      ],
      "text/plain": [
       "                 Genre_01   Clean_Book_title\n",
       "423              Thriller         day jackal\n",
       "3694  Speculative fiction       demon spirit\n",
       "2137        Crime Fiction  sparkling cyanide"
      ]
     },
     "execution_count": 30,
     "metadata": {},
     "output_type": "execute_result"
    }
   ],
   "source": [
    "# shuffle the data before working with it\n",
    "df04 = df03[['Genre_01','Clean_Book_title']].sample(frac=1.0,random_state=33)\n",
    "df04.head(3)"
   ]
  },
  {
   "cell_type": "code",
   "execution_count": 31,
   "id": "2d7dd927-a3af-45e6-b28b-73fee1221b76",
   "metadata": {},
   "outputs": [
    {
     "data": {
      "text/plain": [
       "423                   Thriller\n",
       "3694       Speculative fiction\n",
       "2137             Crime Fiction\n",
       "8746                   Mystery\n",
       "7648    Young adult literature\n",
       "                 ...          \n",
       "57                       Novel\n",
       "578                    Mystery\n",
       "5848       Speculative fiction\n",
       "2439     Children's literature\n",
       "7188                  Thriller\n",
       "Name: Genre_01, Length: 9928, dtype: object"
      ]
     },
     "execution_count": 31,
     "metadata": {},
     "output_type": "execute_result"
    }
   ],
   "source": [
    "df04.Genre_01"
   ]
  },
  {
   "cell_type": "code",
   "execution_count": 32,
   "id": "4c297d1d-8e57-4936-80d0-f7b7c4f45c01",
   "metadata": {},
   "outputs": [],
   "source": [
    "# create new, regular indices\n",
    "df04.reset_index(drop=True,inplace=True)"
   ]
  },
  {
   "cell_type": "code",
   "execution_count": 33,
   "id": "e7f2fea9-dca9-46ed-aca8-799e58cfab85",
   "metadata": {},
   "outputs": [
    {
     "data": {
      "text/html": [
       "<div>\n",
       "<style scoped>\n",
       "    .dataframe tbody tr th:only-of-type {\n",
       "        vertical-align: middle;\n",
       "    }\n",
       "\n",
       "    .dataframe tbody tr th {\n",
       "        vertical-align: top;\n",
       "    }\n",
       "\n",
       "    .dataframe thead th {\n",
       "        text-align: right;\n",
       "    }\n",
       "</style>\n",
       "<table border=\"1\" class=\"dataframe\">\n",
       "  <thead>\n",
       "    <tr style=\"text-align: right;\">\n",
       "      <th></th>\n",
       "      <th>Genre_01</th>\n",
       "      <th>Clean_Book_title</th>\n",
       "    </tr>\n",
       "  </thead>\n",
       "  <tbody>\n",
       "    <tr>\n",
       "      <th>0</th>\n",
       "      <td>Thriller</td>\n",
       "      <td>day jackal</td>\n",
       "    </tr>\n",
       "    <tr>\n",
       "      <th>1</th>\n",
       "      <td>Speculative fiction</td>\n",
       "      <td>demon spirit</td>\n",
       "    </tr>\n",
       "    <tr>\n",
       "      <th>2</th>\n",
       "      <td>Crime Fiction</td>\n",
       "      <td>sparkling cyanide</td>\n",
       "    </tr>\n",
       "  </tbody>\n",
       "</table>\n",
       "</div>"
      ],
      "text/plain": [
       "              Genre_01   Clean_Book_title\n",
       "0             Thriller         day jackal\n",
       "1  Speculative fiction       demon spirit\n",
       "2        Crime Fiction  sparkling cyanide"
      ]
     },
     "execution_count": 33,
     "metadata": {},
     "output_type": "execute_result"
    }
   ],
   "source": [
    "df04.head(3)"
   ]
  },
  {
   "cell_type": "code",
   "execution_count": 34,
   "id": "d38784d5-fc42-4750-85e4-41dcb5a9e741",
   "metadata": {},
   "outputs": [
    {
     "data": {
      "text/plain": [
       "(9928, 2)"
      ]
     },
     "execution_count": 34,
     "metadata": {},
     "output_type": "execute_result"
    }
   ],
   "source": [
    "df04.shape"
   ]
  },
  {
   "cell_type": "code",
   "execution_count": 35,
   "id": "00946208-3098-478e-8056-7ea0f093143a",
   "metadata": {},
   "outputs": [
    {
     "data": {
      "text/plain": [
       "0                 day jackal\n",
       "1               demon spirit\n",
       "2          sparkling cyanide\n",
       "3                fire kimono\n",
       "4       tom swift motor boat\n",
       "                ...         \n",
       "9923            grapes wrath\n",
       "9924          campus murders\n",
       "9925           tarzan madman\n",
       "9926             shadow bull\n",
       "9927               ice limit\n",
       "Name: Clean_Book_title, Length: 9928, dtype: object"
      ]
     },
     "execution_count": 35,
     "metadata": {},
     "output_type": "execute_result"
    }
   ],
   "source": [
    "X = df04.Clean_Book_title\n",
    "X"
   ]
  },
  {
   "cell_type": "code",
   "execution_count": 36,
   "id": "5b4093f9-bb10-4bf6-b0ed-59a329c2425b",
   "metadata": {},
   "outputs": [
    {
     "data": {
      "text/plain": [
       "(9928,)"
      ]
     },
     "execution_count": 36,
     "metadata": {},
     "output_type": "execute_result"
    }
   ],
   "source": [
    "X.shape"
   ]
  },
  {
   "cell_type": "code",
   "execution_count": 37,
   "id": "042dd27a-b9be-4d01-998d-244ba6e5246c",
   "metadata": {},
   "outputs": [
    {
     "data": {
      "text/plain": [
       "0                     Thriller\n",
       "1          Speculative fiction\n",
       "2                Crime Fiction\n",
       "3                      Mystery\n",
       "4       Young adult literature\n",
       "                 ...          \n",
       "9923                     Novel\n",
       "9924                   Mystery\n",
       "9925       Speculative fiction\n",
       "9926     Children's literature\n",
       "9927                  Thriller\n",
       "Name: Genre_01, Length: 9928, dtype: object"
      ]
     },
     "execution_count": 37,
     "metadata": {},
     "output_type": "execute_result"
    }
   ],
   "source": [
    "# the target is Genre_01\n",
    "y = df04.Genre_01\n",
    "y"
   ]
  },
  {
   "cell_type": "code",
   "execution_count": 38,
   "id": "7d8d49c9-5b97-4746-a5dc-3416099c6de6",
   "metadata": {},
   "outputs": [],
   "source": [
    "# use one hot encoding at the target\n",
    "y = pd.get_dummies(y).to_numpy()"
   ]
  },
  {
   "cell_type": "code",
   "execution_count": 39,
   "id": "4f177c78-04ee-4eeb-a3be-eaa87f7caaed",
   "metadata": {},
   "outputs": [
    {
     "data": {
      "text/plain": [
       "array([[False, False, False, ..., False,  True, False],\n",
       "       [False, False, False, ...,  True, False, False],\n",
       "       [False,  True, False, ..., False, False, False],\n",
       "       ...,\n",
       "       [False, False, False, ...,  True, False, False],\n",
       "       [ True, False, False, ..., False, False, False],\n",
       "       [False, False, False, ..., False,  True, False]])"
      ]
     },
     "execution_count": 39,
     "metadata": {},
     "output_type": "execute_result"
    }
   ],
   "source": [
    "y"
   ]
  },
  {
   "cell_type": "code",
   "execution_count": 40,
   "id": "8f7cd9b0-0b08-4c4f-a98f-dfaac9fd75c8",
   "metadata": {},
   "outputs": [],
   "source": [
    "# the right shape for y\n",
    "#y=np.argmax(y, axis=1)"
   ]
  },
  {
   "cell_type": "code",
   "execution_count": 41,
   "id": "7ad87b29-9c91-46e9-abb7-c1060f87f002",
   "metadata": {},
   "outputs": [
    {
     "data": {
      "text/plain": [
       "(9928, 10)"
      ]
     },
     "execution_count": 41,
     "metadata": {},
     "output_type": "execute_result"
    }
   ],
   "source": [
    "y.shape"
   ]
  },
  {
   "cell_type": "code",
   "execution_count": 42,
   "id": "658cf034-859a-4b57-b635-030f12e8a090",
   "metadata": {},
   "outputs": [],
   "source": [
    "# train-test-validation split --> 70%,15%,15%\n",
    "X_train, X_temp, y_train, y_temp = train_test_split(X, y, test_size=0.3, random_state=33)\n",
    "X_val, X_test, y_val, y_test = train_test_split(X_temp, y_temp, test_size=0.5, random_state=33)"
   ]
  },
  {
   "cell_type": "code",
   "execution_count": 43,
   "id": "93b7e94a-bc12-49bd-aeb0-04a1909f90e4",
   "metadata": {},
   "outputs": [
    {
     "name": "stdout",
     "output_type": "stream",
     "text": [
      "WARNING:tensorflow:From C:\\Users\\dietm\\anaconda3\\lib\\site-packages\\keras\\src\\backend.py:873: The name tf.get_default_graph is deprecated. Please use tf.compat.v1.get_default_graph instead.\n",
      "\n",
      "WARNING:tensorflow:From C:\\Users\\dietm\\anaconda3\\lib\\site-packages\\keras\\src\\utils\\tf_utils.py:492: The name tf.ragged.RaggedTensorValue is deprecated. Please use tf.compat.v1.ragged.RaggedTensorValue instead.\n",
      "\n"
     ]
    }
   ],
   "source": [
    "# prepare 'Clean_Book_title' data using keras vectorization layer and one hot encoding\n",
    "# maximum length of vocabulary and maximum length of title\n",
    "vocab_size = 500 \n",
    "max_len = 100 \n",
    "\n",
    "vectorize_layer = tf.keras.layers.TextVectorization(max_tokens=vocab_size,output_mode='int',\n",
    "                                                    output_sequence_length=max_len)\n",
    "\n",
    "vectorize_layer.adapt(X_train)\n",
    "\n",
    "def prep_Clean_Book_title_data(data, vectorize_layer, vocab_size):\n",
    "    data = data.to_numpy()\n",
    "    data = vectorize_layer(data)\n",
    "    data = tf.one_hot(data, vocab_size)\n",
    "    return data"
   ]
  },
  {
   "cell_type": "code",
   "execution_count": 44,
   "id": "6c54a6e0-d31e-42eb-9f77-62079dccd277",
   "metadata": {},
   "outputs": [],
   "source": [
    "X_train = prep_Clean_Book_title_data(X_train, vectorize_layer, vocab_size)\n",
    "X_val = prep_Clean_Book_title_data(X_val, vectorize_layer, vocab_size)\n",
    "X_test = prep_Clean_Book_title_data(X_test, vectorize_layer, vocab_size)"
   ]
  },
  {
   "cell_type": "code",
   "execution_count": 45,
   "id": "65750e45-87a2-4efa-8982-7ef7193f5e2f",
   "metadata": {},
   "outputs": [
    {
     "name": "stdout",
     "output_type": "stream",
     "text": [
      "WARNING:tensorflow:From C:\\Users\\dietm\\anaconda3\\lib\\site-packages\\keras\\src\\optimizers\\__init__.py:309: The name tf.train.Optimizer is deprecated. Please use tf.compat.v1.train.Optimizer instead.\n",
      "\n",
      "Model: \"model\"\n",
      "_________________________________________________________________\n",
      " Layer (type)                Output Shape              Param #   \n",
      "=================================================================\n",
      " input_1 (InputLayer)        [(None, None, 500)]       0         \n",
      "                                                                 \n",
      " bidirectional (Bidirection  (None, 64)                136448    \n",
      " al)                                                             \n",
      "                                                                 \n",
      " dropout (Dropout)           (None, 64)                0         \n",
      "                                                                 \n",
      " dense (Dense)               (None, 10)                650       \n",
      "                                                                 \n",
      "=================================================================\n",
      "Total params: 137098 (535.54 KB)\n",
      "Trainable params: 137098 (535.54 KB)\n",
      "Non-trainable params: 0 (0.00 Byte)\n",
      "_________________________________________________________________\n"
     ]
    }
   ],
   "source": [
    "# create model\n",
    "inputs = keras.Input(shape=(None,500), dtype=\"float32\")\n",
    "X = layers.Bidirectional(layers.LSTM(32))(inputs)\n",
    "X = layers.Dropout(0.5)(X)\n",
    "outputs = layers.Dense(10, activation=\"sigmoid\")(X)\n",
    "model = keras.Model(inputs, outputs)\n",
    "model.compile(optimizer=\"rmsprop\", loss=\"binary_crossentropy\", metrics=[\"Accuracy\"])\n",
    "model.summary()"
   ]
  },
  {
   "cell_type": "code",
   "execution_count": 46,
   "id": "c45dc0e1-62c4-42db-839e-c6fac5102edb",
   "metadata": {},
   "outputs": [
    {
     "name": "stdout",
     "output_type": "stream",
     "text": [
      "Epoch 1/10\n",
      "WARNING:tensorflow:From C:\\Users\\dietm\\anaconda3\\lib\\site-packages\\keras\\src\\engine\\base_layer_utils.py:384: The name tf.executing_eagerly_outside_functions is deprecated. Please use tf.compat.v1.executing_eagerly_outside_functions instead.\n",
      "\n",
      "435/435 [==============================] - 30s 63ms/step - loss: 0.3325 - Accuracy: 0.2163 - val_loss: 0.3100 - val_Accuracy: 0.2559\n",
      "Epoch 2/10\n",
      "435/435 [==============================] - 26s 59ms/step - loss: 0.3158 - Accuracy: 0.2540 - val_loss: 0.3080 - val_Accuracy: 0.2559\n",
      "Epoch 3/10\n",
      "435/435 [==============================] - 26s 60ms/step - loss: 0.3120 - Accuracy: 0.2589 - val_loss: 0.3079 - val_Accuracy: 0.2559\n",
      "Epoch 4/10\n",
      "435/435 [==============================] - 25s 58ms/step - loss: 0.3117 - Accuracy: 0.2603 - val_loss: 0.3081 - val_Accuracy: 0.2559\n",
      "Epoch 5/10\n",
      "435/435 [==============================] - 25s 58ms/step - loss: 0.3106 - Accuracy: 0.2606 - val_loss: 0.3080 - val_Accuracy: 0.2559\n",
      "Epoch 6/10\n",
      "435/435 [==============================] - 27s 62ms/step - loss: 0.3101 - Accuracy: 0.2608 - val_loss: 0.3081 - val_Accuracy: 0.2559\n",
      "Epoch 7/10\n",
      "435/435 [==============================] - 28s 64ms/step - loss: 0.3098 - Accuracy: 0.2609 - val_loss: 0.3071 - val_Accuracy: 0.2559\n",
      "Epoch 8/10\n",
      "435/435 [==============================] - 27s 61ms/step - loss: 0.3093 - Accuracy: 0.2608 - val_loss: 0.3077 - val_Accuracy: 0.2559\n",
      "Epoch 9/10\n",
      "435/435 [==============================] - 26s 61ms/step - loss: 0.3087 - Accuracy: 0.2608 - val_loss: 0.3098 - val_Accuracy: 0.2545\n",
      "Epoch 10/10\n",
      "435/435 [==============================] - 26s 60ms/step - loss: 0.3085 - Accuracy: 0.2615 - val_loss: 0.3071 - val_Accuracy: 0.2565\n",
      "47/47 [==============================] - 2s 26ms/step - loss: 0.3086 - Accuracy: 0.2403\n",
      "Test acc: 0.240\n"
     ]
    }
   ],
   "source": [
    "callbacks = [keras.callbacks.ModelCheckpoint(\"one_hot_bidir_lstm.keras\",\n",
    "                                    save_best_only=True)]\n",
    "history = model.fit(X_train,y_train, validation_data=(X_val, y_val), epochs=10, batch_size=16, callbacks=callbacks)\n",
    "model = keras.models.load_model(\"one_hot_bidir_lstm.keras\")\n",
    "print(f\"Test acc: {model.evaluate(X_test, y_test)[1]:.3f}\")"
   ]
  },
  {
   "cell_type": "code",
   "execution_count": 47,
   "id": "1eed2983-8054-4af1-a3ff-cff084057efa",
   "metadata": {},
   "outputs": [
    {
     "name": "stdout",
     "output_type": "stream",
     "text": [
      "Accuracy is: 0.240\n",
      "F1 score is: 0.093\n",
      "Precision is: 0.058\n",
      "Recall is: 0.240\n"
     ]
    }
   ],
   "source": [
    " # get our predictions\n",
    "y_pred = model(X_test)\n",
    "y_pred=np.argmax(y_pred, axis=1)\n",
    "y_test=np.argmax(y_test, axis=1)\n",
    "\n",
    "print('Accuracy is: {:.3f}'.format(metrics.accuracy_score(y_test, y_pred)))\n",
    "print('F1 score is: {:.3f}'.format(metrics.f1_score(y_test, y_pred,average='weighted')))\n",
    "print('Precision is: {:.3f}'.format(metrics.precision_score(y_test, y_pred,average='weighted')))\n",
    "print('Recall is: {:.3f}'.format(metrics.recall_score(y_test, y_pred,average='weighted')))"
   ]
  },
  {
   "cell_type": "code",
   "execution_count": 48,
   "id": "5f739f1e-4046-4b7e-86ec-28f83c95fce0",
   "metadata": {},
   "outputs": [
    {
     "data": {
      "text/plain": [
       "array([[  0,   0,   0,   0,   0,   0, 171,   0,   0,   0],\n",
       "       [  0,   0,   0,   0,   0,   0, 112,   0,   0,   0],\n",
       "       [  0,   0,   0,   0,   0,   0,  93,   0,   0,   0],\n",
       "       [  0,   0,   0,   0,   0,   0, 148,   0,   0,   0],\n",
       "       [  0,   0,   0,   0,   0,   0, 110,   0,   0,   0],\n",
       "       [  0,   0,   0,   0,   0,   0, 127,   0,   0,   0],\n",
       "       [  0,   0,   0,   0,   0,   0, 358,   0,   0,   0],\n",
       "       [  0,   0,   0,   0,   0,   0, 237,   0,   0,   0],\n",
       "       [  0,   0,   0,   0,   0,   0,  83,   0,   0,   0],\n",
       "       [  0,   0,   0,   0,   0,   0,  51,   0,   0,   0]], dtype=int64)"
      ]
     },
     "execution_count": 48,
     "metadata": {},
     "output_type": "execute_result"
    }
   ],
   "source": [
    "cm = confusion_matrix(y_test, y_pred)\n",
    "cm"
   ]
  },
  {
   "cell_type": "code",
   "execution_count": 49,
   "id": "e5717674-dd9f-4abb-a6a0-559aa5b01483",
   "metadata": {},
   "outputs": [
    {
     "data": {
      "text/plain": [
       "<Axes: >"
      ]
     },
     "execution_count": 49,
     "metadata": {},
     "output_type": "execute_result"
    },
    {
     "data": {
      "image/png": "[encoded data removed]",
      "text/plain": [
       "<Figure size 640x480 with 2 Axes>"
      ]
     },
     "metadata": {},
     "output_type": "display_data"
    }
   ],
   "source": [
    "# confusion-matrix visualization\n",
    "sns.heatmap(cm, annot=True, cmap='Greens')"
   ]
  },
  {
   "cell_type": "code",
   "execution_count": 50,
   "id": "ffd462f0-1fef-48b7-8e53-c404c69d238b",
   "metadata": {},
   "outputs": [
    {
     "data": {
      "image/png": "[encoded data removed]",
      "text/plain": [
       "<Figure size 640x480 with 1 Axes>"
      ]
     },
     "metadata": {},
     "output_type": "display_data"
    }
   ],
   "source": [
    "# visualization of loss over epochs\n",
    "history_dict = history.history\n",
    "loss_values = history_dict[\"loss\"]\n",
    "val_loss_values = history_dict[\"val_loss\"]\n",
    "epochs = range(1, len(loss_values) + 1)\n",
    "plt.plot(epochs, loss_values, \"r\", label=\"Training loss\")\n",
    "plt.plot(epochs, val_loss_values, \"b\", label=\"Validation loss\")\n",
    "plt.title(\"Training and Validation loss\")\n",
    "plt.xlabel(\"Epochs\")\n",
    "plt.ylabel(\"Loss\")\n",
    "plt.legend()\n",
    "plt.show()"
   ]
  },
  {
   "cell_type": "code",
   "execution_count": null,
   "id": "d15c8d16-3d73-47c4-b07e-c7198aac9254",
   "metadata": {},
   "outputs": [],
   "source": []
  },
  {
   "cell_type": "code",
   "execution_count": null,
   "id": "f3b8e213-0b58-4f77-b659-e2704c3256f9",
   "metadata": {},
   "outputs": [],
   "source": []
  }
 ],
 "metadata": {
  "kernelspec": {
   "display_name": "Python 3 (ipykernel)",
   "language": "python",
   "name": "python3"
  },
  "language_info": {
   "codemirror_mode": {
    "name": "ipython",
    "version": 3
   },
   "file_extension": ".py",
   "mimetype": "text/x-python",
   "name": "python",
   "nbconvert_exporter": "python",
   "pygments_lexer": "ipython3",
   "version": "3.10.13"
  },
  "widgets": {
   "application/vnd.jupyter.widget-state+json": {
    "state": {},
    "version_major": 2,
    "version_minor": 0
   }
  }
 },
 "nbformat": 4,
 "nbformat_minor": 5
}

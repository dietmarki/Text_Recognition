{
 "cells": [
  {
   "cell_type": "markdown",
   "id": "42bd7422-5d2b-45eb-808b-1b7bb7ba8535",
   "metadata": {},
   "source": [
    "# LLM - Large Language Model (a simple example)"
   ]
  },
  {
   "cell_type": "code",
   "execution_count": 1,
   "id": "317bc6f2-e815-456b-bb0f-12b63969305f",
   "metadata": {},
   "outputs": [],
   "source": [
    "# nltk library to create a basic language model\n",
    "#   --> minimal viable product (MVP) for providing a complete and detailed implementation\n",
    "#   --> language model = probabilistic model --> predict the likelihood of a sequence of words appearing in a given context\n",
    "#   --> used in NLP (natural language processing) --> speech recognition, machine translation, and text generation"
   ]
  },
  {
   "cell_type": "code",
   "execution_count": 2,
   "id": "3adc6a23-2f2a-47f0-9fe7-6d108ecdcb66",
   "metadata": {},
   "outputs": [],
   "source": [
    "# import libraries\n",
    "import pandas as pd\n",
    "from sklearn.preprocessing import LabelEncoder\n",
    "import re\n",
    "import nltk\n",
    "import random\n",
    "from nltk.util import ngrams\n",
    "from collections import defaultdict, Counter\n",
    "# Run in case warnings should be ignored\n",
    "import warnings\n",
    "warnings.filterwarnings('ignore')\n",
    "pd.set_option('display.max_colwidth',200)"
   ]
  },
  {
   "cell_type": "code",
   "execution_count": 3,
   "id": "fa010e59-4a91-4e4f-abc0-334e96b30841",
   "metadata": {},
   "outputs": [],
   "source": [
    "# loading data\n",
    "df01 = pd.read_csv('topical_chat.csv')"
   ]
  },
  {
   "cell_type": "code",
   "execution_count": 4,
   "id": "4d5b7ca1-1d03-4444-b099-192dbe357f5e",
   "metadata": {},
   "outputs": [
    {
     "data": {
      "text/html": [
       "<div>\n",
       "<style scoped>\n",
       "    .dataframe tbody tr th:only-of-type {\n",
       "        vertical-align: middle;\n",
       "    }\n",
       "\n",
       "    .dataframe tbody tr th {\n",
       "        vertical-align: top;\n",
       "    }\n",
       "\n",
       "    .dataframe thead th {\n",
       "        text-align: right;\n",
       "    }\n",
       "</style>\n",
       "<table border=\"1\" class=\"dataframe\">\n",
       "  <thead>\n",
       "    <tr style=\"text-align: right;\">\n",
       "      <th></th>\n",
       "      <th>conversation_id</th>\n",
       "      <th>message</th>\n",
       "      <th>sentiment</th>\n",
       "    </tr>\n",
       "  </thead>\n",
       "  <tbody>\n",
       "    <tr>\n",
       "      <th>0</th>\n",
       "      <td>1</td>\n",
       "      <td>Are you a fan of Google or Microsoft?</td>\n",
       "      <td>Curious to dive deeper</td>\n",
       "    </tr>\n",
       "    <tr>\n",
       "      <th>1</th>\n",
       "      <td>1</td>\n",
       "      <td>Both are excellent technology they are helpful in many ways. For the security purpose both are super.</td>\n",
       "      <td>Curious to dive deeper</td>\n",
       "    </tr>\n",
       "    <tr>\n",
       "      <th>2</th>\n",
       "      <td>1</td>\n",
       "      <td>I'm not  a huge fan of Google, but I use it a lot because I have to. I think they are a monopoly in some sense.</td>\n",
       "      <td>Curious to dive deeper</td>\n",
       "    </tr>\n",
       "    <tr>\n",
       "      <th>3</th>\n",
       "      <td>1</td>\n",
       "      <td>Google provides online related services and products, which includes online ads, search engine and cloud computing.</td>\n",
       "      <td>Curious to dive deeper</td>\n",
       "    </tr>\n",
       "    <tr>\n",
       "      <th>4</th>\n",
       "      <td>1</td>\n",
       "      <td>Yeah, their services are good. I'm just not a fan of intrusive they can be on our personal lives.</td>\n",
       "      <td>Curious to dive deeper</td>\n",
       "    </tr>\n",
       "  </tbody>\n",
       "</table>\n",
       "</div>"
      ],
      "text/plain": [
       "   conversation_id  \\\n",
       "0                1   \n",
       "1                1   \n",
       "2                1   \n",
       "3                1   \n",
       "4                1   \n",
       "\n",
       "                                                                                                                message  \\\n",
       "0                                                                                 Are you a fan of Google or Microsoft?   \n",
       "1                 Both are excellent technology they are helpful in many ways. For the security purpose both are super.   \n",
       "2      I'm not  a huge fan of Google, but I use it a lot because I have to. I think they are a monopoly in some sense.    \n",
       "3   Google provides online related services and products, which includes online ads, search engine and cloud computing.   \n",
       "4                    Yeah, their services are good. I'm just not a fan of intrusive they can be on our personal lives.    \n",
       "\n",
       "                 sentiment  \n",
       "0   Curious to dive deeper  \n",
       "1   Curious to dive deeper  \n",
       "2   Curious to dive deeper  \n",
       "3   Curious to dive deeper  \n",
       "4   Curious to dive deeper  "
      ]
     },
     "execution_count": 4,
     "metadata": {},
     "output_type": "execute_result"
    }
   ],
   "source": [
    "df01.head()"
   ]
  },
  {
   "cell_type": "code",
   "execution_count": 5,
   "id": "27ca9efb-d5e2-4260-9364-7e1b278f6a4f",
   "metadata": {},
   "outputs": [
    {
     "name": "stdout",
     "output_type": "stream",
     "text": [
      "<class 'pandas.core.frame.DataFrame'>\n",
      "RangeIndex: 188378 entries, 0 to 188377\n",
      "Data columns (total 3 columns):\n",
      " #   Column           Non-Null Count   Dtype \n",
      "---  ------           --------------   ----- \n",
      " 0   conversation_id  188378 non-null  int64 \n",
      " 1   message          188378 non-null  object\n",
      " 2   sentiment        188378 non-null  object\n",
      "dtypes: int64(1), object(2)\n",
      "memory usage: 4.3+ MB\n"
     ]
    }
   ],
   "source": [
    "df01.info()"
   ]
  },
  {
   "cell_type": "code",
   "execution_count": 6,
   "id": "233d7b9d-e175-44a3-a41b-0663b2f61132",
   "metadata": {},
   "outputs": [
    {
     "data": {
      "text/plain": [
       "sentiment\n",
       "Curious to dive deeper    80888\n",
       "Neutral                   41367\n",
       "Surprised                 30638\n",
       "Happy                     29617\n",
       "Sad                        2533\n",
       "Disgusted                  1433\n",
       "Fearful                    1026\n",
       "Angry                       876\n",
       "Name: count, dtype: int64"
      ]
     },
     "execution_count": 6,
     "metadata": {},
     "output_type": "execute_result"
    }
   ],
   "source": [
    "df01.sentiment.value_counts()"
   ]
  },
  {
   "cell_type": "code",
   "execution_count": 7,
   "id": "87f495be-bfa3-42b2-abb4-6eaae05da707",
   "metadata": {},
   "outputs": [],
   "source": [
    "# the feature 'sentiment' could be my label --> i change it to numeric\n",
    "le = LabelEncoder()\n",
    "df01['sentiment'] = le.fit_transform(df01['sentiment'])"
   ]
  },
  {
   "cell_type": "code",
   "execution_count": 8,
   "id": "86d61461-031d-4ef7-b936-446a7a9c03d4",
   "metadata": {},
   "outputs": [
    {
     "data": {
      "text/html": [
       "<div>\n",
       "<style scoped>\n",
       "    .dataframe tbody tr th:only-of-type {\n",
       "        vertical-align: middle;\n",
       "    }\n",
       "\n",
       "    .dataframe tbody tr th {\n",
       "        vertical-align: top;\n",
       "    }\n",
       "\n",
       "    .dataframe thead th {\n",
       "        text-align: right;\n",
       "    }\n",
       "</style>\n",
       "<table border=\"1\" class=\"dataframe\">\n",
       "  <thead>\n",
       "    <tr style=\"text-align: right;\">\n",
       "      <th></th>\n",
       "      <th>message</th>\n",
       "      <th>sentiment</th>\n",
       "    </tr>\n",
       "  </thead>\n",
       "  <tbody>\n",
       "    <tr>\n",
       "      <th>0</th>\n",
       "      <td>Are you a fan of Google or Microsoft?</td>\n",
       "      <td>1</td>\n",
       "    </tr>\n",
       "    <tr>\n",
       "      <th>1</th>\n",
       "      <td>Both are excellent technology they are helpful in many ways. For the security purpose both are super.</td>\n",
       "      <td>1</td>\n",
       "    </tr>\n",
       "    <tr>\n",
       "      <th>2</th>\n",
       "      <td>I'm not  a huge fan of Google, but I use it a lot because I have to. I think they are a monopoly in some sense.</td>\n",
       "      <td>1</td>\n",
       "    </tr>\n",
       "    <tr>\n",
       "      <th>3</th>\n",
       "      <td>Google provides online related services and products, which includes online ads, search engine and cloud computing.</td>\n",
       "      <td>1</td>\n",
       "    </tr>\n",
       "    <tr>\n",
       "      <th>4</th>\n",
       "      <td>Yeah, their services are good. I'm just not a fan of intrusive they can be on our personal lives.</td>\n",
       "      <td>1</td>\n",
       "    </tr>\n",
       "  </tbody>\n",
       "</table>\n",
       "</div>"
      ],
      "text/plain": [
       "                                                                                                                message  \\\n",
       "0                                                                                 Are you a fan of Google or Microsoft?   \n",
       "1                 Both are excellent technology they are helpful in many ways. For the security purpose both are super.   \n",
       "2      I'm not  a huge fan of Google, but I use it a lot because I have to. I think they are a monopoly in some sense.    \n",
       "3   Google provides online related services and products, which includes online ads, search engine and cloud computing.   \n",
       "4                    Yeah, their services are good. I'm just not a fan of intrusive they can be on our personal lives.    \n",
       "\n",
       "   sentiment  \n",
       "0          1  \n",
       "1          1  \n",
       "2          1  \n",
       "3          1  \n",
       "4          1  "
      ]
     },
     "execution_count": 8,
     "metadata": {},
     "output_type": "execute_result"
    }
   ],
   "source": [
    "# use only the messages and the sentiments:\n",
    "df01 = df01[['message','sentiment']]\n",
    "df01.head(5)"
   ]
  },
  {
   "cell_type": "code",
   "execution_count": 9,
   "id": "f4a5c663-0097-4b81-ba69-7e07ff2b4858",
   "metadata": {},
   "outputs": [
    {
     "data": {
      "text/plain": [
       "message\n",
       "Hi, how are you?                                                                                                                            317\n",
       "You too!                                                                                                                                     98\n",
       "Nice chatting with you!                                                                                                                      91\n",
       "Bye!                                                                                                                                         77\n",
       "Bye                                                                                                                                          61\n",
       "                                                                                                                                           ... \n",
       "Or he could try being an actor, he could audition as the president, he'd probably do better than Reagan did in his audition as president      1\n",
       "LOL! I wonder what was behind the US legislation protecting gov't employees for violating the Geneva conventions. Sounds fishy.               1\n",
       "I guess the US doesn't want it's military under the jurisdiction of the UN or geneva conventions                                              1\n",
       "I guess the gov't was planning for atrocities or something. I like that Norway's gov't donated to help save the Amazon.                       1\n",
       "It did. Ringo Starr, George Carlin, and Alec Baldwin have all narrated for them.                                                              1\n",
       "Name: count, Length: 184303, dtype: int64"
      ]
     },
     "execution_count": 9,
     "metadata": {},
     "output_type": "execute_result"
    }
   ],
   "source": [
    "df01.message.value_counts()"
   ]
  },
  {
   "cell_type": "code",
   "execution_count": 10,
   "id": "6d59bb10-18d8-44fe-b050-cfcbc86f3973",
   "metadata": {},
   "outputs": [
    {
     "data": {
      "text/html": [
       "<div>\n",
       "<style scoped>\n",
       "    .dataframe tbody tr th:only-of-type {\n",
       "        vertical-align: middle;\n",
       "    }\n",
       "\n",
       "    .dataframe tbody tr th {\n",
       "        vertical-align: top;\n",
       "    }\n",
       "\n",
       "    .dataframe thead th {\n",
       "        text-align: right;\n",
       "    }\n",
       "</style>\n",
       "<table border=\"1\" class=\"dataframe\">\n",
       "  <thead>\n",
       "    <tr style=\"text-align: right;\">\n",
       "      <th></th>\n",
       "      <th>message</th>\n",
       "      <th>sentiment</th>\n",
       "    </tr>\n",
       "  </thead>\n",
       "  <tbody>\n",
       "    <tr>\n",
       "      <th>0</th>\n",
       "      <td>Are you a fan of Google or Microsoft?</td>\n",
       "      <td>1</td>\n",
       "    </tr>\n",
       "    <tr>\n",
       "      <th>1</th>\n",
       "      <td>Both are excellent technology they are helpful in many ways. For the security purpose both are super.</td>\n",
       "      <td>1</td>\n",
       "    </tr>\n",
       "    <tr>\n",
       "      <th>2</th>\n",
       "      <td>I'm not  a huge fan of Google, but I use it a lot because I have to. I think they are a monopoly in some sense.</td>\n",
       "      <td>1</td>\n",
       "    </tr>\n",
       "    <tr>\n",
       "      <th>3</th>\n",
       "      <td>Google provides online related services and products, which includes online ads, search engine and cloud computing.</td>\n",
       "      <td>1</td>\n",
       "    </tr>\n",
       "    <tr>\n",
       "      <th>4</th>\n",
       "      <td>Yeah, their services are good. I'm just not a fan of intrusive they can be on our personal lives.</td>\n",
       "      <td>1</td>\n",
       "    </tr>\n",
       "  </tbody>\n",
       "</table>\n",
       "</div>"
      ],
      "text/plain": [
       "                                                                                                                message  \\\n",
       "0                                                                                 Are you a fan of Google or Microsoft?   \n",
       "1                 Both are excellent technology they are helpful in many ways. For the security purpose both are super.   \n",
       "2      I'm not  a huge fan of Google, but I use it a lot because I have to. I think they are a monopoly in some sense.    \n",
       "3   Google provides online related services and products, which includes online ads, search engine and cloud computing.   \n",
       "4                    Yeah, their services are good. I'm just not a fan of intrusive they can be on our personal lives.    \n",
       "\n",
       "   sentiment  \n",
       "0          1  \n",
       "1          1  \n",
       "2          1  \n",
       "3          1  \n",
       "4          1  "
      ]
     },
     "execution_count": 10,
     "metadata": {},
     "output_type": "execute_result"
    }
   ],
   "source": [
    "# remove duplicated messages\n",
    "df02 = df01.drop_duplicates(subset='message',keep='first')\n",
    "df02.head(5)"
   ]
  },
  {
   "cell_type": "code",
   "execution_count": 11,
   "id": "07598049-b6f3-4303-916a-beb4875cde89",
   "metadata": {},
   "outputs": [
    {
     "data": {
      "text/plain": [
       "1"
      ]
     },
     "execution_count": 11,
     "metadata": {},
     "output_type": "execute_result"
    }
   ],
   "source": [
    "df02.message.value_counts().max()"
   ]
  },
  {
   "cell_type": "code",
   "execution_count": 12,
   "id": "54018d35-5ce9-42e0-a6e1-a97be941f40f",
   "metadata": {},
   "outputs": [
    {
     "data": {
      "text/plain": [
       "message  sentiment\n",
       "False    False        184303\n",
       "Name: count, dtype: int64"
      ]
     },
     "execution_count": 12,
     "metadata": {},
     "output_type": "execute_result"
    }
   ],
   "source": [
    "df02.isnull().value_counts()"
   ]
  },
  {
   "cell_type": "code",
   "execution_count": 13,
   "id": "381befec-8ab8-4b6f-9925-b66a42f20152",
   "metadata": {},
   "outputs": [
    {
     "data": {
      "text/plain": [
       "(184303, 2)"
      ]
     },
     "execution_count": 13,
     "metadata": {},
     "output_type": "execute_result"
    }
   ],
   "source": [
    "df02.shape"
   ]
  },
  {
   "cell_type": "code",
   "execution_count": 14,
   "id": "efa72994-39e1-44b6-8e6a-aa6c2971d1af",
   "metadata": {},
   "outputs": [
    {
     "data": {
      "text/html": [
       "<div>\n",
       "<style scoped>\n",
       "    .dataframe tbody tr th:only-of-type {\n",
       "        vertical-align: middle;\n",
       "    }\n",
       "\n",
       "    .dataframe tbody tr th {\n",
       "        vertical-align: top;\n",
       "    }\n",
       "\n",
       "    .dataframe thead th {\n",
       "        text-align: right;\n",
       "    }\n",
       "</style>\n",
       "<table border=\"1\" class=\"dataframe\">\n",
       "  <thead>\n",
       "    <tr style=\"text-align: right;\">\n",
       "      <th></th>\n",
       "      <th>message</th>\n",
       "      <th>sentiment</th>\n",
       "    </tr>\n",
       "  </thead>\n",
       "  <tbody>\n",
       "    <tr>\n",
       "      <th>167</th>\n",
       "      <td>Not where I lived, if I want to read a comic book, I had to go to the library. But as I think about it Tintin is a comic book, so I was wrong, I did read a lot of them when I was young but they w...</td>\n",
       "      <td>7</td>\n",
       "    </tr>\n",
       "    <tr>\n",
       "      <th>175</th>\n",
       "      <td>Agreed. Can you also believe that George Lucas' wife at the time, Marcia, won an academy award for her editing on Star Wars and yet George Lucas didn't win an academy award for directing. That is...</td>\n",
       "      <td>7</td>\n",
       "    </tr>\n",
       "    <tr>\n",
       "      <th>187</th>\n",
       "      <td>Indeed he doesn't. But I've always liked Chewbacca because he reminded me of a giant dog. Ha! Speaking of dogs, I think it's cool that dogs, along with elephants, are the only animals that unders...</td>\n",
       "      <td>5</td>\n",
       "    </tr>\n",
       "    <tr>\n",
       "      <th>228</th>\n",
       "      <td>Yes, I have a dog.  Sounds like in the Dear Amy that they do everything tit for tat. The cat owner states that her fiance has to get rid of his saltwater fish if she gets rid of her cat.  That's ...</td>\n",
       "      <td>7</td>\n",
       "    </tr>\n",
       "    <tr>\n",
       "      <th>293</th>\n",
       "      <td>Yeah we all know that guy! how about the loch ness monster being protected under the Scottish 1912 protection of animals act. Creatures of the great deep are extraordinary. \"The immortal Jelly fi...</td>\n",
       "      <td>1</td>\n",
       "    </tr>\n",
       "  </tbody>\n",
       "</table>\n",
       "</div>"
      ],
      "text/plain": [
       "                                                                                                                                                                                                     message  \\\n",
       "167   Not where I lived, if I want to read a comic book, I had to go to the library. But as I think about it Tintin is a comic book, so I was wrong, I did read a lot of them when I was young but they w...   \n",
       "175   Agreed. Can you also believe that George Lucas' wife at the time, Marcia, won an academy award for her editing on Star Wars and yet George Lucas didn't win an academy award for directing. That is...   \n",
       "187   Indeed he doesn't. But I've always liked Chewbacca because he reminded me of a giant dog. Ha! Speaking of dogs, I think it's cool that dogs, along with elephants, are the only animals that unders...   \n",
       "228   Yes, I have a dog.  Sounds like in the Dear Amy that they do everything tit for tat. The cat owner states that her fiance has to get rid of his saltwater fish if she gets rid of her cat.  That's ...   \n",
       "293   Yeah we all know that guy! how about the loch ness monster being protected under the Scottish 1912 protection of animals act. Creatures of the great deep are extraordinary. \"The immortal Jelly fi...   \n",
       "\n",
       "     sentiment  \n",
       "167          7  \n",
       "175          7  \n",
       "187          5  \n",
       "228          7  \n",
       "293          1  "
      ]
     },
     "execution_count": 14,
     "metadata": {},
     "output_type": "execute_result"
    }
   ],
   "source": [
    "# i only use messages with more than 199 chars\n",
    "df02 = df02[df02.message.astype(str).str.len() >= 200]\n",
    "df02.head()"
   ]
  },
  {
   "cell_type": "code",
   "execution_count": 15,
   "id": "05050680-5086-4900-8650-cd7a52904065",
   "metadata": {},
   "outputs": [
    {
     "name": "stdout",
     "output_type": "stream",
     "text": [
      "200 697\n"
     ]
    }
   ],
   "source": [
    "# message lengths\n",
    "messages_len = [len(df02.iloc[i,0]) for i in range(len(df02))]\n",
    "messages_len.sort()\n",
    "print(messages_len[0],messages_len[-1])"
   ]
  },
  {
   "cell_type": "code",
   "execution_count": 16,
   "id": "f0151409-876e-4fbd-a79b-e810cc195575",
   "metadata": {},
   "outputs": [
    {
     "data": {
      "text/plain": [
       "(10821, 2)"
      ]
     },
     "execution_count": 16,
     "metadata": {},
     "output_type": "execute_result"
    }
   ],
   "source": [
    "df02.shape"
   ]
  },
  {
   "cell_type": "code",
   "execution_count": 17,
   "id": "608aae0a-b905-47d4-b211-926accef8f5c",
   "metadata": {},
   "outputs": [
    {
     "data": {
      "text/html": [
       "<div>\n",
       "<style scoped>\n",
       "    .dataframe tbody tr th:only-of-type {\n",
       "        vertical-align: middle;\n",
       "    }\n",
       "\n",
       "    .dataframe tbody tr th {\n",
       "        vertical-align: top;\n",
       "    }\n",
       "\n",
       "    .dataframe thead th {\n",
       "        text-align: right;\n",
       "    }\n",
       "</style>\n",
       "<table border=\"1\" class=\"dataframe\">\n",
       "  <thead>\n",
       "    <tr style=\"text-align: right;\">\n",
       "      <th></th>\n",
       "      <th>message</th>\n",
       "      <th>sentiment</th>\n",
       "    </tr>\n",
       "  </thead>\n",
       "  <tbody>\n",
       "    <tr>\n",
       "      <th>167</th>\n",
       "      <td>Not where I lived, if I want to read a comic book, I had to go to the library. But as I think about it Tintin is a comic book, so I was wrong, I did read a lot of them when I was young but they w...</td>\n",
       "      <td>7</td>\n",
       "    </tr>\n",
       "    <tr>\n",
       "      <th>175</th>\n",
       "      <td>Agreed. Can you also believe that George Lucas' wife at the time, Marcia, won an academy award for her editing on Star Wars and yet George Lucas didn't win an academy award for directing. That is...</td>\n",
       "      <td>7</td>\n",
       "    </tr>\n",
       "    <tr>\n",
       "      <th>187</th>\n",
       "      <td>Indeed he doesn't. But I've always liked Chewbacca because he reminded me of a giant dog. Ha! Speaking of dogs, I think it's cool that dogs, along with elephants, are the only animals that unders...</td>\n",
       "      <td>5</td>\n",
       "    </tr>\n",
       "    <tr>\n",
       "      <th>228</th>\n",
       "      <td>Yes, I have a dog.  Sounds like in the Dear Amy that they do everything tit for tat. The cat owner states that her fiance has to get rid of his saltwater fish if she gets rid of her cat.  That's ...</td>\n",
       "      <td>7</td>\n",
       "    </tr>\n",
       "    <tr>\n",
       "      <th>293</th>\n",
       "      <td>Yeah we all know that guy! how about the loch ness monster being protected under the Scottish 1912 protection of animals act. Creatures of the great deep are extraordinary. \"The immortal Jelly fi...</td>\n",
       "      <td>1</td>\n",
       "    </tr>\n",
       "  </tbody>\n",
       "</table>\n",
       "</div>"
      ],
      "text/plain": [
       "                                                                                                                                                                                                     message  \\\n",
       "167   Not where I lived, if I want to read a comic book, I had to go to the library. But as I think about it Tintin is a comic book, so I was wrong, I did read a lot of them when I was young but they w...   \n",
       "175   Agreed. Can you also believe that George Lucas' wife at the time, Marcia, won an academy award for her editing on Star Wars and yet George Lucas didn't win an academy award for directing. That is...   \n",
       "187   Indeed he doesn't. But I've always liked Chewbacca because he reminded me of a giant dog. Ha! Speaking of dogs, I think it's cool that dogs, along with elephants, are the only animals that unders...   \n",
       "228   Yes, I have a dog.  Sounds like in the Dear Amy that they do everything tit for tat. The cat owner states that her fiance has to get rid of his saltwater fish if she gets rid of her cat.  That's ...   \n",
       "293   Yeah we all know that guy! how about the loch ness monster being protected under the Scottish 1912 protection of animals act. Creatures of the great deep are extraordinary. \"The immortal Jelly fi...   \n",
       "\n",
       "     sentiment  \n",
       "167          7  \n",
       "175          7  \n",
       "187          5  \n",
       "228          7  \n",
       "293          1  "
      ]
     },
     "execution_count": 17,
     "metadata": {},
     "output_type": "execute_result"
    }
   ],
   "source": [
    "# i correct the size of my data set to work with\n",
    "df03 = df02.iloc[:10000,:]\n",
    "df03.head()"
   ]
  },
  {
   "cell_type": "code",
   "execution_count": 18,
   "id": "a3f72c34-14ad-4a8f-95b9-ceaf65ae0f8c",
   "metadata": {},
   "outputs": [],
   "source": [
    "# collection of functions to clean the text in 1 function:\n",
    "def lower(text):\n",
    "    return str(text).lower()\n",
    "\n",
    "# Remove HTML\n",
    "def remove_HTML(text):\n",
    "    return re.sub(r'<.*?>', '', text) \n",
    "\n",
    "# Removing all words with digits and standalone digits\n",
    "def remove_digits(text):\n",
    "    return re.sub(r'\\d+', '', text)\n",
    "\n",
    "# Removing backslashes:\n",
    "def remove_backsl(text):\n",
    "    return text.replace('\\\\','')\n",
    "\n",
    "# Removing slashes:\n",
    "def remove_sl(text):\n",
    "    return text.replace('/','')\n",
    "\n",
    "# Removing all dots:\n",
    "def remove_dots(text):\n",
    "    return text.replace('.','')\n",
    "\n",
    "def remove_emoji(text):\n",
    "    emoji_pattern = re.compile(\"[\"\n",
    "                           u\"\\U0001F600-\\U0001F64F\"  # emoticons\n",
    "                           u\"\\U0001F300-\\U0001F5FF\"  # symbols & pictographs\n",
    "                           u\"\\U0001F680-\\U0001F6FF\"  # transport & map symbols\n",
    "                           u\"\\U0001F1E0-\\U0001F1FF\"  # flags (iOS)\n",
    "                           u\"\\U00002702-\\U000027B0\"\n",
    "                           u\"\\U000024C2-\\U0001F251\"\n",
    "                           \"]+\", flags=re.UNICODE)\n",
    "    return emoji_pattern.sub(r'', text)\n",
    "\n",
    "# Removing all non-printable symbols like \"ड\", \"ட\"\n",
    "def remove_non_printable(text):\n",
    "    text = text.encode(\"ascii\", \"ignore\")\n",
    "    return text.decode()\n",
    "        \n",
    "# One function to clean it all\n",
    "def clean_text(text):\n",
    "    text = lower(text)\n",
    "    text = remove_digits(text)\n",
    "    text = remove_backsl(text)\n",
    "    text = remove_sl(text)\n",
    "    text = remove_dots(text)\n",
    "    text = remove_emoji(text)\n",
    "    text = remove_HTML(text)\n",
    "    text = remove_non_printable(text)\n",
    "    return text"
   ]
  },
  {
   "cell_type": "code",
   "execution_count": 19,
   "id": "41821c7c-812e-46a6-9e70-8449669e2eb4",
   "metadata": {},
   "outputs": [
    {
     "data": {
      "text/html": [
       "<div>\n",
       "<style scoped>\n",
       "    .dataframe tbody tr th:only-of-type {\n",
       "        vertical-align: middle;\n",
       "    }\n",
       "\n",
       "    .dataframe tbody tr th {\n",
       "        vertical-align: top;\n",
       "    }\n",
       "\n",
       "    .dataframe thead th {\n",
       "        text-align: right;\n",
       "    }\n",
       "</style>\n",
       "<table border=\"1\" class=\"dataframe\">\n",
       "  <thead>\n",
       "    <tr style=\"text-align: right;\">\n",
       "      <th></th>\n",
       "      <th>message</th>\n",
       "      <th>sentiment</th>\n",
       "      <th>Clean_message</th>\n",
       "    </tr>\n",
       "  </thead>\n",
       "  <tbody>\n",
       "    <tr>\n",
       "      <th>167</th>\n",
       "      <td>Not where I lived, if I want to read a comic book, I had to go to the library. But as I think about it Tintin is a comic book, so I was wrong, I did read a lot of them when I was young but they w...</td>\n",
       "      <td>7</td>\n",
       "      <td>not where i lived, if i want to read a comic book, i had to go to the library but as i think about it tintin is a comic book, so i was wrong, i did read a lot of them when i was young but they we...</td>\n",
       "    </tr>\n",
       "    <tr>\n",
       "      <th>175</th>\n",
       "      <td>Agreed. Can you also believe that George Lucas' wife at the time, Marcia, won an academy award for her editing on Star Wars and yet George Lucas didn't win an academy award for directing. That is...</td>\n",
       "      <td>7</td>\n",
       "      <td>agreed can you also believe that george lucas' wife at the time, marcia, won an academy award for her editing on star wars and yet george lucas didn't win an academy award for directing that is j...</td>\n",
       "    </tr>\n",
       "    <tr>\n",
       "      <th>187</th>\n",
       "      <td>Indeed he doesn't. But I've always liked Chewbacca because he reminded me of a giant dog. Ha! Speaking of dogs, I think it's cool that dogs, along with elephants, are the only animals that unders...</td>\n",
       "      <td>5</td>\n",
       "      <td>indeed he doesn't but i've always liked chewbacca because he reminded me of a giant dog ha! speaking of dogs, i think it's cool that dogs, along with elephants, are the only animals that understa...</td>\n",
       "    </tr>\n",
       "    <tr>\n",
       "      <th>228</th>\n",
       "      <td>Yes, I have a dog.  Sounds like in the Dear Amy that they do everything tit for tat. The cat owner states that her fiance has to get rid of his saltwater fish if she gets rid of her cat.  That's ...</td>\n",
       "      <td>7</td>\n",
       "      <td>yes, i have a dog  sounds like in the dear amy that they do everything tit for tat the cat owner states that her fiance has to get rid of his saltwater fish if she gets rid of her cat  that's not...</td>\n",
       "    </tr>\n",
       "    <tr>\n",
       "      <th>293</th>\n",
       "      <td>Yeah we all know that guy! how about the loch ness monster being protected under the Scottish 1912 protection of animals act. Creatures of the great deep are extraordinary. \"The immortal Jelly fi...</td>\n",
       "      <td>1</td>\n",
       "      <td>yeah we all know that guy! how about the loch ness monster being protected under the scottish  protection of animals act creatures of the great deep are extraordinary \"the immortal jelly fish</td>\n",
       "    </tr>\n",
       "  </tbody>\n",
       "</table>\n",
       "</div>"
      ],
      "text/plain": [
       "                                                                                                                                                                                                     message  \\\n",
       "167   Not where I lived, if I want to read a comic book, I had to go to the library. But as I think about it Tintin is a comic book, so I was wrong, I did read a lot of them when I was young but they w...   \n",
       "175   Agreed. Can you also believe that George Lucas' wife at the time, Marcia, won an academy award for her editing on Star Wars and yet George Lucas didn't win an academy award for directing. That is...   \n",
       "187   Indeed he doesn't. But I've always liked Chewbacca because he reminded me of a giant dog. Ha! Speaking of dogs, I think it's cool that dogs, along with elephants, are the only animals that unders...   \n",
       "228   Yes, I have a dog.  Sounds like in the Dear Amy that they do everything tit for tat. The cat owner states that her fiance has to get rid of his saltwater fish if she gets rid of her cat.  That's ...   \n",
       "293   Yeah we all know that guy! how about the loch ness monster being protected under the Scottish 1912 protection of animals act. Creatures of the great deep are extraordinary. \"The immortal Jelly fi...   \n",
       "\n",
       "     sentiment  \\\n",
       "167          7   \n",
       "175          7   \n",
       "187          5   \n",
       "228          7   \n",
       "293          1   \n",
       "\n",
       "                                                                                                                                                                                               Clean_message  \n",
       "167   not where i lived, if i want to read a comic book, i had to go to the library but as i think about it tintin is a comic book, so i was wrong, i did read a lot of them when i was young but they we...  \n",
       "175   agreed can you also believe that george lucas' wife at the time, marcia, won an academy award for her editing on star wars and yet george lucas didn't win an academy award for directing that is j...  \n",
       "187   indeed he doesn't but i've always liked chewbacca because he reminded me of a giant dog ha! speaking of dogs, i think it's cool that dogs, along with elephants, are the only animals that understa...  \n",
       "228   yes, i have a dog  sounds like in the dear amy that they do everything tit for tat the cat owner states that her fiance has to get rid of his saltwater fish if she gets rid of her cat  that's not...  \n",
       "293         yeah we all know that guy! how about the loch ness monster being protected under the scottish  protection of animals act creatures of the great deep are extraordinary \"the immortal jelly fish   "
      ]
     },
     "execution_count": 19,
     "metadata": {},
     "output_type": "execute_result"
    }
   ],
   "source": [
    "df03['Clean_message'] = df03['message'].apply(clean_text)\n",
    "df03.head(5)"
   ]
  },
  {
   "cell_type": "code",
   "execution_count": 20,
   "id": "05d7cd18-0875-48ab-b96e-7bda72d701be",
   "metadata": {},
   "outputs": [],
   "source": [
    "# create new, regular indices\n",
    "df03.reset_index(drop=True,inplace=True)"
   ]
  },
  {
   "cell_type": "code",
   "execution_count": 21,
   "id": "c9b088d4-d903-4f3f-ad04-23eeb2068fbb",
   "metadata": {},
   "outputs": [
    {
     "data": {
      "text/html": [
       "<div>\n",
       "<style scoped>\n",
       "    .dataframe tbody tr th:only-of-type {\n",
       "        vertical-align: middle;\n",
       "    }\n",
       "\n",
       "    .dataframe tbody tr th {\n",
       "        vertical-align: top;\n",
       "    }\n",
       "\n",
       "    .dataframe thead th {\n",
       "        text-align: right;\n",
       "    }\n",
       "</style>\n",
       "<table border=\"1\" class=\"dataframe\">\n",
       "  <thead>\n",
       "    <tr style=\"text-align: right;\">\n",
       "      <th></th>\n",
       "      <th>message</th>\n",
       "      <th>sentiment</th>\n",
       "      <th>Clean_message</th>\n",
       "    </tr>\n",
       "  </thead>\n",
       "  <tbody>\n",
       "    <tr>\n",
       "      <th>0</th>\n",
       "      <td>Not where I lived, if I want to read a comic book, I had to go to the library. But as I think about it Tintin is a comic book, so I was wrong, I did read a lot of them when I was young but they w...</td>\n",
       "      <td>7</td>\n",
       "      <td>not where i lived, if i want to read a comic book, i had to go to the library but as i think about it tintin is a comic book, so i was wrong, i did read a lot of them when i was young but they we...</td>\n",
       "    </tr>\n",
       "    <tr>\n",
       "      <th>1</th>\n",
       "      <td>Agreed. Can you also believe that George Lucas' wife at the time, Marcia, won an academy award for her editing on Star Wars and yet George Lucas didn't win an academy award for directing. That is...</td>\n",
       "      <td>7</td>\n",
       "      <td>agreed can you also believe that george lucas' wife at the time, marcia, won an academy award for her editing on star wars and yet george lucas didn't win an academy award for directing that is j...</td>\n",
       "    </tr>\n",
       "    <tr>\n",
       "      <th>2</th>\n",
       "      <td>Indeed he doesn't. But I've always liked Chewbacca because he reminded me of a giant dog. Ha! Speaking of dogs, I think it's cool that dogs, along with elephants, are the only animals that unders...</td>\n",
       "      <td>5</td>\n",
       "      <td>indeed he doesn't but i've always liked chewbacca because he reminded me of a giant dog ha! speaking of dogs, i think it's cool that dogs, along with elephants, are the only animals that understa...</td>\n",
       "    </tr>\n",
       "    <tr>\n",
       "      <th>3</th>\n",
       "      <td>Yes, I have a dog.  Sounds like in the Dear Amy that they do everything tit for tat. The cat owner states that her fiance has to get rid of his saltwater fish if she gets rid of her cat.  That's ...</td>\n",
       "      <td>7</td>\n",
       "      <td>yes, i have a dog  sounds like in the dear amy that they do everything tit for tat the cat owner states that her fiance has to get rid of his saltwater fish if she gets rid of her cat  that's not...</td>\n",
       "    </tr>\n",
       "    <tr>\n",
       "      <th>4</th>\n",
       "      <td>Yeah we all know that guy! how about the loch ness monster being protected under the Scottish 1912 protection of animals act. Creatures of the great deep are extraordinary. \"The immortal Jelly fi...</td>\n",
       "      <td>1</td>\n",
       "      <td>yeah we all know that guy! how about the loch ness monster being protected under the scottish  protection of animals act creatures of the great deep are extraordinary \"the immortal jelly fish</td>\n",
       "    </tr>\n",
       "    <tr>\n",
       "      <th>...</th>\n",
       "      <td>...</td>\n",
       "      <td>...</td>\n",
       "      <td>...</td>\n",
       "    </tr>\n",
       "    <tr>\n",
       "      <th>9995</th>\n",
       "      <td>It's a great show for kids although I haven't seen too many. No where near 750. Ha! I prefer South Park. Speaking of which, did you know the Simpson's crew actually sent the South Park producers ...</td>\n",
       "      <td>5</td>\n",
       "      <td>it's a great show for kids although i haven't seen too many no where near  ha! i prefer south park speaking of which, did you know the simpson's crew actually sent the south park producers flower...</td>\n",
       "    </tr>\n",
       "    <tr>\n",
       "      <th>9996</th>\n",
       "      <td>I'm honestly not sure. It's crazy Bart never appeared nor was mentioned in an episode, right? Wonder what episode that was? Maybe I can post about it on Facebook and get an answer! Speaking of Fa...</td>\n",
       "      <td>7</td>\n",
       "      <td>i'm honestly not sure it's crazy bart never appeared nor was mentioned in an episode, right? wonder what episode that was? maybe i can post about it on facebook and get an answer! speaking of fac...</td>\n",
       "    </tr>\n",
       "    <tr>\n",
       "      <th>9997</th>\n",
       "      <td>You can definitely get an answer if you post it, there are some very loyal fans of the show, I would've never noticed Bart never appeared. Did you know how Facebook came to be and how it was deve...</td>\n",
       "      <td>1</td>\n",
       "      <td>you can definitely get an answer if you post it, there are some very loyal fans of the show, i would've never noticed bart never appeared did you know how facebook came to be and how it was devel...</td>\n",
       "    </tr>\n",
       "    <tr>\n",
       "      <th>9998</th>\n",
       "      <td>Yeah, definitely makes me think about the things I \"didn't\" accomplish while I was stuck in my dorm room with roommates back in the day. I wonder how MySpace feels now for turning down Facebook f...</td>\n",
       "      <td>1</td>\n",
       "      <td>yeah, definitely makes me think about the things i \"didn't\" accomplish while i was stuck in my dorm room with roommates back in the day i wonder how myspace feels now for turning down facebook fo...</td>\n",
       "    </tr>\n",
       "    <tr>\n",
       "      <th>9999</th>\n",
       "      <td>My guess is they would be a venture company investing billions in other startup companies in hopes of find their next payoff like \"Facebook\", but maybe if they ran a promotion like what Burger Ki...</td>\n",
       "      <td>7</td>\n",
       "      <td>my guess is they would be a venture company investing billions in other startup companies in hopes of find their next payoff like \"facebook\", but maybe if they ran a promotion like what burger ki...</td>\n",
       "    </tr>\n",
       "  </tbody>\n",
       "</table>\n",
       "<p>10000 rows × 3 columns</p>\n",
       "</div>"
      ],
      "text/plain": [
       "                                                                                                                                                                                                      message  \\\n",
       "0      Not where I lived, if I want to read a comic book, I had to go to the library. But as I think about it Tintin is a comic book, so I was wrong, I did read a lot of them when I was young but they w...   \n",
       "1      Agreed. Can you also believe that George Lucas' wife at the time, Marcia, won an academy award for her editing on Star Wars and yet George Lucas didn't win an academy award for directing. That is...   \n",
       "2      Indeed he doesn't. But I've always liked Chewbacca because he reminded me of a giant dog. Ha! Speaking of dogs, I think it's cool that dogs, along with elephants, are the only animals that unders...   \n",
       "3      Yes, I have a dog.  Sounds like in the Dear Amy that they do everything tit for tat. The cat owner states that her fiance has to get rid of his saltwater fish if she gets rid of her cat.  That's ...   \n",
       "4      Yeah we all know that guy! how about the loch ness monster being protected under the Scottish 1912 protection of animals act. Creatures of the great deep are extraordinary. \"The immortal Jelly fi...   \n",
       "...                                                                                                                                                                                                       ...   \n",
       "9995   It's a great show for kids although I haven't seen too many. No where near 750. Ha! I prefer South Park. Speaking of which, did you know the Simpson's crew actually sent the South Park producers ...   \n",
       "9996   I'm honestly not sure. It's crazy Bart never appeared nor was mentioned in an episode, right? Wonder what episode that was? Maybe I can post about it on Facebook and get an answer! Speaking of Fa...   \n",
       "9997   You can definitely get an answer if you post it, there are some very loyal fans of the show, I would've never noticed Bart never appeared. Did you know how Facebook came to be and how it was deve...   \n",
       "9998   Yeah, definitely makes me think about the things I \"didn't\" accomplish while I was stuck in my dorm room with roommates back in the day. I wonder how MySpace feels now for turning down Facebook f...   \n",
       "9999   My guess is they would be a venture company investing billions in other startup companies in hopes of find their next payoff like \"Facebook\", but maybe if they ran a promotion like what Burger Ki...   \n",
       "\n",
       "      sentiment  \\\n",
       "0             7   \n",
       "1             7   \n",
       "2             5   \n",
       "3             7   \n",
       "4             1   \n",
       "...         ...   \n",
       "9995          5   \n",
       "9996          7   \n",
       "9997          1   \n",
       "9998          1   \n",
       "9999          7   \n",
       "\n",
       "                                                                                                                                                                                                Clean_message  \n",
       "0      not where i lived, if i want to read a comic book, i had to go to the library but as i think about it tintin is a comic book, so i was wrong, i did read a lot of them when i was young but they we...  \n",
       "1      agreed can you also believe that george lucas' wife at the time, marcia, won an academy award for her editing on star wars and yet george lucas didn't win an academy award for directing that is j...  \n",
       "2      indeed he doesn't but i've always liked chewbacca because he reminded me of a giant dog ha! speaking of dogs, i think it's cool that dogs, along with elephants, are the only animals that understa...  \n",
       "3      yes, i have a dog  sounds like in the dear amy that they do everything tit for tat the cat owner states that her fiance has to get rid of his saltwater fish if she gets rid of her cat  that's not...  \n",
       "4            yeah we all know that guy! how about the loch ness monster being protected under the scottish  protection of animals act creatures of the great deep are extraordinary \"the immortal jelly fish   \n",
       "...                                                                                                                                                                                                       ...  \n",
       "9995   it's a great show for kids although i haven't seen too many no where near  ha! i prefer south park speaking of which, did you know the simpson's crew actually sent the south park producers flower...  \n",
       "9996   i'm honestly not sure it's crazy bart never appeared nor was mentioned in an episode, right? wonder what episode that was? maybe i can post about it on facebook and get an answer! speaking of fac...  \n",
       "9997   you can definitely get an answer if you post it, there are some very loyal fans of the show, i would've never noticed bart never appeared did you know how facebook came to be and how it was devel...  \n",
       "9998   yeah, definitely makes me think about the things i \"didn't\" accomplish while i was stuck in my dorm room with roommates back in the day i wonder how myspace feels now for turning down facebook fo...  \n",
       "9999   my guess is they would be a venture company investing billions in other startup companies in hopes of find their next payoff like \"facebook\", but maybe if they ran a promotion like what burger ki...  \n",
       "\n",
       "[10000 rows x 3 columns]"
      ]
     },
     "execution_count": 21,
     "metadata": {},
     "output_type": "execute_result"
    }
   ],
   "source": [
    "df03"
   ]
  },
  {
   "cell_type": "code",
   "execution_count": 22,
   "id": "0635446f-b776-443d-9727-4d53f9279e80",
   "metadata": {},
   "outputs": [
    {
     "data": {
      "text/plain": [
       "0     not where i lived, if i want to read a comic book, i had to go to the library but as i think about it tintin is a comic book, so i was wrong, i did read a lot of them when i was young but they we...\n",
       "1     agreed can you also believe that george lucas' wife at the time, marcia, won an academy award for her editing on star wars and yet george lucas didn't win an academy award for directing that is j...\n",
       "2     indeed he doesn't but i've always liked chewbacca because he reminded me of a giant dog ha! speaking of dogs, i think it's cool that dogs, along with elephants, are the only animals that understa...\n",
       "Name: Clean_message, dtype: object"
      ]
     },
     "execution_count": 22,
     "metadata": {},
     "output_type": "execute_result"
    }
   ],
   "source": [
    "# preparing data set\n",
    "df03.Clean_message[:3]"
   ]
  },
  {
   "cell_type": "code",
   "execution_count": 23,
   "id": "f75a4686-1658-413e-a289-ac0499843cfe",
   "metadata": {},
   "outputs": [],
   "source": [
    "# function --> tokenize, create N-Gram Model, generate text\n",
    "def generate_text(text):\n",
    "\n",
    "    # tokenization\n",
    "    #   --> function for breaking a text into individual words or tokens\n",
    "    # check if model for tokenizer exists\n",
    "    try:\n",
    "        nltk.data.find('punkt.zip')\n",
    "    except:\n",
    "        nltk.download('punkt')\n",
    "    #nltk.download('punkt')\n",
    "    tokens = nltk.word_tokenize(text)\n",
    "    \n",
    "    # N-Gram Model\n",
    "    #  function for --> a contiguous sequence of n items from a given sample of text\n",
    "    #               --> creating a simple bigram model (n=2) for the LLM\n",
    "    #               --> creating a dictionary of bigrams and their frequencies\n",
    "    bigrams = list(ngrams(tokens, 2))\n",
    "    bigram_freq = defaultdict(Counter)\n",
    "\n",
    "    for w1, w2 in bigrams:\n",
    "        bigram_freq[w1][w2] += 1\n",
    "    bigram_freq = bigram_freq\n",
    "    \n",
    "    # generating the text\n",
    "    # --> with the bigram model i generate the text using a function\n",
    "    # --> the function accepts a seed word (randomly) and generates a sequence of words using the bigram model\n",
    "    n_words = 15\n",
    "    result = [str(tokens[5])]\n",
    "    for _ in range(n_words):\n",
    "        next_word_options = bigram_freq[result[-1]]\n",
    "        if len(next_word_options) > 0:\n",
    "            next_word = random.choices(list(next_word_options.keys()), list(next_word_options.values()))[0]\n",
    "            result.append(next_word)\n",
    "    return ' '.join(result)"
   ]
  },
  {
   "cell_type": "code",
   "execution_count": null,
   "id": "f9633496-a3be-41b1-8ab5-f720e7d4111c",
   "metadata": {},
   "outputs": [],
   "source": [
    "df03['Generated_message'] = df03.Clean_message.apply(generate_text)"
   ]
  },
  {
   "cell_type": "code",
   "execution_count": 25,
   "id": "2fd103a8-c182-4969-986f-5ff7900cb71b",
   "metadata": {},
   "outputs": [
    {
     "data": {
      "text/html": [
       "<div>\n",
       "<style scoped>\n",
       "    .dataframe tbody tr th:only-of-type {\n",
       "        vertical-align: middle;\n",
       "    }\n",
       "\n",
       "    .dataframe tbody tr th {\n",
       "        vertical-align: top;\n",
       "    }\n",
       "\n",
       "    .dataframe thead th {\n",
       "        text-align: right;\n",
       "    }\n",
       "</style>\n",
       "<table border=\"1\" class=\"dataframe\">\n",
       "  <thead>\n",
       "    <tr style=\"text-align: right;\">\n",
       "      <th></th>\n",
       "      <th>message</th>\n",
       "      <th>sentiment</th>\n",
       "      <th>Clean_message</th>\n",
       "      <th>Generated_message</th>\n",
       "    </tr>\n",
       "  </thead>\n",
       "  <tbody>\n",
       "    <tr>\n",
       "      <th>0</th>\n",
       "      <td>Not where I lived, if I want to read a comic book, I had to go to the library. But as I think about it Tintin is a comic book, so I was wrong, I did read a lot of them when I was young but they w...</td>\n",
       "      <td>7</td>\n",
       "      <td>not where i lived, if i want to read a comic book, i had to go to the library but as i think about it tintin is a comic book, so i was wrong, i did read a lot of them when i was young but they we...</td>\n",
       "      <td>if i want to read a comic book , i lived , if i had to</td>\n",
       "    </tr>\n",
       "    <tr>\n",
       "      <th>1</th>\n",
       "      <td>Agreed. Can you also believe that George Lucas' wife at the time, Marcia, won an academy award for her editing on Star Wars and yet George Lucas didn't win an academy award for directing. That is...</td>\n",
       "      <td>7</td>\n",
       "      <td>agreed can you also believe that george lucas' wife at the time, marcia, won an academy award for her editing on star wars and yet george lucas didn't win an academy award for directing that is j...</td>\n",
       "      <td>that george lucas did n't win an academy award for her editing on star wars and</td>\n",
       "    </tr>\n",
       "    <tr>\n",
       "      <th>2</th>\n",
       "      <td>Indeed he doesn't. But I've always liked Chewbacca because he reminded me of a giant dog. Ha! Speaking of dogs, I think it's cool that dogs, along with elephants, are the only animals that unders...</td>\n",
       "      <td>5</td>\n",
       "      <td>indeed he doesn't but i've always liked chewbacca because he reminded me of a giant dog ha! speaking of dogs, i think it's cool that dogs, along with elephants, are the only animals that understa...</td>\n",
       "      <td>i think it 's cool that understand pointing ! speaking of dogs , along with elephants</td>\n",
       "    </tr>\n",
       "    <tr>\n",
       "      <th>3</th>\n",
       "      <td>Yes, I have a dog.  Sounds like in the Dear Amy that they do everything tit for tat. The cat owner states that her fiance has to get rid of his saltwater fish if she gets rid of her cat.  That's ...</td>\n",
       "      <td>7</td>\n",
       "      <td>yes, i have a dog  sounds like in the dear amy that they do everything tit for tat the cat owner states that her fiance has to get rid of his saltwater fish if she gets rid of her cat  that's not...</td>\n",
       "      <td>dog sounds like they seem like in the cat owner states that 's not necessarily fair</td>\n",
       "    </tr>\n",
       "    <tr>\n",
       "      <th>4</th>\n",
       "      <td>Yeah we all know that guy! how about the loch ness monster being protected under the Scottish 1912 protection of animals act. Creatures of the great deep are extraordinary. \"The immortal Jelly fi...</td>\n",
       "      <td>1</td>\n",
       "      <td>yeah we all know that guy! how about the loch ness monster being protected under the scottish  protection of animals act creatures of the great deep are extraordinary \"the immortal jelly fish</td>\n",
       "      <td>guy ! how about the immortal jelly fish</td>\n",
       "    </tr>\n",
       "  </tbody>\n",
       "</table>\n",
       "</div>"
      ],
      "text/plain": [
       "                                                                                                                                                                                                   message  \\\n",
       "0   Not where I lived, if I want to read a comic book, I had to go to the library. But as I think about it Tintin is a comic book, so I was wrong, I did read a lot of them when I was young but they w...   \n",
       "1   Agreed. Can you also believe that George Lucas' wife at the time, Marcia, won an academy award for her editing on Star Wars and yet George Lucas didn't win an academy award for directing. That is...   \n",
       "2   Indeed he doesn't. But I've always liked Chewbacca because he reminded me of a giant dog. Ha! Speaking of dogs, I think it's cool that dogs, along with elephants, are the only animals that unders...   \n",
       "3   Yes, I have a dog.  Sounds like in the Dear Amy that they do everything tit for tat. The cat owner states that her fiance has to get rid of his saltwater fish if she gets rid of her cat.  That's ...   \n",
       "4   Yeah we all know that guy! how about the loch ness monster being protected under the Scottish 1912 protection of animals act. Creatures of the great deep are extraordinary. \"The immortal Jelly fi...   \n",
       "\n",
       "   sentiment  \\\n",
       "0          7   \n",
       "1          7   \n",
       "2          5   \n",
       "3          7   \n",
       "4          1   \n",
       "\n",
       "                                                                                                                                                                                             Clean_message  \\\n",
       "0   not where i lived, if i want to read a comic book, i had to go to the library but as i think about it tintin is a comic book, so i was wrong, i did read a lot of them when i was young but they we...   \n",
       "1   agreed can you also believe that george lucas' wife at the time, marcia, won an academy award for her editing on star wars and yet george lucas didn't win an academy award for directing that is j...   \n",
       "2   indeed he doesn't but i've always liked chewbacca because he reminded me of a giant dog ha! speaking of dogs, i think it's cool that dogs, along with elephants, are the only animals that understa...   \n",
       "3   yes, i have a dog  sounds like in the dear amy that they do everything tit for tat the cat owner states that her fiance has to get rid of his saltwater fish if she gets rid of her cat  that's not...   \n",
       "4         yeah we all know that guy! how about the loch ness monster being protected under the scottish  protection of animals act creatures of the great deep are extraordinary \"the immortal jelly fish    \n",
       "\n",
       "                                                                       Generated_message  \n",
       "0                                 if i want to read a comic book , i lived , if i had to  \n",
       "1        that george lucas did n't win an academy award for her editing on star wars and  \n",
       "2  i think it 's cool that understand pointing ! speaking of dogs , along with elephants  \n",
       "3    dog sounds like they seem like in the cat owner states that 's not necessarily fair  \n",
       "4                                                guy ! how about the immortal jelly fish  "
      ]
     },
     "execution_count": 25,
     "metadata": {},
     "output_type": "execute_result"
    }
   ],
   "source": [
    "df03.head()"
   ]
  },
  {
   "cell_type": "code",
   "execution_count": 26,
   "id": "2781ee71-74b2-47ef-be50-55f3355ecfed",
   "metadata": {},
   "outputs": [
    {
     "data": {
      "text/html": [
       "<div>\n",
       "<style scoped>\n",
       "    .dataframe tbody tr th:only-of-type {\n",
       "        vertical-align: middle;\n",
       "    }\n",
       "\n",
       "    .dataframe tbody tr th {\n",
       "        vertical-align: top;\n",
       "    }\n",
       "\n",
       "    .dataframe thead th {\n",
       "        text-align: right;\n",
       "    }\n",
       "</style>\n",
       "<table border=\"1\" class=\"dataframe\">\n",
       "  <thead>\n",
       "    <tr style=\"text-align: right;\">\n",
       "      <th></th>\n",
       "      <th>sentiment</th>\n",
       "      <th>Generated_message</th>\n",
       "    </tr>\n",
       "  </thead>\n",
       "  <tbody>\n",
       "    <tr>\n",
       "      <th>0</th>\n",
       "      <td>7</td>\n",
       "      <td>if i want to read a comic book , i lived , if i had to</td>\n",
       "    </tr>\n",
       "    <tr>\n",
       "      <th>1</th>\n",
       "      <td>7</td>\n",
       "      <td>that george lucas did n't win an academy award for her editing on star wars and</td>\n",
       "    </tr>\n",
       "    <tr>\n",
       "      <th>2</th>\n",
       "      <td>5</td>\n",
       "      <td>i think it 's cool that understand pointing ! speaking of dogs , along with elephants</td>\n",
       "    </tr>\n",
       "    <tr>\n",
       "      <th>3</th>\n",
       "      <td>7</td>\n",
       "      <td>dog sounds like they seem like in the cat owner states that 's not necessarily fair</td>\n",
       "    </tr>\n",
       "    <tr>\n",
       "      <th>4</th>\n",
       "      <td>1</td>\n",
       "      <td>guy ! how about the immortal jelly fish</td>\n",
       "    </tr>\n",
       "    <tr>\n",
       "      <th>...</th>\n",
       "      <td>...</td>\n",
       "      <td>...</td>\n",
       "    </tr>\n",
       "    <tr>\n",
       "      <th>9995</th>\n",
       "      <td>5</td>\n",
       "      <td>for kids although i prefer south park producers flowers after they aired the family guy episode</td>\n",
       "    </tr>\n",
       "    <tr>\n",
       "      <th>9996</th>\n",
       "      <td>7</td>\n",
       "      <td>it 's crazy how far it was ? wonder what episode that was launched on facebook</td>\n",
       "    </tr>\n",
       "    <tr>\n",
       "      <th>9997</th>\n",
       "      <td>1</td>\n",
       "      <td>answer if you can definitely get an answer if you know how facebook came to be</td>\n",
       "    </tr>\n",
       "    <tr>\n",
       "      <th>9998</th>\n",
       "      <td>1</td>\n",
       "      <td>think about the day i was stuck in my dorm room with roommates back in my</td>\n",
       "    </tr>\n",
       "    <tr>\n",
       "      <th>9999</th>\n",
       "      <td>7</td>\n",
       "      <td>be a promotion like what burger king once did where if you 'd get a free</td>\n",
       "    </tr>\n",
       "  </tbody>\n",
       "</table>\n",
       "<p>10000 rows × 2 columns</p>\n",
       "</div>"
      ],
      "text/plain": [
       "      sentiment  \\\n",
       "0             7   \n",
       "1             7   \n",
       "2             5   \n",
       "3             7   \n",
       "4             1   \n",
       "...         ...   \n",
       "9995          5   \n",
       "9996          7   \n",
       "9997          1   \n",
       "9998          1   \n",
       "9999          7   \n",
       "\n",
       "                                                                                    Generated_message  \n",
       "0                                              if i want to read a comic book , i lived , if i had to  \n",
       "1                     that george lucas did n't win an academy award for her editing on star wars and  \n",
       "2               i think it 's cool that understand pointing ! speaking of dogs , along with elephants  \n",
       "3                 dog sounds like they seem like in the cat owner states that 's not necessarily fair  \n",
       "4                                                             guy ! how about the immortal jelly fish  \n",
       "...                                                                                               ...  \n",
       "9995  for kids although i prefer south park producers flowers after they aired the family guy episode  \n",
       "9996                   it 's crazy how far it was ? wonder what episode that was launched on facebook  \n",
       "9997                   answer if you can definitely get an answer if you know how facebook came to be  \n",
       "9998                        think about the day i was stuck in my dorm room with roommates back in my  \n",
       "9999                         be a promotion like what burger king once did where if you 'd get a free  \n",
       "\n",
       "[10000 rows x 2 columns]"
      ]
     },
     "execution_count": 26,
     "metadata": {},
     "output_type": "execute_result"
    }
   ],
   "source": [
    "df04 = df03[['sentiment','Generated_message']]\n",
    "df04"
   ]
  },
  {
   "cell_type": "code",
   "execution_count": 27,
   "id": "c60bfacd-8d57-42ce-afcb-f4c1e0c793b5",
   "metadata": {},
   "outputs": [
    {
     "name": "stdout",
     "output_type": "stream",
     "text": [
      "<class 'pandas.core.frame.DataFrame'>\n",
      "RangeIndex: 10000 entries, 0 to 9999\n",
      "Data columns (total 2 columns):\n",
      " #   Column             Non-Null Count  Dtype \n",
      "---  ------             --------------  ----- \n",
      " 0   sentiment          10000 non-null  int32 \n",
      " 1   Generated_message  10000 non-null  object\n",
      "dtypes: int32(1), object(1)\n",
      "memory usage: 117.3+ KB\n"
     ]
    }
   ],
   "source": [
    "df04.info()"
   ]
  },
  {
   "cell_type": "code",
   "execution_count": null,
   "id": "6bd3357e-e5cd-4260-b361-09dfdd8b79fb",
   "metadata": {},
   "outputs": [],
   "source": []
  },
  {
   "cell_type": "code",
   "execution_count": null,
   "id": "67d80092-0f1e-4d59-9770-c7d75d6f1d14",
   "metadata": {},
   "outputs": [],
   "source": []
  }
 ],
 "metadata": {
  "kernelspec": {
   "display_name": "Python 3 (ipykernel)",
   "language": "python",
   "name": "python3"
  },
  "language_info": {
   "codemirror_mode": {
    "name": "ipython",
    "version": 3
   },
   "file_extension": ".py",
   "mimetype": "text/x-python",
   "name": "python",
   "nbconvert_exporter": "python",
   "pygments_lexer": "ipython3",
   "version": "3.11.8"
  },
  "widgets": {
   "application/vnd.jupyter.widget-state+json": {
    "state": {},
    "version_major": 2,
    "version_minor": 0
   }
  }
 },
 "nbformat": 4,
 "nbformat_minor": 5
}

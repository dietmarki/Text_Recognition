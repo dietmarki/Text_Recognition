{
 "cells": [
  {
   "cell_type": "markdown",
   "id": "42bd7422-5d2b-45eb-808b-1b7bb7ba8535",
   "metadata": {},
   "source": [
    "# LLM - Large Language Model (a sample example)"
   ]
  },
  {
   "cell_type": "code",
   "execution_count": 1,
   "id": "317bc6f2-e815-456b-bb0f-12b63969305f",
   "metadata": {},
   "outputs": [],
   "source": [
    "# nltk library to create a basic language model\n",
    "#   --> minimal viable product (MVP) for providing a complete and detailed implementation\n",
    "#   --> language model = probabilistic model --> predict the likelihood of a sequence of words appearing in a given context\n",
    "#   --> used in NLP (natural language processing) --> speech recognition, machine translation, and text generation"
   ]
  },
  {
   "cell_type": "code",
   "execution_count": 2,
   "id": "3adc6a23-2f2a-47f0-9fe7-6d108ecdcb66",
   "metadata": {},
   "outputs": [],
   "source": [
    "# import libraries\n",
    "import pandas as pd\n",
    "from sklearn.preprocessing import LabelEncoder\n",
    "import re\n",
    "import nltk\n",
    "from nltk import bigrams, FreqDist\n",
    "from nltk.util import ngrams\n",
    "from nltk.lm.preprocessing import padded_everygram_pipeline\n",
    "from nltk.lm import MLE\n",
    "import random\n",
    "from random import choice\n",
    "# Run in case warnings should be ignored\n",
    "import warnings\n",
    "warnings.filterwarnings('ignore')\n",
    "pd.set_option('display.max_colwidth',100)"
   ]
  },
  {
   "cell_type": "code",
   "execution_count": 3,
   "id": "fa010e59-4a91-4e4f-abc0-334e96b30841",
   "metadata": {},
   "outputs": [],
   "source": [
    "# loading data\n",
    "df01 = pd.read_csv('topical_chat.csv')"
   ]
  },
  {
   "cell_type": "code",
   "execution_count": 4,
   "id": "4d5b7ca1-1d03-4444-b099-192dbe357f5e",
   "metadata": {},
   "outputs": [
    {
     "data": {
      "text/html": [
       "<div>\n",
       "<style scoped>\n",
       "    .dataframe tbody tr th:only-of-type {\n",
       "        vertical-align: middle;\n",
       "    }\n",
       "\n",
       "    .dataframe tbody tr th {\n",
       "        vertical-align: top;\n",
       "    }\n",
       "\n",
       "    .dataframe thead th {\n",
       "        text-align: right;\n",
       "    }\n",
       "</style>\n",
       "<table border=\"1\" class=\"dataframe\">\n",
       "  <thead>\n",
       "    <tr style=\"text-align: right;\">\n",
       "      <th></th>\n",
       "      <th>conversation_id</th>\n",
       "      <th>message</th>\n",
       "      <th>sentiment</th>\n",
       "    </tr>\n",
       "  </thead>\n",
       "  <tbody>\n",
       "    <tr>\n",
       "      <th>0</th>\n",
       "      <td>1</td>\n",
       "      <td>Are you a fan of Google or Microsoft?</td>\n",
       "      <td>Curious to dive deeper</td>\n",
       "    </tr>\n",
       "    <tr>\n",
       "      <th>1</th>\n",
       "      <td>1</td>\n",
       "      <td>Both are excellent technology they are helpful in many ways. For the security purpose both are ...</td>\n",
       "      <td>Curious to dive deeper</td>\n",
       "    </tr>\n",
       "    <tr>\n",
       "      <th>2</th>\n",
       "      <td>1</td>\n",
       "      <td>I'm not  a huge fan of Google, but I use it a lot because I have to. I think they are a monopol...</td>\n",
       "      <td>Curious to dive deeper</td>\n",
       "    </tr>\n",
       "    <tr>\n",
       "      <th>3</th>\n",
       "      <td>1</td>\n",
       "      <td>Google provides online related services and products, which includes online ads, search engine ...</td>\n",
       "      <td>Curious to dive deeper</td>\n",
       "    </tr>\n",
       "    <tr>\n",
       "      <th>4</th>\n",
       "      <td>1</td>\n",
       "      <td>Yeah, their services are good. I'm just not a fan of intrusive they can be on our personal lives.</td>\n",
       "      <td>Curious to dive deeper</td>\n",
       "    </tr>\n",
       "  </tbody>\n",
       "</table>\n",
       "</div>"
      ],
      "text/plain": [
       "   conversation_id  \\\n",
       "0                1   \n",
       "1                1   \n",
       "2                1   \n",
       "3                1   \n",
       "4                1   \n",
       "\n",
       "                                                                                               message  \\\n",
       "0                                                                Are you a fan of Google or Microsoft?   \n",
       "1   Both are excellent technology they are helpful in many ways. For the security purpose both are ...   \n",
       "2   I'm not  a huge fan of Google, but I use it a lot because I have to. I think they are a monopol...   \n",
       "3   Google provides online related services and products, which includes online ads, search engine ...   \n",
       "4   Yeah, their services are good. I'm just not a fan of intrusive they can be on our personal lives.    \n",
       "\n",
       "                 sentiment  \n",
       "0   Curious to dive deeper  \n",
       "1   Curious to dive deeper  \n",
       "2   Curious to dive deeper  \n",
       "3   Curious to dive deeper  \n",
       "4   Curious to dive deeper  "
      ]
     },
     "execution_count": 4,
     "metadata": {},
     "output_type": "execute_result"
    }
   ],
   "source": [
    "df01.head()"
   ]
  },
  {
   "cell_type": "code",
   "execution_count": 5,
   "id": "27ca9efb-d5e2-4260-9364-7e1b278f6a4f",
   "metadata": {},
   "outputs": [
    {
     "name": "stdout",
     "output_type": "stream",
     "text": [
      "<class 'pandas.core.frame.DataFrame'>\n",
      "RangeIndex: 188378 entries, 0 to 188377\n",
      "Data columns (total 3 columns):\n",
      " #   Column           Non-Null Count   Dtype \n",
      "---  ------           --------------   ----- \n",
      " 0   conversation_id  188378 non-null  int64 \n",
      " 1   message          188378 non-null  object\n",
      " 2   sentiment        188378 non-null  object\n",
      "dtypes: int64(1), object(2)\n",
      "memory usage: 4.3+ MB\n"
     ]
    }
   ],
   "source": [
    "df01.info()"
   ]
  },
  {
   "cell_type": "code",
   "execution_count": 6,
   "id": "233d7b9d-e175-44a3-a41b-0663b2f61132",
   "metadata": {},
   "outputs": [
    {
     "data": {
      "text/plain": [
       "sentiment\n",
       "Curious to dive deeper    80888\n",
       "Neutral                   41367\n",
       "Surprised                 30638\n",
       "Happy                     29617\n",
       "Sad                        2533\n",
       "Disgusted                  1433\n",
       "Fearful                    1026\n",
       "Angry                       876\n",
       "Name: count, dtype: int64"
      ]
     },
     "execution_count": 6,
     "metadata": {},
     "output_type": "execute_result"
    }
   ],
   "source": [
    "df01.sentiment.value_counts()"
   ]
  },
  {
   "cell_type": "code",
   "execution_count": 7,
   "id": "87f495be-bfa3-42b2-abb4-6eaae05da707",
   "metadata": {},
   "outputs": [],
   "source": [
    "# the feature 'sentiment' could be my label --> i change it to numeric\n",
    "le = LabelEncoder()\n",
    "df01['sentiment'] = le.fit_transform(df01['sentiment'])"
   ]
  },
  {
   "cell_type": "code",
   "execution_count": 8,
   "id": "86d61461-031d-4ef7-b936-446a7a9c03d4",
   "metadata": {},
   "outputs": [
    {
     "data": {
      "text/html": [
       "<div>\n",
       "<style scoped>\n",
       "    .dataframe tbody tr th:only-of-type {\n",
       "        vertical-align: middle;\n",
       "    }\n",
       "\n",
       "    .dataframe tbody tr th {\n",
       "        vertical-align: top;\n",
       "    }\n",
       "\n",
       "    .dataframe thead th {\n",
       "        text-align: right;\n",
       "    }\n",
       "</style>\n",
       "<table border=\"1\" class=\"dataframe\">\n",
       "  <thead>\n",
       "    <tr style=\"text-align: right;\">\n",
       "      <th></th>\n",
       "      <th>message</th>\n",
       "      <th>sentiment</th>\n",
       "    </tr>\n",
       "  </thead>\n",
       "  <tbody>\n",
       "    <tr>\n",
       "      <th>0</th>\n",
       "      <td>Are you a fan of Google or Microsoft?</td>\n",
       "      <td>1</td>\n",
       "    </tr>\n",
       "    <tr>\n",
       "      <th>1</th>\n",
       "      <td>Both are excellent technology they are helpful in many ways. For the security purpose both are ...</td>\n",
       "      <td>1</td>\n",
       "    </tr>\n",
       "    <tr>\n",
       "      <th>2</th>\n",
       "      <td>I'm not  a huge fan of Google, but I use it a lot because I have to. I think they are a monopol...</td>\n",
       "      <td>1</td>\n",
       "    </tr>\n",
       "    <tr>\n",
       "      <th>3</th>\n",
       "      <td>Google provides online related services and products, which includes online ads, search engine ...</td>\n",
       "      <td>1</td>\n",
       "    </tr>\n",
       "    <tr>\n",
       "      <th>4</th>\n",
       "      <td>Yeah, their services are good. I'm just not a fan of intrusive they can be on our personal lives.</td>\n",
       "      <td>1</td>\n",
       "    </tr>\n",
       "  </tbody>\n",
       "</table>\n",
       "</div>"
      ],
      "text/plain": [
       "                                                                                               message  \\\n",
       "0                                                                Are you a fan of Google or Microsoft?   \n",
       "1   Both are excellent technology they are helpful in many ways. For the security purpose both are ...   \n",
       "2   I'm not  a huge fan of Google, but I use it a lot because I have to. I think they are a monopol...   \n",
       "3   Google provides online related services and products, which includes online ads, search engine ...   \n",
       "4   Yeah, their services are good. I'm just not a fan of intrusive they can be on our personal lives.    \n",
       "\n",
       "   sentiment  \n",
       "0          1  \n",
       "1          1  \n",
       "2          1  \n",
       "3          1  \n",
       "4          1  "
      ]
     },
     "execution_count": 8,
     "metadata": {},
     "output_type": "execute_result"
    }
   ],
   "source": [
    "# use only the messages and the sentiments:\n",
    "df01 = df01[['message','sentiment']]\n",
    "df01.head(5)"
   ]
  },
  {
   "cell_type": "code",
   "execution_count": 9,
   "id": "f4a5c663-0097-4b81-ba69-7e07ff2b4858",
   "metadata": {},
   "outputs": [
    {
     "data": {
      "text/plain": [
       "message\n",
       "Hi, how are you?                                                                                                                            317\n",
       "You too!                                                                                                                                     98\n",
       "Nice chatting with you!                                                                                                                      91\n",
       "Bye!                                                                                                                                         77\n",
       "Bye                                                                                                                                          61\n",
       "                                                                                                                                           ... \n",
       "Or he could try being an actor, he could audition as the president, he'd probably do better than Reagan did in his audition as president      1\n",
       "LOL! I wonder what was behind the US legislation protecting gov't employees for violating the Geneva conventions. Sounds fishy.               1\n",
       "I guess the US doesn't want it's military under the jurisdiction of the UN or geneva conventions                                              1\n",
       "I guess the gov't was planning for atrocities or something. I like that Norway's gov't donated to help save the Amazon.                       1\n",
       "It did. Ringo Starr, George Carlin, and Alec Baldwin have all narrated for them.                                                              1\n",
       "Name: count, Length: 184303, dtype: int64"
      ]
     },
     "execution_count": 9,
     "metadata": {},
     "output_type": "execute_result"
    }
   ],
   "source": [
    "df01.message.value_counts()"
   ]
  },
  {
   "cell_type": "code",
   "execution_count": 10,
   "id": "6d59bb10-18d8-44fe-b050-cfcbc86f3973",
   "metadata": {},
   "outputs": [
    {
     "data": {
      "text/html": [
       "<div>\n",
       "<style scoped>\n",
       "    .dataframe tbody tr th:only-of-type {\n",
       "        vertical-align: middle;\n",
       "    }\n",
       "\n",
       "    .dataframe tbody tr th {\n",
       "        vertical-align: top;\n",
       "    }\n",
       "\n",
       "    .dataframe thead th {\n",
       "        text-align: right;\n",
       "    }\n",
       "</style>\n",
       "<table border=\"1\" class=\"dataframe\">\n",
       "  <thead>\n",
       "    <tr style=\"text-align: right;\">\n",
       "      <th></th>\n",
       "      <th>message</th>\n",
       "      <th>sentiment</th>\n",
       "    </tr>\n",
       "  </thead>\n",
       "  <tbody>\n",
       "    <tr>\n",
       "      <th>0</th>\n",
       "      <td>Are you a fan of Google or Microsoft?</td>\n",
       "      <td>1</td>\n",
       "    </tr>\n",
       "    <tr>\n",
       "      <th>1</th>\n",
       "      <td>Both are excellent technology they are helpful in many ways. For the security purpose both are ...</td>\n",
       "      <td>1</td>\n",
       "    </tr>\n",
       "    <tr>\n",
       "      <th>2</th>\n",
       "      <td>I'm not  a huge fan of Google, but I use it a lot because I have to. I think they are a monopol...</td>\n",
       "      <td>1</td>\n",
       "    </tr>\n",
       "    <tr>\n",
       "      <th>3</th>\n",
       "      <td>Google provides online related services and products, which includes online ads, search engine ...</td>\n",
       "      <td>1</td>\n",
       "    </tr>\n",
       "    <tr>\n",
       "      <th>4</th>\n",
       "      <td>Yeah, their services are good. I'm just not a fan of intrusive they can be on our personal lives.</td>\n",
       "      <td>1</td>\n",
       "    </tr>\n",
       "  </tbody>\n",
       "</table>\n",
       "</div>"
      ],
      "text/plain": [
       "                                                                                               message  \\\n",
       "0                                                                Are you a fan of Google or Microsoft?   \n",
       "1   Both are excellent technology they are helpful in many ways. For the security purpose both are ...   \n",
       "2   I'm not  a huge fan of Google, but I use it a lot because I have to. I think they are a monopol...   \n",
       "3   Google provides online related services and products, which includes online ads, search engine ...   \n",
       "4   Yeah, their services are good. I'm just not a fan of intrusive they can be on our personal lives.    \n",
       "\n",
       "   sentiment  \n",
       "0          1  \n",
       "1          1  \n",
       "2          1  \n",
       "3          1  \n",
       "4          1  "
      ]
     },
     "execution_count": 10,
     "metadata": {},
     "output_type": "execute_result"
    }
   ],
   "source": [
    "# remove duplicated messages\n",
    "df02 = df01.drop_duplicates(subset='message',keep='first')\n",
    "df02.head(5)"
   ]
  },
  {
   "cell_type": "code",
   "execution_count": 11,
   "id": "07598049-b6f3-4303-916a-beb4875cde89",
   "metadata": {},
   "outputs": [
    {
     "data": {
      "text/plain": [
       "1"
      ]
     },
     "execution_count": 11,
     "metadata": {},
     "output_type": "execute_result"
    }
   ],
   "source": [
    "df02.message.value_counts().max()"
   ]
  },
  {
   "cell_type": "code",
   "execution_count": 12,
   "id": "54018d35-5ce9-42e0-a6e1-a97be941f40f",
   "metadata": {},
   "outputs": [
    {
     "data": {
      "text/plain": [
       "message  sentiment\n",
       "False    False        184303\n",
       "Name: count, dtype: int64"
      ]
     },
     "execution_count": 12,
     "metadata": {},
     "output_type": "execute_result"
    }
   ],
   "source": [
    "df02.isnull().value_counts()"
   ]
  },
  {
   "cell_type": "code",
   "execution_count": 13,
   "id": "381befec-8ab8-4b6f-9925-b66a42f20152",
   "metadata": {},
   "outputs": [
    {
     "data": {
      "text/plain": [
       "(184303, 2)"
      ]
     },
     "execution_count": 13,
     "metadata": {},
     "output_type": "execute_result"
    }
   ],
   "source": [
    "df02.shape"
   ]
  },
  {
   "cell_type": "code",
   "execution_count": 14,
   "id": "efa72994-39e1-44b6-8e6a-aa6c2971d1af",
   "metadata": {},
   "outputs": [
    {
     "data": {
      "text/html": [
       "<div>\n",
       "<style scoped>\n",
       "    .dataframe tbody tr th:only-of-type {\n",
       "        vertical-align: middle;\n",
       "    }\n",
       "\n",
       "    .dataframe tbody tr th {\n",
       "        vertical-align: top;\n",
       "    }\n",
       "\n",
       "    .dataframe thead th {\n",
       "        text-align: right;\n",
       "    }\n",
       "</style>\n",
       "<table border=\"1\" class=\"dataframe\">\n",
       "  <thead>\n",
       "    <tr style=\"text-align: right;\">\n",
       "      <th></th>\n",
       "      <th>message</th>\n",
       "      <th>sentiment</th>\n",
       "    </tr>\n",
       "  </thead>\n",
       "  <tbody>\n",
       "    <tr>\n",
       "      <th>167</th>\n",
       "      <td>Not where I lived, if I want to read a comic book, I had to go to the library. But as I think a...</td>\n",
       "      <td>7</td>\n",
       "    </tr>\n",
       "    <tr>\n",
       "      <th>175</th>\n",
       "      <td>Agreed. Can you also believe that George Lucas' wife at the time, Marcia, won an academy award ...</td>\n",
       "      <td>7</td>\n",
       "    </tr>\n",
       "    <tr>\n",
       "      <th>187</th>\n",
       "      <td>Indeed he doesn't. But I've always liked Chewbacca because he reminded me of a giant dog. Ha! S...</td>\n",
       "      <td>5</td>\n",
       "    </tr>\n",
       "    <tr>\n",
       "      <th>228</th>\n",
       "      <td>Yes, I have a dog.  Sounds like in the Dear Amy that they do everything tit for tat. The cat ow...</td>\n",
       "      <td>7</td>\n",
       "    </tr>\n",
       "    <tr>\n",
       "      <th>293</th>\n",
       "      <td>Yeah we all know that guy! how about the loch ness monster being protected under the Scottish 1...</td>\n",
       "      <td>1</td>\n",
       "    </tr>\n",
       "  </tbody>\n",
       "</table>\n",
       "</div>"
      ],
      "text/plain": [
       "                                                                                                 message  \\\n",
       "167   Not where I lived, if I want to read a comic book, I had to go to the library. But as I think a...   \n",
       "175   Agreed. Can you also believe that George Lucas' wife at the time, Marcia, won an academy award ...   \n",
       "187   Indeed he doesn't. But I've always liked Chewbacca because he reminded me of a giant dog. Ha! S...   \n",
       "228   Yes, I have a dog.  Sounds like in the Dear Amy that they do everything tit for tat. The cat ow...   \n",
       "293   Yeah we all know that guy! how about the loch ness monster being protected under the Scottish 1...   \n",
       "\n",
       "     sentiment  \n",
       "167          7  \n",
       "175          7  \n",
       "187          5  \n",
       "228          7  \n",
       "293          1  "
      ]
     },
     "execution_count": 14,
     "metadata": {},
     "output_type": "execute_result"
    }
   ],
   "source": [
    "# i only use messages with more than 199 chars\n",
    "df02 = df02[df02.message.astype(str).str.len() >= 200]\n",
    "df02.head()"
   ]
  },
  {
   "cell_type": "code",
   "execution_count": 15,
   "id": "05050680-5086-4900-8650-cd7a52904065",
   "metadata": {},
   "outputs": [
    {
     "name": "stdout",
     "output_type": "stream",
     "text": [
      "200 697\n"
     ]
    }
   ],
   "source": [
    "# message lengths\n",
    "messages_len = [len(df02.iloc[i,0]) for i in range(len(df02))]\n",
    "messages_len.sort()\n",
    "print(messages_len[0],messages_len[-1])"
   ]
  },
  {
   "cell_type": "code",
   "execution_count": 16,
   "id": "f0151409-876e-4fbd-a79b-e810cc195575",
   "metadata": {},
   "outputs": [
    {
     "data": {
      "text/plain": [
       "(10821, 2)"
      ]
     },
     "execution_count": 16,
     "metadata": {},
     "output_type": "execute_result"
    }
   ],
   "source": [
    "df02.shape"
   ]
  },
  {
   "cell_type": "code",
   "execution_count": 17,
   "id": "608aae0a-b905-47d4-b211-926accef8f5c",
   "metadata": {},
   "outputs": [
    {
     "data": {
      "text/html": [
       "<div>\n",
       "<style scoped>\n",
       "    .dataframe tbody tr th:only-of-type {\n",
       "        vertical-align: middle;\n",
       "    }\n",
       "\n",
       "    .dataframe tbody tr th {\n",
       "        vertical-align: top;\n",
       "    }\n",
       "\n",
       "    .dataframe thead th {\n",
       "        text-align: right;\n",
       "    }\n",
       "</style>\n",
       "<table border=\"1\" class=\"dataframe\">\n",
       "  <thead>\n",
       "    <tr style=\"text-align: right;\">\n",
       "      <th></th>\n",
       "      <th>message</th>\n",
       "      <th>sentiment</th>\n",
       "    </tr>\n",
       "  </thead>\n",
       "  <tbody>\n",
       "    <tr>\n",
       "      <th>167</th>\n",
       "      <td>Not where I lived, if I want to read a comic book, I had to go to the library. But as I think a...</td>\n",
       "      <td>7</td>\n",
       "    </tr>\n",
       "    <tr>\n",
       "      <th>175</th>\n",
       "      <td>Agreed. Can you also believe that George Lucas' wife at the time, Marcia, won an academy award ...</td>\n",
       "      <td>7</td>\n",
       "    </tr>\n",
       "    <tr>\n",
       "      <th>187</th>\n",
       "      <td>Indeed he doesn't. But I've always liked Chewbacca because he reminded me of a giant dog. Ha! S...</td>\n",
       "      <td>5</td>\n",
       "    </tr>\n",
       "    <tr>\n",
       "      <th>228</th>\n",
       "      <td>Yes, I have a dog.  Sounds like in the Dear Amy that they do everything tit for tat. The cat ow...</td>\n",
       "      <td>7</td>\n",
       "    </tr>\n",
       "    <tr>\n",
       "      <th>293</th>\n",
       "      <td>Yeah we all know that guy! how about the loch ness monster being protected under the Scottish 1...</td>\n",
       "      <td>1</td>\n",
       "    </tr>\n",
       "  </tbody>\n",
       "</table>\n",
       "</div>"
      ],
      "text/plain": [
       "                                                                                                 message  \\\n",
       "167   Not where I lived, if I want to read a comic book, I had to go to the library. But as I think a...   \n",
       "175   Agreed. Can you also believe that George Lucas' wife at the time, Marcia, won an academy award ...   \n",
       "187   Indeed he doesn't. But I've always liked Chewbacca because he reminded me of a giant dog. Ha! S...   \n",
       "228   Yes, I have a dog.  Sounds like in the Dear Amy that they do everything tit for tat. The cat ow...   \n",
       "293   Yeah we all know that guy! how about the loch ness monster being protected under the Scottish 1...   \n",
       "\n",
       "     sentiment  \n",
       "167          7  \n",
       "175          7  \n",
       "187          5  \n",
       "228          7  \n",
       "293          1  "
      ]
     },
     "execution_count": 17,
     "metadata": {},
     "output_type": "execute_result"
    }
   ],
   "source": [
    "# i correct the size of my data set to work with\n",
    "df03 = df02.iloc[:10000,:]\n",
    "df03.head()"
   ]
  },
  {
   "cell_type": "code",
   "execution_count": 18,
   "id": "a3f72c34-14ad-4a8f-95b9-ceaf65ae0f8c",
   "metadata": {},
   "outputs": [],
   "source": [
    "# collection of functions to clean the text in 1 function:\n",
    "def lower(text):\n",
    "    return str(text).lower()\n",
    "\n",
    "# Remove HTML\n",
    "def remove_HTML(text):\n",
    "    return re.sub(r'<.*?>', '', text) \n",
    "\n",
    "# Removing all words with digits and standalone digits\n",
    "def remove_digits(text):\n",
    "    return re.sub(r'\\d+', '', text)\n",
    "\n",
    "# Removing backslashes:\n",
    "def remove_backsl(text):\n",
    "    return text.replace('\\\\','')\n",
    "\n",
    "# Removing slashes:\n",
    "def remove_sl(text):\n",
    "    return text.replace('/','')\n",
    "\n",
    "# Removing all dots:\n",
    "def remove_dots(text):\n",
    "    return text.replace('.','')\n",
    "\n",
    "def remove_emoji(text):\n",
    "    emoji_pattern = re.compile(\"[\"\n",
    "                           u\"\\U0001F600-\\U0001F64F\"  # emoticons\n",
    "                           u\"\\U0001F300-\\U0001F5FF\"  # symbols & pictographs\n",
    "                           u\"\\U0001F680-\\U0001F6FF\"  # transport & map symbols\n",
    "                           u\"\\U0001F1E0-\\U0001F1FF\"  # flags (iOS)\n",
    "                           u\"\\U00002702-\\U000027B0\"\n",
    "                           u\"\\U000024C2-\\U0001F251\"\n",
    "                           \"]+\", flags=re.UNICODE)\n",
    "    return emoji_pattern.sub(r'', text)\n",
    "\n",
    "# Removing all non-printable symbols like \"ड\", \"ட\"\n",
    "def remove_non_printable(text):\n",
    "    text = text.encode(\"ascii\", \"ignore\")\n",
    "    return text.decode()\n",
    "        \n",
    "# One function to clean it all\n",
    "def clean_text(text):\n",
    "    text = lower(text)\n",
    "    text = remove_digits(text)\n",
    "    text = remove_backsl(text)\n",
    "    text = remove_sl(text)\n",
    "    text = remove_dots(text)\n",
    "    text = remove_emoji(text)\n",
    "    text = remove_HTML(text)\n",
    "    text = remove_non_printable(text)\n",
    "    return text"
   ]
  },
  {
   "cell_type": "code",
   "execution_count": 19,
   "id": "41821c7c-812e-46a6-9e70-8449669e2eb4",
   "metadata": {},
   "outputs": [
    {
     "data": {
      "text/html": [
       "<div>\n",
       "<style scoped>\n",
       "    .dataframe tbody tr th:only-of-type {\n",
       "        vertical-align: middle;\n",
       "    }\n",
       "\n",
       "    .dataframe tbody tr th {\n",
       "        vertical-align: top;\n",
       "    }\n",
       "\n",
       "    .dataframe thead th {\n",
       "        text-align: right;\n",
       "    }\n",
       "</style>\n",
       "<table border=\"1\" class=\"dataframe\">\n",
       "  <thead>\n",
       "    <tr style=\"text-align: right;\">\n",
       "      <th></th>\n",
       "      <th>message</th>\n",
       "      <th>sentiment</th>\n",
       "      <th>Clean_message</th>\n",
       "    </tr>\n",
       "  </thead>\n",
       "  <tbody>\n",
       "    <tr>\n",
       "      <th>167</th>\n",
       "      <td>Not where I lived, if I want to read a comic book, I had to go to the library. But as I think a...</td>\n",
       "      <td>7</td>\n",
       "      <td>not where i lived, if i want to read a comic book, i had to go to the library but as i think ab...</td>\n",
       "    </tr>\n",
       "    <tr>\n",
       "      <th>175</th>\n",
       "      <td>Agreed. Can you also believe that George Lucas' wife at the time, Marcia, won an academy award ...</td>\n",
       "      <td>7</td>\n",
       "      <td>agreed can you also believe that george lucas' wife at the time, marcia, won an academy award f...</td>\n",
       "    </tr>\n",
       "    <tr>\n",
       "      <th>187</th>\n",
       "      <td>Indeed he doesn't. But I've always liked Chewbacca because he reminded me of a giant dog. Ha! S...</td>\n",
       "      <td>5</td>\n",
       "      <td>indeed he doesn't but i've always liked chewbacca because he reminded me of a giant dog ha! spe...</td>\n",
       "    </tr>\n",
       "    <tr>\n",
       "      <th>228</th>\n",
       "      <td>Yes, I have a dog.  Sounds like in the Dear Amy that they do everything tit for tat. The cat ow...</td>\n",
       "      <td>7</td>\n",
       "      <td>yes, i have a dog  sounds like in the dear amy that they do everything tit for tat the cat owne...</td>\n",
       "    </tr>\n",
       "    <tr>\n",
       "      <th>293</th>\n",
       "      <td>Yeah we all know that guy! how about the loch ness monster being protected under the Scottish 1...</td>\n",
       "      <td>1</td>\n",
       "      <td>yeah we all know that guy! how about the loch ness monster being protected under the scottish  ...</td>\n",
       "    </tr>\n",
       "  </tbody>\n",
       "</table>\n",
       "</div>"
      ],
      "text/plain": [
       "                                                                                                 message  \\\n",
       "167   Not where I lived, if I want to read a comic book, I had to go to the library. But as I think a...   \n",
       "175   Agreed. Can you also believe that George Lucas' wife at the time, Marcia, won an academy award ...   \n",
       "187   Indeed he doesn't. But I've always liked Chewbacca because he reminded me of a giant dog. Ha! S...   \n",
       "228   Yes, I have a dog.  Sounds like in the Dear Amy that they do everything tit for tat. The cat ow...   \n",
       "293   Yeah we all know that guy! how about the loch ness monster being protected under the Scottish 1...   \n",
       "\n",
       "     sentiment  \\\n",
       "167          7   \n",
       "175          7   \n",
       "187          5   \n",
       "228          7   \n",
       "293          1   \n",
       "\n",
       "                                                                                           Clean_message  \n",
       "167   not where i lived, if i want to read a comic book, i had to go to the library but as i think ab...  \n",
       "175   agreed can you also believe that george lucas' wife at the time, marcia, won an academy award f...  \n",
       "187   indeed he doesn't but i've always liked chewbacca because he reminded me of a giant dog ha! spe...  \n",
       "228   yes, i have a dog  sounds like in the dear amy that they do everything tit for tat the cat owne...  \n",
       "293   yeah we all know that guy! how about the loch ness monster being protected under the scottish  ...  "
      ]
     },
     "execution_count": 19,
     "metadata": {},
     "output_type": "execute_result"
    }
   ],
   "source": [
    "df03['Clean_message'] = df03['message'].apply(clean_text)\n",
    "df03.head(5)"
   ]
  },
  {
   "cell_type": "code",
   "execution_count": 20,
   "id": "05d7cd18-0875-48ab-b96e-7bda72d701be",
   "metadata": {},
   "outputs": [],
   "source": [
    "# create new, regular indices\n",
    "df03.reset_index(drop=True,inplace=True)"
   ]
  },
  {
   "cell_type": "code",
   "execution_count": 21,
   "id": "c9b088d4-d903-4f3f-ad04-23eeb2068fbb",
   "metadata": {},
   "outputs": [
    {
     "data": {
      "text/html": [
       "<div>\n",
       "<style scoped>\n",
       "    .dataframe tbody tr th:only-of-type {\n",
       "        vertical-align: middle;\n",
       "    }\n",
       "\n",
       "    .dataframe tbody tr th {\n",
       "        vertical-align: top;\n",
       "    }\n",
       "\n",
       "    .dataframe thead th {\n",
       "        text-align: right;\n",
       "    }\n",
       "</style>\n",
       "<table border=\"1\" class=\"dataframe\">\n",
       "  <thead>\n",
       "    <tr style=\"text-align: right;\">\n",
       "      <th></th>\n",
       "      <th>message</th>\n",
       "      <th>sentiment</th>\n",
       "      <th>Clean_message</th>\n",
       "    </tr>\n",
       "  </thead>\n",
       "  <tbody>\n",
       "    <tr>\n",
       "      <th>0</th>\n",
       "      <td>Not where I lived, if I want to read a comic book, I had to go to the library. But as I think a...</td>\n",
       "      <td>7</td>\n",
       "      <td>not where i lived, if i want to read a comic book, i had to go to the library but as i think ab...</td>\n",
       "    </tr>\n",
       "    <tr>\n",
       "      <th>1</th>\n",
       "      <td>Agreed. Can you also believe that George Lucas' wife at the time, Marcia, won an academy award ...</td>\n",
       "      <td>7</td>\n",
       "      <td>agreed can you also believe that george lucas' wife at the time, marcia, won an academy award f...</td>\n",
       "    </tr>\n",
       "    <tr>\n",
       "      <th>2</th>\n",
       "      <td>Indeed he doesn't. But I've always liked Chewbacca because he reminded me of a giant dog. Ha! S...</td>\n",
       "      <td>5</td>\n",
       "      <td>indeed he doesn't but i've always liked chewbacca because he reminded me of a giant dog ha! spe...</td>\n",
       "    </tr>\n",
       "  </tbody>\n",
       "</table>\n",
       "</div>"
      ],
      "text/plain": [
       "                                                                                               message  \\\n",
       "0   Not where I lived, if I want to read a comic book, I had to go to the library. But as I think a...   \n",
       "1   Agreed. Can you also believe that George Lucas' wife at the time, Marcia, won an academy award ...   \n",
       "2   Indeed he doesn't. But I've always liked Chewbacca because he reminded me of a giant dog. Ha! S...   \n",
       "\n",
       "   sentiment  \\\n",
       "0          7   \n",
       "1          7   \n",
       "2          5   \n",
       "\n",
       "                                                                                         Clean_message  \n",
       "0   not where i lived, if i want to read a comic book, i had to go to the library but as i think ab...  \n",
       "1   agreed can you also believe that george lucas' wife at the time, marcia, won an academy award f...  \n",
       "2   indeed he doesn't but i've always liked chewbacca because he reminded me of a giant dog ha! spe...  "
      ]
     },
     "execution_count": 21,
     "metadata": {},
     "output_type": "execute_result"
    }
   ],
   "source": [
    "df03.head(3)"
   ]
  },
  {
   "cell_type": "code",
   "execution_count": 22,
   "id": "0635446f-b776-443d-9727-4d53f9279e80",
   "metadata": {},
   "outputs": [
    {
     "data": {
      "text/html": [
       "<div>\n",
       "<style scoped>\n",
       "    .dataframe tbody tr th:only-of-type {\n",
       "        vertical-align: middle;\n",
       "    }\n",
       "\n",
       "    .dataframe tbody tr th {\n",
       "        vertical-align: top;\n",
       "    }\n",
       "\n",
       "    .dataframe thead th {\n",
       "        text-align: right;\n",
       "    }\n",
       "</style>\n",
       "<table border=\"1\" class=\"dataframe\">\n",
       "  <thead>\n",
       "    <tr style=\"text-align: right;\">\n",
       "      <th></th>\n",
       "      <th>Clean_message</th>\n",
       "    </tr>\n",
       "  </thead>\n",
       "  <tbody>\n",
       "    <tr>\n",
       "      <th>0</th>\n",
       "      <td>not where i lived, if i want to read a comic book, i had to go to the library but as i think ab...</td>\n",
       "    </tr>\n",
       "    <tr>\n",
       "      <th>1</th>\n",
       "      <td>agreed can you also believe that george lucas' wife at the time, marcia, won an academy award f...</td>\n",
       "    </tr>\n",
       "    <tr>\n",
       "      <th>2</th>\n",
       "      <td>indeed he doesn't but i've always liked chewbacca because he reminded me of a giant dog ha! spe...</td>\n",
       "    </tr>\n",
       "  </tbody>\n",
       "</table>\n",
       "</div>"
      ],
      "text/plain": [
       "                                                                                         Clean_message\n",
       "0   not where i lived, if i want to read a comic book, i had to go to the library but as i think ab...\n",
       "1   agreed can you also believe that george lucas' wife at the time, marcia, won an academy award f...\n",
       "2   indeed he doesn't but i've always liked chewbacca because he reminded me of a giant dog ha! spe..."
      ]
     },
     "execution_count": 22,
     "metadata": {},
     "output_type": "execute_result"
    }
   ],
   "source": [
    "# prepared data set\n",
    "df03.iloc[:3,2:3]"
   ]
  },
  {
   "cell_type": "markdown",
   "id": "b30b5ae3-fb49-438e-9679-24e7081d3e74",
   "metadata": {},
   "source": [
    "# LLM for a sample with a bigram model"
   ]
  },
  {
   "cell_type": "code",
   "execution_count": 23,
   "id": "95d063aa-7f49-4f05-a3fa-e7364b682d3e",
   "metadata": {},
   "outputs": [],
   "source": [
    "# --> setting up the environment by using the nltk library\n",
    "def generate_text(text):\n",
    "    \n",
    "    # Tokenize the text\n",
    "    tokens = nltk.word_tokenize(text)\n",
    "\n",
    "    # create a bigram model\n",
    "    # --> generate bigrams and their frequency distribution\n",
    "    bigrams = list(ngrams(tokens, 2))\n",
    "    bigram_freq_dist = FreqDist(bigrams)\n",
    "    \n",
    "    # Prepare the dataset for training\n",
    "    train_data, padded_sents = padded_everygram_pipeline(2, tokens)\n",
    "\n",
    "    # train the model --> the bigram model\n",
    "    model = MLE(2)\n",
    "    model.fit(train_data, padded_sents)\n",
    "    \n",
    "    # generate text with various questions\n",
    "    # --> you can ask more questions and generate text based on different input words or phrases.\n",
    "    # --> expanded LLM will provide more accurate and diverse answers based on the larger dataset\n",
    "    # example questions\n",
    "    questions = [\n",
    "        \"What is the content about\",\n",
    "        \"How does it work\",\n",
    "        \"What are the advantages\",\n",
    "        \"How can I use them\",\n",
    "        \"What should I consider\"\n",
    "    ]\n",
    "    num_words = 25\n",
    "    question = random.choice(questions)\n",
    "    tokens = nltk.word_tokenize(question)\n",
    "    seed_word = choice(tokens)\n",
    "    sentence = [seed_word]\n",
    "    for _ in range(num_words - 1):\n",
    "        next_word = model.generate(1, text_seed=sentence)\n",
    "        sentence.append(next_word)\n",
    "    return (question,' '.join(sentence))"
   ]
  },
  {
   "cell_type": "code",
   "execution_count": 24,
   "id": "88b55008-1aca-4719-9837-a2e6a7b88e62",
   "metadata": {},
   "outputs": [],
   "source": [
    "df03['Question_Answer'] = df03.Clean_message.apply(generate_text)"
   ]
  },
  {
   "cell_type": "code",
   "execution_count": 25,
   "id": "ace61972-edec-4187-bec5-c978a79adff0",
   "metadata": {},
   "outputs": [
    {
     "data": {
      "text/html": [
       "<div>\n",
       "<style scoped>\n",
       "    .dataframe tbody tr th:only-of-type {\n",
       "        vertical-align: middle;\n",
       "    }\n",
       "\n",
       "    .dataframe tbody tr th {\n",
       "        vertical-align: top;\n",
       "    }\n",
       "\n",
       "    .dataframe thead th {\n",
       "        text-align: right;\n",
       "    }\n",
       "</style>\n",
       "<table border=\"1\" class=\"dataframe\">\n",
       "  <thead>\n",
       "    <tr style=\"text-align: right;\">\n",
       "      <th></th>\n",
       "      <th>Clean_message</th>\n",
       "      <th>Question_bigram</th>\n",
       "      <th>Answer_bigram</th>\n",
       "    </tr>\n",
       "  </thead>\n",
       "  <tbody>\n",
       "    <tr>\n",
       "      <th>0</th>\n",
       "      <td>not where i lived, if i want to read a comic book, i had to go to the library but as i think ab...</td>\n",
       "      <td>How can I use them</td>\n",
       "      <td>them , &lt;/s&gt; , &lt;/s&gt; c &lt;/s&gt; &lt;s&gt; w a s &lt;/s&gt; p e &lt;/s&gt; &lt;/s&gt; &lt;/s&gt; e &lt;/s&gt; &lt;/s&gt; l i &lt;/s&gt; y o</td>\n",
       "    </tr>\n",
       "    <tr>\n",
       "      <th>1</th>\n",
       "      <td>agreed can you also believe that george lucas' wife at the time, marcia, won an academy award f...</td>\n",
       "      <td>How can I use them</td>\n",
       "      <td>use r s &lt;/s&gt; g &lt;/s&gt; a t &lt;/s&gt; d &lt;/s&gt; &lt;/s&gt; e e c a b e r d &lt;/s&gt; &lt;/s&gt; &lt;s&gt; d &lt;/s&gt;</td>\n",
       "    </tr>\n",
       "    <tr>\n",
       "      <th>2</th>\n",
       "      <td>indeed he doesn't but i've always liked chewbacca because he reminded me of a giant dog ha! spe...</td>\n",
       "      <td>What are the advantages</td>\n",
       "      <td>advantages &lt;s&gt; ' s &lt;/s&gt; t h a n t &lt;/s&gt; p e r s &lt;/s&gt; s &lt;/s&gt; &lt;s&gt; m i n k &lt;/s&gt; &lt;s&gt;</td>\n",
       "    </tr>\n",
       "    <tr>\n",
       "      <th>3</th>\n",
       "      <td>yes, i have a dog  sounds like in the dear amy that they do everything tit for tat the cat owne...</td>\n",
       "      <td>How can I use them</td>\n",
       "      <td>them &lt;s&gt; t i s t &lt;/s&gt; &lt;/s&gt; y &lt;/s&gt; t i a i t h a t h a m a i k e</td>\n",
       "    </tr>\n",
       "    <tr>\n",
       "      <th>4</th>\n",
       "      <td>yeah we all know that guy! how about the loch ness monster being protected under the scottish  ...</td>\n",
       "      <td>How does it work</td>\n",
       "      <td>does r e p r e i n o t r e &lt;/s&gt; h e a l y &lt;/s&gt; h &lt;/s&gt; n d e p</td>\n",
       "    </tr>\n",
       "  </tbody>\n",
       "</table>\n",
       "</div>"
      ],
      "text/plain": [
       "                                                                                         Clean_message  \\\n",
       "0   not where i lived, if i want to read a comic book, i had to go to the library but as i think ab...   \n",
       "1   agreed can you also believe that george lucas' wife at the time, marcia, won an academy award f...   \n",
       "2   indeed he doesn't but i've always liked chewbacca because he reminded me of a giant dog ha! spe...   \n",
       "3   yes, i have a dog  sounds like in the dear amy that they do everything tit for tat the cat owne...   \n",
       "4   yeah we all know that guy! how about the loch ness monster being protected under the scottish  ...   \n",
       "\n",
       "           Question_bigram  \\\n",
       "0       How can I use them   \n",
       "1       How can I use them   \n",
       "2  What are the advantages   \n",
       "3       How can I use them   \n",
       "4         How does it work   \n",
       "\n",
       "                                                                          Answer_bigram  \n",
       "0  them , </s> , </s> c </s> <s> w a s </s> p e </s> </s> </s> e </s> </s> l i </s> y o  \n",
       "1         use r s </s> g </s> a t </s> d </s> </s> e e c a b e r d </s> </s> <s> d </s>  \n",
       "2       advantages <s> ' s </s> t h a n t </s> p e r s </s> s </s> <s> m i n k </s> <s>  \n",
       "3                       them <s> t i s t </s> </s> y </s> t i a i t h a t h a m a i k e  \n",
       "4                         does r e p r e i n o t r e </s> h e a l y </s> h </s> n d e p  "
      ]
     },
     "execution_count": 25,
     "metadata": {},
     "output_type": "execute_result"
    }
   ],
   "source": [
    "# separate question and answer --> 2 features\n",
    "df03['Question_bigram'] = [df03.Question_Answer.iloc[i][0] for i in range(len(df03))]\n",
    "df03['Answer_bigram'] = [df03.Question_Answer.iloc[i][1] for i in range(len(df03))]\n",
    "df04 = df03[['Clean_message','Question_bigram','Answer_bigram']]\n",
    "df04.head()"
   ]
  },
  {
   "cell_type": "markdown",
   "id": "f58393d1-c0fc-415e-946b-60924b58f78b",
   "metadata": {},
   "source": [
    "# LLM for a sample with a trigram model"
   ]
  },
  {
   "cell_type": "code",
   "execution_count": 26,
   "id": "a9f861ea-0928-421b-ac9d-0f57403524bd",
   "metadata": {},
   "outputs": [],
   "source": [
    "# --> setting up the environment by using the nltk library\n",
    "def generate_text(text):\n",
    "    \n",
    "    # Tokenize the text\n",
    "    tokens = nltk.word_tokenize(text)\n",
    "\n",
    "    # create a trigram model\n",
    "    # --> generate trigrams and their frequency distribution\n",
    "    trigrams = list(ngrams(tokens, 3))\n",
    "    trigram_freq_dist = FreqDist(trigrams)\n",
    "    \n",
    "    # Prepare the dataset for training\n",
    "    train_data, padded_sents = padded_everygram_pipeline(3, tokens)\n",
    "\n",
    "    # train the model --> the trigram model\n",
    "    model = MLE(3)\n",
    "    model.fit(train_data, padded_sents)\n",
    "    \n",
    "    # generate text with various questions\n",
    "    # --> you can ask more questions and generate text based on different input words or phrases.\n",
    "    # --> expanded LLM will provide more accurate and diverse answers based on the larger dataset\n",
    "    # example questions\n",
    "    questions = [\n",
    "        \"What is the content about\",\n",
    "        \"How does it work\",\n",
    "        \"What are the advantages\",\n",
    "        \"How can I use them\",\n",
    "        \"What should I consider\"\n",
    "    ]\n",
    "    num_words = 25\n",
    "    question = random.choice(questions)\n",
    "    tokens = nltk.word_tokenize(question)\n",
    "    seed_word = choice(tokens)\n",
    "    sentence = [seed_word]\n",
    "    for _ in range(num_words - 1):\n",
    "        next_word = model.generate(1, text_seed=sentence)\n",
    "        sentence.append(next_word)\n",
    "    return (question,' '.join(sentence))"
   ]
  },
  {
   "cell_type": "code",
   "execution_count": 27,
   "id": "a8e998b8-caaa-424f-aea9-bb9e976ab7f4",
   "metadata": {},
   "outputs": [],
   "source": [
    "df04['Question_Answer'] = df04.Clean_message.apply(generate_text)"
   ]
  },
  {
   "cell_type": "code",
   "execution_count": 28,
   "id": "381ef442-d61b-4e91-beb2-5441e3a89ea1",
   "metadata": {},
   "outputs": [
    {
     "data": {
      "text/html": [
       "<div>\n",
       "<style scoped>\n",
       "    .dataframe tbody tr th:only-of-type {\n",
       "        vertical-align: middle;\n",
       "    }\n",
       "\n",
       "    .dataframe tbody tr th {\n",
       "        vertical-align: top;\n",
       "    }\n",
       "\n",
       "    .dataframe thead th {\n",
       "        text-align: right;\n",
       "    }\n",
       "</style>\n",
       "<table border=\"1\" class=\"dataframe\">\n",
       "  <thead>\n",
       "    <tr style=\"text-align: right;\">\n",
       "      <th></th>\n",
       "      <th>Clean_message</th>\n",
       "      <th>Question_bigram</th>\n",
       "      <th>Answer_bigram</th>\n",
       "      <th>Question_trigram</th>\n",
       "      <th>Answer_trigram</th>\n",
       "    </tr>\n",
       "  </thead>\n",
       "  <tbody>\n",
       "    <tr>\n",
       "      <th>0</th>\n",
       "      <td>not where i lived, if i want to read a comic book, i had to go to the library but as i think ab...</td>\n",
       "      <td>How can I use them</td>\n",
       "      <td>them , &lt;/s&gt; , &lt;/s&gt; c &lt;/s&gt; &lt;s&gt; w a s &lt;/s&gt; p e &lt;/s&gt; &lt;/s&gt; &lt;/s&gt; e &lt;/s&gt; &lt;/s&gt; l i &lt;/s&gt; y o</td>\n",
       "      <td>How does it work</td>\n",
       "      <td>does t i n t &lt;/s&gt; &lt;/s&gt; &lt;/s&gt; &lt;/s&gt; &lt;/s&gt; &lt;/s&gt; &lt;/s&gt; &lt;/s&gt; &lt;/s&gt; &lt;/s&gt; &lt;/s&gt; &lt;/s&gt; &lt;/s&gt; &lt;/s&gt; &lt;/s&gt; &lt;/s&gt; &lt;/s...</td>\n",
       "    </tr>\n",
       "    <tr>\n",
       "      <th>1</th>\n",
       "      <td>agreed can you also believe that george lucas' wife at the time, marcia, won an academy award f...</td>\n",
       "      <td>How can I use them</td>\n",
       "      <td>use r s &lt;/s&gt; g &lt;/s&gt; a t &lt;/s&gt; d &lt;/s&gt; &lt;/s&gt; e e c a b e r d &lt;/s&gt; &lt;/s&gt; &lt;s&gt; d &lt;/s&gt;</td>\n",
       "      <td>How can I use them</td>\n",
       "      <td>use &lt;/s&gt; &lt;/s&gt; &lt;/s&gt; &lt;/s&gt; &lt;/s&gt; &lt;/s&gt; &lt;/s&gt; &lt;/s&gt; &lt;/s&gt; &lt;/s&gt; &lt;/s&gt; &lt;/s&gt; &lt;/s&gt; &lt;/s&gt; &lt;/s&gt; &lt;/s&gt; &lt;/s&gt; &lt;/s&gt; &lt;/...</td>\n",
       "    </tr>\n",
       "    <tr>\n",
       "      <th>2</th>\n",
       "      <td>indeed he doesn't but i've always liked chewbacca because he reminded me of a giant dog ha! spe...</td>\n",
       "      <td>What are the advantages</td>\n",
       "      <td>advantages &lt;s&gt; ' s &lt;/s&gt; t h a n t &lt;/s&gt; p e r s &lt;/s&gt; s &lt;/s&gt; &lt;s&gt; m i n k &lt;/s&gt; &lt;s&gt;</td>\n",
       "      <td>How does it work</td>\n",
       "      <td>How &lt;/s&gt; &lt;/s&gt; &lt;/s&gt; &lt;/s&gt; &lt;/s&gt; &lt;/s&gt; &lt;/s&gt; &lt;/s&gt; &lt;/s&gt; &lt;/s&gt; &lt;/s&gt; &lt;/s&gt; &lt;/s&gt; &lt;/s&gt; &lt;/s&gt; &lt;/s&gt; &lt;/s&gt; &lt;/s&gt; &lt;/...</td>\n",
       "    </tr>\n",
       "    <tr>\n",
       "      <th>3</th>\n",
       "      <td>yes, i have a dog  sounds like in the dear amy that they do everything tit for tat the cat owne...</td>\n",
       "      <td>How can I use them</td>\n",
       "      <td>them &lt;s&gt; t i s t &lt;/s&gt; &lt;/s&gt; y &lt;/s&gt; t i a i t h a t h a m a i k e</td>\n",
       "      <td>How can I use them</td>\n",
       "      <td>How e s &lt;/s&gt; &lt;/s&gt; &lt;/s&gt; &lt;/s&gt; &lt;/s&gt; &lt;/s&gt; &lt;/s&gt; &lt;/s&gt; &lt;/s&gt; &lt;/s&gt; &lt;/s&gt; &lt;/s&gt; &lt;/s&gt; &lt;/s&gt; &lt;/s&gt; &lt;/s&gt; &lt;/s&gt; &lt;/s...</td>\n",
       "    </tr>\n",
       "    <tr>\n",
       "      <th>4</th>\n",
       "      <td>yeah we all know that guy! how about the loch ness monster being protected under the scottish  ...</td>\n",
       "      <td>How does it work</td>\n",
       "      <td>does r e p r e i n o t r e &lt;/s&gt; h e a l y &lt;/s&gt; h &lt;/s&gt; n d e p</td>\n",
       "      <td>How does it work</td>\n",
       "      <td>does &lt;s&gt; &lt;s&gt; d e r &lt;/s&gt; &lt;/s&gt; &lt;/s&gt; &lt;/s&gt; &lt;/s&gt; &lt;/s&gt; &lt;/s&gt; &lt;/s&gt; &lt;/s&gt; &lt;/s&gt; &lt;/s&gt; &lt;/s&gt; &lt;/s&gt; &lt;/s&gt; &lt;/s&gt; &lt;/...</td>\n",
       "    </tr>\n",
       "    <tr>\n",
       "      <th>...</th>\n",
       "      <td>...</td>\n",
       "      <td>...</td>\n",
       "      <td>...</td>\n",
       "      <td>...</td>\n",
       "      <td>...</td>\n",
       "    </tr>\n",
       "    <tr>\n",
       "      <th>9995</th>\n",
       "      <td>it's a great show for kids although i haven't seen too many no where near  ha! i prefer south p...</td>\n",
       "      <td>How can I use them</td>\n",
       "      <td>I o d &lt;/s&gt; r k n &lt;/s&gt; &lt;/s&gt; s &lt;/s&gt; p a r &lt;/s&gt; &lt;/s&gt; t e p r &lt;/s&gt; &lt;/s&gt; e a &lt;/s&gt;</td>\n",
       "      <td>What should I consider</td>\n",
       "      <td>I &lt;/s&gt; &lt;/s&gt; &lt;/s&gt; &lt;/s&gt; &lt;/s&gt; &lt;/s&gt; &lt;/s&gt; &lt;/s&gt; &lt;/s&gt; &lt;/s&gt; &lt;/s&gt; &lt;/s&gt; &lt;/s&gt; &lt;/s&gt; &lt;/s&gt; &lt;/s&gt; &lt;/s&gt; &lt;/s&gt; &lt;/s&gt;...</td>\n",
       "    </tr>\n",
       "    <tr>\n",
       "      <th>9996</th>\n",
       "      <td>i'm honestly not sure it's crazy bart never appeared nor was mentioned in an episode, right? wo...</td>\n",
       "      <td>What should I consider</td>\n",
       "      <td>I &lt;/s&gt; &lt;/s&gt; k &lt;/s&gt; t &lt;/s&gt; a y &lt;/s&gt; &lt;/s&gt; m a s p o k i g e d e &lt;/s&gt; r i</td>\n",
       "      <td>How does it work</td>\n",
       "      <td>work &lt;/s&gt; &lt;/s&gt; &lt;/s&gt; &lt;/s&gt; &lt;/s&gt; &lt;/s&gt; &lt;/s&gt; &lt;/s&gt; &lt;/s&gt; &lt;/s&gt; &lt;/s&gt; &lt;/s&gt; &lt;/s&gt; &lt;/s&gt; &lt;/s&gt; &lt;/s&gt; &lt;/s&gt; &lt;/s&gt; &lt;...</td>\n",
       "    </tr>\n",
       "    <tr>\n",
       "      <th>9997</th>\n",
       "      <td>you can definitely get an answer if you post it, there are some very loyal fans of the show, i ...</td>\n",
       "      <td>How can I use them</td>\n",
       "      <td>use &lt;s&gt; k &lt;/s&gt; r e d &lt;/s&gt; &lt;s&gt; ' v e &lt;/s&gt; s t i d e f i t h o o t</td>\n",
       "      <td>How does it work</td>\n",
       "      <td>it d &lt;/s&gt; &lt;/s&gt; &lt;/s&gt; &lt;/s&gt; &lt;/s&gt; &lt;/s&gt; &lt;/s&gt; &lt;/s&gt; &lt;/s&gt; &lt;/s&gt; &lt;/s&gt; &lt;/s&gt; &lt;/s&gt; &lt;/s&gt; &lt;/s&gt; &lt;/s&gt; &lt;/s&gt; &lt;/s&gt; &lt;...</td>\n",
       "    </tr>\n",
       "    <tr>\n",
       "      <th>9998</th>\n",
       "      <td>yeah, definitely makes me think about the things i \"didn't\" accomplish while i was stuck in my ...</td>\n",
       "      <td>What is the content about</td>\n",
       "      <td>is n i d &lt;/s&gt; &lt;s&gt; ' t u r o w h o m &lt;/s&gt; &lt;/s&gt; a h o o o m a h</td>\n",
       "      <td>What is the content about</td>\n",
       "      <td>What r a t e &lt;/s&gt; &lt;/s&gt; &lt;/s&gt; &lt;/s&gt; &lt;/s&gt; &lt;/s&gt; &lt;/s&gt; &lt;/s&gt; &lt;/s&gt; &lt;/s&gt; &lt;/s&gt; &lt;/s&gt; &lt;/s&gt; &lt;/s&gt; &lt;/s&gt; &lt;/s&gt; &lt;/s...</td>\n",
       "    </tr>\n",
       "    <tr>\n",
       "      <th>9999</th>\n",
       "      <td>my guess is they would be a venture company investing billions in other startup companies in ho...</td>\n",
       "      <td>How can I use them</td>\n",
       "      <td>them d e e &lt;/s&gt; &lt;s&gt; t u &lt;/s&gt; &lt;s&gt; p &lt;/s&gt; e &lt;/s&gt; &lt;/s&gt; n &lt;/s&gt; a r e &lt;/s&gt; n d &lt;/s&gt; &lt;/s&gt;</td>\n",
       "      <td>What is the content about</td>\n",
       "      <td>about h e y &lt;/s&gt; &lt;/s&gt; &lt;/s&gt; &lt;/s&gt; &lt;/s&gt; &lt;/s&gt; &lt;/s&gt; &lt;/s&gt; &lt;/s&gt; &lt;/s&gt; &lt;/s&gt; &lt;/s&gt; &lt;/s&gt; &lt;/s&gt; &lt;/s&gt; &lt;/s&gt; &lt;/s&gt;...</td>\n",
       "    </tr>\n",
       "  </tbody>\n",
       "</table>\n",
       "<p>10000 rows × 5 columns</p>\n",
       "</div>"
      ],
      "text/plain": [
       "                                                                                            Clean_message  \\\n",
       "0      not where i lived, if i want to read a comic book, i had to go to the library but as i think ab...   \n",
       "1      agreed can you also believe that george lucas' wife at the time, marcia, won an academy award f...   \n",
       "2      indeed he doesn't but i've always liked chewbacca because he reminded me of a giant dog ha! spe...   \n",
       "3      yes, i have a dog  sounds like in the dear amy that they do everything tit for tat the cat owne...   \n",
       "4      yeah we all know that guy! how about the loch ness monster being protected under the scottish  ...   \n",
       "...                                                                                                   ...   \n",
       "9995   it's a great show for kids although i haven't seen too many no where near  ha! i prefer south p...   \n",
       "9996   i'm honestly not sure it's crazy bart never appeared nor was mentioned in an episode, right? wo...   \n",
       "9997   you can definitely get an answer if you post it, there are some very loyal fans of the show, i ...   \n",
       "9998   yeah, definitely makes me think about the things i \"didn't\" accomplish while i was stuck in my ...   \n",
       "9999   my guess is they would be a venture company investing billions in other startup companies in ho...   \n",
       "\n",
       "                Question_bigram  \\\n",
       "0            How can I use them   \n",
       "1            How can I use them   \n",
       "2       What are the advantages   \n",
       "3            How can I use them   \n",
       "4              How does it work   \n",
       "...                         ...   \n",
       "9995         How can I use them   \n",
       "9996     What should I consider   \n",
       "9997         How can I use them   \n",
       "9998  What is the content about   \n",
       "9999         How can I use them   \n",
       "\n",
       "                                                                             Answer_bigram  \\\n",
       "0     them , </s> , </s> c </s> <s> w a s </s> p e </s> </s> </s> e </s> </s> l i </s> y o   \n",
       "1            use r s </s> g </s> a t </s> d </s> </s> e e c a b e r d </s> </s> <s> d </s>   \n",
       "2          advantages <s> ' s </s> t h a n t </s> p e r s </s> s </s> <s> m i n k </s> <s>   \n",
       "3                          them <s> t i s t </s> </s> y </s> t i a i t h a t h a m a i k e   \n",
       "4                            does r e p r e i n o t r e </s> h e a l y </s> h </s> n d e p   \n",
       "...                                                                                    ...   \n",
       "9995          I o d </s> r k n </s> </s> s </s> p a r </s> </s> t e p r </s> </s> e a </s>   \n",
       "9996                I </s> </s> k </s> t </s> a y </s> </s> m a s p o k i g e d e </s> r i   \n",
       "9997                      use <s> k </s> r e d </s> <s> ' v e </s> s t i d e f i t h o o t   \n",
       "9998                         is n i d </s> <s> ' t u r o w h o m </s> </s> a h o o o m a h   \n",
       "9999   them d e e </s> <s> t u </s> <s> p </s> e </s> </s> n </s> a r e </s> n d </s> </s>   \n",
       "\n",
       "               Question_trigram  \\\n",
       "0              How does it work   \n",
       "1            How can I use them   \n",
       "2              How does it work   \n",
       "3            How can I use them   \n",
       "4              How does it work   \n",
       "...                         ...   \n",
       "9995     What should I consider   \n",
       "9996           How does it work   \n",
       "9997           How does it work   \n",
       "9998  What is the content about   \n",
       "9999  What is the content about   \n",
       "\n",
       "                                                                                           Answer_trigram  \n",
       "0     does t i n t </s> </s> </s> </s> </s> </s> </s> </s> </s> </s> </s> </s> </s> </s> </s> </s> </s...  \n",
       "1     use </s> </s> </s> </s> </s> </s> </s> </s> </s> </s> </s> </s> </s> </s> </s> </s> </s> </s> </...  \n",
       "2     How </s> </s> </s> </s> </s> </s> </s> </s> </s> </s> </s> </s> </s> </s> </s> </s> </s> </s> </...  \n",
       "3     How e s </s> </s> </s> </s> </s> </s> </s> </s> </s> </s> </s> </s> </s> </s> </s> </s> </s> </s...  \n",
       "4     does <s> <s> d e r </s> </s> </s> </s> </s> </s> </s> </s> </s> </s> </s> </s> </s> </s> </s> </...  \n",
       "...                                                                                                   ...  \n",
       "9995  I </s> </s> </s> </s> </s> </s> </s> </s> </s> </s> </s> </s> </s> </s> </s> </s> </s> </s> </s>...  \n",
       "9996  work </s> </s> </s> </s> </s> </s> </s> </s> </s> </s> </s> </s> </s> </s> </s> </s> </s> </s> <...  \n",
       "9997  it d </s> </s> </s> </s> </s> </s> </s> </s> </s> </s> </s> </s> </s> </s> </s> </s> </s> </s> <...  \n",
       "9998  What r a t e </s> </s> </s> </s> </s> </s> </s> </s> </s> </s> </s> </s> </s> </s> </s> </s> </s...  \n",
       "9999  about h e y </s> </s> </s> </s> </s> </s> </s> </s> </s> </s> </s> </s> </s> </s> </s> </s> </s>...  \n",
       "\n",
       "[10000 rows x 5 columns]"
      ]
     },
     "execution_count": 28,
     "metadata": {},
     "output_type": "execute_result"
    }
   ],
   "source": [
    "# separate question and answer --> 2 features\n",
    "df04['Question_trigram'] = [df04.Question_Answer.iloc[i][0] for i in range(len(df03))]\n",
    "df04['Answer_trigram'] = [df04.Question_Answer.iloc[i][1] for i in range(len(df03))]\n",
    "df05 = df04[['Clean_message','Question_bigram','Answer_bigram','Question_trigram','Answer_trigram']]\n",
    "df05"
   ]
  },
  {
   "cell_type": "code",
   "execution_count": null,
   "id": "16ec203e-6135-435b-a4e0-d1047a681ec7",
   "metadata": {},
   "outputs": [],
   "source": []
  },
  {
   "cell_type": "code",
   "execution_count": null,
   "id": "6bd3357e-e5cd-4260-b361-09dfdd8b79fb",
   "metadata": {},
   "outputs": [],
   "source": []
  }
 ],
 "metadata": {
  "kernelspec": {
   "display_name": "Python 3 (ipykernel)",
   "language": "python",
   "name": "python3"
  },
  "language_info": {
   "codemirror_mode": {
    "name": "ipython",
    "version": 3
   },
   "file_extension": ".py",
   "mimetype": "text/x-python",
   "name": "python",
   "nbconvert_exporter": "python",
   "pygments_lexer": "ipython3",
   "version": "3.11.8"
  },
  "widgets": {
   "application/vnd.jupyter.widget-state+json": {
    "state": {},
    "version_major": 2,
    "version_minor": 0
   }
  }
 },
 "nbformat": 4,
 "nbformat_minor": 5
}
